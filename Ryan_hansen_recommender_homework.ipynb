{
 "metadata": {
  "name": "",
  "signature": "sha256:5b550a255a6891122a9d5dbad2000d3f750804a70455683e35d157a577b364d6"
 },
 "nbformat": 3,
 "nbformat_minor": 0,
 "worksheets": [
  {
   "cells": [
    {
     "cell_type": "code",
     "collapsed": false,
     "input": [
      "import pandas as pd\n",
      "import numpy as np"
     ],
     "language": "python",
     "metadata": {},
     "outputs": [],
     "prompt_number": 175
    },
    {
     "cell_type": "code",
     "collapsed": false,
     "input": [
      "#download the class movie reviews from here:\n",
      "#https://docs.google.com/spreadsheets/d/17rCJzmWxqvAu9rkpkgt4ToccIlY4A1Ffuu1W9X3B8Ag/\n",
      "#then read that in as a pandas dataframe"
     ],
     "language": "python",
     "metadata": {},
     "outputs": [],
     "prompt_number": 176
    },
    {
     "cell_type": "code",
     "collapsed": false,
     "input": [
      "M = pd.read_csv('classmoviereviews.csv', index_col='Name')"
     ],
     "language": "python",
     "metadata": {},
     "outputs": [],
     "prompt_number": 177
    },
    {
     "cell_type": "code",
     "collapsed": false,
     "input": [
      "def pearson(s1, s2):\n",
      "    \"\"\"Take two pd.Series objects and return a pearson correlation.\"\"\"\n",
      "    s1_c = s1 - s1.mean()\n",
      "    s2_c = s2 - s2.mean()\n",
      "    return np.sum(s1_c * s2_c) / np.sqrt(np.sum(s1_c ** 2) * np.sum(s2_c ** 2))"
     ],
     "language": "python",
     "metadata": {},
     "outputs": [],
     "prompt_number": 178
    },
    {
     "cell_type": "code",
     "collapsed": false,
     "input": [
      "def get_recs(movie_name, M, num):\n",
      "\n",
      "    import numpy as np\n",
      "    reviews = []\n",
      "    for title in M.columns:\n",
      "        if title == movie_name:\n",
      "            continue\n",
      "        cor = pearson(M[movie_name], M[title])\n",
      "        if np.isnan(cor):\n",
      "            continue\n",
      "        else:\n",
      "            reviews.append((title, cor))\n",
      "    \n",
      "    reviews.sort(key=lambda tup: tup[1], reverse=True)\n",
      "    return reviews[:num]\n",
      "\n",
      "    "
     ],
     "language": "python",
     "metadata": {},
     "outputs": [],
     "prompt_number": 179
    },
    {
     "cell_type": "markdown",
     "metadata": {},
     "source": [
      "###Question 1:  What movie is most Similar to 'The fault in our stars' (60 pts)\n"
     ]
    },
    {
     "cell_type": "markdown",
     "metadata": {},
     "source": [
      "First I want to see how many movies we have:"
     ]
    },
    {
     "cell_type": "code",
     "collapsed": false,
     "input": [
      "M.shape"
     ],
     "language": "python",
     "metadata": {},
     "outputs": [
      {
       "metadata": {},
       "output_type": "pyout",
       "prompt_number": 180,
       "text": [
        "(23, 16)"
       ]
      }
     ],
     "prompt_number": 180
    },
    {
     "cell_type": "markdown",
     "metadata": {},
     "source": [
      "16 movies so I will use 16 in my recommender function."
     ]
    },
    {
     "cell_type": "code",
     "collapsed": false,
     "input": [
      "get_recs('The Fault in Our Stars', M, 16)"
     ],
     "language": "python",
     "metadata": {},
     "outputs": [
      {
       "metadata": {},
       "output_type": "pyout",
       "prompt_number": 181,
       "text": [
        "[('Transformers', 0.45574896698689149),\n",
        " ('The Hunger Games: Mockingjay - Part 1', 0.35345113364519332),\n",
        " ('How to Train your Dragon 2', 0.31922063429064507),\n",
        " ('Godzilla', 0.28158585271367448),\n",
        " ('Malificent', 0.25203347226782336),\n",
        " ('300: Rise of an Empire', 0.15923097281413867),\n",
        " ('Guardians of the Galaxy', 0.14306584587982532),\n",
        " ('Gone Girl', 0.083747586093265186),\n",
        " ('The Lego Movie', 0.061313933948496616),\n",
        " ('Interstellar', -0.081751911931328733),\n",
        " ('Divergent', -0.086710996952411967),\n",
        " ('Unbroken', -0.086710996952411967),\n",
        " ('The Hobbit', -0.11116808756246799),\n",
        " ('Big Hero 6', -0.14656833601216493),\n",
        " ('American Sniper', -0.2759127027682346)]"
       ]
      }
     ],
     "prompt_number": 181
    },
    {
     "cell_type": "markdown",
     "metadata": {},
     "source": [
      "Wow.  According to our class the most similar movie to the fault in our stars is Transformers.  HAHA.  No.   And American Sniper is the least similar?  A movie with guns and explosions?  This is a good lesson in sample size. It actually makes more sense when you turn the list upside down.  Maybe not.  I guess hunger games is driven by emotion.  "
     ]
    },
    {
     "cell_type": "markdown",
     "metadata": {},
     "source": [
      "###Question 2:  Which movie(s) would you most like to see, based on your classmates experience? (40 pts)"
     ]
    },
    {
     "cell_type": "code",
     "collapsed": false,
     "input": [
      "#the movies I've seen\n",
      "my_ratings = M.ix['Ryan Hansen'].dropna()\n",
      "#the movie I've rated the highest\n",
      "my_ratings.sort(ascending=False)\n",
      "#the name of the movie I've rated the highest\n",
      "fav_movie = my_ratings.index[0]"
     ],
     "language": "python",
     "metadata": {},
     "outputs": [],
     "prompt_number": 182
    },
    {
     "cell_type": "code",
     "collapsed": false,
     "input": [
      "my_recs = get_recs(fav_movie, M, 16)"
     ],
     "language": "python",
     "metadata": {},
     "outputs": [],
     "prompt_number": 183
    },
    {
     "cell_type": "markdown",
     "metadata": {},
     "source": [
      "My top five recommendations based on the class recommendations and my favorite movie are:"
     ]
    },
    {
     "cell_type": "code",
     "collapsed": false,
     "input": [
      "my_recs[:5]"
     ],
     "language": "python",
     "metadata": {},
     "outputs": [
      {
       "metadata": {},
       "output_type": "pyout",
       "prompt_number": 184,
       "text": [
        "[('300: Rise of an Empire', 0.46969124070147988),\n",
        " ('The Hobbit', 0.39024310361223619),\n",
        " ('The Fault in Our Stars', 0.31922063429064507),\n",
        " ('Interstellar', 0.24404676504598821),\n",
        " ('Divergent', 0.1533929977694741)]"
       ]
      }
     ],
     "prompt_number": 184
    },
    {
     "cell_type": "markdown",
     "metadata": {},
     "source": [
      "Based on this, I am highly encouraged to see 300: Rise of an Empire.  I did see the first one and it was pretty good.  But based on the recommendation for \"the fault in our stars\" I don't have high confidence in this recommender."
     ]
    },
    {
     "cell_type": "markdown",
     "metadata": {},
     "source": [
      "###Question 3: Bonus Question...  For all the movies you haven't seen, can you predict how you'd rate them using your the class reviews? (10 pts)"
     ]
    },
    {
     "cell_type": "markdown",
     "metadata": {},
     "source": [
      "I guess I would look at how it correlates to a movie I have seen?"
     ]
    },
    {
     "cell_type": "code",
     "collapsed": false,
     "input": [
      "get_recs('The Fault in Our Stars', M, 16)"
     ],
     "language": "python",
     "metadata": {},
     "outputs": [
      {
       "metadata": {},
       "output_type": "pyout",
       "prompt_number": 186,
       "text": [
        "[('Transformers', 0.45574896698689149),\n",
        " ('The Hunger Games: Mockingjay - Part 1', 0.35345113364519332),\n",
        " ('How to Train your Dragon 2', 0.31922063429064507),\n",
        " ('Godzilla', 0.28158585271367448),\n",
        " ('Malificent', 0.25203347226782336),\n",
        " ('300: Rise of an Empire', 0.15923097281413867),\n",
        " ('Guardians of the Galaxy', 0.14306584587982532),\n",
        " ('Gone Girl', 0.083747586093265186),\n",
        " ('The Lego Movie', 0.061313933948496616),\n",
        " ('Interstellar', -0.081751911931328733),\n",
        " ('Divergent', -0.086710996952411967),\n",
        " ('Unbroken', -0.086710996952411967),\n",
        " ('The Hobbit', -0.11116808756246799),\n",
        " ('Big Hero 6', -0.14656833601216493),\n",
        " ('American Sniper', -0.2759127027682346)]"
       ]
      }
     ],
     "prompt_number": 186
    },
    {
     "cell_type": "code",
     "collapsed": false,
     "input": [
      "my_ratings"
     ],
     "language": "python",
     "metadata": {},
     "outputs": [
      {
       "metadata": {},
       "output_type": "pyout",
       "prompt_number": 187,
       "text": [
        "How to Train your Dragon 2               5\n",
        "The Hobbit                               5\n",
        "Guardians of the Galaxy                  4\n",
        "Divergent                                3\n",
        "Godzilla                                 3\n",
        "Big Hero 6                               3\n",
        "Malificent                               3\n",
        "The Lego Movie                           3\n",
        "The Hunger Games: Mockingjay - Part 1    3\n",
        "Transformers                             2\n",
        "Name: Ryan Hansen, dtype: float64"
       ]
      }
     ],
     "prompt_number": 187
    },
    {
     "cell_type": "markdown",
     "metadata": {},
     "source": [
      "I have seen Transformers and I rated that a 2 so I would probably rate it a 2 since it was most highly correlated.  I am sure there is programatic way to do this.  "
     ]
    },
    {
     "cell_type": "code",
     "collapsed": false,
     "input": [
      "get_recs('300: Rise of an Empire', M, 16)"
     ],
     "language": "python",
     "metadata": {},
     "outputs": [
      {
       "metadata": {},
       "output_type": "pyout",
       "prompt_number": 188,
       "text": [
        "[('How to Train your Dragon 2', 0.46969124070147988),\n",
        " ('American Sniper', 0.28787262506063988),\n",
        " ('The Hobbit', 0.26652300711906385),\n",
        " ('Divergent', 0.18190171877724975),\n",
        " ('The Fault in Our Stars', 0.15923097281413867),\n",
        " ('Interstellar', 0.042874646285627219),\n",
        " ('The Lego Movie', 0.018374848408125945),\n",
        " ('Gone Girl', 0.0026418811480546814),\n",
        " ('Unbroken', 0.0),\n",
        " ('Malificent', -0.022299503865922835),\n",
        " ('Transformers', -0.034828748382057691),\n",
        " ('The Hunger Games: Mockingjay - Part 1', -0.13779914752061276),\n",
        " ('Godzilla', -0.21513245763527367),\n",
        " ('Guardians of the Galaxy', -0.2307064300131369),\n",
        " ('Big Hero 6', -0.34700188325127984)]"
       ]
      }
     ],
     "prompt_number": 188
    },
    {
     "cell_type": "markdown",
     "metadata": {},
     "source": [
      "So a 5 for how to train your dragon 2"
     ]
    }
   ],
   "metadata": {}
  }
 ]
}