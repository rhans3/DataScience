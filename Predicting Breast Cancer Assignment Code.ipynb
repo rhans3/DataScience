{
 "metadata": {
  "name": "",
  "signature": "sha256:7d1b1e5e6bca4115a701489ad3129fc6ab62d1656c47c5d3454e22963f6380d2"
 },
 "nbformat": 3,
 "nbformat_minor": 0,
 "worksheets": [
  {
   "cells": [
    {
     "cell_type": "markdown",
     "metadata": {},
     "source": [
      "First I will perform an exploratory data analysis on our data set.  That way we know exactly what type of data we are dealing with."
     ]
    },
    {
     "cell_type": "code",
     "collapsed": false,
     "input": [
      "import pandas as pd\n",
      "%pylab inline"
     ],
     "language": "python",
     "metadata": {},
     "outputs": [
      {
       "output_type": "stream",
       "stream": "stdout",
       "text": [
        "Populating the interactive namespace from numpy and matplotlib\n"
       ]
      }
     ],
     "prompt_number": 71
    },
    {
     "cell_type": "code",
     "collapsed": false,
     "input": [
      "df = pd.read_csv(\"breast_cancer.csv\")"
     ],
     "language": "python",
     "metadata": {},
     "outputs": [],
     "prompt_number": 72
    },
    {
     "cell_type": "code",
     "collapsed": false,
     "input": [
      "df.columns"
     ],
     "language": "python",
     "metadata": {},
     "outputs": [
      {
       "metadata": {},
       "output_type": "pyout",
       "prompt_number": 73,
       "text": [
        "Index([u'Unnamed: 0', u'id number', u'clump_thickness', u'uniformity_of_cell_size', u'uniformity_of_cell_shape', u'marginal_adhesion', u'epithelial_cell_size', u'bare_nuclei', u'bland_chromatin', u'normal_nucleoli', u'mitoses', u'malignant'], dtype='object')"
       ]
      }
     ],
     "prompt_number": 73
    },
    {
     "cell_type": "code",
     "collapsed": false,
     "input": [
      "df.describe()"
     ],
     "language": "python",
     "metadata": {},
     "outputs": [
      {
       "html": [
        "<div style=\"max-height:1000px;max-width:1500px;overflow:auto;\">\n",
        "<table border=\"1\" class=\"dataframe\">\n",
        "  <thead>\n",
        "    <tr style=\"text-align: right;\">\n",
        "      <th></th>\n",
        "      <th>Unnamed: 0</th>\n",
        "      <th>id number</th>\n",
        "      <th>clump_thickness</th>\n",
        "      <th>uniformity_of_cell_size</th>\n",
        "      <th>uniformity_of_cell_shape</th>\n",
        "      <th>marginal_adhesion</th>\n",
        "      <th>epithelial_cell_size</th>\n",
        "      <th>bare_nuclei</th>\n",
        "      <th>bland_chromatin</th>\n",
        "      <th>normal_nucleoli</th>\n",
        "      <th>mitoses</th>\n",
        "      <th>malignant</th>\n",
        "    </tr>\n",
        "  </thead>\n",
        "  <tbody>\n",
        "    <tr>\n",
        "      <th>count</th>\n",
        "      <td> 699.000000</td>\n",
        "      <td>      699.000000</td>\n",
        "      <td> 699.000000</td>\n",
        "      <td> 699.000000</td>\n",
        "      <td> 699.000000</td>\n",
        "      <td> 699.000000</td>\n",
        "      <td> 699.000000</td>\n",
        "      <td> 699.000000</td>\n",
        "      <td> 699.000000</td>\n",
        "      <td> 699.000000</td>\n",
        "      <td> 699.000000</td>\n",
        "      <td> 699.000000</td>\n",
        "    </tr>\n",
        "    <tr>\n",
        "      <th>mean</th>\n",
        "      <td> 349.000000</td>\n",
        "      <td>  1071704.098712</td>\n",
        "      <td>   4.417740</td>\n",
        "      <td>   3.134478</td>\n",
        "      <td>   3.207439</td>\n",
        "      <td>   2.806867</td>\n",
        "      <td>   3.216023</td>\n",
        "      <td>   3.440629</td>\n",
        "      <td>   3.437768</td>\n",
        "      <td>   2.866953</td>\n",
        "      <td>   1.589413</td>\n",
        "      <td>   0.344778</td>\n",
        "    </tr>\n",
        "    <tr>\n",
        "      <th>std</th>\n",
        "      <td> 201.928205</td>\n",
        "      <td>   617095.729819</td>\n",
        "      <td>   2.815741</td>\n",
        "      <td>   3.051459</td>\n",
        "      <td>   2.971913</td>\n",
        "      <td>   2.855379</td>\n",
        "      <td>   2.214300</td>\n",
        "      <td>   3.665507</td>\n",
        "      <td>   2.438364</td>\n",
        "      <td>   3.053634</td>\n",
        "      <td>   1.715078</td>\n",
        "      <td>   0.475636</td>\n",
        "    </tr>\n",
        "    <tr>\n",
        "      <th>min</th>\n",
        "      <td>   0.000000</td>\n",
        "      <td>    61634.000000</td>\n",
        "      <td>   1.000000</td>\n",
        "      <td>   1.000000</td>\n",
        "      <td>   1.000000</td>\n",
        "      <td>   1.000000</td>\n",
        "      <td>   1.000000</td>\n",
        "      <td>  -1.000000</td>\n",
        "      <td>   1.000000</td>\n",
        "      <td>   1.000000</td>\n",
        "      <td>   1.000000</td>\n",
        "      <td>   0.000000</td>\n",
        "    </tr>\n",
        "    <tr>\n",
        "      <th>25%</th>\n",
        "      <td> 174.500000</td>\n",
        "      <td>   870688.500000</td>\n",
        "      <td>   2.000000</td>\n",
        "      <td>   1.000000</td>\n",
        "      <td>   1.000000</td>\n",
        "      <td>   1.000000</td>\n",
        "      <td>   2.000000</td>\n",
        "      <td>   1.000000</td>\n",
        "      <td>   2.000000</td>\n",
        "      <td>   1.000000</td>\n",
        "      <td>   1.000000</td>\n",
        "      <td>   0.000000</td>\n",
        "    </tr>\n",
        "    <tr>\n",
        "      <th>50%</th>\n",
        "      <td> 349.000000</td>\n",
        "      <td>  1171710.000000</td>\n",
        "      <td>   4.000000</td>\n",
        "      <td>   1.000000</td>\n",
        "      <td>   1.000000</td>\n",
        "      <td>   1.000000</td>\n",
        "      <td>   2.000000</td>\n",
        "      <td>   1.000000</td>\n",
        "      <td>   3.000000</td>\n",
        "      <td>   1.000000</td>\n",
        "      <td>   1.000000</td>\n",
        "      <td>   0.000000</td>\n",
        "    </tr>\n",
        "    <tr>\n",
        "      <th>75%</th>\n",
        "      <td> 523.500000</td>\n",
        "      <td>  1238298.000000</td>\n",
        "      <td>   6.000000</td>\n",
        "      <td>   5.000000</td>\n",
        "      <td>   5.000000</td>\n",
        "      <td>   4.000000</td>\n",
        "      <td>   4.000000</td>\n",
        "      <td>   5.000000</td>\n",
        "      <td>   5.000000</td>\n",
        "      <td>   4.000000</td>\n",
        "      <td>   1.000000</td>\n",
        "      <td>   1.000000</td>\n",
        "    </tr>\n",
        "    <tr>\n",
        "      <th>max</th>\n",
        "      <td> 698.000000</td>\n",
        "      <td> 13454352.000000</td>\n",
        "      <td>  10.000000</td>\n",
        "      <td>  10.000000</td>\n",
        "      <td>  10.000000</td>\n",
        "      <td>  10.000000</td>\n",
        "      <td>  10.000000</td>\n",
        "      <td>  10.000000</td>\n",
        "      <td>  10.000000</td>\n",
        "      <td>  10.000000</td>\n",
        "      <td>  10.000000</td>\n",
        "      <td>   1.000000</td>\n",
        "    </tr>\n",
        "  </tbody>\n",
        "</table>\n",
        "</div>"
       ],
       "metadata": {},
       "output_type": "pyout",
       "prompt_number": 74,
       "text": [
        "       Unnamed: 0        id number  clump_thickness  uniformity_of_cell_size  \\\n",
        "count  699.000000       699.000000       699.000000               699.000000   \n",
        "mean   349.000000   1071704.098712         4.417740                 3.134478   \n",
        "std    201.928205    617095.729819         2.815741                 3.051459   \n",
        "min      0.000000     61634.000000         1.000000                 1.000000   \n",
        "25%    174.500000    870688.500000         2.000000                 1.000000   \n",
        "50%    349.000000   1171710.000000         4.000000                 1.000000   \n",
        "75%    523.500000   1238298.000000         6.000000                 5.000000   \n",
        "max    698.000000  13454352.000000        10.000000                10.000000   \n",
        "\n",
        "       uniformity_of_cell_shape  marginal_adhesion  epithelial_cell_size  \\\n",
        "count                699.000000         699.000000            699.000000   \n",
        "mean                   3.207439           2.806867              3.216023   \n",
        "std                    2.971913           2.855379              2.214300   \n",
        "min                    1.000000           1.000000              1.000000   \n",
        "25%                    1.000000           1.000000              2.000000   \n",
        "50%                    1.000000           1.000000              2.000000   \n",
        "75%                    5.000000           4.000000              4.000000   \n",
        "max                   10.000000          10.000000             10.000000   \n",
        "\n",
        "       bare_nuclei  bland_chromatin  normal_nucleoli     mitoses   malignant  \n",
        "count   699.000000       699.000000       699.000000  699.000000  699.000000  \n",
        "mean      3.440629         3.437768         2.866953    1.589413    0.344778  \n",
        "std       3.665507         2.438364         3.053634    1.715078    0.475636  \n",
        "min      -1.000000         1.000000         1.000000    1.000000    0.000000  \n",
        "25%       1.000000         2.000000         1.000000    1.000000    0.000000  \n",
        "50%       1.000000         3.000000         1.000000    1.000000    0.000000  \n",
        "75%       5.000000         5.000000         4.000000    1.000000    1.000000  \n",
        "max      10.000000        10.000000        10.000000   10.000000    1.000000  "
       ]
      }
     ],
     "prompt_number": 74
    },
    {
     "cell_type": "markdown",
     "metadata": {},
     "source": [
      "<b>It seems that all categories are numerical.  They each range in a number from 1 to 10.  Except for the unnamed, id number, and malignant columns.  Unnamed seems to be a generated key column.  I will not include it in the data set.  Id number is the id of the patient most likely.  I will not include that in the data as well.  The id of a patient should have no bearing on the result.  Malignant is either 1 for malignant or 0 for benign.  Next I am going to look for null values.  </b>"
     ]
    },
    {
     "cell_type": "code",
     "collapsed": false,
     "input": [
      "df[df.clump_thickness.isnull()]"
     ],
     "language": "python",
     "metadata": {},
     "outputs": [
      {
       "html": [
        "<div style=\"max-height:1000px;max-width:1500px;overflow:auto;\">\n",
        "<table border=\"1\" class=\"dataframe\">\n",
        "  <thead>\n",
        "    <tr style=\"text-align: right;\">\n",
        "      <th></th>\n",
        "      <th>Unnamed: 0</th>\n",
        "      <th>id number</th>\n",
        "      <th>clump_thickness</th>\n",
        "      <th>uniformity_of_cell_size</th>\n",
        "      <th>uniformity_of_cell_shape</th>\n",
        "      <th>marginal_adhesion</th>\n",
        "      <th>epithelial_cell_size</th>\n",
        "      <th>bare_nuclei</th>\n",
        "      <th>bland_chromatin</th>\n",
        "      <th>normal_nucleoli</th>\n",
        "      <th>mitoses</th>\n",
        "      <th>malignant</th>\n",
        "    </tr>\n",
        "  </thead>\n",
        "  <tbody>\n",
        "  </tbody>\n",
        "</table>\n",
        "</div>"
       ],
       "metadata": {},
       "output_type": "pyout",
       "prompt_number": 75,
       "text": [
        "Empty DataFrame\n",
        "Columns: [Unnamed: 0, id number, clump_thickness, uniformity_of_cell_size, uniformity_of_cell_shape, marginal_adhesion, epithelial_cell_size, bare_nuclei, bland_chromatin, normal_nucleoli, mitoses, malignant]\n",
        "Index: []"
       ]
      }
     ],
     "prompt_number": 75
    },
    {
     "cell_type": "code",
     "collapsed": false,
     "input": [
      "df[df.uniformity_of_cell_size.isnull()]"
     ],
     "language": "python",
     "metadata": {},
     "outputs": [
      {
       "html": [
        "<div style=\"max-height:1000px;max-width:1500px;overflow:auto;\">\n",
        "<table border=\"1\" class=\"dataframe\">\n",
        "  <thead>\n",
        "    <tr style=\"text-align: right;\">\n",
        "      <th></th>\n",
        "      <th>Unnamed: 0</th>\n",
        "      <th>id number</th>\n",
        "      <th>clump_thickness</th>\n",
        "      <th>uniformity_of_cell_size</th>\n",
        "      <th>uniformity_of_cell_shape</th>\n",
        "      <th>marginal_adhesion</th>\n",
        "      <th>epithelial_cell_size</th>\n",
        "      <th>bare_nuclei</th>\n",
        "      <th>bland_chromatin</th>\n",
        "      <th>normal_nucleoli</th>\n",
        "      <th>mitoses</th>\n",
        "      <th>malignant</th>\n",
        "    </tr>\n",
        "  </thead>\n",
        "  <tbody>\n",
        "  </tbody>\n",
        "</table>\n",
        "</div>"
       ],
       "metadata": {},
       "output_type": "pyout",
       "prompt_number": 76,
       "text": [
        "Empty DataFrame\n",
        "Columns: [Unnamed: 0, id number, clump_thickness, uniformity_of_cell_size, uniformity_of_cell_shape, marginal_adhesion, epithelial_cell_size, bare_nuclei, bland_chromatin, normal_nucleoli, mitoses, malignant]\n",
        "Index: []"
       ]
      }
     ],
     "prompt_number": 76
    },
    {
     "cell_type": "code",
     "collapsed": false,
     "input": [
      "df[df.uniformity_of_cell_shape.isnull()]"
     ],
     "language": "python",
     "metadata": {},
     "outputs": [
      {
       "html": [
        "<div style=\"max-height:1000px;max-width:1500px;overflow:auto;\">\n",
        "<table border=\"1\" class=\"dataframe\">\n",
        "  <thead>\n",
        "    <tr style=\"text-align: right;\">\n",
        "      <th></th>\n",
        "      <th>Unnamed: 0</th>\n",
        "      <th>id number</th>\n",
        "      <th>clump_thickness</th>\n",
        "      <th>uniformity_of_cell_size</th>\n",
        "      <th>uniformity_of_cell_shape</th>\n",
        "      <th>marginal_adhesion</th>\n",
        "      <th>epithelial_cell_size</th>\n",
        "      <th>bare_nuclei</th>\n",
        "      <th>bland_chromatin</th>\n",
        "      <th>normal_nucleoli</th>\n",
        "      <th>mitoses</th>\n",
        "      <th>malignant</th>\n",
        "    </tr>\n",
        "  </thead>\n",
        "  <tbody>\n",
        "  </tbody>\n",
        "</table>\n",
        "</div>"
       ],
       "metadata": {},
       "output_type": "pyout",
       "prompt_number": 77,
       "text": [
        "Empty DataFrame\n",
        "Columns: [Unnamed: 0, id number, clump_thickness, uniformity_of_cell_size, uniformity_of_cell_shape, marginal_adhesion, epithelial_cell_size, bare_nuclei, bland_chromatin, normal_nucleoli, mitoses, malignant]\n",
        "Index: []"
       ]
      }
     ],
     "prompt_number": 77
    },
    {
     "cell_type": "code",
     "collapsed": false,
     "input": [
      "df[df.marginal_adhesion.isnull()]"
     ],
     "language": "python",
     "metadata": {},
     "outputs": [
      {
       "html": [
        "<div style=\"max-height:1000px;max-width:1500px;overflow:auto;\">\n",
        "<table border=\"1\" class=\"dataframe\">\n",
        "  <thead>\n",
        "    <tr style=\"text-align: right;\">\n",
        "      <th></th>\n",
        "      <th>Unnamed: 0</th>\n",
        "      <th>id number</th>\n",
        "      <th>clump_thickness</th>\n",
        "      <th>uniformity_of_cell_size</th>\n",
        "      <th>uniformity_of_cell_shape</th>\n",
        "      <th>marginal_adhesion</th>\n",
        "      <th>epithelial_cell_size</th>\n",
        "      <th>bare_nuclei</th>\n",
        "      <th>bland_chromatin</th>\n",
        "      <th>normal_nucleoli</th>\n",
        "      <th>mitoses</th>\n",
        "      <th>malignant</th>\n",
        "    </tr>\n",
        "  </thead>\n",
        "  <tbody>\n",
        "  </tbody>\n",
        "</table>\n",
        "</div>"
       ],
       "metadata": {},
       "output_type": "pyout",
       "prompt_number": 78,
       "text": [
        "Empty DataFrame\n",
        "Columns: [Unnamed: 0, id number, clump_thickness, uniformity_of_cell_size, uniformity_of_cell_shape, marginal_adhesion, epithelial_cell_size, bare_nuclei, bland_chromatin, normal_nucleoli, mitoses, malignant]\n",
        "Index: []"
       ]
      }
     ],
     "prompt_number": 78
    },
    {
     "cell_type": "code",
     "collapsed": false,
     "input": [
      "df[df.epithelial_cell_size.isnull()]"
     ],
     "language": "python",
     "metadata": {},
     "outputs": [
      {
       "html": [
        "<div style=\"max-height:1000px;max-width:1500px;overflow:auto;\">\n",
        "<table border=\"1\" class=\"dataframe\">\n",
        "  <thead>\n",
        "    <tr style=\"text-align: right;\">\n",
        "      <th></th>\n",
        "      <th>Unnamed: 0</th>\n",
        "      <th>id number</th>\n",
        "      <th>clump_thickness</th>\n",
        "      <th>uniformity_of_cell_size</th>\n",
        "      <th>uniformity_of_cell_shape</th>\n",
        "      <th>marginal_adhesion</th>\n",
        "      <th>epithelial_cell_size</th>\n",
        "      <th>bare_nuclei</th>\n",
        "      <th>bland_chromatin</th>\n",
        "      <th>normal_nucleoli</th>\n",
        "      <th>mitoses</th>\n",
        "      <th>malignant</th>\n",
        "    </tr>\n",
        "  </thead>\n",
        "  <tbody>\n",
        "  </tbody>\n",
        "</table>\n",
        "</div>"
       ],
       "metadata": {},
       "output_type": "pyout",
       "prompt_number": 79,
       "text": [
        "Empty DataFrame\n",
        "Columns: [Unnamed: 0, id number, clump_thickness, uniformity_of_cell_size, uniformity_of_cell_shape, marginal_adhesion, epithelial_cell_size, bare_nuclei, bland_chromatin, normal_nucleoli, mitoses, malignant]\n",
        "Index: []"
       ]
      }
     ],
     "prompt_number": 79
    },
    {
     "cell_type": "code",
     "collapsed": false,
     "input": [
      "df[df.bare_nuclei.isnull()]"
     ],
     "language": "python",
     "metadata": {},
     "outputs": [
      {
       "html": [
        "<div style=\"max-height:1000px;max-width:1500px;overflow:auto;\">\n",
        "<table border=\"1\" class=\"dataframe\">\n",
        "  <thead>\n",
        "    <tr style=\"text-align: right;\">\n",
        "      <th></th>\n",
        "      <th>Unnamed: 0</th>\n",
        "      <th>id number</th>\n",
        "      <th>clump_thickness</th>\n",
        "      <th>uniformity_of_cell_size</th>\n",
        "      <th>uniformity_of_cell_shape</th>\n",
        "      <th>marginal_adhesion</th>\n",
        "      <th>epithelial_cell_size</th>\n",
        "      <th>bare_nuclei</th>\n",
        "      <th>bland_chromatin</th>\n",
        "      <th>normal_nucleoli</th>\n",
        "      <th>mitoses</th>\n",
        "      <th>malignant</th>\n",
        "    </tr>\n",
        "  </thead>\n",
        "  <tbody>\n",
        "  </tbody>\n",
        "</table>\n",
        "</div>"
       ],
       "metadata": {},
       "output_type": "pyout",
       "prompt_number": 80,
       "text": [
        "Empty DataFrame\n",
        "Columns: [Unnamed: 0, id number, clump_thickness, uniformity_of_cell_size, uniformity_of_cell_shape, marginal_adhesion, epithelial_cell_size, bare_nuclei, bland_chromatin, normal_nucleoli, mitoses, malignant]\n",
        "Index: []"
       ]
      }
     ],
     "prompt_number": 80
    },
    {
     "cell_type": "code",
     "collapsed": false,
     "input": [
      "df[df.bland_chromatin.isnull()]"
     ],
     "language": "python",
     "metadata": {},
     "outputs": [
      {
       "html": [
        "<div style=\"max-height:1000px;max-width:1500px;overflow:auto;\">\n",
        "<table border=\"1\" class=\"dataframe\">\n",
        "  <thead>\n",
        "    <tr style=\"text-align: right;\">\n",
        "      <th></th>\n",
        "      <th>Unnamed: 0</th>\n",
        "      <th>id number</th>\n",
        "      <th>clump_thickness</th>\n",
        "      <th>uniformity_of_cell_size</th>\n",
        "      <th>uniformity_of_cell_shape</th>\n",
        "      <th>marginal_adhesion</th>\n",
        "      <th>epithelial_cell_size</th>\n",
        "      <th>bare_nuclei</th>\n",
        "      <th>bland_chromatin</th>\n",
        "      <th>normal_nucleoli</th>\n",
        "      <th>mitoses</th>\n",
        "      <th>malignant</th>\n",
        "    </tr>\n",
        "  </thead>\n",
        "  <tbody>\n",
        "  </tbody>\n",
        "</table>\n",
        "</div>"
       ],
       "metadata": {},
       "output_type": "pyout",
       "prompt_number": 81,
       "text": [
        "Empty DataFrame\n",
        "Columns: [Unnamed: 0, id number, clump_thickness, uniformity_of_cell_size, uniformity_of_cell_shape, marginal_adhesion, epithelial_cell_size, bare_nuclei, bland_chromatin, normal_nucleoli, mitoses, malignant]\n",
        "Index: []"
       ]
      }
     ],
     "prompt_number": 81
    },
    {
     "cell_type": "code",
     "collapsed": false,
     "input": [
      "df[df.normal_nucleoli.isnull()]"
     ],
     "language": "python",
     "metadata": {},
     "outputs": [
      {
       "html": [
        "<div style=\"max-height:1000px;max-width:1500px;overflow:auto;\">\n",
        "<table border=\"1\" class=\"dataframe\">\n",
        "  <thead>\n",
        "    <tr style=\"text-align: right;\">\n",
        "      <th></th>\n",
        "      <th>Unnamed: 0</th>\n",
        "      <th>id number</th>\n",
        "      <th>clump_thickness</th>\n",
        "      <th>uniformity_of_cell_size</th>\n",
        "      <th>uniformity_of_cell_shape</th>\n",
        "      <th>marginal_adhesion</th>\n",
        "      <th>epithelial_cell_size</th>\n",
        "      <th>bare_nuclei</th>\n",
        "      <th>bland_chromatin</th>\n",
        "      <th>normal_nucleoli</th>\n",
        "      <th>mitoses</th>\n",
        "      <th>malignant</th>\n",
        "    </tr>\n",
        "  </thead>\n",
        "  <tbody>\n",
        "  </tbody>\n",
        "</table>\n",
        "</div>"
       ],
       "metadata": {},
       "output_type": "pyout",
       "prompt_number": 82,
       "text": [
        "Empty DataFrame\n",
        "Columns: [Unnamed: 0, id number, clump_thickness, uniformity_of_cell_size, uniformity_of_cell_shape, marginal_adhesion, epithelial_cell_size, bare_nuclei, bland_chromatin, normal_nucleoli, mitoses, malignant]\n",
        "Index: []"
       ]
      }
     ],
     "prompt_number": 82
    },
    {
     "cell_type": "code",
     "collapsed": false,
     "input": [
      "df[df.mitoses.isnull()]"
     ],
     "language": "python",
     "metadata": {},
     "outputs": [
      {
       "html": [
        "<div style=\"max-height:1000px;max-width:1500px;overflow:auto;\">\n",
        "<table border=\"1\" class=\"dataframe\">\n",
        "  <thead>\n",
        "    <tr style=\"text-align: right;\">\n",
        "      <th></th>\n",
        "      <th>Unnamed: 0</th>\n",
        "      <th>id number</th>\n",
        "      <th>clump_thickness</th>\n",
        "      <th>uniformity_of_cell_size</th>\n",
        "      <th>uniformity_of_cell_shape</th>\n",
        "      <th>marginal_adhesion</th>\n",
        "      <th>epithelial_cell_size</th>\n",
        "      <th>bare_nuclei</th>\n",
        "      <th>bland_chromatin</th>\n",
        "      <th>normal_nucleoli</th>\n",
        "      <th>mitoses</th>\n",
        "      <th>malignant</th>\n",
        "    </tr>\n",
        "  </thead>\n",
        "  <tbody>\n",
        "  </tbody>\n",
        "</table>\n",
        "</div>"
       ],
       "metadata": {},
       "output_type": "pyout",
       "prompt_number": 83,
       "text": [
        "Empty DataFrame\n",
        "Columns: [Unnamed: 0, id number, clump_thickness, uniformity_of_cell_size, uniformity_of_cell_shape, marginal_adhesion, epithelial_cell_size, bare_nuclei, bland_chromatin, normal_nucleoli, mitoses, malignant]\n",
        "Index: []"
       ]
      }
     ],
     "prompt_number": 83
    },
    {
     "cell_type": "code",
     "collapsed": false,
     "input": [
      "df[df.malignant.isnull()]"
     ],
     "language": "python",
     "metadata": {},
     "outputs": [
      {
       "html": [
        "<div style=\"max-height:1000px;max-width:1500px;overflow:auto;\">\n",
        "<table border=\"1\" class=\"dataframe\">\n",
        "  <thead>\n",
        "    <tr style=\"text-align: right;\">\n",
        "      <th></th>\n",
        "      <th>Unnamed: 0</th>\n",
        "      <th>id number</th>\n",
        "      <th>clump_thickness</th>\n",
        "      <th>uniformity_of_cell_size</th>\n",
        "      <th>uniformity_of_cell_shape</th>\n",
        "      <th>marginal_adhesion</th>\n",
        "      <th>epithelial_cell_size</th>\n",
        "      <th>bare_nuclei</th>\n",
        "      <th>bland_chromatin</th>\n",
        "      <th>normal_nucleoli</th>\n",
        "      <th>mitoses</th>\n",
        "      <th>malignant</th>\n",
        "    </tr>\n",
        "  </thead>\n",
        "  <tbody>\n",
        "  </tbody>\n",
        "</table>\n",
        "</div>"
       ],
       "metadata": {},
       "output_type": "pyout",
       "prompt_number": 84,
       "text": [
        "Empty DataFrame\n",
        "Columns: [Unnamed: 0, id number, clump_thickness, uniformity_of_cell_size, uniformity_of_cell_shape, marginal_adhesion, epithelial_cell_size, bare_nuclei, bland_chromatin, normal_nucleoli, mitoses, malignant]\n",
        "Index: []"
       ]
      }
     ],
     "prompt_number": 84
    },
    {
     "cell_type": "markdown",
     "metadata": {},
     "source": [
      "<b>Good, there are no null values.  I want to get a better understanding of the data though.  I don't know what a couple things mean.  Lets google:<br>\n",
      "marginal adhesion - How well cells tend to stick together. <br>\n",
      "bare nuclei - nuclei that is not surrounded by cytoplasm <br>\n",
      "bland chromatin - describes a uniform \"texture\" of the nucleus <br>\n",
      "normal_nucleoli - nucleoli are small structures seen in the nucleus, normally very small. <br>\n",
      "mitosis - Mitosis is closely controlled by the genes inside every cell. Sometimes this control can go wrong. If that happens in just a single cell, it can replicate itself to make new cells that are also out of control. These are cancer cells. <br>\n",
      "My assumption with the mytosis number is it is a level from 1 (normal) to 10 (out of control). <br>\n",
      "Let's start the analysis.</b>\n"
     ]
    },
    {
     "cell_type": "code",
     "collapsed": false,
     "input": [
      "#These are the imports we need to perform our analysis.\n",
      "from sklearn.cross_validation import train_test_split\n",
      "from sklearn.ensemble import RandomForestClassifier\n",
      "from sklearn.metrics import roc_auc_score\n",
      "from sklearn.metrics import classification_report"
     ],
     "language": "python",
     "metadata": {},
     "outputs": [],
     "prompt_number": 85
    },
    {
     "cell_type": "code",
     "collapsed": false,
     "input": [
      "#We need to pop out malignant because that is what we are predicting and assign it to y.\n",
      "y = df.pop(\"malignant\")\n",
      "#We drop the key and id number columns and create x.\n",
      "x = df.drop([\"Unnamed: 0\", \"id number\"], axis=1)"
     ],
     "language": "python",
     "metadata": {},
     "outputs": [],
     "prompt_number": 86
    },
    {
     "cell_type": "code",
     "collapsed": false,
     "input": [
      "#Double check everything.  \n",
      "x.describe()"
     ],
     "language": "python",
     "metadata": {},
     "outputs": [
      {
       "html": [
        "<div style=\"max-height:1000px;max-width:1500px;overflow:auto;\">\n",
        "<table border=\"1\" class=\"dataframe\">\n",
        "  <thead>\n",
        "    <tr style=\"text-align: right;\">\n",
        "      <th></th>\n",
        "      <th>clump_thickness</th>\n",
        "      <th>uniformity_of_cell_size</th>\n",
        "      <th>uniformity_of_cell_shape</th>\n",
        "      <th>marginal_adhesion</th>\n",
        "      <th>epithelial_cell_size</th>\n",
        "      <th>bare_nuclei</th>\n",
        "      <th>bland_chromatin</th>\n",
        "      <th>normal_nucleoli</th>\n",
        "      <th>mitoses</th>\n",
        "    </tr>\n",
        "  </thead>\n",
        "  <tbody>\n",
        "    <tr>\n",
        "      <th>count</th>\n",
        "      <td> 699.000000</td>\n",
        "      <td> 699.000000</td>\n",
        "      <td> 699.000000</td>\n",
        "      <td> 699.000000</td>\n",
        "      <td> 699.000000</td>\n",
        "      <td> 699.000000</td>\n",
        "      <td> 699.000000</td>\n",
        "      <td> 699.000000</td>\n",
        "      <td> 699.000000</td>\n",
        "    </tr>\n",
        "    <tr>\n",
        "      <th>mean</th>\n",
        "      <td>   4.417740</td>\n",
        "      <td>   3.134478</td>\n",
        "      <td>   3.207439</td>\n",
        "      <td>   2.806867</td>\n",
        "      <td>   3.216023</td>\n",
        "      <td>   3.440629</td>\n",
        "      <td>   3.437768</td>\n",
        "      <td>   2.866953</td>\n",
        "      <td>   1.589413</td>\n",
        "    </tr>\n",
        "    <tr>\n",
        "      <th>std</th>\n",
        "      <td>   2.815741</td>\n",
        "      <td>   3.051459</td>\n",
        "      <td>   2.971913</td>\n",
        "      <td>   2.855379</td>\n",
        "      <td>   2.214300</td>\n",
        "      <td>   3.665507</td>\n",
        "      <td>   2.438364</td>\n",
        "      <td>   3.053634</td>\n",
        "      <td>   1.715078</td>\n",
        "    </tr>\n",
        "    <tr>\n",
        "      <th>min</th>\n",
        "      <td>   1.000000</td>\n",
        "      <td>   1.000000</td>\n",
        "      <td>   1.000000</td>\n",
        "      <td>   1.000000</td>\n",
        "      <td>   1.000000</td>\n",
        "      <td>  -1.000000</td>\n",
        "      <td>   1.000000</td>\n",
        "      <td>   1.000000</td>\n",
        "      <td>   1.000000</td>\n",
        "    </tr>\n",
        "    <tr>\n",
        "      <th>25%</th>\n",
        "      <td>   2.000000</td>\n",
        "      <td>   1.000000</td>\n",
        "      <td>   1.000000</td>\n",
        "      <td>   1.000000</td>\n",
        "      <td>   2.000000</td>\n",
        "      <td>   1.000000</td>\n",
        "      <td>   2.000000</td>\n",
        "      <td>   1.000000</td>\n",
        "      <td>   1.000000</td>\n",
        "    </tr>\n",
        "    <tr>\n",
        "      <th>50%</th>\n",
        "      <td>   4.000000</td>\n",
        "      <td>   1.000000</td>\n",
        "      <td>   1.000000</td>\n",
        "      <td>   1.000000</td>\n",
        "      <td>   2.000000</td>\n",
        "      <td>   1.000000</td>\n",
        "      <td>   3.000000</td>\n",
        "      <td>   1.000000</td>\n",
        "      <td>   1.000000</td>\n",
        "    </tr>\n",
        "    <tr>\n",
        "      <th>75%</th>\n",
        "      <td>   6.000000</td>\n",
        "      <td>   5.000000</td>\n",
        "      <td>   5.000000</td>\n",
        "      <td>   4.000000</td>\n",
        "      <td>   4.000000</td>\n",
        "      <td>   5.000000</td>\n",
        "      <td>   5.000000</td>\n",
        "      <td>   4.000000</td>\n",
        "      <td>   1.000000</td>\n",
        "    </tr>\n",
        "    <tr>\n",
        "      <th>max</th>\n",
        "      <td>  10.000000</td>\n",
        "      <td>  10.000000</td>\n",
        "      <td>  10.000000</td>\n",
        "      <td>  10.000000</td>\n",
        "      <td>  10.000000</td>\n",
        "      <td>  10.000000</td>\n",
        "      <td>  10.000000</td>\n",
        "      <td>  10.000000</td>\n",
        "      <td>  10.000000</td>\n",
        "    </tr>\n",
        "  </tbody>\n",
        "</table>\n",
        "</div>"
       ],
       "metadata": {},
       "output_type": "pyout",
       "prompt_number": 87,
       "text": [
        "       clump_thickness  uniformity_of_cell_size  uniformity_of_cell_shape  \\\n",
        "count       699.000000               699.000000                699.000000   \n",
        "mean          4.417740                 3.134478                  3.207439   \n",
        "std           2.815741                 3.051459                  2.971913   \n",
        "min           1.000000                 1.000000                  1.000000   \n",
        "25%           2.000000                 1.000000                  1.000000   \n",
        "50%           4.000000                 1.000000                  1.000000   \n",
        "75%           6.000000                 5.000000                  5.000000   \n",
        "max          10.000000                10.000000                 10.000000   \n",
        "\n",
        "       marginal_adhesion  epithelial_cell_size  bare_nuclei  bland_chromatin  \\\n",
        "count         699.000000            699.000000   699.000000       699.000000   \n",
        "mean            2.806867              3.216023     3.440629         3.437768   \n",
        "std             2.855379              2.214300     3.665507         2.438364   \n",
        "min             1.000000              1.000000    -1.000000         1.000000   \n",
        "25%             1.000000              2.000000     1.000000         2.000000   \n",
        "50%             1.000000              2.000000     1.000000         3.000000   \n",
        "75%             4.000000              4.000000     5.000000         5.000000   \n",
        "max            10.000000             10.000000    10.000000        10.000000   \n",
        "\n",
        "       normal_nucleoli     mitoses  \n",
        "count       699.000000  699.000000  \n",
        "mean          2.866953    1.589413  \n",
        "std           3.053634    1.715078  \n",
        "min           1.000000    1.000000  \n",
        "25%           1.000000    1.000000  \n",
        "50%           1.000000    1.000000  \n",
        "75%           4.000000    1.000000  \n",
        "max          10.000000   10.000000  "
       ]
      }
     ],
     "prompt_number": 87
    },
    {
     "cell_type": "code",
     "collapsed": false,
     "input": [
      "#Double check our y variable.\n",
      "y.describe()"
     ],
     "language": "python",
     "metadata": {},
     "outputs": [
      {
       "metadata": {},
       "output_type": "pyout",
       "prompt_number": 88,
       "text": [
        "count    699.000000\n",
        "mean       0.344778\n",
        "std        0.475636\n",
        "min        0.000000\n",
        "25%        0.000000\n",
        "50%        0.000000\n",
        "75%        1.000000\n",
        "max        1.000000\n",
        "dtype: float64"
       ]
      }
     ],
     "prompt_number": 88
    },
    {
     "cell_type": "code",
     "collapsed": false,
     "input": [
      "x_train, x_test, y_train, y_test = train_test_split(x, y, test_size=0.2, random_state=42)"
     ],
     "language": "python",
     "metadata": {},
     "outputs": [],
     "prompt_number": 89
    },
    {
     "cell_type": "markdown",
     "metadata": {},
     "source": [
      "Let's get the AUC score before we drop the unnamed column and id number."
     ]
    },
    {
     "cell_type": "code",
     "collapsed": false,
     "input": [
      "model = RandomForestClassifier(100, oob_score=False, n_jobs=-1, random_state=42)\n",
      "model.fit(x_train, y_train)\n",
      "print \"AUC: \", roc_auc_score(y_test, model.predict_proba(x_test)[:,1])"
     ],
     "language": "python",
     "metadata": {},
     "outputs": [
      {
       "output_type": "stream",
       "stream": "stdout",
       "text": [
        "AUC:  "
       ]
      },
      {
       "output_type": "stream",
       "stream": "stdout",
       "text": [
        "0.996374269006\n"
       ]
      }
     ],
     "prompt_number": 90
    },
    {
     "cell_type": "markdown",
     "metadata": {},
     "source": [
      "Not much of an improvement, but still an improvement.  Let's look how important each feature is in the model."
     ]
    },
    {
     "cell_type": "code",
     "collapsed": false,
     "input": [
      "model.feature_importances_"
     ],
     "language": "python",
     "metadata": {},
     "outputs": [
      {
       "metadata": {},
       "output_type": "pyout",
       "prompt_number": 91,
       "text": [
        "array([ 0.04599613,  0.29258837,  0.25073519,  0.02249252,  0.05268648,\n",
        "        0.15637574,  0.08961441,  0.08392538,  0.00558578])"
       ]
      }
     ],
     "prompt_number": 91
    },
    {
     "cell_type": "code",
     "collapsed": false,
     "input": [
      "feat_imp = pd.Series(model.feature_importances_, index=x.columns)\n",
      "feat_imp.sort()\n",
      "feat_imp.plot(kind = \"barh\")"
     ],
     "language": "python",
     "metadata": {},
     "outputs": [
      {
       "metadata": {},
       "output_type": "pyout",
       "prompt_number": 92,
       "text": [
        "<matplotlib.axes._subplots.AxesSubplot at 0x16f3fb00>"
       ]
      },
      {
       "metadata": {},
       "output_type": "display_data",
       "png": "[encoded data removed]",
       "text": [
        "<matplotlib.figure.Figure at 0x1741bcf8>"
       ]
      }
     ],
     "prompt_number": 92
    },
    {
     "cell_type": "code",
     "collapsed": false,
     "input": [
      "print classification_report(y_test, model.predict(x_test) )"
     ],
     "language": "python",
     "metadata": {},
     "outputs": [
      {
       "output_type": "stream",
       "stream": "stdout",
       "text": [
        "             precision    recall  f1-score   support\n",
        "\n",
        "          0       0.97      0.98      0.97        95\n",
        "          1       0.95      0.93      0.94        45\n",
        "\n",
        "avg / total       0.96      0.96      0.96       140\n",
        "\n"
       ]
      }
     ],
     "prompt_number": 93
    },
    {
     "cell_type": "markdown",
     "metadata": {},
     "source": [
      "Let's see what we get if we only stick with the bottom 3 important variables."
     ]
    },
    {
     "cell_type": "code",
     "collapsed": false,
     "input": [
      "xTop6 = x.drop([\"mitoses\", \"marginal_adhesion\", \"clump_thickness\"], axis=1)\n",
      "x_train2, x_test2, y_train2, y_test2 = train_test_split(xTop6, y, test_size=0.2, random_state=42)"
     ],
     "language": "python",
     "metadata": {},
     "outputs": [],
     "prompt_number": 94
    },
    {
     "cell_type": "code",
     "collapsed": false,
     "input": [
      "model.fit(x_train2, y_train2)\n",
      "print \"AUC: \", roc_auc_score(y_test2, model.predict_proba(x_test2)[:,1])\n",
      "print classification_report(y_test2, model.predict(x_test2) )"
     ],
     "language": "python",
     "metadata": {},
     "outputs": [
      {
       "output_type": "stream",
       "stream": "stdout",
       "text": [
        "AUC:  "
       ]
      },
      {
       "output_type": "stream",
       "stream": "stdout",
       "text": [
        "0.990877192982\n",
        "             precision    recall  f1-score   support\n",
        "\n",
        "          0       0.97      0.97      0.97        95\n",
        "          1       0.93      0.93      0.93        45\n",
        "\n",
        "avg / total       0.96      0.96      0.96       140\n"
       ]
      },
      {
       "output_type": "stream",
       "stream": "stdout",
       "text": [
        "\n"
       ]
      }
     ],
     "prompt_number": 95
    },
    {
     "cell_type": "markdown",
     "metadata": {},
     "source": [
      "Lower scores all around.  Let's try looking at just the top 3.  I don't think it will be better but maybe..."
     ]
    },
    {
     "cell_type": "code",
     "collapsed": false,
     "input": [
      "xTop3 = xTop6.drop([\"bland_chromatin\", \"normal_nucleoli\", \"epithelial_cell_size\"], axis=1)\n",
      "x_train3, x_test3, y_train3, y_test3 = train_test_split(xTop3, y, test_size=0.2, random_state=42)"
     ],
     "language": "python",
     "metadata": {},
     "outputs": [],
     "prompt_number": 98
    },
    {
     "cell_type": "code",
     "collapsed": false,
     "input": [
      "model.fit(x_train3, y_train3)\n",
      "print \"AUC: \", roc_auc_score(y_test3, model.predict_proba(x_test3)[:,1])\n",
      "print classification_report(y_test3, model.predict(x_test3) )"
     ],
     "language": "python",
     "metadata": {},
     "outputs": [
      {
       "output_type": "stream",
       "stream": "stdout",
       "text": [
        "AUC:  "
       ]
      },
      {
       "output_type": "stream",
       "stream": "stdout",
       "text": [
        "0.990760233918\n",
        "             precision    recall  f1-score   support\n",
        "\n",
        "          0       0.95      0.96      0.95        95\n",
        "          1       0.91      0.89      0.90        45\n",
        "\n",
        "avg / total       0.94      0.94      0.94       140\n"
       ]
      },
      {
       "output_type": "stream",
       "stream": "stdout",
       "text": [
        "\n"
       ]
      }
     ],
     "prompt_number": 99
    },
    {
     "cell_type": "markdown",
     "metadata": {},
     "source": [
      "What if I got rid of just mitoses, it was the least important?"
     ]
    },
    {
     "cell_type": "code",
     "collapsed": false,
     "input": [
      "xminus1 = x.drop([\"mitoses\"], axis=1)\n",
      "x_train4, x_test4, y_train4, y_test4 = train_test_split(xminus1, y, test_size=0.2, random_state=42)"
     ],
     "language": "python",
     "metadata": {},
     "outputs": [],
     "prompt_number": 101
    },
    {
     "cell_type": "code",
     "collapsed": false,
     "input": [
      "model.fit(x_train4, y_train4)\n",
      "print \"AUC: \", roc_auc_score(y_test4, model.predict_proba(x_test4)[:,1])\n",
      "print classification_report(y_test4, model.predict(x_test4) )"
     ],
     "language": "python",
     "metadata": {},
     "outputs": [
      {
       "output_type": "stream",
       "stream": "stdout",
       "text": [
        "AUC:  "
       ]
      },
      {
       "output_type": "stream",
       "stream": "stdout",
       "text": [
        "0.995789473684\n",
        "             precision    recall  f1-score   support\n",
        "\n",
        "          0       0.97      0.98      0.97        95\n",
        "          1       0.95      0.93      0.94        45\n",
        "\n",
        "avg / total       0.96      0.96      0.96       140\n"
       ]
      },
      {
       "output_type": "stream",
       "stream": "stdout",
       "text": [
        "\n"
       ]
      }
     ],
     "prompt_number": 102
    },
    {
     "cell_type": "markdown",
     "metadata": {},
     "source": [
      "Well, definately better, but still worse than having all three.  Now, lets start playing with the parameters.  We will start with the number of trees to create, or estimators.  I will use the same numbers Jason did.  I also added one more to see what happens beyond 2000."
     ]
    },
    {
     "cell_type": "code",
     "collapsed": false,
     "input": [
      "results = []\n",
      "n_estimator_options = [25, 50, 100, 200, 500, 1000, 2000, 3000]\n",
      "\n",
      "for trees in n_estimator_options:\n",
      "    model = RandomForestClassifier(trees, oob_score=False, n_jobs=-1, random_state=42)\n",
      "    model.fit(x_train, y_train)\n",
      "    print trees, \"trees\"\n",
      "    roc = roc_auc_score(y_test, model.predict_proba(x_test)[:,1])\n",
      "    print \"C-stat: \", roc\n",
      "    results.append(roc)\n",
      "    print \"\"\n",
      "    \n",
      "pd.Series(results, n_estimator_options).plot();"
     ],
     "language": "python",
     "metadata": {},
     "outputs": [
      {
       "output_type": "stream",
       "stream": "stdout",
       "text": [
        "25 trees\n",
        "C-stat: "
       ]
      },
      {
       "output_type": "stream",
       "stream": "stdout",
       "text": [
        " 0.995321637427\n",
        "\n",
        "50"
       ]
      },
      {
       "output_type": "stream",
       "stream": "stdout",
       "text": [
        " trees\n",
        "C-stat: "
       ]
      },
      {
       "output_type": "stream",
       "stream": "stdout",
       "text": [
        " 0.99567251462\n",
        "\n",
        "100"
       ]
      },
      {
       "output_type": "stream",
       "stream": "stdout",
       "text": [
        " trees\n",
        "C-stat: "
       ]
      },
      {
       "output_type": "stream",
       "stream": "stdout",
       "text": [
        " 0.996374269006\n",
        "\n",
        "200"
       ]
      },
      {
       "output_type": "stream",
       "stream": "stdout",
       "text": [
        " trees\n",
        "C-stat: "
       ]
      },
      {
       "output_type": "stream",
       "stream": "stdout",
       "text": [
        " 0.996257309942\n",
        "\n",
        "500"
       ]
      },
      {
       "output_type": "stream",
       "stream": "stdout",
       "text": [
        " trees\n",
        "C-stat: "
       ]
      },
      {
       "output_type": "stream",
       "stream": "stdout",
       "text": [
        " 0.99649122807\n",
        "\n",
        "1000"
       ]
      },
      {
       "output_type": "stream",
       "stream": "stdout",
       "text": [
        " trees\n",
        "C-stat: "
       ]
      },
      {
       "output_type": "stream",
       "stream": "stdout",
       "text": [
        " 0.996374269006\n",
        "\n",
        "2000"
       ]
      },
      {
       "output_type": "stream",
       "stream": "stdout",
       "text": [
        " trees\n",
        "C-stat: "
       ]
      },
      {
       "output_type": "stream",
       "stream": "stdout",
       "text": [
        " 0.99649122807\n",
        "\n",
        "3000"
       ]
      },
      {
       "output_type": "stream",
       "stream": "stdout",
       "text": [
        " trees\n",
        "C-stat: "
       ]
      },
      {
       "output_type": "stream",
       "stream": "stdout",
       "text": [
        " 0.99649122807\n",
        "\n"
       ]
      },
      {
       "metadata": {},
       "output_type": "display_data",
       "png": "[encoded data removed]",
       "text": [
        "<matplotlib.figure.Figure at 0x1999dac8>"
       ]
      }
     ],
     "prompt_number": 105
    },
    {
     "cell_type": "markdown",
     "metadata": {},
     "source": [
      "Looks like 500 trees is good.  Let's up the n_estimators to 500.  Next we will play with the best number of features to consider on each split.  "
     ]
    },
    {
     "cell_type": "code",
     "collapsed": false,
     "input": [
      "results = []\n",
      "max_features_options = [\"auto\", None, \"sqrt\", \"log2\", 0.9, 0.2]\n",
      "\n",
      "for max_features in max_features_options:\n",
      "    model = RandomForestClassifier(n_estimators=500, oob_score=False, n_jobs=-1, random_state=42, max_features=max_features)\n",
      "    model.fit(x_train, y_train)\n",
      "    print max_features, \"option\"\n",
      "    roc = roc_auc_score(y_test, model.predict_proba(x_test)[:,1])\n",
      "    print \"C-stat: \", roc\n",
      "    results.append(roc)\n",
      "    print \"\"\n",
      "    \n",
      "pd.Series(results, max_features_options).plot(kind=\"barh\", xlim=(.99,1));"
     ],
     "language": "python",
     "metadata": {},
     "outputs": [
      {
       "output_type": "stream",
       "stream": "stdout",
       "text": [
        "auto option\n",
        "C-stat: "
       ]
      },
      {
       "output_type": "stream",
       "stream": "stdout",
       "text": [
        " 0.99649122807\n",
        "\n",
        "None"
       ]
      },
      {
       "output_type": "stream",
       "stream": "stdout",
       "text": [
        " option\n",
        "C-stat: "
       ]
      },
      {
       "output_type": "stream",
       "stream": "stdout",
       "text": [
        " 0.995555555556\n",
        "\n",
        "sqrt"
       ]
      },
      {
       "output_type": "stream",
       "stream": "stdout",
       "text": [
        " option\n",
        "C-stat: "
       ]
      },
      {
       "output_type": "stream",
       "stream": "stdout",
       "text": [
        " 0.99649122807\n",
        "\n",
        "log2"
       ]
      },
      {
       "output_type": "stream",
       "stream": "stdout",
       "text": [
        " option\n",
        "C-stat: "
       ]
      },
      {
       "output_type": "stream",
       "stream": "stdout",
       "text": [
        " 0.99649122807\n",
        "\n",
        "0.9"
       ]
      },
      {
       "output_type": "stream",
       "stream": "stdout",
       "text": [
        " option\n",
        "C-stat: "
       ]
      },
      {
       "output_type": "stream",
       "stream": "stdout",
       "text": [
        " 0.995789473684\n",
        "\n",
        "0.2"
       ]
      },
      {
       "output_type": "stream",
       "stream": "stdout",
       "text": [
        " option\n",
        "C-stat: "
       ]
      },
      {
       "output_type": "stream",
       "stream": "stdout",
       "text": [
        " 0.996725146199\n",
        "\n"
       ]
      },
      {
       "metadata": {},
       "output_type": "display_data",
       "png": "[encoded data removed]",
       "text": [
        "<matplotlib.figure.Figure at 0x173a9d68>"
       ]
      }
     ],
     "prompt_number": 108
    },
    {
     "cell_type": "markdown",
     "metadata": {},
     "source": [
      "Interesting.  .2 actually gives us the highest score.  Finally, let's look at the minimum samples for each new leaf.  We will start by looking at 1 - 3."
     ]
    },
    {
     "cell_type": "code",
     "collapsed": false,
     "input": [
      "results = []\n",
      "min_samples_leaf_options = [1, 2, 3]\n",
      "\n",
      "for min_samples in min_samples_leaf_options:\n",
      "    model = RandomForestClassifier(n_estimators=500, \n",
      "                                  oob_score=False, \n",
      "                                  n_jobs=-1, \n",
      "                                  random_state=42, \n",
      "                                  max_features=0.2, \n",
      "                                  min_samples_leaf=min_samples)\n",
      "    model.fit(x_train, y_train)\n",
      "    print min_samples, \"min samples\"\n",
      "    roc = roc_auc_score(y_test, model.predict_proba(x_test)[:,1])\n",
      "    print \"C-stat: \", roc\n",
      "    results.append(roc)\n",
      "    print \"\"\n",
      "    \n",
      "pd.Series(results, min_samples_leaf_options).plot();"
     ],
     "language": "python",
     "metadata": {},
     "outputs": [
      {
       "output_type": "stream",
       "stream": "stdout",
       "text": [
        "1 min samples\n",
        "C-stat: "
       ]
      },
      {
       "output_type": "stream",
       "stream": "stdout",
       "text": [
        " 0.996725146199\n",
        "\n",
        "2"
       ]
      },
      {
       "output_type": "stream",
       "stream": "stdout",
       "text": [
        " min samples\n",
        "C-stat: "
       ]
      },
      {
       "output_type": "stream",
       "stream": "stdout",
       "text": [
        " 0.99649122807\n",
        "\n",
        "3"
       ]
      },
      {
       "output_type": "stream",
       "stream": "stdout",
       "text": [
        " min samples\n",
        "C-stat: "
       ]
      },
      {
       "output_type": "stream",
       "stream": "stdout",
       "text": [
        " 0.99649122807\n",
        "\n"
       ]
      },
      {
       "metadata": {},
       "output_type": "display_data",
       "png": "[encoded data removed]",
       "text": [
        "<matplotlib.figure.Figure at 0x171d3fd0>"
       ]
      }
     ],
     "prompt_number": 110
    },
    {
     "cell_type": "markdown",
     "metadata": {},
     "source": [
      "Looks like one sample is best, so we will leave it at that. So our final model is:<br>\n",
      "model = RandomForestClassifier(n_estimators=500, <br>\n",
      "                                  oob_score=False, <br>\n",
      "                                  n_jobs=-1, <br>\n",
      "                                  random_state=42, <br> \n",
      "                                  max_features=0.2, <br>\n",
      "                                  min_samples_leaf=1) <br>\n",
      "Let's run the final precision and recall:"
     ]
    },
    {
     "cell_type": "code",
     "collapsed": false,
     "input": [
      "model = RandomForestClassifier(500, oob_score=False, n_jobs=-1, random_state=42, max_features=0.2, min_samples_leaf=1)\n",
      "model.fit(x_train, y_train)\n",
      "print \"AUC: \", roc_auc_score(y_test, model.predict_proba(x_test)[:,1])\n",
      "print classification_report(y_test, model.predict(x_test))"
     ],
     "language": "python",
     "metadata": {},
     "outputs": [
      {
       "output_type": "stream",
       "stream": "stdout",
       "text": [
        "AUC:  "
       ]
      },
      {
       "output_type": "stream",
       "stream": "stdout",
       "text": [
        "0.996725146199\n",
        "             precision    recall  f1-score   support\n",
        "\n",
        "          0       0.98      0.98      0.98        95\n",
        "          1       0.96      0.96      0.96        45\n",
        "\n",
        "avg / total       0.97      0.97      0.97       140\n"
       ]
      },
      {
       "output_type": "stream",
       "stream": "stdout",
       "text": [
        "\n"
       ]
      }
     ],
     "prompt_number": 111
    },
    {
     "cell_type": "code",
     "collapsed": false,
     "input": [],
     "language": "python",
     "metadata": {},
     "outputs": []
    }
   ],
   "metadata": {}
  }
 ]
}