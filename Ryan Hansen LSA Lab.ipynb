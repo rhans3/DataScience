{
 "metadata": {
  "name": "",
  "signature": "sha256:19a55e71f9c96bae476dd441ad0e276208fa6d27f7c3f4c4342525bc139253f9"
 },
 "nbformat": 3,
 "nbformat_minor": 0,
 "worksheets": [
  {
   "cells": [
    {
     "cell_type": "code",
     "collapsed": false,
     "input": [
      "from sklearn.datasets import fetch_20newsgroups\n",
      "categories = ['sci.space']\n",
      "dataset = fetch_20newsgroups(subset='all',shuffle=True, random_state=42, categories=categories)\n",
      "corpus = dataset.data\n",
      "import nltk\n",
      "from nltk.corpus import stopwords\n",
      "from sklearn.feature_extraction.text import TfidfVectorizer\n",
      "from sklearn.decomposition import TruncatedSVD"
     ],
     "language": "python",
     "metadata": {},
     "outputs": [],
     "prompt_number": 1
    },
    {
     "cell_type": "code",
     "collapsed": false,
     "input": [
      "nltk.download('stopwords')"
     ],
     "language": "python",
     "metadata": {},
     "outputs": [
      {
       "output_type": "stream",
       "stream": "stdout",
       "text": [
        "[nltk_data] Downloading package stopwords to C:\\Users\\Hansen\n",
        "[nltk_data]     House\\AppData\\Roaming\\nltk_data...\n",
        "[nltk_data]   Package stopwords is already up-to-date!\n"
       ]
      },
      {
       "metadata": {},
       "output_type": "pyout",
       "prompt_number": 2,
       "text": [
        "True"
       ]
      }
     ],
     "prompt_number": 2
    },
    {
     "cell_type": "code",
     "collapsed": false,
     "input": [
      "stopset = set(stopwords.words('english'))"
     ],
     "language": "python",
     "metadata": {},
     "outputs": [],
     "prompt_number": 2
    },
    {
     "cell_type": "code",
     "collapsed": false,
     "input": [
      "stopset.update(['\\n','com','edu','would','digex','com','net','prb','acad3','edu','umd','sysmgr','dseg','ti','pgf',\n",
      "                'cacs','usl','edu','usl','uiuc','af','afit','mil','af','ibm','vnet','nicho'])"
     ],
     "language": "python",
     "metadata": {},
     "outputs": [],
     "prompt_number": 12
    },
    {
     "cell_type": "code",
     "collapsed": false,
     "input": [
      "vectorizer = TfidfVectorizer(stop_words=stopset, use_idf=True, ngram_range=(1, 3))\n",
      "X = vectorizer.fit_transform(corpus)"
     ],
     "language": "python",
     "metadata": {},
     "outputs": [],
     "prompt_number": 13
    },
    {
     "cell_type": "code",
     "collapsed": false,
     "input": [
      "X.shape"
     ],
     "language": "python",
     "metadata": {},
     "outputs": [
      {
       "metadata": {},
       "output_type": "pyout",
       "prompt_number": 14,
       "text": [
        "(987, 258002)"
       ]
      }
     ],
     "prompt_number": 14
    },
    {
     "cell_type": "code",
     "collapsed": false,
     "input": [
      "lsa = TruncatedSVD(n_components=987, n_iter=50)"
     ],
     "language": "python",
     "metadata": {},
     "outputs": [],
     "prompt_number": 22
    },
    {
     "cell_type": "markdown",
     "metadata": {},
     "source": [
      "I played around with the n_iter number and my computer has a hard time with a number larger than 50"
     ]
    },
    {
     "cell_type": "code",
     "collapsed": false,
     "input": [
      "lsa.fit(X)"
     ],
     "language": "python",
     "metadata": {},
     "outputs": [
      {
       "metadata": {},
       "output_type": "pyout",
       "prompt_number": 23,
       "text": [
        "TruncatedSVD(algorithm='randomized', n_components=987, n_iter=50,\n",
        "       random_state=None, tol=0.0)"
       ]
      }
     ],
     "prompt_number": 23
    },
    {
     "cell_type": "code",
     "collapsed": false,
     "input": [
      "terms = vectorizer.get_feature_names()\n",
      "for i, comp in enumerate(lsa.components_):\n",
      "    termsInComp = zip (terms,comp)\n",
      "    sortedTerms = sorted(termsInComp, key=lambda x: x[1], reverse=True) [:10]\n",
      "    print \"Concept %d:\" % i\n",
      "    for term in sortedTerms:\n",
      "        print term[0]\n",
      "    print \" \""
     ],
     "language": "python",
     "metadata": {},
     "outputs": [
      {
       "output_type": "stream",
       "stream": "stdout",
       "text": [
        "Concept 0:\n",
        "henry\n",
        "space\n",
        "toronto\n",
        "nasa\n",
        "access\n",
        "zoo\n",
        "zoo toronto\n",
        "gov\n",
        "re\n",
        "writes\n",
        " \n",
        "Concept 1:"
       ]
      },
      {
       "output_type": "stream",
       "stream": "stdout",
       "text": [
        "\n",
        "henry\n",
        "toronto\n",
        "zoo\n",
        "zoo toronto\n",
        "toronto zoology\n",
        "zoology\n",
        "spencer\n",
        "henry spencer\n",
        "henry zoo\n",
        "henry zoo toronto\n",
        " \n",
        "Concept 2:"
       ]
      },
      {
       "output_type": "stream",
       "stream": "stdout",
       "text": [
        "\n",
        "___\n",
        "baalke\n",
        "jpl\n",
        "__\n",
        "kelvin jpl\n",
        "kelvin jpl nasa\n",
        "jpl nasa gov\n",
        "jpl nasa\n",
        "kelvin\n",
        "_____\n",
        " \n",
        "Concept 3:"
       ]
      },
      {
       "output_type": "stream",
       "stream": "stdout",
       "text": [
        "\n",
        "access\n",
        "pat\n",
        "hst\n",
        "access pat\n",
        "access pat subject\n",
        "pat subject\n",
        "access online\n",
        "access online communications\n",
        "express access\n",
        "express access online\n",
        " \n",
        "Concept 4:"
       ]
      },
      {
       "output_type": "stream",
       "stream": "stdout",
       "text": [
        "\n",
        "alaska\n",
        "nsmca\n",
        "aurora\n",
        "gene\n",
        "billion\n",
        "theporch\n",
        "theporch raider\n",
        "aurora alaska\n",
        "moon\n",
        "raider\n",
        " \n",
        "Concept 5:"
       ]
      },
      {
       "output_type": "stream",
       "stream": "stdout",
       "text": [
        "\n",
        "access\n",
        "alaska\n",
        "pat\n",
        "theporch\n",
        "theporch raider\n",
        "gene\n",
        "raider\n",
        "aurora\n",
        "nsmca\n",
        "___\n",
        " \n",
        "Concept 6:"
       ]
      },
      {
       "output_type": "stream",
       "stream": "stdout",
       "text": [
        "\n",
        "hst\n",
        "shuttle\n",
        "mission\n",
        "space\n",
        "elements\n",
        "alaska\n",
        "access\n",
        "orbital\n",
        "space shuttle\n",
        "boost\n",
        " \n",
        "Concept 7:"
       ]
      },
      {
       "output_type": "stream",
       "stream": "stdout",
       "text": [
        "\n",
        "hst\n",
        "mccall\n",
        "nasa\n",
        "sky\n",
        "mission\n",
        "speak\n",
        "fred\n",
        "boost\n",
        "cso\n",
        "egalon\n",
        " \n",
        "Concept 8:"
       ]
      },
      {
       "output_type": "stream",
       "stream": "stdout",
       "text": [
        "\n",
        "gov\n",
        "nasa\n",
        "nasa gov\n",
        "jsc\n",
        "larc nasa\n",
        "larc nasa gov\n",
        "egalon\n",
        "higgins\n",
        "larc\n",
        "hst\n",
        " \n",
        "Concept 9:"
       ]
      },
      {
       "output_type": "stream",
       "stream": "stdout",
       "text": [
        "\n",
        "eng\n",
        "allen\n",
        "king\n",
        "iti\n",
        "king eng\n",
        "org\n",
        "sherzer\n",
        "ssto\n",
        "iti org\n",
        "cost\n",
        " \n",
        "Concept 10:"
       ]
      },
      {
       "output_type": "stream",
       "stream": "stdout",
       "text": [
        "\n",
        "alaska\n",
        "eng\n",
        "aurora\n",
        "nsmca\n",
        "aurora alaska\n",
        "fnal\n",
        "king\n",
        "higgins\n",
        "adams\n",
        "nsmca aurora\n",
        " \n",
        "Concept 11:"
       ]
      },
      {
       "output_type": "stream",
       "stream": "stdout",
       "text": [
        "\n",
        "hst\n",
        "mission\n",
        "servicing\n",
        "boost\n",
        "solar\n",
        "servicing mission\n",
        "re boost\n",
        "orbit\n",
        "mass\n",
        "cloud\n",
        " \n",
        "Concept 12:"
       ]
      },
      {
       "output_type": "stream",
       "stream": "stdout",
       "text": [
        "\n",
        "mccall\n",
        "fred\n",
        "hst\n",
        "alaska\n",
        "speak\n",
        "fred mccall\n",
        "egalon\n",
        "palmer\n",
        "mission\n",
        "larc\n",
        " \n",
        "Concept 13:"
       ]
      },
      {
       "output_type": "stream",
       "stream": "stdout",
       "text": [
        "\n",
        "higgins\n",
        "fnal\n",
        "hst\n",
        "fraering\n",
        "phil fraering\n",
        "fnal gov\n",
        "phil\n",
        "fnalf\n",
        "fnalf fnal\n",
        "fnalf fnal gov\n",
        " \n",
        "Concept 14:"
       ]
      },
      {
       "output_type": "stream",
       "stream": "stdout",
       "text": [
        "\n",
        "eng\n",
        "ucsc\n",
        "steinly\n",
        "topaz\n",
        "sky\n",
        "oort\n",
        "au\n",
        "hst\n",
        "king\n",
        "topaz ucsc\n",
        " \n",
        "Concept 15:"
       ]
      },
      {
       "output_type": "stream",
       "stream": "stdout",
       "text": [
        "\n",
        "egalon\n",
        "larc nasa\n",
        "larc nasa gov\n",
        "larc\n",
        "egalon larc\n",
        "egalon larc nasa\n",
        "moon\n",
        "claudio\n",
        "claudio oliveira\n",
        "claudio oliveira egalon\n",
        " \n",
        "Concept 16:"
       ]
      },
      {
       "output_type": "stream",
       "stream": "stdout",
       "text": [
        "\n",
        "gary\n",
        "ke4zv\n",
        "lunar\n",
        "command\n",
        "moon\n",
        "loss\n",
        "uucp\n",
        "ke4zv uucp\n",
        "ke4zv uucp gary\n",
        "uucp gary\n",
        " \n",
        "Concept 17:"
       ]
      },
      {
       "output_type": "stream",
       "stream": "stdout",
       "text": [
        "\n",
        "ireland"
       ]
      },
      {
       "output_type": "stream",
       "stream": "stdout",
       "text": [
        "\n",
        "astronomy\n",
        "vax1\n",
        "uk\n",
        "tcd\n",
        "tcd ie\n",
        "vax1 tcd\n",
        "vax1 tcd ie\n",
        "higgins\n",
        "ie\n",
        " \n",
        "Concept 18:"
       ]
      },
      {
       "output_type": "stream",
       "stream": "stdout",
       "text": [
        "\n",
        "eng\n",
        "king\n",
        "phil\n",
        "hst\n",
        "launch\n",
        "king eng\n",
        "stuff\n",
        "loss\n",
        "fraering\n",
        "phil fraering\n",
        " \n",
        "Concept 19:"
       ]
      },
      {
       "output_type": "stream",
       "stream": "stdout",
       "text": [
        "\n",
        "higgins\n",
        "fnal\n",
        "gary\n",
        "command\n",
        "energetic\n",
        "pyron\n",
        "ke4zv\n",
        "palmer\n",
        "research\n",
        "enzo\n",
        " \n",
        "Concept 20:"
       ]
      },
      {
       "output_type": "stream",
       "stream": "stdout",
       "text": [
        "\n",
        "command\n",
        "higgins\n",
        "fnal\n",
        "loss timer\n",
        "loss\n",
        "fnal gov\n",
        "timer\n",
        "command loss\n",
        "command loss timer\n",
        "au\n",
        " \n",
        "Concept 21:"
       ]
      },
      {
       "output_type": "stream",
       "stream": "stdout",
       "text": [
        "\n",
        "command\n",
        "command loss\n",
        "command loss timer\n",
        "timer\n",
        "loss\n",
        "loss timer\n",
        "galileo\n",
        "bnr ca\n",
        "jsc\n",
        "bnr\n",
        " \n",
        "Concept 22:"
       ]
      },
      {
       "output_type": "stream",
       "stream": "stdout",
       "text": [
        "\n",
        "gary\n",
        "ke4zv\n",
        "moon\n",
        "lunar\n",
        "ke4zv uucp\n",
        "coffman\n",
        "gary coffman\n",
        "jsc\n",
        "mccall\n",
        "fred\n",
        " \n",
        "Concept 23:"
       ]
      },
      {
       "output_type": "stream",
       "stream": "stdout",
       "text": [
        "\n",
        "station\n",
        "option\n",
        "egalon\n",
        "gary\n",
        "ke4zv\n",
        "larc nasa\n",
        "larc nasa gov\n",
        "redesign\n",
        "larc\n",
        "space station\n",
        " \n",
        "Concept 24:"
       ]
      },
      {
       "output_type": "stream",
       "stream": "stdout",
       "text": [
        "\n",
        "gary\n",
        "ke4zv\n",
        "sky\n",
        "alaska\n",
        "arrays\n",
        "shuttle\n",
        "loss\n",
        "uucp\n",
        "ke4zv uucp\n",
        "scheduled 11\n",
        " \n",
        "Concept 25:"
       ]
      },
      {
       "output_type": "stream",
       "stream": "stdout",
       "text": [
        "\n",
        "pyron\n",
        "skndiv\n",
        "pyron skndiv\n",
        "vax support\n",
        "dillon pyron\n",
        "214\n",
        "dillon\n",
        "support\n",
        "convex\n",
        "getting\n",
        " \n",
        "Concept 26:"
       ]
      },
      {
       "output_type": "stream",
       "stream": "stdout",
       "text": [
        "\n",
        "centaur\n",
        "proton\n",
        "arrays\n",
        "pyron\n",
        "skndiv\n",
        "calpoly\n",
        "problems\n",
        "dennis\n",
        "mot\n",
        "vax\n",
        " \n",
        "Concept 27:"
       ]
      },
      {
       "output_type": "stream",
       "stream": "stdout",
       "text": [
        "\n",
        "space\n",
        "command\n",
        "arrays\n",
        "lunar\n",
        "pyron\n",
        "nasa\n",
        "command loss\n",
        "command loss timer\n",
        "shafer\n",
        "loss timer\n",
        " \n",
        "Concept 28:"
       ]
      },
      {
       "output_type": "stream",
       "stream": "stdout",
       "text": [
        "\n",
        "knox\n",
        "bby\n",
        "knox box\n",
        "gnb\n",
        "convex\n",
        "bby au\n",
        "gregory\n",
        "bond\n",
        "gregory bond\n",
        "space\n",
        " \n",
        "Concept 29:"
       ]
      },
      {
       "output_type": "stream",
       "stream": "stdout",
       "text": [
        "\n",
        "solar\n",
        "pluto\n",
        "arrays\n",
        "object\n",
        "jeff\n",
        "temperature\n",
        "design\n",
        "planet\n",
        "design solar\n",
        "design solar arrays\n",
        " \n",
        "Concept 30:"
       ]
      },
      {
       "output_type": "stream",
       "stream": "stdout",
       "text": [
        "\n",
        "temperature\n",
        "overhead\n",
        "sky\n",
        "pluto\n",
        "gary\n",
        "reston\n",
        "proton\n",
        "centaur\n",
        "like\n",
        "positional\n",
        " \n",
        "Concept 31:"
       ]
      },
      {
       "output_type": "stream",
       "stream": "stdout",
       "text": [
        "\n",
        "comet\n",
        "jupiter\n",
        "pyron\n",
        "temporary\n",
        "pluto\n",
        "gehrels\n",
        "around\n",
        "around jupiter\n",
        "orbit around jupiter\n",
        "orbit around\n",
        " \n",
        "Concept 32:"
       ]
      },
      {
       "output_type": "stream",
       "stream": "stdout",
       "text": [
        "\n",
        "comet\n",
        "jupiter\n",
        "object\n",
        "nasa\n",
        "sq\n",
        "caltech\n",
        "work\n",
        "one\n",
        "space\n",
        "smiley\n",
        " \n",
        "Concept 33:"
       ]
      },
      {
       "output_type": "stream",
       "stream": "stdout",
       "text": [
        "\n",
        "overhead\n",
        "software\n",
        "arrays\n",
        "reston\n",
        "fee\n",
        "wrap\n",
        "dennis\n",
        "level\n",
        "people\n",
        "temperature\n",
        " \n",
        "Concept 34:"
       ]
      },
      {
       "output_type": "stream",
       "stream": "stdout",
       "text": [
        "\n",
        "space\n",
        "temperature\n",
        "steinly\n",
        "comet\n",
        "topaz\n",
        "jupiter\n",
        "topaz ucsc\n",
        "temporary\n",
        "internet\n",
        "ucsc\n",
        " \n",
        "Concept 35:"
       ]
      },
      {
       "output_type": "stream",
       "stream": "stdout",
       "text": [
        "\n",
        "overhead\n",
        "reston\n",
        "wrap\n",
        "fee\n",
        "dennis\n",
        "centers\n",
        "jbh55289\n",
        "jbh55289 uxa\n",
        "jbh55289 uxa cso\n",
        "allen\n",
        " \n",
        "Concept 36:"
       ]
      },
      {
       "output_type": "stream",
       "stream": "stdout",
       "text": [
        "\n",
        "pluto\n",
        "mission\n",
        "solar\n",
        "solar system\n",
        "planet\n",
        "system\n",
        "around\n",
        "skndiv\n",
        "pyron\n",
        "near\n",
        " \n",
        "Concept 37:"
       ]
      },
      {
       "output_type": "stream",
       "stream": "stdout",
       "text": [
        "\n",
        "convex\n",
        "pluto\n",
        "palmer\n",
        "convex computer\n",
        "caltech\n",
        "lunar orbit\n",
        "overhead\n",
        "gsfc\n",
        "around\n",
        "usa\n",
        " \n",
        "Concept 38:"
       ]
      },
      {
       "output_type": "stream",
       "stream": "stdout",
       "text": [
        "\n",
        "palmer\n",
        "convex\n",
        "temperature\n",
        "black\n",
        "software\n",
        "still\n",
        "arrays\n",
        "interstellar\n",
        "space\n",
        "sky\n",
        " \n",
        "Concept 39:"
       ]
      },
      {
       "output_type": "stream",
       "stream": "stdout",
       "text": [
        "\n",
        "temperature\n",
        "caltech\n",
        "moon\n",
        "enough\n",
        "billion\n",
        "object\n",
        "ssto\n",
        "pluto\n",
        "prize\n",
        "palmer\n",
        " \n",
        "Concept 40:"
       ]
      },
      {
       "output_type": "stream",
       "stream": "stdout",
       "text": [
        "\n",
        "pluto\n",
        "long\n",
        "solar system\n",
        "solar\n",
        "light\n",
        "ca\n",
        "california\n",
        "around\n",
        "like\n",
        "think\n",
        " \n",
        "Concept 41:"
       ]
      },
      {
       "output_type": "stream",
       "stream": "stdout",
       "text": [
        "\n",
        "software\n",
        "level\n",
        "launch\n",
        "process\n",
        "field\n",
        "prize\n",
        "april\n",
        "egalon\n",
        "shuttle\n",
        "ssto\n",
        " \n",
        "Concept 42:"
       ]
      },
      {
       "output_type": "stream",
       "stream": "stdout",
       "text": [
        "\n",
        "station\n",
        "redesign\n",
        "space station\n",
        "russian\n",
        "pluto\n",
        "nasa\n",
        "gibbons\n",
        "billion\n",
        "advisory\n",
        "committee\n",
        " \n",
        "Concept 43:"
       ]
      },
      {
       "output_type": "stream",
       "stream": "stdout",
       "text": [
        "\n",
        "mining\n",
        "gov\n",
        "cook\n",
        "jeff cook\n",
        "lunar\n",
        "eco freaks\n",
        "land\n",
        "nasa gov\n",
        "sky\n",
        "scott\n",
        " \n",
        "Concept 44:"
       ]
      },
      {
       "output_type": "stream",
       "stream": "stdout",
       "text": [
        "\n",
        "shafer\n",
        "nasa\n",
        "dfrf\n",
        "temperature\n",
        "hand\n",
        "mary shafer\n",
        "pat\n",
        "dfrf nasa\n",
        "dfrf nasa gov\n",
        "rigel dfrf\n",
        " \n",
        "Concept 45:"
       ]
      },
      {
       "output_type": "stream",
       "stream": "stdout",
       "text": [
        "\n",
        "launch\n",
        "mining\n",
        "prize\n",
        "pluto\n",
        "long\n",
        "dc\n",
        "development\n",
        "titan\n",
        "land\n",
        "spend\n",
        " \n",
        "Concept 46:"
       ]
      },
      {
       "output_type": "stream",
       "stream": "stdout",
       "text": [
        "\n",
        "probes\n",
        "solar\n",
        "mars\n",
        "images\n",
        "boost\n",
        "planets\n",
        "sail\n",
        "station\n",
        "jeff cook\n",
        "oz au\n",
        " \n",
        "Concept 47:"
       ]
      },
      {
       "output_type": "stream",
       "stream": "stdout",
       "text": [
        "\n",
        "temperature\n",
        "mining\n",
        "april\n",
        "power\n",
        "right\n",
        "spacecraft\n",
        "ucsc\n",
        "companies\n",
        "power system\n",
        "rockwell\n",
        " \n",
        "Concept 48:"
       ]
      },
      {
       "output_type": "stream",
       "stream": "stdout",
       "text": [
        "\n",
        "mining\n",
        "solar\n",
        "funding\n",
        "ucsc\n",
        "spacecraft\n",
        "venus\n",
        "pluto\n",
        "steinly\n",
        "moon\n",
        "sun\n",
        " \n",
        "Concept 49:"
       ]
      },
      {
       "output_type": "stream",
       "stream": "stdout",
       "text": [
        "\n",
        "software\n",
        "pluto\n",
        "loss\n",
        "people\n",
        "space\n",
        "level\n",
        "rights\n",
        "mining\n",
        "doug\n",
        "system\n",
        " \n",
        "Concept 50:"
       ]
      },
      {
       "output_type": "stream",
       "stream": "stdout",
       "text": [
        "\n",
        "internet\n",
        "mining\n",
        "station\n",
        "david\n",
        "spacecraft\n",
        "cost\n",
        "anything\n",
        "redesign\n",
        "servicing\n",
        "funding\n",
        " \n",
        "Concept 51:"
       ]
      },
      {
       "output_type": "stream",
       "stream": "stdout",
       "text": [
        "\n",
        "software\n",
        "spacecraft\n",
        "level\n",
        "station\n",
        "cook\n",
        "calpoly\n",
        "long\n",
        "russian\n",
        "gsfc\n",
        "field\n",
        " \n",
        "Concept 52:"
       ]
      },
      {
       "output_type": "stream",
       "stream": "stdout",
       "text": [
        "\n",
        "shuttle\n",
        "launch\n",
        "government\n",
        "space\n",
        "princeton\n",
        "vax\n",
        "hst servicing\n",
        "mars\n",
        "office\n",
        "steinly\n",
        " \n",
        "Concept 53:"
       ]
      },
      {
       "output_type": "stream",
       "stream": "stdout",
       "text": [
        "\n",
        "field\n",
        "moon\n",
        "earth\n",
        "tom\n",
        "sort\n",
        "magnetic\n",
        "already\n",
        "years\n",
        "18084tm\n",
        "msu\n",
        " \n",
        "Concept 54:"
       ]
      },
      {
       "output_type": "stream",
       "stream": "stdout",
       "text": [
        "\n",
        "april\n",
        "sequence\n",
        "antenna\n",
        "performed\n",
        "data\n",
        "degrees\n",
        "real time\n",
        "rra\n",
        "km\n",
        "test\n",
        " \n",
        "Concept 55:"
       ]
      },
      {
       "output_type": "stream",
       "stream": "stdout",
       "text": [
        "\n",
        "launch\n",
        "mars\n",
        "palmer\n",
        "face\n",
        "caltech\n",
        "cs\n",
        "proton\n",
        "sky\n",
        "light\n",
        "life\n",
        " \n",
        "Concept 56:"
       ]
      },
      {
       "output_type": "stream",
       "stream": "stdout",
       "text": [
        "\n",
        "launch\n",
        "satellite\n",
        "commercial\n",
        "space\n",
        "loss\n",
        "funding\n",
        "arrays\n",
        "fuel\n",
        "last\n",
        "dc\n",
        " \n",
        "Concept 57:"
       ]
      },
      {
       "output_type": "stream",
       "stream": "stdout",
       "text": [
        "\n",
        "probes\n",
        "solar\n",
        "probe\n",
        "venus\n",
        "comet\n",
        "kilometers\n",
        "ac\n",
        "ship\n",
        "lander\n",
        "miles\n",
        " \n",
        "Concept 58:"
       ]
      },
      {
       "output_type": "stream",
       "stream": "stdout",
       "text": [
        "\n",
        "funding\n",
        "spacecraft\n",
        "mode\n",
        "rockets\n",
        "lunar\n",
        "funding cuts\n",
        "calpoly\n",
        "right\n",
        "government\n",
        "green\n",
        " \n",
        "Concept 59:"
       ]
      },
      {
       "output_type": "stream",
       "stream": "stdout",
       "text": [
        "\n",
        "mars\n",
        "moon\n",
        "venus\n",
        "lunar\n",
        "anyone\n",
        "project\n",
        "gehrels\n",
        "larson\n",
        "sq\n",
        "know\n",
        " \n",
        "Concept 60:"
       ]
      },
      {
       "output_type": "stream",
       "stream": "stdout",
       "text": [
        "\n",
        "loss\n",
        "kilometers\n",
        "doug\n",
        "venus\n",
        "spacecraft\n",
        "magnetic field\n",
        "power\n",
        "st\n",
        "bill\n",
        "antenna\n",
        " \n",
        "Concept 61:"
       ]
      },
      {
       "output_type": "stream",
       "stream": "stdout",
       "text": [
        "\n",
        "thruster\n",
        "loss\n",
        "motors\n",
        "fix\n",
        "return\n",
        "mancus\n",
        "prize\n",
        "fund\n",
        "projects\n",
        "observatory\n",
        " \n",
        "Concept 62:"
       ]
      },
      {
       "output_type": "stream",
       "stream": "stdout",
       "text": [
        "\n",
        "magnetic field\n",
        "magnetic\n",
        "field\n",
        "drag\n",
        "earth\n",
        "dragless\n",
        "government\n",
        "term\n",
        "satellite\n",
        "paul\n",
        " \n",
        "Concept 63:"
       ]
      },
      {
       "output_type": "stream",
       "stream": "stdout",
       "text": [
        "\n",
        "palmer\n",
        "prototype\n",
        "air\n",
        "years\n",
        "software\n",
        "sfu ca\n",
        "orion\n",
        "want\n",
        "titan\n",
        "sfu\n",
        " \n",
        "Concept 64:"
       ]
      },
      {
       "output_type": "stream",
       "stream": "stdout",
       "text": [
        "\n",
        "bill\n",
        "moon\n",
        "earth\n",
        "software\n",
        "images\n",
        "magellan\n",
        "magnetic\n",
        "venus\n",
        "ftp\n",
        "government\n",
        " \n",
        "Concept 65:"
       ]
      },
      {
       "output_type": "stream",
       "stream": "stdout",
       "text": [
        "\n",
        "mars\n",
        "face\n",
        "titan\n",
        "better\n",
        "quite\n",
        "life\n",
        "observer\n",
        "larson\n",
        "mode\n",
        "subject re space\n",
        " \n",
        "Concept 66:"
       ]
      },
      {
       "output_type": "stream",
       "stream": "stdout",
       "text": [
        "\n",
        "government\n",
        "internet\n",
        "sq\n",
        "company\n",
        "power\n",
        "big\n",
        "moon\n",
        "require\n",
        "mars\n",
        "science\n",
        " \n",
        "Concept 67:"
       ]
      },
      {
       "output_type": "stream",
       "stream": "stdout",
       "text": [
        "\n",
        "launch\n",
        "rights\n",
        "mars\n",
        "satellite\n",
        "space\n",
        "commercial\n",
        "solid\n",
        "government\n",
        "venus\n",
        "support\n",
        " \n",
        "Concept 68:"
       ]
      },
      {
       "output_type": "stream",
       "stream": "stdout",
       "text": [
        "\n",
        "rights\n",
        "face\n",
        "sail\n",
        "palmer\n",
        "rockets\n",
        "mars\n",
        "images\n",
        "mine\n",
        "george\n",
        "year\n",
        " \n",
        "Concept 69:"
       ]
      },
      {
       "output_type": "stream",
       "stream": "stdout",
       "text": [
        "\n",
        "launch\n",
        "satellite\n",
        "convex\n",
        "send\n",
        "launcher\n",
        "telescope\n",
        "space\n",
        "drag\n",
        "software\n",
        "put\n",
        " \n",
        "Concept 70:"
       ]
      },
      {
       "output_type": "stream",
       "stream": "stdout",
       "text": [
        "\n",
        "dc\n",
        "sail\n",
        "solar\n",
        "solar sail\n",
        "oort\n",
        "mars\n",
        "cloud\n",
        "second\n",
        "prototype\n",
        "state\n",
        " \n",
        "Concept 71:"
       ]
      },
      {
       "output_type": "stream",
       "stream": "stdout",
       "text": [
        "\n",
        "shuttle\n",
        "uucp\n",
        "bill\n",
        "pluto\n",
        "lunar\n",
        "software\n",
        "princeton\n",
        "expensive\n",
        "payload\n",
        "jeff cook\n",
        " \n",
        "Concept 72:"
       ]
      },
      {
       "output_type": "stream",
       "stream": "stdout",
       "text": [
        "\n",
        "shuttle\n",
        "ke4zv\n",
        "temperature\n",
        "launch\n",
        "sky\n",
        "jeff\n",
        "jeff cook\n",
        "gary\n",
        "computer\n",
        "bright\n",
        " \n",
        "Concept 73:"
       ]
      },
      {
       "output_type": "stream",
       "stream": "stdout",
       "text": [
        "\n",
        "bill\n",
        "david\n",
        "solar sail\n",
        "sail\n",
        "probes\n",
        "going\n",
        "group\n",
        "tom\n",
        "globe\n",
        "projects\n",
        " \n",
        "Concept 74:"
       ]
      },
      {
       "output_type": "stream",
       "stream": "stdout",
       "text": [
        "\n",
        "solar\n",
        "sail\n",
        "project\n",
        "resources\n",
        "data\n",
        "ship\n",
        "mother ship\n",
        "jpl\n",
        "mother\n",
        "solar sail\n",
        " \n",
        "Concept 75:"
       ]
      },
      {
       "output_type": "stream",
       "stream": "stdout",
       "text": [
        "\n",
        "face\n",
        "comet\n",
        "larson\n",
        "mars\n",
        "earth\n",
        "palmer\n",
        "loss\n",
        "magnetic field\n",
        "launch\n",
        "universe\n",
        " \n",
        "Concept 76:"
       ]
      },
      {
       "output_type": "stream",
       "stream": "stdout",
       "text": [
        "\n",
        "dc\n",
        "texas\n",
        "weightlessness\n",
        "guess\n",
        "research\n",
        "faq\n",
        "prize\n",
        "point\n",
        "dragless\n",
        "planets\n",
        " \n",
        "Concept 77:"
       ]
      },
      {
       "output_type": "stream",
       "stream": "stdout",
       "text": [
        "\n",
        "moon\n",
        "surface\n",
        "need\n",
        "lunar\n",
        "palmer\n",
        "night sky\n",
        "mass\n",
        "dc\n",
        "venus\n",
        "miles\n",
        " \n",
        "Concept 78:"
       ]
      },
      {
       "output_type": "stream",
       "stream": "stdout",
       "text": [
        "\n",
        "face\n",
        "mars\n",
        "rockets\n",
        "dc\n",
        "people\n",
        "year\n",
        "government\n",
        "bruce\n",
        "said\n",
        "box\n",
        " \n",
        "Concept 79:"
       ]
      },
      {
       "output_type": "stream",
       "stream": "stdout",
       "text": [
        "\n",
        "space\n",
        "dc\n",
        "observations\n",
        "prize\n",
        "many\n",
        "made\n",
        "good\n",
        "au\n",
        "private\n",
        "mars\n",
        " \n",
        "Concept 80:"
       ]
      },
      {
       "output_type": "stream",
       "stream": "stdout",
       "text": [
        "\n",
        "dc\n",
        "mars\n",
        "face\n",
        "rockets\n",
        "life\n",
        "palmer\n",
        "gary\n",
        "mining\n",
        "gene\n",
        "uk\n",
        " \n",
        "Concept 81:"
       ]
      },
      {
       "output_type": "stream",
       "stream": "stdout",
       "text": [
        "\n",
        "dc\n",
        "bill\n",
        "moon\n",
        "uucp\n",
        "program\n",
        "right\n",
        "mass\n",
        "make\n",
        "orbital\n",
        "us\n",
        " \n",
        "Concept 82:"
       ]
      },
      {
       "output_type": "stream",
       "stream": "stdout",
       "text": [
        "\n",
        "launch\n",
        "palmer\n",
        "david\n",
        "moon\n",
        "ether\n",
        "us\n",
        "titan\n",
        "orbit\n",
        "sun\n",
        "solar\n",
        " \n",
        "Concept 83:"
       ]
      },
      {
       "output_type": "stream",
       "stream": "stdout",
       "text": [
        "\n",
        "sci space\n",
        "sci\n",
        "station\n",
        "use\n",
        "magellan\n",
        "pluto\n",
        "email\n",
        "larson\n",
        "kelvin\n",
        "space\n",
        " \n",
        "Concept 84:"
       ]
      },
      {
       "output_type": "stream",
       "stream": "stdout",
       "text": [
        "\n",
        "magellan\n",
        "cs\n",
        "venus\n",
        "available\n",
        "pat\n",
        "space 1999\n",
        "new\n",
        "100\n",
        "minus\n",
        "1999\n",
        " \n",
        "Concept 85:"
       ]
      },
      {
       "output_type": "stream",
       "stream": "stdout",
       "text": [
        "\n",
        "larson\n",
        "solar\n",
        "dc\n",
        "motion\n",
        "hst\n",
        "theory\n",
        "bruce\n",
        "marketing\n",
        "others\n",
        "universe\n",
        " \n",
        "Concept 86:"
       ]
      },
      {
       "output_type": "stream",
       "stream": "stdout",
       "text": [
        "\n",
        "shuttle\n",
        "body\n",
        "really\n",
        "find\n",
        "face\n",
        "temperature\n",
        "see\n",
        "group\n",
        "night sky\n",
        "advertising\n",
        " \n",
        "Concept 87:"
       ]
      },
      {
       "output_type": "stream",
       "stream": "stdout",
       "text": [
        "\n",
        "data\n",
        "images\n",
        "satellite\n",
        "hawking\n",
        "drag\n",
        "jpl\n",
        "gary\n",
        "market\n",
        "test\n",
        "satellites\n",
        " \n",
        "Concept 88:"
       ]
      },
      {
       "output_type": "stream",
       "stream": "stdout",
       "text": [
        "\n",
        "sci space\n",
        "sci\n",
        "space\n",
        "pat\n",
        "anything\n",
        "servicing mission\n",
        "uk\n",
        "mass\n",
        "minus\n",
        "anyone\n",
        " \n",
        "Concept 89:"
       ]
      },
      {
       "output_type": "stream",
       "stream": "stdout",
       "text": [
        "\n",
        "larson\n",
        "sail\n",
        "dc\n",
        "course\n",
        "center\n",
        "speed\n",
        "shuttle\n",
        "universe\n",
        "prize\n",
        "uk\n",
        " \n",
        "Concept 90:"
       ]
      },
      {
       "output_type": "stream",
       "stream": "stdout",
       "text": [
        "\n",
        "oort\n",
        "us\n",
        "may\n",
        "rocket\n",
        "cloud\n",
        "magellan\n",
        "night sky\n",
        "model\n",
        "50\n",
        "pluto\n",
        " \n",
        "Concept 91:"
       ]
      },
      {
       "output_type": "stream",
       "stream": "stdout",
       "text": [
        "\n",
        "dc\n",
        "magellan\n",
        "shuttle\n",
        "images\n",
        "cso\n",
        "said\n",
        "allen\n",
        "ether\n",
        "jpl\n",
        "last\n",
        " \n",
        "Concept 92:"
       ]
      },
      {
       "output_type": "stream",
       "stream": "stdout",
       "text": [
        "\n",
        "dc\n",
        "magnetic\n",
        "reason\n",
        "space marketing\n",
        "stage\n",
        "well\n",
        "large\n",
        "work\n",
        "sdio\n",
        "stuff\n",
        " \n",
        "Concept 93:"
       ]
      },
      {
       "output_type": "stream",
       "stream": "stdout",
       "text": [
        "\n",
        "dc\n",
        "hawking\n",
        "larson\n",
        "landing\n",
        "universe\n",
        "two\n",
        "light\n",
        "state\n",
        "ca\n",
        "george krumins\n",
        " \n",
        "Concept 94:"
       ]
      },
      {
       "output_type": "stream",
       "stream": "stdout",
       "text": [
        "\n",
        "larson\n",
        "spacecraft\n",
        "ftp\n",
        "theory\n",
        "mode\n",
        "hst\n",
        "pluto\n",
        "mass\n",
        "pounds\n",
        "funding\n",
        " \n",
        "Concept 95:"
       ]
      },
      {
       "output_type": "stream",
       "stream": "stdout",
       "text": [
        "\n",
        "shuttle\n",
        "orbital\n",
        "want\n",
        "face\n",
        "get\n",
        "magnetic field\n",
        "mission\n",
        "could\n",
        "astronaut\n",
        "base\n",
        " \n",
        "Concept 96:"
       ]
      },
      {
       "output_type": "stream",
       "stream": "stdout",
       "text": [
        "\n",
        "data\n",
        "shuttle\n",
        "magellan\n",
        "sci\n",
        "list\n",
        "center\n",
        "solar\n",
        "sail\n",
        "gary\n",
        "question\n",
        " \n",
        "Concept 97:"
       ]
      },
      {
       "output_type": "stream",
       "stream": "stdout",
       "text": [
        "\n",
        "data\n",
        "program\n",
        "gif\n",
        "douglas\n",
        "heard\n",
        "balloon\n",
        "ftp\n",
        "system\n",
        "sdio\n",
        "gsfc\n",
        " \n",
        "Concept 98:"
       ]
      },
      {
       "output_type": "stream",
       "stream": "stdout",
       "text": [
        "\n",
        "images\n",
        "system\n",
        "cost\n",
        "computer\n",
        "money\n",
        "tom\n",
        "18084tm\n",
        "msu\n",
        "science\n",
        "work\n",
        " \n",
        "Concept 99:"
       ]
      },
      {
       "output_type": "stream",
       "stream": "stdout",
       "text": [
        "\n",
        "ray\n",
        "want\n",
        "shuttle\n",
        "commercial\n",
        "moon\n",
        "prize\n",
        "drag\n",
        "ac\n",
        "spacecraft\n",
        "satellites\n",
        " \n",
        "Concept 100:"
       ]
      },
      {
       "output_type": "stream",
       "stream": "stdout",
       "text": [
        "\n",
        "larson\n",
        "theory\n",
        "universe\n",
        "rockets\n",
        "systems\n",
        "term\n",
        "design\n",
        "physical universe\n",
        "big\n",
        "aerospace\n",
        " \n",
        "Concept 101:"
       ]
      },
      {
       "output_type": "stream",
       "stream": "stdout",
       "text": [
        "\n",
        "larson\n",
        "telescope\n",
        "able\n",
        "satellite\n",
        "david\n",
        "hst\n",
        "infrared\n",
        "general\n",
        "moon\n",
        "right\n",
        " \n",
        "Concept 102:"
       ]
      },
      {
       "output_type": "stream",
       "stream": "stdout",
       "text": [
        "\n",
        "dc\n",
        "larson\n",
        "mars\n",
        "observer\n",
        "may\n",
        "00\n",
        "team\n",
        "data\n",
        "ray\n",
        "possible\n",
        " \n",
        "Concept 103:"
       ]
      },
      {
       "output_type": "stream",
       "stream": "stdout",
       "text": [
        "\n",
        "dc\n",
        "lunar\n",
        "re space\n",
        "probes\n",
        "shuttle\n",
        "sail\n",
        "area\n",
        "magellan\n",
        "night\n",
        "cmu\n",
        " \n",
        "Concept 104:"
       ]
      },
      {
       "output_type": "stream",
       "stream": "stdout",
       "text": [
        "\n",
        "launch\n",
        "field\n",
        "observations\n",
        "gary\n",
        "public\n",
        "pat writes\n",
        "reward\n",
        "news\n",
        "ke4zv\n",
        "bitnet\n",
        " \n",
        "Concept 105:"
       ]
      },
      {
       "output_type": "stream",
       "stream": "stdout",
       "text": [
        "\n",
        "dc\n",
        "moon\n",
        "astronaut\n",
        "mission\n",
        "shuttle\n",
        "military\n",
        "program\n",
        "magellan\n",
        "degrees\n",
        "orbiter\n",
        " \n",
        "Concept 106:"
       ]
      },
      {
       "output_type": "stream",
       "stream": "stdout",
       "text": [
        "\n",
        "ether\n",
        "sun\n",
        "spacecraft\n",
        "sirtf\n",
        "said\n",
        "reality\n",
        "person\n",
        "agree\n",
        "spin\n",
        "means\n",
        " \n",
        "Concept 107:"
       ]
      },
      {
       "output_type": "stream",
       "stream": "stdout",
       "text": [
        "\n",
        "uk\n",
        "one\n",
        "astronaut\n",
        "couldn\n",
        "bit\n",
        "apr\n",
        "mission\n",
        "go\n",
        "gets\n",
        "ac\n",
        " \n",
        "Concept 108:"
       ]
      },
      {
       "output_type": "stream",
       "stream": "stdout",
       "text": [
        "\n",
        "launch\n",
        "images\n",
        "costs\n",
        "sun\n",
        "gif\n",
        "air\n",
        "satellites\n",
        "00\n",
        "internet\n",
        "saturn\n",
        " \n",
        "Concept 109:"
       ]
      },
      {
       "output_type": "stream",
       "stream": "stdout",
       "text": [
        "\n",
        "nick\n",
        "ray\n",
        "hawking\n",
        "point\n",
        "fred\n",
        "probe\n",
        "apr\n",
        "faq\n",
        "issue\n",
        "project\n",
        " \n",
        "Concept 110:"
       ]
      },
      {
       "output_type": "stream",
       "stream": "stdout",
       "text": [
        "\n",
        "may\n",
        "ftp\n",
        "larson\n",
        "nick\n",
        "loss\n",
        "radio\n",
        "theory\n",
        "pub\n",
        "mind\n",
        "elements\n",
        " \n",
        "Concept 111:"
       ]
      },
      {
       "output_type": "stream",
       "stream": "stdout",
       "text": [
        "\n",
        "cmu\n",
        "ca\n",
        "power\n",
        "flights\n",
        "stars\n",
        "cs cmu\n",
        "jupiter\n",
        "lab\n",
        "program\n",
        "short\n",
        " \n",
        "Concept 112:"
       ]
      },
      {
       "output_type": "stream",
       "stream": "stdout",
       "text": [
        "\n",
        "dc\n",
        "back\n",
        "prize\n",
        "billion\n",
        "nick\n",
        "market\n",
        "comet\n",
        "launch\n",
        "magnetic\n",
        "magnetic field\n",
        " \n",
        "Concept 113:"
       ]
      },
      {
       "output_type": "stream",
       "stream": "stdout",
       "text": [
        "\n",
        "magellan\n",
        "three\n",
        "venus\n",
        "cs\n",
        "rocket\n",
        "base\n",
        "list\n",
        "russian\n",
        "life\n",
        "science\n",
        " \n",
        "Concept 114:"
       ]
      },
      {
       "output_type": "stream",
       "stream": "stdout",
       "text": [
        "\n",
        "propulsion\n",
        "nick\n",
        "fred\n",
        "sirtf\n",
        "references\n",
        "put\n",
        "lunar\n",
        "energy\n",
        "spacecraft\n",
        "design\n",
        " \n",
        "Concept 115:"
       ]
      },
      {
       "output_type": "stream",
       "stream": "stdout",
       "text": [
        "\n",
        "nick\n",
        "observer\n",
        "mars observer\n",
        "ac\n",
        "team\n",
        "get\n",
        "jpl\n",
        "answer\n",
        "report\n",
        "need\n",
        " \n",
        "Concept 116:"
       ]
      },
      {
       "output_type": "stream",
       "stream": "stdout",
       "text": [
        "\n",
        "dc\n",
        "venus\n",
        "radio\n",
        "planet\n",
        "ether\n",
        "single\n",
        "something like\n",
        "propulsion\n",
        "greg\n",
        "ca\n",
        " \n",
        "Concept 117:"
       ]
      },
      {
       "output_type": "stream",
       "stream": "stdout",
       "text": [
        "\n",
        "uk\n",
        "mars\n",
        "build\n",
        "send\n",
        "original\n",
        "orbital\n",
        "place\n",
        "like\n",
        "little\n",
        "funding\n",
        " \n",
        "Concept 118:"
       ]
      },
      {
       "output_type": "stream",
       "stream": "stdout",
       "text": [
        "\n",
        "shuttle\n",
        "flight\n",
        "object\n",
        "need\n",
        "cloud\n",
        "satellites\n",
        "base\n",
        "mars observer\n",
        "propulsion system\n",
        "mode\n",
        " \n",
        "Concept 119:"
       ]
      },
      {
       "output_type": "stream",
       "stream": "stdout",
       "text": [
        "\n",
        "nick\n",
        "fred\n",
        "capability\n",
        "moon\n",
        "palmer\n",
        "close\n",
        "started\n",
        "astronaut\n",
        "nasa\n",
        "data\n",
        " \n",
        "Concept 120:"
       ]
      },
      {
       "output_type": "stream",
       "stream": "stdout",
       "text": [
        "\n",
        "telescope\n",
        "ca\n",
        "word\n",
        "astronaut\n",
        "palmer\n",
        "acronyms\n",
        "prefix\n",
        "national\n",
        "research\n",
        "billion\n",
        " \n",
        "Concept 121:"
       ]
      },
      {
       "output_type": "stream",
       "stream": "stdout",
       "text": [
        "\n",
        "nick\n",
        "fred\n",
        "day\n",
        "spacecraft\n",
        "news\n",
        "government\n",
        "billboard\n",
        "au\n",
        "planet\n",
        "cs\n",
        " \n",
        "Concept 122:"
       ]
      },
      {
       "output_type": "stream",
       "stream": "stdout",
       "text": [
        "\n",
        "launch\n",
        "drag\n",
        "right\n",
        "probably\n",
        "probe\n",
        "images\n",
        "moon\n",
        "satellites\n",
        "satellite\n",
        "de\n",
        " \n",
        "Concept 123:"
       ]
      },
      {
       "output_type": "stream",
       "stream": "stdout",
       "text": [
        "\n",
        "launch\n",
        "possible\n",
        "better\n",
        "accelerations\n",
        "allen\n",
        "ssto\n",
        "space shuttle\n",
        "mars\n",
        "acceleration\n",
        "satellite\n",
        " \n",
        "Concept 124:"
       ]
      },
      {
       "output_type": "stream",
       "stream": "stdout",
       "text": [
        "\n",
        "hawking\n",
        "five\n",
        "propulsion\n",
        "flight\n",
        "robert\n",
        "launch\n",
        "land\n",
        "expensive\n",
        "david\n",
        "mars\n",
        " \n",
        "Concept 125:"
       ]
      },
      {
       "output_type": "stream",
       "stream": "stdout",
       "text": [
        "\n",
        "guess\n",
        "money\n",
        "caltech\n",
        "mass\n",
        "based\n",
        "government\n",
        "station\n",
        "think\n",
        "commercial\n",
        "moon\n",
        " \n",
        "Concept 126:"
       ]
      },
      {
       "output_type": "stream",
       "stream": "stdout",
       "text": [
        "\n",
        "projections\n",
        "software\n",
        "org\n",
        "systems\n",
        "map projections\n",
        "use\n",
        "system\n",
        "body\n",
        "different\n",
        "reason\n",
        " \n",
        "Concept 127:"
       ]
      },
      {
       "output_type": "stream",
       "stream": "stdout",
       "text": [
        "\n",
        "center\n",
        "us\n",
        "washington\n",
        "research\n",
        "something like\n",
        "tom\n",
        "maybe\n",
        "high\n",
        "bitnet\n",
        "earth\n",
        " \n",
        "Concept 128:"
       ]
      },
      {
       "output_type": "stream",
       "stream": "stdout",
       "text": [
        "\n",
        "nick\n",
        "astronomy\n",
        "mission\n",
        "gif\n",
        "shuttle\n",
        "launch\n",
        "program\n",
        "jupiter\n",
        "images\n",
        "planet\n",
        " \n",
        "Concept 129:"
       ]
      },
      {
       "output_type": "stream",
       "stream": "stdout",
       "text": [
        "\n",
        "astronaut\n",
        "13\n",
        "candidates\n",
        "degrees\n",
        "agree\n",
        "life\n",
        "different\n",
        "gehrels\n",
        "access pat writes\n",
        "year\n",
        " \n",
        "Concept 130:"
       ]
      },
      {
       "output_type": "stream",
       "stream": "stdout",
       "text": [
        "\n",
        "pluto\n",
        "access pat writes\n",
        "spacecraft\n",
        "uk\n",
        "moon\n",
        "hawking\n",
        "mars observer\n",
        "access\n",
        "wright\n",
        "news software\n",
        " \n",
        "Concept 131:"
       ]
      },
      {
       "output_type": "stream",
       "stream": "stdout",
       "text": [
        "\n",
        "mars\n",
        "cost\n",
        "dc\n",
        "mankato\n",
        "station\n",
        "shuttle\n",
        "hawking\n",
        "working\n",
        "thought\n",
        "servicing\n",
        " \n",
        "Concept 132:"
       ]
      },
      {
       "output_type": "stream",
       "stream": "stdout",
       "text": [
        "\n",
        "read\n",
        "research\n",
        "boeing\n",
        "data\n",
        "many\n",
        "center\n",
        "government\n",
        "light\n",
        "___ ___\n",
        "gun\n",
        " \n",
        "Concept 133:"
       ]
      },
      {
       "output_type": "stream",
       "stream": "stdout",
       "text": [
        "\n",
        "dc\n",
        "servicing\n",
        "dock\n",
        "launch\n",
        "000\n",
        "life\n",
        "center\n",
        "sail\n",
        "ground\n",
        "facility\n",
        " \n",
        "Concept 134:"
       ]
      },
      {
       "output_type": "stream",
       "stream": "stdout",
       "text": [
        "\n",
        "development\n",
        "data\n",
        "accelerations\n",
        "jsc\n",
        "large\n",
        "matthew\n",
        "temperature\n",
        "lunar\n",
        "small\n",
        "ac\n",
        " \n",
        "Concept 135:"
       ]
      },
      {
       "output_type": "stream",
       "stream": "stdout",
       "text": [
        "\n",
        "balloon\n",
        "us\n",
        "build\n",
        "satellite\n",
        "ca\n",
        "jpl\n",
        "astronaut\n",
        "military\n",
        "source\n",
        "15\n",
        " \n",
        "Concept 136:"
       ]
      },
      {
       "output_type": "stream",
       "stream": "stdout",
       "text": [
        "\n",
        "power\n",
        "shuttle\n",
        "fuel\n",
        "griffin\n",
        "data\n",
        "available\n",
        "satellite\n",
        "lunar\n",
        "privately\n",
        "someone\n",
        " \n",
        "Concept 137:"
       ]
      },
      {
       "output_type": "stream",
       "stream": "stdout",
       "text": [
        "\n",
        "moon\n",
        "ac\n",
        "au\n",
        "government\n",
        "shuttle\n",
        "us\n",
        "research\n",
        "lunar\n",
        "rocket\n",
        "site\n",
        " \n",
        "Concept 138:"
       ]
      },
      {
       "output_type": "stream",
       "stream": "stdout",
       "text": [
        "\n",
        "dc\n",
        "energy\n",
        "list\n",
        "mind\n",
        "uk\n",
        "know\n",
        "space shuttle\n",
        "shuttle\n",
        "sci\n",
        "say\n",
        " \n",
        "Concept 139:"
       ]
      },
      {
       "output_type": "stream",
       "stream": "stdout",
       "text": [
        "\n",
        "project\n",
        "rather\n",
        "support\n",
        "moon\n",
        "images\n",
        "government\n",
        "rocket\n",
        "titan\n",
        "saturn\n",
        "iti org\n",
        " \n",
        "Concept 140:"
       ]
      },
      {
       "output_type": "stream",
       "stream": "stdout",
       "text": [
        "\n",
        "center\n",
        "oxygen\n",
        "read\n",
        "propulsion\n",
        "try\n",
        "mercury\n",
        "nasa\n",
        "servicing\n",
        "land\n",
        "lines 11\n",
        " \n",
        "Concept 141:"
       ]
      },
      {
       "output_type": "stream",
       "stream": "stdout",
       "text": [
        "\n",
        "government\n",
        "palmer\n",
        "ssf\n",
        "cost\n",
        "time\n",
        "10\n",
        "30\n",
        "said\n",
        "able\n",
        "titan\n",
        " \n",
        "Concept 142:"
       ]
      },
      {
       "output_type": "stream",
       "stream": "stdout",
       "text": [
        "\n",
        "magellan\n",
        "sirtf\n",
        "system\n",
        "org\n",
        "dc\n",
        "command\n",
        "still\n",
        "oz\n",
        "images\n",
        "night sky\n",
        " \n",
        "Concept 143:"
       ]
      },
      {
       "output_type": "stream",
       "stream": "stdout",
       "text": [
        "\n",
        "data\n",
        "sirtf\n",
        "astronomy\n",
        "hawking\n",
        "vega\n",
        "said\n",
        "launch\n",
        "pluto\n",
        "au\n",
        "human\n",
        " \n",
        "Concept 144:"
       ]
      },
      {
       "output_type": "stream",
       "stream": "stdout",
       "text": [
        "\n",
        "posts\n",
        "list\n",
        "sirtf\n",
        "five\n",
        "million\n",
        "part\n",
        "around\n",
        "rimsat\n",
        "means\n",
        "said\n",
        " \n",
        "Concept 145:"
       ]
      },
      {
       "output_type": "stream",
       "stream": "stdout",
       "text": [
        "\n",
        "bill\n",
        "flight\n",
        "rights\n",
        "engineering\n",
        "___\n",
        "mary\n",
        "__\n",
        "dc\n",
        "resembles\n",
        "lot\n",
        " \n",
        "Concept 146:"
       ]
      },
      {
       "output_type": "stream",
       "stream": "stdout",
       "text": [
        "\n",
        "rimsat\n",
        "21\n",
        "gun\n",
        "ll\n",
        "sternberg\n",
        "others\n",
        "boeing\n",
        "live\n",
        "venus\n",
        "bursters\n",
        " \n",
        "Concept 147:"
       ]
      },
      {
       "output_type": "stream",
       "stream": "stdout",
       "text": [
        "\n",
        "sirtf\n",
        "planets\n",
        "werner\n",
        "rights\n",
        "new\n",
        "military\n",
        "sf\n",
        "orbit\n",
        "caltech\n",
        "fact\n",
        " \n",
        "Concept 148:"
       ]
      },
      {
       "output_type": "stream",
       "stream": "stdout",
       "text": [
        "\n",
        "solar\n",
        "funding\n",
        "another\n",
        "posts\n",
        "way\n",
        "center\n",
        "got\n",
        "mass\n",
        "spacecraft\n",
        "lot\n",
        " \n",
        "Concept 149:"
       ]
      },
      {
       "output_type": "stream",
       "stream": "stdout",
       "text": [
        "\n",
        "technology\n",
        "flyby\n",
        "mark\n",
        "first\n",
        "propulsion\n",
        "power\n",
        "probe\n",
        "palmer\n",
        "wouldn\n",
        "ac uk\n",
        " \n",
        "Concept 150:"
       ]
      },
      {
       "output_type": "stream",
       "stream": "stdout",
       "text": [
        "\n",
        "mission\n",
        "station\n",
        "lunar\n",
        "five\n",
        "volume\n",
        "technical\n",
        "ray\n",
        "scott\n",
        "ozone\n",
        "scheduled\n",
        " \n",
        "Concept 151:"
       ]
      },
      {
       "output_type": "stream",
       "stream": "stdout",
       "text": [
        "\n",
        "balloon\n",
        "venus\n",
        "mail\n",
        "vega\n",
        "good\n",
        "allen\n",
        "exploration\n",
        "telescope\n",
        "soviet\n",
        "case\n",
        " \n",
        "Concept 152:"
       ]
      },
      {
       "output_type": "stream",
       "stream": "stdout",
       "text": [
        "\n",
        "moon\n",
        "shuttle\n",
        "subject re space\n",
        "program\n",
        "white\n",
        "public\n",
        "interesting\n",
        "22\n",
        "balloon\n",
        "lunar\n",
        " \n",
        "Concept 153:"
       ]
      },
      {
       "output_type": "stream",
       "stream": "stdout",
       "text": [
        "\n",
        "shuttle\n",
        "comet\n",
        "probe\n",
        "current\n",
        "software\n",
        "000\n",
        "another\n",
        "sirtf\n",
        "lab\n",
        "titan\n",
        " \n",
        "Concept 154:"
       ]
      },
      {
       "output_type": "stream",
       "stream": "stdout",
       "text": [
        "\n",
        "uk\n",
        "us\n",
        "10\n",
        "life\n",
        "expensive\n",
        "might\n",
        "convex\n",
        "based\n",
        "jsc\n",
        "venus\n",
        " \n",
        "Concept 155:"
       ]
      },
      {
       "output_type": "stream",
       "stream": "stdout",
       "text": [
        "\n",
        "orbit\n",
        "30\n",
        "station\n",
        "advertising\n",
        "jeff\n",
        "radio\n",
        "kilometers\n",
        "000\n",
        "skndiv\n",
        "made\n",
        " \n",
        "Concept 156:"
       ]
      },
      {
       "output_type": "stream",
       "stream": "stdout",
       "text": [
        "\n",
        "radio\n",
        "shuttle\n",
        "vlbi\n",
        "prize\n",
        "space vlbi\n",
        "based\n",
        "smith\n",
        "get\n",
        "data\n",
        "political\n",
        " \n",
        "Concept 157:"
       ]
      },
      {
       "output_type": "stream",
       "stream": "stdout",
       "text": [
        "\n",
        "sirtf\n",
        "werner\n",
        "project\n",
        "orbit\n",
        "stage\n",
        "isu\n",
        "said\n",
        "14\n",
        "enough\n",
        "soviet\n",
        " \n",
        "Concept 158:"
       ]
      },
      {
       "output_type": "stream",
       "stream": "stdout",
       "text": [
        "\n",
        "said\n",
        "million\n",
        "balloon\n",
        "stuff\n",
        "sirtf\n",
        "observations\n",
        "speed\n",
        "princeton\n",
        "try\n",
        "figure\n",
        " \n",
        "Concept 159:"
       ]
      },
      {
       "output_type": "stream",
       "stream": "stdout",
       "text": [
        "\n",
        "energy\n",
        "sirtf\n",
        "sky\n",
        "mission\n",
        "000\n",
        "drag\n",
        "temperature\n",
        "aurora alaska\n",
        "earth\n",
        "shuttle\n",
        " \n",
        "Concept 160:"
       ]
      },
      {
       "output_type": "stream",
       "stream": "stdout",
       "text": [
        "\n",
        "said\n",
        "get\n",
        "flight\n",
        "spacecraft\n",
        "funding\n",
        "mission\n",
        "sirtf\n",
        "lunar\n",
        "question\n",
        "org\n",
        " \n",
        "Concept 161:"
       ]
      },
      {
       "output_type": "stream",
       "stream": "stdout",
       "text": [
        "\n",
        "dc\n",
        "put\n",
        "moon\n",
        "ke4zv\n",
        "questions\n",
        "question\n",
        "satellite\n",
        "seem\n",
        "mccall\n",
        "well\n",
        " \n",
        "Concept 162:"
       ]
      },
      {
       "output_type": "stream",
       "stream": "stdout",
       "text": [
        "\n",
        "new\n",
        "planet\n",
        "observations\n",
        "system\n",
        "level\n",
        "technology\n",
        "projects\n",
        "email\n",
        "satellites\n",
        "world\n",
        " \n",
        "Concept 163:"
       ]
      },
      {
       "output_type": "stream",
       "stream": "stdout",
       "text": [
        "\n",
        "sci\n",
        "jupiter\n",
        "spacecraft\n",
        "ca\n",
        "solar system\n",
        "sun\n",
        "return\n",
        "atmosphere\n",
        "second\n",
        "years\n",
        " \n",
        "Concept 164:"
       ]
      },
      {
       "output_type": "stream",
       "stream": "stdout",
       "text": [
        "\n",
        "sirtf\n",
        "miles\n",
        "venus\n",
        "never\n",
        "radar\n",
        "seem\n",
        "commercial\n",
        "org\n",
        "talking\n",
        "faq\n",
        " \n",
        "Concept 165:"
       ]
      },
      {
       "output_type": "stream",
       "stream": "stdout",
       "text": [
        "\n",
        "sirtf\n",
        "times\n",
        "idea\n",
        "moon\n",
        "russian\n",
        "unless\n",
        "think\n",
        "life\n",
        "cost\n",
        "reward\n",
        " \n",
        "Concept 166:"
       ]
      },
      {
       "output_type": "stream",
       "stream": "stdout",
       "text": [
        "\n",
        "office\n",
        "center\n",
        "first\n",
        "mass\n",
        "000\n",
        "wrong\n",
        "many\n",
        "prize\n",
        "everyone\n",
        "radar\n",
        " \n",
        "Concept 167:"
       ]
      },
      {
       "output_type": "stream",
       "stream": "stdout",
       "text": [
        "\n",
        "station\n",
        "sun\n",
        "planet\n",
        "atmosphere\n",
        "times\n",
        "orbital\n",
        "facility\n",
        "space station\n",
        "earth\n",
        "galileo\n",
        " \n",
        "Concept 168:"
       ]
      },
      {
       "output_type": "stream",
       "stream": "stdout",
       "text": [
        "\n",
        "observations\n",
        "advertising\n",
        "moon\n",
        "aurora\n",
        "mass\n",
        "access pat writes\n",
        "astronaut\n",
        "even\n",
        "ever\n",
        "org\n",
        " \n",
        "Concept 169:"
       ]
      },
      {
       "output_type": "stream",
       "stream": "stdout",
       "text": [
        "\n",
        "software\n",
        "spacecraft\n",
        "propulsion laboratory\n",
        "radio\n",
        "cs\n",
        "vlbi\n",
        "ideas\n",
        "system\n",
        "space vlbi\n",
        "residents\n",
        " \n",
        "Concept 170:"
       ]
      },
      {
       "output_type": "stream",
       "stream": "stdout",
       "text": [
        "\n",
        "ac\n",
        "18\n",
        "convex\n",
        "1993\n",
        "23\n",
        "ron baalke\n",
        "speed\n",
        "agree\n",
        "question\n",
        "help\n",
        " \n",
        "Concept 171:"
       ]
      },
      {
       "output_type": "stream",
       "stream": "stdout",
       "text": [
        "\n",
        "pluto\n",
        "vehicle\n",
        "degrees\n",
        "seem\n",
        "magellan\n",
        "wrong\n",
        "orbit\n",
        "process\n",
        "found\n",
        "22\n",
        " \n",
        "Concept 172:"
       ]
      },
      {
       "output_type": "stream",
       "stream": "stdout",
       "text": [
        "\n",
        "sure\n",
        "balloon\n",
        "night\n",
        "model\n",
        "software\n",
        "think\n",
        "heard\n",
        "models\n",
        "__\n",
        "fly\n",
        " \n",
        "Concept 173:"
       ]
      },
      {
       "output_type": "stream",
       "stream": "stdout",
       "text": [
        "\n",
        "moon\n",
        "vlbi\n",
        "radio\n",
        "mars\n",
        "government\n",
        "jpl\n",
        "even\n",
        "data\n",
        "space vlbi\n",
        "plan\n",
        " \n",
        "Concept 174:"
       ]
      },
      {
       "output_type": "stream",
       "stream": "stdout",
       "text": [
        "\n",
        "jupiter\n",
        "years\n",
        "astro\n",
        "10\n",
        "shuttle\n",
        "us\n",
        "saturn\n",
        "ago\n",
        "able\n",
        "tax\n",
        " \n",
        "Concept 175:"
       ]
      },
      {
       "output_type": "stream",
       "stream": "stdout",
       "text": [
        "\n",
        "sirtf\n",
        "titan\n",
        "satellites\n",
        "several\n",
        "shuttle\n",
        "cs cmu\n",
        "order\n",
        "michael\n",
        "cso\n",
        "pluto\n",
        " \n",
        "Concept 176:"
       ]
      },
      {
       "output_type": "stream",
       "stream": "stdout",
       "text": [
        "\n",
        "called\n",
        "washington\n",
        "software\n",
        "groups\n",
        "space station\n",
        "probe\n",
        "___\n",
        "found\n",
        "pretty\n",
        "paul\n",
        " \n",
        "Concept 177:"
       ]
      },
      {
       "output_type": "stream",
       "stream": "stdout",
       "text": [
        "\n",
        "launch\n",
        "sirtf\n",
        "sci\n",
        "may\n",
        "mean\n",
        "read\n",
        "ames\n",
        "1993\n",
        "paul\n",
        "sun\n",
        " \n",
        "Concept 178:"
       ]
      },
      {
       "output_type": "stream",
       "stream": "stdout",
       "text": [
        "\n",
        "project\n",
        "mark\n",
        "ssf\n",
        "tom\n",
        "small\n",
        "observations\n",
        "propulsion\n",
        "us\n",
        "apr\n",
        "13\n",
        " \n",
        "Concept 179:"
       ]
      },
      {
       "output_type": "stream",
       "stream": "stdout",
       "text": [
        "\n",
        "solar\n",
        "degrees\n",
        "sun\n",
        "org\n",
        "remember\n",
        "try\n",
        "process\n",
        "money\n",
        "within\n",
        "mark\n",
        " \n",
        "Concept 180:"
       ]
      },
      {
       "output_type": "stream",
       "stream": "stdout",
       "text": [
        "\n",
        "problems\n",
        "without\n",
        "prize\n",
        "ll\n",
        "engines\n",
        "actually\n",
        "get\n",
        "data\n",
        "political\n",
        "market\n",
        " \n",
        "Concept 181:"
       ]
      },
      {
       "output_type": "stream",
       "stream": "stdout",
       "text": [
        "\n",
        "control\n",
        "use\n",
        "internet\n",
        "hawking\n",
        "right\n",
        "venus\n",
        "message\n",
        "paul\n",
        "cs cmu\n",
        "satellites\n",
        " \n",
        "Concept 182:"
       ]
      },
      {
       "output_type": "stream",
       "stream": "stdout",
       "text": [
        "\n",
        "pluto\n",
        "mission\n",
        "planet\n",
        "david\n",
        "launched\n",
        "care\n",
        "93\n",
        "gary\n",
        "drag\n",
        "oh\n",
        " \n",
        "Concept 183:"
       ]
      },
      {
       "output_type": "stream",
       "stream": "stdout",
       "text": [
        "\n",
        "real\n",
        "without\n",
        "report\n",
        "sun\n",
        "said\n",
        "really\n",
        "solar\n",
        "may\n",
        "pay\n",
        "convex\n",
        " \n",
        "Concept 184:"
       ]
      },
      {
       "output_type": "stream",
       "stream": "stdout",
       "text": [
        "\n",
        "said\n",
        "pluto\n",
        "sirtf\n",
        "washington\n",
        "work\n",
        "jeff\n",
        "nasa\n",
        "prize\n",
        "question\n",
        "simply\n",
        " \n",
        "Concept 185:"
       ]
      },
      {
       "output_type": "stream",
       "stream": "stdout",
       "text": [
        "\n",
        "__\n",
        "___\n",
        "shuttle\n",
        "end\n",
        "may\n",
        "uk\n",
        "_____\n",
        "national\n",
        "mass\n",
        "rocket\n",
        " \n",
        "Concept 186:"
       ]
      },
      {
       "output_type": "stream",
       "stream": "stdout",
       "text": [
        "\n",
        "probe\n",
        "mariner\n",
        "images\n",
        "first\n",
        "luna\n",
        "interstellar\n",
        "information\n",
        "want\n",
        "probes\n",
        "order\n",
        " \n",
        "Concept 187:"
       ]
      },
      {
       "output_type": "stream",
       "stream": "stdout",
       "text": [
        "\n",
        "moon\n",
        "rights\n",
        "sirtf\n",
        "bill\n",
        "dc\n",
        "17\n",
        "vax1\n",
        "org\n",
        "washington\n",
        "cost\n",
        " \n",
        "Concept 188:"
       ]
      },
      {
       "output_type": "stream",
       "stream": "stdout",
       "text": [
        "\n",
        "high speed\n",
        "billboard\n",
        "space shuttle\n",
        "else\n",
        "seems\n",
        "miles\n",
        "spacecraft\n",
        "lot\n",
        "lines 12\n",
        "place\n",
        " \n",
        "Concept 189:"
       ]
      },
      {
       "output_type": "stream",
       "stream": "stdout",
       "text": [
        "\n",
        "assume\n",
        "got\n",
        "1992\n",
        "part\n",
        "questions\n",
        "bit\n",
        "state\n",
        "sensing\n",
        "least\n",
        "25\n",
        " \n",
        "Concept 190:"
       ]
      },
      {
       "output_type": "stream",
       "stream": "stdout",
       "text": [
        "\n",
        "quite\n",
        "second\n",
        "process\n",
        "mission\n",
        "found\n",
        "overhead\n",
        "sure\n",
        "money\n",
        "got\n",
        "ac\n",
        " \n",
        "Concept 191:"
       ]
      },
      {
       "output_type": "stream",
       "stream": "stdout",
       "text": [
        "\n",
        "place\n",
        "course\n",
        "question\n",
        "sirtf\n",
        "project\n",
        "support\n",
        "found\n",
        "land\n",
        "military\n",
        "gets\n",
        " \n",
        "Concept 192:"
       ]
      },
      {
       "output_type": "stream",
       "stream": "stdout",
       "text": [
        "\n",
        "14\n",
        "pluto\n",
        "cost\n",
        "please\n",
        "still\n",
        "nuclear\n",
        "get\n",
        "planet\n",
        "news\n",
        "others\n",
        " \n",
        "Concept 193:"
       ]
      },
      {
       "output_type": "stream",
       "stream": "stdout",
       "text": [
        "\n",
        "mass\n",
        "orbit\n",
        "drag\n",
        "dark\n",
        "princeton\n",
        "pluto\n",
        "actually\n",
        "must\n",
        "power\n",
        "faq\n",
        " \n",
        "Concept 194:"
       ]
      },
      {
       "output_type": "stream",
       "stream": "stdout",
       "text": [
        "\n",
        "drag\n",
        "ca\n",
        "satellites\n",
        "years\n",
        "pluto\n",
        "back\n",
        "planet\n",
        "payload\n",
        "velocity\n",
        "believe\n",
        " \n",
        "Concept 195:"
       ]
      },
      {
       "output_type": "stream",
       "stream": "stdout",
       "text": [
        "\n",
        "moon\n",
        "around\n",
        "12\n",
        "balloon\n",
        "100\n",
        "didn\n",
        "various\n",
        "bill\n",
        "original\n",
        "comet\n",
        " \n",
        "Concept 196:"
       ]
      },
      {
       "output_type": "stream",
       "stream": "stdout",
       "text": [
        "\n",
        "government\n",
        "titan\n",
        "big\n",
        "000\n",
        "national\n",
        "make\n",
        "military\n",
        "radar\n",
        "little\n",
        "post\n",
        " \n",
        "Concept 197:"
       ]
      },
      {
       "output_type": "stream",
       "stream": "stdout",
       "text": [
        "\n",
        "system\n",
        "long\n",
        "___\n",
        "email\n",
        "tom\n",
        "sci\n",
        "__\n",
        "rights\n",
        "organization university\n",
        "couple\n",
        " \n",
        "Concept 198:"
       ]
      },
      {
       "output_type": "stream",
       "stream": "stdout",
       "text": [
        "\n",
        "__\n",
        "planet\n",
        "boeing\n",
        "13\n",
        "___\n",
        "idea\n",
        "part\n",
        "think\n",
        "20\n",
        "recent\n",
        " \n",
        "Concept 199:"
       ]
      },
      {
       "output_type": "stream",
       "stream": "stdout",
       "text": [
        "\n",
        "people\n",
        "drag\n",
        "questions\n",
        "funding\n",
        "flyby\n",
        "large\n",
        "moon\n",
        "much\n",
        "solar arrays\n",
        "general\n",
        " \n",
        "Concept 200:"
       ]
      },
      {
       "output_type": "stream",
       "stream": "stdout",
       "text": [
        "\n",
        "program\n",
        "observations\n",
        "shuttle\n",
        "science\n",
        "material\n",
        "space shuttle\n",
        "college\n",
        "shafer\n",
        "astronomy\n",
        "22\n",
        " \n",
        "Concept 201:"
       ]
      },
      {
       "output_type": "stream",
       "stream": "stdout",
       "text": [
        "\n",
        "government\n",
        "galileo\n",
        "possible\n",
        "titan\n",
        "world\n",
        "fuel\n",
        "air\n",
        "life\n",
        "research\n",
        "redesign\n",
        " \n",
        "Concept 202:"
       ]
      },
      {
       "output_type": "stream",
       "stream": "stdout",
       "text": [
        "\n",
        "maybe\n",
        "au\n",
        "days\n",
        "comet\n",
        "1993\n",
        "10\n",
        "hopkins\n",
        "saturn\n",
        "boost\n",
        "apr\n",
        " \n",
        "Concept 203:"
       ]
      },
      {
       "output_type": "stream",
       "stream": "stdout",
       "text": [
        "\n",
        "moon\n",
        "galileo\n",
        "observations\n",
        "venus\n",
        "support\n",
        "___\n",
        "billboard\n",
        "pat writes\n",
        "government\n",
        "15\n",
        " \n",
        "Concept 204:"
       ]
      },
      {
       "output_type": "stream",
       "stream": "stdout",
       "text": [
        "\n",
        "idea\n",
        "enough\n",
        "part\n",
        "several\n",
        "old\n",
        "mean\n",
        "moon\n",
        "either\n",
        "ve\n",
        "temperature\n",
        " \n",
        "Concept 205:"
       ]
      },
      {
       "output_type": "stream",
       "stream": "stdout",
       "text": [
        "\n",
        "project\n",
        "14\n",
        "centaur\n",
        "international\n",
        "companies\n",
        "study\n",
        "shuttle\n",
        "still\n",
        "news\n",
        "reply\n",
        " \n",
        "Concept 206:"
       ]
      },
      {
       "output_type": "stream",
       "stream": "stdout",
       "text": [
        "\n",
        "000\n",
        "uk\n",
        "13\n",
        "vehicle\n",
        "support\n",
        "degrees\n",
        "mission\n",
        "pluto\n",
        "two\n",
        "boeing\n",
        " \n",
        "Concept 207:"
       ]
      },
      {
       "output_type": "stream",
       "stream": "stdout",
       "text": [
        "\n",
        "org\n",
        "ca\n",
        "rocket\n",
        "15\n",
        "well\n",
        "000\n",
        "systems\n",
        "email\n",
        "university\n",
        "probe\n",
        " \n",
        "Concept 208:"
       ]
      },
      {
       "output_type": "stream",
       "stream": "stdout",
       "text": [
        "\n",
        "moon\n",
        "put\n",
        "___ __\n",
        "__\n",
        "10\n",
        "md\n",
        "projects\n",
        "launch\n",
        "orbital\n",
        "california\n",
        " \n",
        "Concept 209:"
       ]
      },
      {
       "output_type": "stream",
       "stream": "stdout",
       "text": [
        "\n",
        "bill\n",
        "jupiter\n",
        "need\n",
        "number\n",
        "planetary\n",
        "moon\n",
        "sky\n",
        "titan\n",
        "16\n",
        "ll\n",
        " \n",
        "Concept 210:"
       ]
      },
      {
       "output_type": "stream",
       "stream": "stdout",
       "text": [
        "\n",
        "like\n",
        "everyone\n",
        "18\n",
        "try\n",
        "since\n",
        "years\n",
        "rockets\n",
        "space digest\n",
        "tom\n",
        "mean\n",
        " \n",
        "Concept 211:"
       ]
      },
      {
       "output_type": "stream",
       "stream": "stdout",
       "text": [
        "\n",
        "observations\n",
        "built\n",
        "year\n",
        "keywords\n",
        "much\n",
        "book\n",
        "galileo\n",
        "hga\n",
        "area\n",
        "one\n",
        " \n",
        "Concept 212:"
       ]
      },
      {
       "output_type": "stream",
       "stream": "stdout",
       "text": [
        "\n",
        "data\n",
        "lines 14\n",
        "launched\n",
        "bill\n",
        "need\n",
        "space station\n",
        "lunar orbit\n",
        "support\n",
        "development\n",
        "saturn\n",
        " \n",
        "Concept 213:"
       ]
      },
      {
       "output_type": "stream",
       "stream": "stdout",
       "text": [
        "\n",
        "__\n",
        "galileo\n",
        "data\n",
        "near\n",
        "area\n",
        "doesn\n",
        "office\n",
        "moon\n",
        "find\n",
        "may\n",
        " \n",
        "Concept 214:"
       ]
      },
      {
       "output_type": "stream",
       "stream": "stdout",
       "text": [
        "\n",
        "mean\n",
        "weight\n",
        "need\n",
        "book\n",
        "sci lines\n",
        "ca\n",
        "ray\n",
        "exploration\n",
        "seems\n",
        "interesting\n",
        " \n",
        "Concept 215:"
       ]
      },
      {
       "output_type": "stream",
       "stream": "stdout",
       "text": [
        "\n",
        "hope\n",
        "stage\n",
        "sun\n",
        "market\n",
        "lab\n",
        "ssto\n",
        "near\n",
        "data\n",
        "model\n",
        "oh\n",
        " \n",
        "Concept 216:"
       ]
      },
      {
       "output_type": "stream",
       "stream": "stdout",
       "text": [
        "\n",
        "galileo\n",
        "help\n",
        "observations\n",
        "life\n",
        "hga\n",
        "using\n",
        "way\n",
        "nothing\n",
        "orion\n",
        "nasa ames\n",
        " \n",
        "Concept 217:"
       ]
      },
      {
       "output_type": "stream",
       "stream": "stdout",
       "text": [
        "\n",
        "observations\n",
        "activities\n",
        "news\n",
        "advertising\n",
        "found\n",
        "several\n",
        "every\n",
        "dc\n",
        "22\n",
        "else\n",
        " \n",
        "Concept 218:"
       ]
      },
      {
       "output_type": "stream",
       "stream": "stdout",
       "text": [
        "\n",
        "washington\n",
        "cost\n",
        "instruments\n",
        "information\n",
        "shuttle\n",
        "fred\n",
        "everyone\n",
        "aurora\n",
        "speak\n",
        "place\n",
        " \n",
        "Concept 219:"
       ]
      },
      {
       "output_type": "stream",
       "stream": "stdout",
       "text": [
        "\n",
        "land\n",
        "since\n",
        "planetary\n",
        "moon\n",
        "mining\n",
        "know\n",
        "build\n",
        "king eng\n",
        "team\n",
        "turn\n",
        " \n",
        "Concept 220:"
       ]
      },
      {
       "output_type": "stream",
       "stream": "stdout",
       "text": [
        "\n",
        "missions\n",
        "jpl nasa gov\n",
        "stars\n",
        "moon\n",
        "laboratory\n",
        "keep\n",
        "king eng\n",
        "mark\n",
        "national\n",
        "air\n",
        " \n",
        "Concept 221:"
       ]
      },
      {
       "output_type": "stream",
       "stream": "stdout",
       "text": [
        "\n",
        "message\n",
        "book\n",
        "planet\n",
        "great\n",
        "space\n",
        "uk\n",
        "drag\n",
        "send\n",
        "plan\n",
        "bring\n",
        " \n",
        "Concept 222:"
       ]
      },
      {
       "output_type": "stream",
       "stream": "stdout",
       "text": [
        "\n",
        "take\n",
        "life\n",
        "support\n",
        "current\n",
        "built\n",
        "images\n",
        "human\n",
        "world\n",
        "satellite\n",
        "25\n",
        " \n",
        "Concept 223:"
       ]
      },
      {
       "output_type": "stream",
       "stream": "stdout",
       "text": [
        "\n",
        "mind\n",
        "mars\n",
        "dr\n",
        "10\n",
        "costs\n",
        "lunar\n",
        "distribution sci lines\n",
        "jpl\n",
        "shuttle\n",
        "great\n",
        " \n",
        "Concept 224:"
       ]
      },
      {
       "output_type": "stream",
       "stream": "stdout",
       "text": [
        "\n",
        "idea\n",
        "pat writes\n",
        "data\n",
        "used\n",
        "mars\n",
        "public\n",
        "science\n",
        "au\n",
        "000\n",
        "possible\n",
        " \n",
        "Concept 225:"
       ]
      },
      {
       "output_type": "stream",
       "stream": "stdout",
       "text": [
        "\n",
        "bill\n",
        "rights\n",
        "exploration\n",
        "job\n",
        "resources\n",
        "seen\n",
        "21\n",
        "want\n",
        "office\n",
        "ca\n",
        " \n",
        "Concept 226:"
       ]
      },
      {
       "output_type": "stream",
       "stream": "stdout",
       "text": [
        "\n",
        "power\n",
        "government\n",
        "technical\n",
        "every\n",
        "may\n",
        "things\n",
        "16\n",
        "iti org\n",
        "force\n",
        "military\n",
        " \n",
        "Concept 227:"
       ]
      },
      {
       "output_type": "stream",
       "stream": "stdout",
       "text": [
        "\n",
        "launch\n",
        "great\n",
        "order\n",
        "yes\n",
        "au\n",
        "fact\n",
        "lunar\n",
        "planet\n",
        "bill\n",
        "tell\n",
        " \n",
        "Concept 228:"
       ]
      },
      {
       "output_type": "stream",
       "stream": "stdout",
       "text": [
        "\n",
        "mass\n",
        "assume\n",
        "read\n",
        "post\n",
        "life\n",
        "km\n",
        "allen sherzer\n",
        "galaxy\n",
        "org\n",
        "pluto\n",
        " \n",
        "Concept 229:"
       ]
      },
      {
       "output_type": "stream",
       "stream": "stdout",
       "text": [
        "\n",
        "data\n",
        "course\n",
        "antenna\n",
        "temporary\n",
        "used\n",
        "even\n",
        "look\n",
        "able\n",
        "less\n",
        "first\n",
        " \n",
        "Concept 230:"
       ]
      },
      {
       "output_type": "stream",
       "stream": "stdout",
       "text": [
        "\n",
        "life\n",
        "new\n",
        "17\n",
        "air\n",
        "titan\n",
        "pluto\n",
        "believe\n",
        "bill\n",
        "bill higgins\n",
        "00\n",
        " \n",
        "Concept 231:"
       ]
      },
      {
       "output_type": "stream",
       "stream": "stdout",
       "text": [
        "\n",
        "idea\n",
        "tom\n",
        "dr\n",
        "balloon\n",
        "pub\n",
        "aurora alaska\n",
        "within\n",
        "sci space\n",
        "public\n",
        "orbital\n",
        " \n",
        "Concept 232:"
       ]
      },
      {
       "output_type": "stream",
       "stream": "stdout",
       "text": [
        "\n",
        "images\n",
        "get\n",
        "really\n",
        "__\n",
        "palmer\n",
        "fly\n",
        "either\n",
        "planet\n",
        "send\n",
        "least\n",
        " \n",
        "Concept 233:"
       ]
      },
      {
       "output_type": "stream",
       "stream": "stdout",
       "text": [
        "\n",
        "need\n",
        "moon\n",
        "one\n",
        "status\n",
        "news software\n",
        "mean\n",
        "day\n",
        "stage\n",
        "years\n",
        "like\n",
        " \n",
        "Concept 234:"
       ]
      },
      {
       "output_type": "stream",
       "stream": "stdout",
       "text": [
        "\n",
        "22\n",
        "us\n",
        "must\n",
        "large\n",
        "model\n",
        "telescope\n",
        "distribution\n",
        "run\n",
        "level\n",
        "find\n",
        " \n",
        "Concept 235:"
       ]
      },
      {
       "output_type": "stream",
       "stream": "stdout",
       "text": [
        "\n",
        "shuttle\n",
        "talking\n",
        "project\n",
        "dietz\n",
        "observatory\n",
        "star\n",
        "cs\n",
        "command\n",
        "degrees\n",
        "00\n",
        " \n",
        "Concept 236:"
       ]
      },
      {
       "output_type": "stream",
       "stream": "stdout",
       "text": [
        "\n",
        "technology\n",
        "something\n",
        "19\n",
        "come\n",
        "phil\n",
        "16\n",
        "orbit\n",
        "better\n",
        "thought\n",
        "several\n",
        " \n",
        "Concept 237:"
       ]
      },
      {
       "output_type": "stream",
       "stream": "stdout",
       "text": [
        "\n",
        "system\n",
        "uk\n",
        "18\n",
        "30\n",
        "may\n",
        "ca\n",
        "believe\n",
        "already\n",
        "gun\n",
        "far\n",
        " \n",
        "Concept 238:"
       ]
      },
      {
       "output_type": "stream",
       "stream": "stdout",
       "text": [
        "\n",
        "computer\n",
        "near\n",
        "idea\n",
        "radio\n",
        "rights\n",
        "usc\n",
        "really\n",
        "100\n",
        "gravity\n",
        "possible\n",
        " \n",
        "Concept 239:"
       ]
      },
      {
       "output_type": "stream",
       "stream": "stdout",
       "text": [
        "\n",
        "object\n",
        "jsc nasa\n",
        "jsc nasa gov\n",
        "rights\n",
        "satellite\n",
        "problems\n",
        "heard\n",
        "part\n",
        "night\n",
        "got\n",
        " \n",
        "Concept 240:"
       ]
      },
      {
       "output_type": "stream",
       "stream": "stdout",
       "text": [
        "\n",
        "technology\n",
        "station\n",
        "mars\n",
        "little\n",
        "area\n",
        "means\n",
        "name\n",
        "observations\n",
        "seems\n",
        "base\n",
        " \n",
        "Concept 241:"
       ]
      },
      {
       "output_type": "stream",
       "stream": "stdout",
       "text": [
        "\n",
        "sci\n",
        "calpoly\n",
        "work\n",
        "planets\n",
        "aurora alaska\n",
        "internet\n",
        "aurora\n",
        "keywords\n",
        "ve\n",
        "images\n",
        " \n",
        "Concept 242:"
       ]
      },
      {
       "output_type": "stream",
       "stream": "stdout",
       "text": [
        "\n",
        "every\n",
        "station\n",
        "small\n",
        "ray\n",
        "sail\n",
        "engineering\n",
        "atmosphere\n",
        "antenna\n",
        "12\n",
        "cs\n",
        " \n",
        "Concept 243:"
       ]
      },
      {
       "output_type": "stream",
       "stream": "stdout",
       "text": [
        "\n",
        "science\n",
        "david\n",
        "like\n",
        "speed\n",
        "solar\n",
        "km\n",
        "development\n",
        "fact\n",
        "flight\n",
        "fnal gov\n",
        " \n",
        "Concept 244:"
       ]
      },
      {
       "output_type": "stream",
       "stream": "stdout",
       "text": [
        "\n",
        "software\n",
        "orbit\n",
        "national\n",
        "manned\n",
        "end\n",
        "20\n",
        "level\n",
        "mars\n",
        "usc\n",
        "process\n",
        " \n",
        "Concept 245:"
       ]
      },
      {
       "output_type": "stream",
       "stream": "stdout",
       "text": [
        "\n",
        "said\n",
        "ac\n",
        "process\n",
        "software\n",
        "data\n",
        "years\n",
        "saturn\n",
        "titan\n",
        "shuttle program\n",
        "today\n",
        " \n",
        "Concept 246:"
       ]
      },
      {
       "output_type": "stream",
       "stream": "stdout",
       "text": [
        "\n",
        "titan\n",
        "good\n",
        "loss\n",
        "temperature\n",
        "general\n",
        "egalon\n",
        "radio\n",
        "observer\n",
        "without\n",
        "princeton\n",
        " \n",
        "Concept 247:"
       ]
      },
      {
       "output_type": "stream",
       "stream": "stdout",
       "text": [
        "\n",
        "13\n",
        "funding\n",
        "end\n",
        "palmer\n",
        "engines\n",
        "mksol\n",
        "black\n",
        "stars\n",
        "distribution sci\n",
        "kind\n",
        " \n",
        "Concept 248:"
       ]
      },
      {
       "output_type": "stream",
       "stream": "stdout",
       "text": [
        "\n",
        "russian\n",
        "dc\n",
        "uucp\n",
        "cost\n",
        "example\n",
        "still\n",
        "princeton\n",
        "26\n",
        "test\n",
        "us\n",
        " \n",
        "Concept 249:"
       ]
      },
      {
       "output_type": "stream",
       "stream": "stdout",
       "text": [
        "\n",
        "mars\n",
        "us\n",
        "saturn\n",
        "org\n",
        "jsc\n",
        "model\n",
        "rra\n",
        "race\n",
        "someone\n",
        "center\n",
        " \n",
        "Concept 250:"
       ]
      },
      {
       "output_type": "stream",
       "stream": "stdout",
       "text": [
        "\n",
        "observatory\n",
        "use\n",
        "like\n",
        "russian\n",
        "weeks\n",
        "bursters\n",
        "aurora\n",
        "support\n",
        "sci space\n",
        "space program\n",
        " \n",
        "Concept 251:"
       ]
      },
      {
       "output_type": "stream",
       "stream": "stdout",
       "text": [
        "\n",
        "degrees\n",
        "galileo\n",
        "commercial\n",
        "rra\n",
        "idea\n",
        "military\n",
        "radio\n",
        "oh\n",
        "might\n",
        "satellite\n",
        " \n",
        "Concept 252:"
       ]
      },
      {
       "output_type": "stream",
       "stream": "stdout",
       "text": [
        "\n",
        "data\n",
        "___\n",
        "mining\n",
        "__\n",
        "built\n",
        "rra\n",
        "10\n",
        "mark\n",
        "look\n",
        "uk\n",
        " \n",
        "Concept 253:"
       ]
      },
      {
       "output_type": "stream",
       "stream": "stdout",
       "text": [
        "\n",
        "caltech\n",
        "quite\n",
        "research\n",
        "really\n",
        "developed\n",
        "answer\n",
        "university\n",
        "george\n",
        "mean\n",
        "nasa\n",
        " \n",
        "Concept 254:"
       ]
      },
      {
       "output_type": "stream",
       "stream": "stdout",
       "text": [
        "\n",
        "bill\n",
        "planetary\n",
        "satellite\n",
        "stars\n",
        "side\n",
        "human\n",
        "crew\n",
        "current\n",
        "around\n",
        "process\n",
        " \n",
        "Concept 255:"
       ]
      },
      {
       "output_type": "stream",
       "stream": "stdout",
       "text": [
        "\n",
        "far\n",
        "need\n",
        "engines\n",
        "propulsion\n",
        "orbital\n",
        "flights\n",
        "antenna\n",
        "stsci\n",
        "centaur\n",
        "might\n",
        " \n",
        "Concept 256:"
       ]
      },
      {
       "output_type": "stream",
       "stream": "stdout",
       "text": [
        "\n",
        "bill\n",
        "military\n",
        "keywords\n",
        "international space\n",
        "let\n",
        "develop\n",
        "dc\n",
        "lines 18\n",
        "since\n",
        "michael adams\n",
        " \n",
        "Concept 257:"
       ]
      },
      {
       "output_type": "stream",
       "stream": "stdout",
       "text": [
        "\n",
        "science\n",
        "race\n",
        "gamma ray\n",
        "non\n",
        "man\n",
        "anything\n",
        "uk\n",
        "galileo\n",
        "cheaper\n",
        "russian\n",
        " \n",
        "Concept 258:"
       ]
      },
      {
       "output_type": "stream",
       "stream": "stdout",
       "text": [
        "\n",
        "find\n",
        "pub\n",
        "remember\n",
        "ca\n",
        "probe\n",
        "human\n",
        "dr\n",
        "software\n",
        "problems\n",
        "food\n",
        " \n",
        "Concept 259:"
       ]
      },
      {
       "output_type": "stream",
       "stream": "stdout",
       "text": [
        "\n",
        "life\n",
        "idea\n",
        "ve\n",
        "remember\n",
        "good\n",
        "job\n",
        "race\n",
        "next\n",
        "go\n",
        "far\n",
        " \n",
        "Concept 260:"
       ]
      },
      {
       "output_type": "stream",
       "stream": "stdout",
       "text": [
        "\n",
        "palmer\n",
        "lunar\n",
        "___\n",
        "comes\n",
        "spacecraft\n",
        "hst\n",
        "called\n",
        "set\n",
        "model\n",
        "orbit\n",
        " \n",
        "Concept 261:"
       ]
      },
      {
       "output_type": "stream",
       "stream": "stdout",
       "text": [
        "\n",
        "10\n",
        "20\n",
        "ground\n",
        "able\n",
        "boost\n",
        "things\n",
        "astro\n",
        "gamma ray\n",
        "technology\n",
        "telescope\n",
        " \n",
        "Concept 262:"
       ]
      },
      {
       "output_type": "stream",
       "stream": "stdout",
       "text": [
        "\n",
        "engineering\n",
        "degrees\n",
        "heard\n",
        "titan\n",
        "private\n",
        "stuff\n",
        "think\n",
        "general\n",
        "small\n",
        "observations\n",
        " \n",
        "Concept 263:"
       ]
      },
      {
       "output_type": "stream",
       "stream": "stdout",
       "text": [
        "\n",
        "last\n",
        "take\n",
        "caltech\n",
        "built\n",
        "bill\n",
        "gov\n",
        "yet\n",
        "us\n",
        "within\n",
        "april\n",
        " \n",
        "Concept 264:"
       ]
      },
      {
       "output_type": "stream",
       "stream": "stdout",
       "text": [
        "\n",
        "space station\n",
        "second\n",
        "prize\n",
        "better\n",
        "buy\n",
        "back\n",
        "single\n",
        "solar\n",
        "built\n",
        "multi\n",
        " \n",
        "Concept 265:"
       ]
      },
      {
       "output_type": "stream",
       "stream": "stdout",
       "text": [
        "\n",
        "org\n",
        "research\n",
        "22\n",
        "white\n",
        "texas\n",
        "41\n",
        "faq\n",
        "man\n",
        "box\n",
        "project\n",
        " \n",
        "Concept 266:"
       ]
      },
      {
       "output_type": "stream",
       "stream": "stdout",
       "text": [
        "\n",
        "bad\n",
        "mars\n",
        "colony\n",
        "effect\n",
        "let\n",
        "physics\n",
        "research\n",
        "read\n",
        "bill\n",
        "money\n",
        " \n",
        "Concept 267:"
       ]
      },
      {
       "output_type": "stream",
       "stream": "stdout",
       "text": [
        "\n",
        "perhaps\n",
        "mode\n",
        "real\n",
        "systems\n",
        "option\n",
        "software\n",
        "back\n",
        "look\n",
        "least\n",
        "jeff cook\n",
        " \n",
        "Concept 268:"
       ]
      },
      {
       "output_type": "stream",
       "stream": "stdout",
       "text": [
        "\n",
        "galileo\n",
        "development\n",
        "program\n",
        "sort\n",
        "moon\n",
        "need\n",
        "university\n",
        "data\n",
        "satellite\n",
        "titan\n",
        " \n",
        "Concept 269:"
       ]
      },
      {
       "output_type": "stream",
       "stream": "stdout",
       "text": [
        "\n",
        "project\n",
        "lower\n",
        "mars\n",
        "plan\n",
        "phil\n",
        "technology\n",
        "10\n",
        "state\n",
        "jet propulsion\n",
        "may\n",
        " \n",
        "Concept 270:"
       ]
      },
      {
       "output_type": "stream",
       "stream": "stdout",
       "text": [
        "\n",
        "ca\n",
        "international\n",
        "magellan\n",
        "jupiter\n",
        "moon\n",
        "ron baalke\n",
        "privately\n",
        "newsgroup\n",
        "program\n",
        "gene\n",
        " \n",
        "Concept 271:"
       ]
      },
      {
       "output_type": "stream",
       "stream": "stdout",
       "text": [
        "\n",
        "let\n",
        "funding\n",
        "far\n",
        "reason\n",
        "wouldn\n",
        "right\n",
        "must\n",
        "look\n",
        "mars\n",
        "gets\n",
        " \n",
        "Concept 272:"
       ]
      },
      {
       "output_type": "stream",
       "stream": "stdout",
       "text": [
        "\n",
        "au\n",
        "old\n",
        "thanks\n",
        "shuttle\n",
        "control\n",
        "astronomy\n",
        "ve\n",
        "similar\n",
        "kind\n",
        "done\n",
        " \n",
        "Concept 273:"
       ]
      },
      {
       "output_type": "stream",
       "stream": "stdout",
       "text": [
        "\n",
        "org\n",
        "million\n",
        "resources\n",
        "100\n",
        "gene\n",
        "nothing\n",
        "moon\n",
        "options\n",
        "command\n",
        "lot\n",
        " \n",
        "Concept 274:"
       ]
      },
      {
       "output_type": "stream",
       "stream": "stdout",
       "text": [
        "\n",
        "software\n",
        "landing\n",
        "vehicle\n",
        "doesn\n",
        "jeff\n",
        "working\n",
        "shuttle\n",
        "built\n",
        "week\n",
        "sent\n",
        " \n",
        "Concept 275:"
       ]
      },
      {
       "output_type": "stream",
       "stream": "stdout",
       "text": [
        "\n",
        "galileo\n",
        "something\n",
        "done\n",
        "cs\n",
        "development\n",
        "projects\n",
        "however\n",
        "one\n",
        "newsgroup\n",
        "book\n",
        " \n",
        "Concept 276:"
       ]
      },
      {
       "output_type": "stream",
       "stream": "stdout",
       "text": [
        "\n",
        "called\n",
        "looking\n",
        "land\n",
        "servicing mission\n",
        "given\n",
        "ftp\n",
        "13\n",
        "oz au\n",
        "de\n",
        "think\n",
        " \n",
        "Concept 277:"
       ]
      },
      {
       "output_type": "stream",
       "stream": "stdout",
       "text": [
        "\n",
        "ca\n",
        "john\n",
        "payload\n",
        "rocket\n",
        "robert\n",
        "flyby\n",
        "never\n",
        "first\n",
        "holes\n",
        "dennis\n",
        " \n",
        "Concept 278:"
       ]
      },
      {
       "output_type": "stream",
       "stream": "stdout",
       "text": [
        "\n",
        "since\n",
        "ac\n",
        "need\n",
        "know\n",
        "people\n",
        "take\n",
        "lot\n",
        "rather\n",
        "base\n",
        "experiment\n",
        " \n",
        "Concept 279:"
       ]
      },
      {
       "output_type": "stream",
       "stream": "stdout",
       "text": [
        "\n",
        "bill\n",
        "lunar\n",
        "said\n",
        "mission scheduled\n",
        "drag\n",
        "day\n",
        "also\n",
        "phil\n",
        "sherzer\n",
        "design\n",
        " \n",
        "Concept 280:"
       ]
      },
      {
       "output_type": "stream",
       "stream": "stdout",
       "text": [
        "\n",
        "project\n",
        "new\n",
        "us\n",
        "distribution sci\n",
        "power\n",
        "ron\n",
        "stars\n",
        "gets\n",
        "ac\n",
        "solar\n",
        " \n",
        "Concept 281:"
       ]
      },
      {
       "output_type": "stream",
       "stream": "stdout",
       "text": [
        "\n",
        "process\n",
        "planet\n",
        "telescope\n",
        "14\n",
        "arrays\n",
        "uk\n",
        "orbit\n",
        "private\n",
        "made\n",
        "sky organization\n",
        " \n",
        "Concept 282:"
       ]
      },
      {
       "output_type": "stream",
       "stream": "stdout",
       "text": [
        "\n",
        "mass\n",
        "please\n",
        "gamma\n",
        "technology\n",
        "dave\n",
        "small\n",
        "bill\n",
        "object\n",
        "far\n",
        "distribution sci\n",
        " \n",
        "Concept 283:"
       ]
      },
      {
       "output_type": "stream",
       "stream": "stdout",
       "text": [
        "\n",
        "bill\n",
        "jupiter\n",
        "lines 14\n",
        "research\n",
        "flight\n",
        "seems\n",
        "launcher\n",
        "michael adams\n",
        "org\n",
        "speak\n",
        " \n",
        "Concept 284:"
       ]
      },
      {
       "output_type": "stream",
       "stream": "stdout",
       "text": [
        "\n",
        "mars\n",
        "launch\n",
        "13\n",
        "first\n",
        "speak\n",
        "one\n",
        "gun\n",
        "made\n",
        "reason\n",
        "temperature\n",
        " \n",
        "Concept 285:"
       ]
      },
      {
       "output_type": "stream",
       "stream": "stdout",
       "text": [
        "\n",
        "second\n",
        "non\n",
        "please\n",
        "mksol\n",
        "great\n",
        "sender\n",
        "titan\n",
        "17\n",
        "15\n",
        "solar system\n",
        " \n",
        "Concept 286:"
       ]
      },
      {
       "output_type": "stream",
       "stream": "stdout",
       "text": [
        "\n",
        "15\n",
        "actually\n",
        "ca\n",
        "though\n",
        "want\n",
        "23\n",
        "possible\n",
        "science\n",
        "office\n",
        "things\n",
        " \n",
        "Concept 287:"
       ]
      },
      {
       "output_type": "stream",
       "stream": "stdout",
       "text": [
        "\n",
        "air\n",
        "several\n",
        "advertising\n",
        "post\n",
        "seen\n",
        "though\n",
        "available\n",
        "number\n",
        "data\n",
        "technical\n",
        " \n",
        "Concept 288:"
       ]
      },
      {
       "output_type": "stream",
       "stream": "stdout",
       "text": [
        "\n",
        "mass\n",
        "put\n",
        "need\n",
        "see\n",
        "idea\n",
        "light\n",
        "sure\n",
        "enough\n",
        "able\n",
        "think\n",
        " \n",
        "Concept 289:"
       ]
      },
      {
       "output_type": "stream",
       "stream": "stdout",
       "text": [
        "\n",
        "moon\n",
        "term\n",
        "radio\n",
        "april\n",
        "allen\n",
        "bill\n",
        "27\n",
        "etc\n",
        "systems\n",
        "assume\n",
        " \n",
        "Concept 290:"
       ]
      },
      {
       "output_type": "stream",
       "stream": "stdout",
       "text": [
        "\n",
        "new\n",
        "cheaper\n",
        "ve\n",
        "since\n",
        "sci space\n",
        "dc\n",
        "question\n",
        "send\n",
        "sci\n",
        "eng\n",
        " \n",
        "Concept 291:"
       ]
      },
      {
       "output_type": "stream",
       "stream": "stdout",
       "text": [
        "\n",
        "cost\n",
        "international\n",
        "mars\n",
        "raider\n",
        "get\n",
        "design\n",
        "mass\n",
        "rights\n",
        "tell\n",
        "bursters\n",
        " \n",
        "Concept 292:"
       ]
      },
      {
       "output_type": "stream",
       "stream": "stdout",
       "text": [
        "\n",
        "cs\n",
        "bill\n",
        "___\n",
        "years\n",
        "__\n",
        "test\n",
        "ground\n",
        "come\n",
        "small\n",
        "commercial\n",
        " \n",
        "Concept 293:"
       ]
      },
      {
       "output_type": "stream",
       "stream": "stdout",
       "text": [
        "\n",
        "orbit\n",
        "king\n",
        "russian\n",
        "loss\n",
        "try\n",
        "fuel\n",
        "lines 12\n",
        "lot\n",
        "hst servicing\n",
        "pasadena\n",
        " \n",
        "Concept 294:"
       ]
      },
      {
       "output_type": "stream",
       "stream": "stdout",
       "text": [
        "\n",
        "one\n",
        "satellites\n",
        "tom\n",
        "astro\n",
        "energy\n",
        "main\n",
        "space shuttle program\n",
        "never\n",
        "shuttle\n",
        "keep\n",
        " \n",
        "Concept 295:"
       ]
      },
      {
       "output_type": "stream",
       "stream": "stdout",
       "text": [
        "\n",
        "station\n",
        "look\n",
        "30\n",
        "far\n",
        "race\n",
        "launch\n",
        "done\n",
        "didn\n",
        "test\n",
        "need\n",
        " \n",
        "Concept 296:"
       ]
      },
      {
       "output_type": "stream",
       "stream": "stdout",
       "text": [
        "\n",
        "idea\n",
        "ideas\n",
        "lab\n",
        "astronomy\n",
        "voyager\n",
        "orbit\n",
        "object\n",
        "satellites\n",
        "message\n",
        "craft\n",
        " \n",
        "Concept 297:"
       ]
      },
      {
       "output_type": "stream",
       "stream": "stdout",
       "text": [
        "\n",
        "bill\n",
        "want\n",
        "moon\n",
        "government\n",
        "times\n",
        "gary\n",
        "princeton\n",
        "1993\n",
        "degrees\n",
        "note\n",
        " \n",
        "Concept 298:"
       ]
      },
      {
       "output_type": "stream",
       "stream": "stdout",
       "text": [
        "\n",
        "actually\n",
        "see\n",
        "thanks\n",
        "sun\n",
        "gmt\n",
        "cs\n",
        "used\n",
        "race\n",
        "little\n",
        "astronomy\n",
        " \n",
        "Concept 299:"
       ]
      },
      {
       "output_type": "stream",
       "stream": "stdout",
       "text": [
        "\n",
        "field\n",
        "may\n",
        "many\n",
        "old\n",
        "someone\n",
        "take\n",
        "uk\n",
        "questions\n",
        "spacecraft\n",
        "weight\n",
        " \n",
        "Concept 300:"
       ]
      },
      {
       "output_type": "stream",
       "stream": "stdout",
       "text": [
        "\n",
        "unless\n",
        "ve\n",
        "another\n",
        "lines 13\n",
        "years\n",
        "observations\n",
        "13\n",
        "1993\n",
        "back\n",
        "black\n",
        " \n",
        "Concept 301:"
       ]
      },
      {
       "output_type": "stream",
       "stream": "stdout",
       "text": [
        "\n",
        "bill\n",
        "lines 14\n",
        "fact\n",
        "__\n",
        "two\n",
        "dark\n",
        "people\n",
        "space station\n",
        "astro\n",
        "atmosphere\n",
        " \n",
        "Concept 302:"
       ]
      },
      {
       "output_type": "stream",
       "stream": "stdout",
       "text": [
        "\n",
        "ames\n",
        "loss\n",
        "instruments\n",
        "corp\n",
        "11\n",
        "boeing\n",
        "spacecraft\n",
        "ca\n",
        "observer\n",
        "message\n",
        " \n",
        "Concept 303:"
       ]
      },
      {
       "output_type": "stream",
       "stream": "stdout",
       "text": [
        "\n",
        "program\n",
        "programs\n",
        "bill higgins\n",
        "large\n",
        "put\n",
        "ca\n",
        "etc\n",
        "forwarded\n",
        "writes article\n",
        "near\n",
        " \n",
        "Concept 304:"
       ]
      },
      {
       "output_type": "stream",
       "stream": "stdout",
       "text": [
        "\n",
        "arrays\n",
        "dennis\n",
        "every\n",
        "28\n",
        "information\n",
        "however\n",
        "see\n",
        "believe\n",
        "single\n",
        "bill\n",
        " \n",
        "Concept 305:"
       ]
      },
      {
       "output_type": "stream",
       "stream": "stdout",
       "text": [
        "\n",
        "last\n",
        "inc\n",
        "going\n",
        "even\n",
        "interstellar\n",
        "good\n",
        "assume\n",
        "moon\n",
        "funding\n",
        "allen\n",
        " \n",
        "Concept 306:"
       ]
      },
      {
       "output_type": "stream",
       "stream": "stdout",
       "text": [
        "\n",
        "take\n",
        "object\n",
        "put\n",
        "read\n",
        "ssf\n",
        "probes\n",
        "internet\n",
        "ll\n",
        "ago\n",
        "never\n",
        " \n",
        "Concept 307:"
       ]
      },
      {
       "output_type": "stream",
       "stream": "stdout",
       "text": [
        "\n",
        "maybe\n",
        "james\n",
        "day\n",
        "energy\n",
        "information\n",
        "radio\n",
        "process\n",
        "part\n",
        "months\n",
        "single\n",
        " \n",
        "Concept 308:"
       ]
      },
      {
       "output_type": "stream",
       "stream": "stdout",
       "text": [
        "\n",
        "rocket\n",
        "much\n",
        "distribution sci\n",
        "kind\n",
        "matter\n",
        "want\n",
        "currently\n",
        "drag\n",
        "adams\n",
        "23\n",
        " \n",
        "Concept 309:"
       ]
      },
      {
       "output_type": "stream",
       "stream": "stdout",
       "text": [
        "\n",
        "dc\n",
        "loss\n",
        "better\n",
        "galaxy\n",
        "city\n",
        "april\n",
        "land\n",
        "found\n",
        "michael adams\n",
        "term\n",
        " \n",
        "Concept 310:"
       ]
      },
      {
       "output_type": "stream",
       "stream": "stdout",
       "text": [
        "\n",
        "science\n",
        "keywords\n",
        "question\n",
        "race\n",
        "right\n",
        "magellan\n",
        "data\n",
        "built\n",
        "real\n",
        "work\n",
        " \n",
        "Concept 311:"
       ]
      },
      {
       "output_type": "stream",
       "stream": "stdout",
       "text": [
        "\n",
        "people\n",
        "course\n",
        "news\n",
        "designed\n",
        "reason\n",
        "pub\n",
        "power\n",
        "test\n",
        "solar\n",
        "got\n",
        " \n",
        "Concept 312:"
       ]
      },
      {
       "output_type": "stream",
       "stream": "stdout",
       "text": [
        "\n",
        "flight\n",
        "hst servicing mission\n",
        "cs\n",
        "ve\n",
        "level\n",
        "see\n",
        "30\n",
        "heard\n",
        "government\n",
        "waste\n",
        " \n",
        "Concept 313:"
       ]
      },
      {
       "output_type": "stream",
       "stream": "stdout",
       "text": [
        "\n",
        "inc\n",
        "please\n",
        "space station\n",
        "exploration\n",
        "keep\n",
        "currently\n",
        "lab\n",
        "usc\n",
        "mary\n",
        "sci space\n",
        " \n",
        "Concept 314:"
       ]
      },
      {
       "output_type": "stream",
       "stream": "stdout",
       "text": [
        "\n",
        "answer\n",
        "added\n",
        "allen\n",
        "gamma\n",
        "may\n",
        "resources\n",
        "__ __\n",
        "near\n",
        "software\n",
        "11\n",
        " \n",
        "Concept 315:"
       ]
      },
      {
       "output_type": "stream",
       "stream": "stdout",
       "text": [
        "\n",
        "fuel\n",
        "de\n",
        "may\n",
        "sky\n",
        "landing\n",
        "russian\n",
        "little\n",
        "23\n",
        "support\n",
        "cook\n",
        " \n",
        "Concept 316:"
       ]
      },
      {
       "output_type": "stream",
       "stream": "stdout",
       "text": [
        "\n",
        "data\n",
        "hst\n",
        "know\n",
        "cost\n",
        "years\n",
        "cook\n",
        "book\n",
        "shuttle\n",
        "force\n",
        "great\n",
        " \n",
        "Concept 317:"
       ]
      },
      {
       "output_type": "stream",
       "stream": "stdout",
       "text": [
        "\n",
        "22\n",
        "orbiter\n",
        "light\n",
        "mary\n",
        "take\n",
        "thing\n",
        "air\n",
        "gravity\n",
        "good\n",
        "sounds\n",
        " \n",
        "Concept 318:"
       ]
      },
      {
       "output_type": "stream",
       "stream": "stdout",
       "text": [
        "\n",
        "__\n",
        "planetary\n",
        "ssto\n",
        "co\n",
        "bit\n",
        "stsci\n",
        "look\n",
        "project\n",
        "shuttle\n",
        "built\n",
        " \n",
        "Concept 319:"
       ]
      },
      {
       "output_type": "stream",
       "stream": "stdout",
       "text": [
        "\n",
        "one\n",
        "money\n",
        "control\n",
        "system\n",
        "help\n",
        "tom\n",
        "00\n",
        "within\n",
        "second\n",
        "us\n",
        " \n",
        "Concept 320:"
       ]
      },
      {
       "output_type": "stream",
       "stream": "stdout",
       "text": [
        "\n",
        "shuttle\n",
        "ca\n",
        "race\n",
        "send\n",
        "billboard\n",
        "dark\n",
        "california\n",
        "technical\n",
        "right\n",
        "tom\n",
        " \n",
        "Concept 321:"
       ]
      },
      {
       "output_type": "stream",
       "stream": "stdout",
       "text": [
        "\n",
        "life\n",
        "low\n",
        "12\n",
        "station\n",
        "use\n",
        "problem\n",
        "ca\n",
        "different\n",
        "last\n",
        "days\n",
        " \n",
        "Concept 322:"
       ]
      },
      {
       "output_type": "stream",
       "stream": "stdout",
       "text": [
        "\n",
        "news\n",
        "institute\n",
        "state\n",
        "iti org\n",
        "keywords\n",
        "software\n",
        "important\n",
        "bruce\n",
        "mars\n",
        "find\n",
        " \n",
        "Concept 323:"
       ]
      },
      {
       "output_type": "stream",
       "stream": "stdout",
       "text": [
        "\n",
        "cs\n",
        "billboard\n",
        "less\n",
        "think\n",
        "international space\n",
        "ll\n",
        "found\n",
        "topaz\n",
        "air\n",
        "california\n",
        " \n",
        "Concept 324:"
       ]
      },
      {
       "output_type": "stream",
       "stream": "stdout",
       "text": [
        "\n",
        "ca\n",
        "sort\n",
        "part\n",
        "see\n",
        "political\n",
        "given\n",
        "interesting\n",
        "james\n",
        "institute\n",
        "1993\n",
        " \n",
        "Concept 325:"
       ]
      },
      {
       "output_type": "stream",
       "stream": "stdout",
       "text": [
        "\n",
        "data\n",
        "sort\n",
        "shuttle\n",
        "things\n",
        "comet\n",
        "different\n",
        "sure\n",
        "near\n",
        "bitnet\n",
        "explain\n",
        " \n",
        "Concept 326:"
       ]
      },
      {
       "output_type": "stream",
       "stream": "stdout",
       "text": [
        "\n",
        "org\n",
        "bill\n",
        "think\n",
        "night\n",
        "energy\n",
        "earth\n",
        "oh\n",
        "news\n",
        "king eng\n",
        "let\n",
        " \n",
        "Concept 327:"
       ]
      },
      {
       "output_type": "stream",
       "stream": "stdout",
       "text": [
        "\n",
        "course\n",
        "rather\n",
        "could\n",
        "disclaimer\n",
        "job\n",
        "planetary\n",
        "go\n",
        "current\n",
        "telescope\n",
        "uk\n",
        " \n",
        "Concept 328:"
       ]
      },
      {
       "output_type": "stream",
       "stream": "stdout",
       "text": [
        "\n",
        "speed\n",
        "dr\n",
        "race\n",
        "science\n",
        "physics\n",
        "systems\n",
        "sci\n",
        "telescope\n",
        "toronto henry zoo\n",
        "going\n",
        " \n",
        "Concept 329:"
       ]
      },
      {
       "output_type": "stream",
       "stream": "stdout",
       "text": [
        "\n",
        "center\n",
        "keep\n",
        "based\n",
        "landing\n",
        "timer\n",
        "lot\n",
        "course\n",
        "level\n",
        "10\n",
        "vehicle\n",
        " \n",
        "Concept 330:"
       ]
      },
      {
       "output_type": "stream",
       "stream": "stdout",
       "text": [
        "\n",
        "life\n",
        "000\n",
        "government\n",
        "telescope\n",
        "post\n",
        "cs\n",
        "comet\n",
        "problem\n",
        "people\n",
        "see\n",
        " \n",
        "Concept 331:"
       ]
      },
      {
       "output_type": "stream",
       "stream": "stdout",
       "text": [
        "\n",
        "data\n",
        "venus\n",
        "___ ___\n",
        "need\n",
        "us\n",
        "power\n",
        "saturn\n",
        "science\n",
        "john\n",
        "original\n",
        " \n",
        "Concept 332:"
       ]
      },
      {
       "output_type": "stream",
       "stream": "stdout",
       "text": [
        "\n",
        "back\n",
        "bursters\n",
        "loss\n",
        "project\n",
        "term\n",
        "fuel\n",
        "distribution\n",
        "josh hopkins\n",
        "start\n",
        "gamma ray bursters\n",
        " \n",
        "Concept 333:"
       ]
      },
      {
       "output_type": "stream",
       "stream": "stdout",
       "text": [
        "\n",
        "information\n",
        "try\n",
        "us\n",
        "subject re space\n",
        "lab\n",
        "funding\n",
        "well\n",
        "called\n",
        "really\n",
        "solar system\n",
        " \n",
        "Concept 334:"
       ]
      },
      {
       "output_type": "stream",
       "stream": "stdout",
       "text": [
        "\n",
        "read\n",
        "give\n",
        "james\n",
        "___ __\n",
        "air\n",
        "got\n",
        "boost\n",
        "political\n",
        "message\n",
        "kind\n",
        " \n",
        "Concept 335:"
       ]
      },
      {
       "output_type": "stream",
       "stream": "stdout",
       "text": [
        "\n",
        "25\n",
        "russian\n",
        "david\n",
        "atmosphere\n",
        "temperature\n",
        "sci\n",
        "gsfc\n",
        "cs\n",
        "companies\n",
        "thing\n",
        " \n",
        "Concept 336:"
       ]
      },
      {
       "output_type": "stream",
       "stream": "stdout",
       "text": [
        "\n",
        "black\n",
        "software\n",
        "got\n",
        "satellite\n",
        "money\n",
        "white\n",
        "rocket\n",
        "cmu\n",
        "next\n",
        "keywords\n",
        " \n",
        "Concept 337:"
       ]
      },
      {
       "output_type": "stream",
       "stream": "stdout",
       "text": [
        "\n",
        "10\n",
        "command\n",
        "less\n",
        "work\n",
        "moon\n",
        "april\n",
        "talking\n",
        "give\n",
        "cloud\n",
        "see\n",
        " \n",
        "Concept 338:"
       ]
      },
      {
       "output_type": "stream",
       "stream": "stdout",
       "text": [
        "\n",
        "research\n",
        "possible\n",
        "station\n",
        "atmosphere\n",
        "cs\n",
        "never\n",
        "anyone\n",
        "software\n",
        "hst\n",
        "titan\n",
        " \n",
        "Concept 339:"
       ]
      },
      {
       "output_type": "stream",
       "stream": "stdout",
       "text": [
        "\n",
        "question\n",
        "good\n",
        "small\n",
        "take\n",
        "institute\n",
        "work\n",
        "bill\n",
        "king\n",
        "eng\n",
        "usc\n",
        " \n",
        "Concept 340:"
       ]
      },
      {
       "output_type": "stream",
       "stream": "stdout",
       "text": [
        "\n",
        "way\n",
        "line\n",
        "means\n",
        "go\n",
        "interested\n",
        "number\n",
        "like\n",
        "msfc\n",
        "control\n",
        "put\n",
        " \n",
        "Concept 341:"
       ]
      },
      {
       "output_type": "stream",
       "stream": "stdout",
       "text": [
        "\n",
        "16\n",
        "little\n",
        "area\n",
        "launches\n",
        "1993\n",
        "au\n",
        "russian\n",
        "reply\n",
        "given\n",
        "real\n",
        " \n",
        "Concept 342:"
       ]
      },
      {
       "output_type": "stream",
       "stream": "stdout",
       "text": [
        "\n",
        "software\n",
        "distribution\n",
        "boost\n",
        "available\n",
        "moon\n",
        "high\n",
        "gamma\n",
        "keeping\n",
        "science\n",
        "us\n",
        " \n",
        "Concept 343:"
       ]
      },
      {
       "output_type": "stream",
       "stream": "stdout",
       "text": [
        "\n",
        "galileo\n",
        "even\n",
        "activities\n",
        "reward\n",
        "course\n",
        "titan\n",
        "de\n",
        "guess\n",
        "speed\n",
        "development\n",
        " \n",
        "Concept 344:"
       ]
      },
      {
       "output_type": "stream",
       "stream": "stdout",
       "text": [
        "\n",
        "available\n",
        "gamma\n",
        "miles\n",
        "gamma ray\n",
        "larc\n",
        "option\n",
        "following\n",
        "unless\n",
        "satellites\n",
        "re gamma\n",
        " \n",
        "Concept 345:"
       ]
      },
      {
       "output_type": "stream",
       "stream": "stdout",
       "text": [
        "\n",
        "center\n",
        "au\n",
        "given\n",
        "etc\n",
        "list\n",
        "dr\n",
        "bursters\n",
        "maybe\n",
        "13\n",
        "lines 13\n",
        " \n",
        "Concept 346:"
       ]
      },
      {
       "output_type": "stream",
       "stream": "stdout",
       "text": [
        "\n",
        "unless\n",
        "launch\n",
        "object\n",
        "ca\n",
        "russian\n",
        "data\n",
        "control\n",
        "quite\n",
        "digest\n",
        "vehicle\n",
        " \n",
        "Concept 347:"
       ]
      },
      {
       "output_type": "stream",
       "stream": "stdout",
       "text": [
        "\n",
        "distribution sci\n",
        "keep\n",
        "costs\n",
        "several\n",
        "area\n",
        "since\n",
        "much\n",
        "box\n",
        "energy\n",
        "commercial\n",
        " \n",
        "Concept 348:"
       ]
      },
      {
       "output_type": "stream",
       "stream": "stdout",
       "text": [
        "\n",
        "world\n",
        "au\n",
        "using\n",
        "pat writes\n",
        "rights\n",
        "news software\n",
        "basically\n",
        "course\n",
        "missions\n",
        "david\n",
        " \n",
        "Concept 349:"
       ]
      },
      {
       "output_type": "stream",
       "stream": "stdout",
       "text": [
        "\n",
        "mankato\n",
        "may\n",
        "order\n",
        "satellite\n",
        "wrong\n",
        "wrote\n",
        "center\n",
        "field\n",
        "oh\n",
        "press\n",
        " \n",
        "Concept 350:"
       ]
      },
      {
       "output_type": "stream",
       "stream": "stdout",
       "text": [
        "\n",
        "may\n",
        "say\n",
        "rocket\n",
        "see\n",
        "base\n",
        "international\n",
        "kind\n",
        "model\n",
        "low\n",
        "systems\n",
        " \n",
        "Concept 351:"
       ]
      },
      {
       "output_type": "stream",
       "stream": "stdout",
       "text": [
        "\n",
        "funding\n",
        "costs\n",
        "comet\n",
        "iti org\n",
        "lines 17\n",
        "single\n",
        "next\n",
        "different\n",
        "hopkins\n",
        "lines 14\n",
        " \n",
        "Concept 352:"
       ]
      },
      {
       "output_type": "stream",
       "stream": "stdout",
       "text": [
        "\n",
        "dc\n",
        "vehicle\n",
        "air\n",
        "star\n",
        "idea\n",
        "low\n",
        "new\n",
        "eng\n",
        "software\n",
        "since\n",
        " \n",
        "Concept 353:"
       ]
      },
      {
       "output_type": "stream",
       "stream": "stdout",
       "text": [
        "\n",
        "sci\n",
        "could\n",
        "real\n",
        "maybe\n",
        "data\n",
        "order\n",
        "caltech\n",
        "said\n",
        "solar system\n",
        "find\n",
        " \n",
        "Concept 354:"
       ]
      },
      {
       "output_type": "stream",
       "stream": "stdout",
       "text": [
        "\n",
        "physics\n",
        "ac\n",
        "lines 14\n",
        "energy\n",
        "problem\n",
        "au\n",
        "actually\n",
        "able\n",
        "talking\n",
        "radio\n",
        " \n",
        "Concept 355:"
       ]
      },
      {
       "output_type": "stream",
       "stream": "stdout",
       "text": [
        "\n",
        "keep\n",
        "19\n",
        "term\n",
        "au\n",
        "commercial\n",
        "vehicle\n",
        "still\n",
        "ca\n",
        "aurora alaska\n",
        "internet\n",
        " \n",
        "Concept 356:"
       ]
      },
      {
       "output_type": "stream",
       "stream": "stdout",
       "text": [
        "\n",
        "100\n",
        "russian\n",
        "way\n",
        "two\n",
        "use\n",
        "contracts\n",
        "vax\n",
        "cheaper\n",
        "isn\n",
        "orbiting\n",
        " \n",
        "Concept 357:"
       ]
      },
      {
       "output_type": "stream",
       "stream": "stdout",
       "text": [
        "\n",
        "tom\n",
        "help\n",
        "got\n",
        "get\n",
        "actually\n",
        "life\n",
        "called\n",
        "fact\n",
        "radio\n",
        "human\n",
        " \n",
        "Concept 358:"
       ]
      },
      {
       "output_type": "stream",
       "stream": "stdout",
       "text": [
        "\n",
        "laboratory\n",
        "titan\n",
        "want\n",
        "sail\n",
        "little\n",
        "information\n",
        "man\n",
        "found\n",
        "16\n",
        "probe\n",
        " \n",
        "Concept 359:"
       ]
      },
      {
       "output_type": "stream",
       "stream": "stdout",
       "text": [
        "\n",
        "second\n",
        "remember\n",
        "arc\n",
        "space shuttle\n",
        "case\n",
        "called\n",
        "sun\n",
        "station\n",
        "mind\n",
        "thanks\n",
        " \n",
        "Concept 360:"
       ]
      },
      {
       "output_type": "stream",
       "stream": "stdout",
       "text": [
        "\n",
        "ray\n",
        "pat writes\n",
        "robert\n",
        "shafer\n",
        "bill\n",
        "level\n",
        "doug\n",
        "satellite\n",
        "last\n",
        "11\n",
        " \n",
        "Concept 361:"
       ]
      },
      {
       "output_type": "stream",
       "stream": "stdout",
       "text": [
        "\n",
        "think\n",
        "power\n",
        "make\n",
        "energy\n",
        "name\n",
        "detectors\n",
        "institute\n",
        "idea\n",
        "surface\n",
        "send\n",
        " \n",
        "Concept 362:"
       ]
      },
      {
       "output_type": "stream",
       "stream": "stdout",
       "text": [
        "\n",
        "93\n",
        "mars\n",
        "right\n",
        "given\n",
        "engines\n",
        "said\n",
        "new\n",
        "digest\n",
        "reply\n",
        "marketing\n",
        " \n",
        "Concept 363:"
       ]
      },
      {
       "output_type": "stream",
       "stream": "stdout",
       "text": [
        "\n",
        "distribution\n",
        "22\n",
        "questions\n",
        "believe\n",
        "working\n",
        "including\n",
        "adams\n",
        "team\n",
        "surface\n",
        "funding\n",
        " \n",
        "Concept 364:"
       ]
      },
      {
       "output_type": "stream",
       "stream": "stdout",
       "text": [
        "\n",
        "world\n",
        "bill\n",
        "see\n",
        "technology\n",
        "since\n",
        "expensive\n",
        "pasadena ca\n",
        "time\n",
        "example\n",
        "less\n",
        " \n",
        "Concept 365:"
       ]
      },
      {
       "output_type": "stream",
       "stream": "stdout",
       "text": [
        "\n",
        "altitude\n",
        "light\n",
        "think\n",
        "want\n",
        "still\n",
        "russian\n",
        "development\n",
        "least\n",
        "writes article\n",
        "sources\n",
        " \n",
        "Concept 366:"
       ]
      },
      {
       "output_type": "stream",
       "stream": "stdout",
       "text": [
        "\n",
        "uk\n",
        "engineering\n",
        "build\n",
        "distribution sci\n",
        "17\n",
        "book\n",
        "life\n",
        "found\n",
        "command\n",
        "temperature\n",
        " \n",
        "Concept 367:"
       ]
      },
      {
       "output_type": "stream",
       "stream": "stdout",
       "text": [
        "\n",
        "little\n",
        "detectors\n",
        "something\n",
        "sci space\n",
        "help\n",
        "talking\n",
        "already\n",
        "always\n",
        "lunar\n",
        "many\n",
        " \n",
        "Concept 368:"
       ]
      },
      {
       "output_type": "stream",
       "stream": "stdout",
       "text": [
        "\n",
        "problem\n",
        "something\n",
        "system\n",
        "may\n",
        "cso\n",
        "000\n",
        "little\n",
        "development\n",
        "either\n",
        "quite\n",
        " \n",
        "Concept 369:"
       ]
      },
      {
       "output_type": "stream",
       "stream": "stdout",
       "text": [
        "\n",
        "right\n",
        "dc\n",
        "given\n",
        "means\n",
        "start\n",
        "pat subject re\n",
        "people\n",
        "way\n",
        "makes\n",
        "air\n",
        " \n",
        "Concept 370:"
       ]
      },
      {
       "output_type": "stream",
       "stream": "stdout",
       "text": [
        "\n",
        "spacecraft\n",
        "earth\n",
        "systems\n",
        "satellite\n",
        "advertising\n",
        "russian\n",
        "22\n",
        "private\n",
        "mars\n",
        "away\n",
        " \n",
        "Concept 371:"
       ]
      },
      {
       "output_type": "stream",
       "stream": "stdout",
       "text": [
        "\n",
        "access article\n",
        "host access article\n",
        "apr\n",
        "system\n",
        "david\n",
        "lines 20\n",
        "11\n",
        "either\n",
        "info\n",
        "read\n",
        " \n",
        "Concept 372:"
       ]
      },
      {
       "output_type": "stream",
       "stream": "stdout",
       "text": [
        "\n",
        "cs\n",
        "everyone\n",
        "want\n",
        "11\n",
        "available\n",
        "know\n",
        "talking\n",
        "may\n",
        "put\n",
        "thing\n",
        " \n",
        "Concept 373:"
       ]
      },
      {
       "output_type": "stream",
       "stream": "stdout",
       "text": [
        "\n",
        "toronto henry zoo\n",
        "cost\n",
        "case\n",
        "test\n",
        "reason\n",
        "information\n",
        "seems\n",
        "air\n",
        "available\n",
        "michael\n",
        " \n",
        "Concept 374:"
       ]
      },
      {
       "output_type": "stream",
       "stream": "stdout",
       "text": [
        "\n",
        "said\n",
        "see\n",
        "etc\n",
        "every\n",
        "jet propulsion laboratory\n",
        "used\n",
        "lines 13\n",
        "billboard\n",
        "venus\n",
        "night sky\n",
        " \n",
        "Concept 375:"
       ]
      },
      {
       "output_type": "stream",
       "stream": "stdout",
       "text": [
        "\n",
        "satellite\n",
        "bit\n",
        "utzoo\n",
        "exploration\n",
        "flight\n",
        "know\n",
        "people\n",
        "20\n",
        "message\n",
        "galileo\n",
        " \n",
        "Concept 376:"
       ]
      },
      {
       "output_type": "stream",
       "stream": "stdout",
       "text": [
        "\n",
        "heard\n",
        "satellite\n",
        "news\n",
        "rockets\n",
        "distribution\n",
        "orbital\n",
        "comet\n",
        "ve\n",
        "org\n",
        "life\n",
        " \n",
        "Concept 377:"
       ]
      },
      {
       "output_type": "stream",
       "stream": "stdout",
       "text": [
        "\n",
        "time\n",
        "still\n",
        "billboard\n",
        "great\n",
        "sort\n",
        "sender\n",
        "local\n",
        "use\n",
        "years\n",
        "man\n",
        " \n",
        "Concept 378:"
       ]
      },
      {
       "output_type": "stream",
       "stream": "stdout",
       "text": [
        "\n",
        "uk\n",
        "case\n",
        "computer\n",
        "need\n",
        "mass\n",
        "jet\n",
        "question\n",
        "radio\n",
        "let\n",
        "writes article\n",
        " \n",
        "Concept 379:"
       ]
      },
      {
       "output_type": "stream",
       "stream": "stdout",
       "text": [
        "\n",
        "reply\n",
        "actually\n",
        "right\n",
        "used\n",
        "14\n",
        "news\n",
        "russian\n",
        "read\n",
        "planet\n",
        "order\n",
        " \n",
        "Concept 380:"
       ]
      },
      {
       "output_type": "stream",
       "stream": "stdout",
       "text": [
        "\n",
        "news\n",
        "launch\n",
        "field\n",
        "night sky\n",
        "put\n",
        "funding\n",
        "orbital\n",
        "tom\n",
        "much\n",
        "93\n",
        " \n",
        "Concept 381:"
       ]
      },
      {
       "output_type": "stream",
       "stream": "stdout",
       "text": [
        "\n",
        "also\n",
        "one man\n",
        "please\n",
        "technology\n",
        "got\n",
        "life\n",
        "information\n",
        "year\n",
        "time\n",
        "dr\n",
        " \n",
        "Concept 382:"
       ]
      },
      {
       "output_type": "stream",
       "stream": "stdout",
       "text": [
        "\n",
        "seems\n",
        "got\n",
        "want\n",
        "san\n",
        "example\n",
        "another\n",
        "gamma\n",
        "re\n",
        "use\n",
        "bill\n",
        " \n",
        "Concept 383:"
       ]
      },
      {
       "output_type": "stream",
       "stream": "stdout",
       "text": [
        "\n",
        "comet\n",
        "servicing\n",
        "landing\n",
        "bright\n",
        "robert\n",
        "sorry\n",
        "make\n",
        "writes article\n",
        "gravity\n",
        "even\n",
        " \n",
        "Concept 384:"
       ]
      },
      {
       "output_type": "stream",
       "stream": "stdout",
       "text": [
        "\n",
        "looking\n",
        "re space\n",
        "thanks\n",
        "use\n",
        "speak\n",
        "solar arrays\n",
        "25\n",
        "within\n",
        "anyone\n",
        "least\n",
        " \n",
        "Concept 385:"
       ]
      },
      {
       "output_type": "stream",
       "stream": "stdout",
       "text": [
        "\n",
        "less\n",
        "30\n",
        "hard\n",
        "maybe\n",
        "san\n",
        "remember\n",
        "days\n",
        "oms\n",
        "state\n",
        "computer\n",
        " \n",
        "Concept 386:"
       ]
      },
      {
       "output_type": "stream",
       "stream": "stdout",
       "text": [
        "\n",
        "orbital\n",
        "message\n",
        "let\n",
        "shuttle\n",
        "probe\n",
        "even\n",
        "satellite\n",
        "second\n",
        "power\n",
        "astro\n",
        " \n",
        "Concept 387:"
       ]
      },
      {
       "output_type": "stream",
       "stream": "stdout",
       "text": [
        "\n",
        "long\n",
        "ve\n",
        "funding\n",
        "shuttle\n",
        "spacecraft\n",
        "old\n",
        "public\n",
        "ideas\n",
        "propulsion\n",
        "ssto\n",
        " \n",
        "Concept 388:"
       ]
      },
      {
       "output_type": "stream",
       "stream": "stdout",
       "text": [
        "\n",
        "reply\n",
        "really\n",
        "good\n",
        "everyone\n",
        "find\n",
        "payload\n",
        "help\n",
        "washington\n",
        "atmosphere\n",
        "anyone\n",
        " \n",
        "Concept 389:"
       ]
      },
      {
       "output_type": "stream",
       "stream": "stdout",
       "text": [
        "\n",
        "new\n",
        "number\n",
        "mind\n",
        "remember\n",
        "vax1\n",
        "pay\n",
        "question\n",
        "old\n",
        "person\n",
        "ago\n",
        " \n",
        "Concept 390:"
       ]
      },
      {
       "output_type": "stream",
       "stream": "stdout",
       "text": [
        "\n",
        "line\n",
        "uk\n",
        "last\n",
        "lunar\n",
        "send\n",
        "days\n",
        "could\n",
        "servicing mission\n",
        "michael\n",
        "30\n",
        " \n",
        "Concept 391:"
       ]
      },
      {
       "output_type": "stream",
       "stream": "stdout",
       "text": [
        "\n",
        "may\n",
        "start\n",
        "30\n",
        "mission scheduled\n",
        "bursters\n",
        "world\n",
        "set\n",
        "au\n",
        "current\n",
        "hard\n",
        " \n",
        "Concept 392:"
       ]
      },
      {
       "output_type": "stream",
       "stream": "stdout",
       "text": [
        "\n",
        "one\n",
        "still\n",
        "11\n",
        "keywords\n",
        "put\n",
        "17\n",
        "ago\n",
        "human\n",
        "pat subject re\n",
        "software\n",
        " \n",
        "Concept 393:"
       ]
      },
      {
       "output_type": "stream",
       "stream": "stdout",
       "text": [
        "\n",
        "information\n",
        "jupiter\n",
        "distribution world\n",
        "could\n",
        "research\n",
        "send\n",
        "cso\n",
        "planetary\n",
        "nntp\n",
        "nntp posting\n",
        " \n",
        "Concept 394:"
       ]
      },
      {
       "output_type": "stream",
       "stream": "stdout",
       "text": [
        "\n",
        "question\n",
        "moon\n",
        "little\n",
        "help\n",
        "take\n",
        "landing\n",
        "sci\n",
        "didn\n",
        "pluto\n",
        "10\n",
        " \n",
        "Concept 395:"
       ]
      },
      {
       "output_type": "stream",
       "stream": "stdout",
       "text": [
        "\n",
        "could\n",
        "little\n",
        "software\n",
        "spacecraft\n",
        "loss\n",
        "galileo\n",
        "things\n",
        "mccall\n",
        "level\n",
        "tom\n",
        " \n",
        "Concept 396:"
       ]
      },
      {
       "output_type": "stream",
       "stream": "stdout",
       "text": [
        "\n",
        "ca\n",
        "little\n",
        "allen\n",
        "like\n",
        "option\n",
        "come\n",
        "cost\n",
        "pluto\n",
        "laboratory lines\n",
        "venus\n",
        " \n",
        "Concept 397:"
       ]
      },
      {
       "output_type": "stream",
       "stream": "stdout",
       "text": [
        "\n",
        "put\n",
        "technology\n",
        "orbital\n",
        "assume\n",
        "time\n",
        "computer\n",
        "james\n",
        "given\n",
        "set\n",
        "oort\n",
        " \n",
        "Concept 398:"
       ]
      },
      {
       "output_type": "stream",
       "stream": "stdout",
       "text": [
        "\n",
        "science\n",
        "energy\n",
        "project\n",
        "course\n",
        "rights\n",
        "someone\n",
        "information\n",
        "stuff\n",
        "program\n",
        "30\n",
        " \n",
        "Concept 399:"
       ]
      },
      {
       "output_type": "stream",
       "stream": "stdout",
       "text": [
        "\n",
        "titan\n",
        "several\n",
        "atmosphere\n",
        "spacecraft\n",
        "dc\n",
        "shafer\n",
        "earth\n",
        "keep\n",
        "command\n",
        "nasa\n",
        " \n",
        "Concept 400:"
       ]
      },
      {
       "output_type": "stream",
       "stream": "stdout",
       "text": [
        "\n",
        "send\n",
        "station\n",
        "servicing mission\n",
        "gravity\n",
        "say\n",
        "isn\n",
        "pyron skndiv\n",
        "reply\n",
        "getting\n",
        "planet\n",
        " \n",
        "Concept 401:"
       ]
      },
      {
       "output_type": "stream",
       "stream": "stdout",
       "text": [
        "\n",
        "back\n",
        "within\n",
        "small\n",
        "done\n",
        "speed\n",
        "well\n",
        "quite\n",
        "sun\n",
        "technology\n",
        "said\n",
        " \n",
        "Concept 402:"
       ]
      },
      {
       "output_type": "stream",
       "stream": "stdout",
       "text": [
        "\n",
        "course\n",
        "writes article\n",
        "observatory\n",
        "telescope\n",
        "allen sherzer\n",
        "satellite\n",
        "days\n",
        "take\n",
        "50\n",
        "place\n",
        " \n",
        "Concept 403:"
       ]
      },
      {
       "output_type": "stream",
       "stream": "stdout",
       "text": [
        "\n",
        "orbit\n",
        "may\n",
        "mission\n",
        "news\n",
        "use\n",
        "yet\n",
        "several\n",
        "boost\n",
        "called\n",
        "exploration\n",
        " \n",
        "Concept 404:"
       ]
      },
      {
       "output_type": "stream",
       "stream": "stdout",
       "text": [
        "\n",
        "comet\n",
        "news\n",
        "energy\n",
        "night\n",
        "said\n",
        "orbit\n",
        "based\n",
        "original\n",
        "ideas\n",
        "possible\n",
        " \n",
        "Concept 405:"
       ]
      },
      {
       "output_type": "stream",
       "stream": "stdout",
       "text": [
        "\n",
        "org\n",
        "fred\n",
        "people\n",
        "well\n",
        "nasa\n",
        "use\n",
        "questions\n",
        "space station\n",
        "orbital\n",
        "know\n",
        " \n",
        "Concept 406:"
       ]
      },
      {
       "output_type": "stream",
       "stream": "stdout",
       "text": [
        "\n",
        "well\n",
        "life\n",
        "companies\n",
        "lines 14\n",
        "software\n",
        "exactly\n",
        "come\n",
        "model\n",
        "want\n",
        "sky\n",
        " \n",
        "Concept 407:"
       ]
      },
      {
       "output_type": "stream",
       "stream": "stdout",
       "text": [
        "\n",
        "station\n",
        "org\n",
        "looking\n",
        "gamma ray\n",
        "system\n",
        "light\n",
        "cs\n",
        "like\n",
        "usa lines\n",
        "base\n",
        " \n",
        "Concept 408:"
       ]
      },
      {
       "output_type": "stream",
       "stream": "stdout",
       "text": [
        "\n",
        "science\n",
        "rather\n",
        "data\n",
        "david\n",
        "field\n",
        "everything\n",
        "development\n",
        "anything\n",
        "16\n",
        "better\n",
        " \n",
        "Concept 409:"
       ]
      },
      {
       "output_type": "stream",
       "stream": "stdout",
       "text": [
        "\n",
        "time\n",
        "course\n",
        "russian\n",
        "writes article\n",
        "planet\n",
        "distribution world\n",
        "astro\n",
        "laboratory\n",
        "since\n",
        "within\n",
        " \n",
        "Concept 410:"
       ]
      },
      {
       "output_type": "stream",
       "stream": "stdout",
       "text": [
        "\n",
        "lot\n",
        "dc\n",
        "university\n",
        "10\n",
        "organization university\n",
        "mccall\n",
        "years\n",
        "power\n",
        "book\n",
        "better\n",
        " \n",
        "Concept 411:"
       ]
      },
      {
       "output_type": "stream",
       "stream": "stdout",
       "text": [
        "\n",
        "read\n",
        "didn\n",
        "servicing\n",
        "really\n",
        "never\n",
        "cs\n",
        "aurora alaska\n",
        "orbit around\n",
        "someone\n",
        "caltech\n",
        " \n",
        "Concept 412:"
       ]
      },
      {
       "output_type": "stream",
       "stream": "stdout",
       "text": [
        "\n",
        "org\n",
        "number\n",
        "mining\n",
        "money\n",
        "23\n",
        "hopkins\n",
        "bursters\n",
        "life\n",
        "cmu\n",
        "maybe\n",
        " \n",
        "Concept 413:"
       ]
      },
      {
       "output_type": "stream",
       "stream": "stdout",
       "text": [
        "\n",
        "rocket\n",
        "adams\n",
        "near\n",
        "find\n",
        "day\n",
        "really\n",
        "distribution\n",
        "vacation\n",
        "second\n",
        "computer\n",
        " \n",
        "Concept 414:"
       ]
      },
      {
       "output_type": "stream",
       "stream": "stdout",
       "text": [
        "\n",
        "end\n",
        "moon\n",
        "group\n",
        "system\n",
        "never\n",
        "life\n",
        "bursters\n",
        "observer\n",
        "jsc\n",
        "problem\n",
        " \n",
        "Concept 415:"
       ]
      },
      {
       "output_type": "stream",
       "stream": "stdout",
       "text": [
        "\n",
        "altitude\n",
        "new\n",
        "quite\n",
        "available\n",
        "power\n",
        "please\n",
        "want\n",
        "25\n",
        "orbiter\n",
        "remember\n",
        " \n",
        "Concept 416:"
       ]
      },
      {
       "output_type": "stream",
       "stream": "stdout",
       "text": [
        "\n",
        "au\n",
        "dc\n",
        "mankato\n",
        "distribution world\n",
        "really\n",
        "non\n",
        "going\n",
        "might\n",
        "thanks\n",
        "26\n",
        " \n",
        "Concept 417:"
       ]
      },
      {
       "output_type": "stream",
       "stream": "stdout",
       "text": [
        "\n",
        "problem\n",
        "back\n",
        "jsc\n",
        "dc\n",
        "15\n",
        "exploration\n",
        "orbital\n",
        "servicing\n",
        "au\n",
        "way\n",
        " \n",
        "Concept 418:"
       ]
      },
      {
       "output_type": "stream",
       "stream": "stdout",
       "text": [
        "\n",
        "fuel\n",
        "david\n",
        "university\n",
        "far\n",
        "try\n",
        "sci space\n",
        "radiation\n",
        "16\n",
        "science\n",
        "missions\n",
        " \n",
        "Concept 419:"
       ]
      },
      {
       "output_type": "stream",
       "stream": "stdout",
       "text": [
        "\n",
        "cost\n",
        "several\n",
        "16\n",
        "tell\n",
        "got\n",
        "sort\n",
        "idea\n",
        "public\n",
        "problem\n",
        "guess\n",
        " \n",
        "Concept 420:"
       ]
      },
      {
       "output_type": "stream",
       "stream": "stdout",
       "text": [
        "\n",
        "mind\n",
        "big\n",
        "like\n",
        "rockets\n",
        "either\n",
        "test\n",
        "get\n",
        "satellite\n",
        "want\n",
        "___\n",
        " \n",
        "Concept 421:"
       ]
      },
      {
       "output_type": "stream",
       "stream": "stdout",
       "text": [
        "\n",
        "au\n",
        "josh\n",
        "internet\n",
        "flight\n",
        "must\n",
        "fly\n",
        "important\n",
        "20\n",
        "lines 13\n",
        "going\n",
        " \n",
        "Concept 422:"
       ]
      },
      {
       "output_type": "stream",
       "stream": "stdout",
       "text": [
        "\n",
        "10\n",
        "software\n",
        "support\n",
        "enough\n",
        "used\n",
        "50\n",
        "space station\n",
        "information\n",
        "less\n",
        "cso\n",
        " \n",
        "Concept 423:"
       ]
      },
      {
       "output_type": "stream",
       "stream": "stdout",
       "text": [
        "\n",
        "research\n",
        "cs cmu\n",
        "support\n",
        "doesn\n",
        "caltech\n",
        "ca\n",
        "__ __\n",
        "satellite\n",
        "stars\n",
        "scott\n",
        " \n",
        "Concept 424:"
       ]
      },
      {
       "output_type": "stream",
       "stream": "stdout",
       "text": [
        "\n",
        "questions\n",
        "think\n",
        "international space\n",
        "22\n",
        "orbital\n",
        "question\n",
        "satellites\n",
        "50\n",
        "dc\n",
        "thing\n",
        " \n",
        "Concept 425:"
       ]
      },
      {
       "output_type": "stream",
       "stream": "stdout",
       "text": [
        "\n",
        "know\n",
        "org\n",
        "night\n",
        "servicing\n",
        "station\n",
        "reward\n",
        "jsc nasa\n",
        "jsc nasa gov\n",
        "sure\n",
        "instruments\n",
        " \n",
        "Concept 426:"
       ]
      },
      {
       "output_type": "stream",
       "stream": "stdout",
       "text": [
        "\n",
        "reply\n",
        "program\n",
        "small\n",
        "gravity\n",
        "based\n",
        "launched\n",
        "development\n",
        "best\n",
        "_____\n",
        "gamma\n",
        " \n",
        "Concept 427:"
       ]
      },
      {
       "output_type": "stream",
       "stream": "stdout",
       "text": [
        "\n",
        "something\n",
        "known\n",
        "technology\n",
        "short\n",
        "15\n",
        "smiley\n",
        "rocket\n",
        "go\n",
        "jpl nasa gov\n",
        "dick\n",
        " \n",
        "Concept 428:"
       ]
      },
      {
       "output_type": "stream",
       "stream": "stdout",
       "text": [
        "\n",
        "actually\n",
        "military\n",
        "sci lines\n",
        "things\n",
        "lunar\n",
        "able\n",
        "flight\n",
        "rights\n",
        "costs\n",
        "satellite\n",
        " \n",
        "Concept 429:"
       ]
      },
      {
       "output_type": "stream",
       "stream": "stdout",
       "text": [
        "\n",
        "think\n",
        "new\n",
        "digest\n",
        "14\n",
        "radio\n",
        "moon\n",
        "got\n",
        "steinly\n",
        "market\n",
        "systems\n",
        " \n",
        "Concept 430:"
       ]
      },
      {
       "output_type": "stream",
       "stream": "stdout",
       "text": [
        "\n",
        "news\n",
        "someone\n",
        "ve\n",
        "systems\n",
        "etc\n",
        "support\n",
        "degrees\n",
        "remember\n",
        "back\n",
        "rocket\n",
        " \n",
        "Concept 431:"
       ]
      },
      {
       "output_type": "stream",
       "stream": "stdout",
       "text": [
        "\n",
        "nsmca\n",
        "moon\n",
        "something\n",
        "planetary\n",
        "used\n",
        "uk\n",
        "rocket\n",
        "13\n",
        "pat\n",
        "mind\n",
        " \n",
        "Concept 432:"
       ]
      },
      {
       "output_type": "stream",
       "stream": "stdout",
       "text": [
        "\n",
        "cs\n",
        "shuttle\n",
        "ac\n",
        "anyone\n",
        "lunar\n",
        "bit\n",
        "us\n",
        "vacation\n",
        "redesign\n",
        "seen\n",
        " \n",
        "Concept 433:"
       ]
      },
      {
       "output_type": "stream",
       "stream": "stdout",
       "text": [
        "\n",
        "military\n",
        "set\n",
        "engines\n",
        "command\n",
        "used\n",
        "cheaper\n",
        "day\n",
        "moon\n",
        "lines 14\n",
        "quite\n",
        " \n",
        "Concept 434:"
       ]
      },
      {
       "output_type": "stream",
       "stream": "stdout",
       "text": [
        "\n",
        "ca\n",
        "idea\n",
        "end\n",
        "want\n",
        "since\n",
        "unless\n",
        "use\n",
        "moon\n",
        "national\n",
        "news software\n",
        " \n",
        "Concept 435:"
       ]
      },
      {
       "output_type": "stream",
       "stream": "stdout",
       "text": [
        "\n",
        "cs\n",
        "well\n",
        "heard\n",
        "high speed\n",
        "observatory\n",
        "space shuttle\n",
        "shuttle program\n",
        "sky\n",
        "costs\n",
        "couldn\n",
        " \n",
        "Concept 436:"
       ]
      },
      {
       "output_type": "stream",
       "stream": "stdout",
       "text": [
        "\n",
        "read\n",
        "10\n",
        "ve\n",
        "need\n",
        "say\n",
        "cs\n",
        "15\n",
        "fuel\n",
        "one\n",
        "political\n",
        " \n",
        "Concept 437:"
       ]
      },
      {
       "output_type": "stream",
       "stream": "stdout",
       "text": [
        "\n",
        "20\n",
        "missions\n",
        "planetary\n",
        "shuttle\n",
        "17\n",
        "still\n",
        "time\n",
        "low\n",
        "online communications\n",
        "atmosphere\n",
        " \n",
        "Concept 438:"
       ]
      },
      {
       "output_type": "stream",
       "stream": "stdout",
       "text": [
        "\n",
        "things\n",
        "part\n",
        "need\n",
        "propulsion\n",
        "sci space\n",
        "saturn\n",
        "16\n",
        "inc\n",
        "april\n",
        "isn\n",
        " \n",
        "Concept 439:"
       ]
      },
      {
       "output_type": "stream",
       "stream": "stdout",
       "text": [
        "\n",
        "air\n",
        "science\n",
        "private\n",
        "day\n",
        "life\n",
        "access\n",
        "shuttle\n",
        "man\n",
        "lunar\n",
        "power\n",
        " \n",
        "Concept 440:"
       ]
      },
      {
       "output_type": "stream",
       "stream": "stdout",
       "text": [
        "\n",
        "12\n",
        "expensive\n",
        "venus\n",
        "large\n",
        "degrees\n",
        "cost\n",
        "support\n",
        "university alaska\n",
        "rather\n",
        "fairbanks\n",
        " \n",
        "Concept 441:"
       ]
      },
      {
       "output_type": "stream",
       "stream": "stdout",
       "text": [
        "\n",
        "comet\n",
        "actually\n",
        "still\n",
        "life\n",
        "could\n",
        "11 days\n",
        "general\n",
        "rocket\n",
        "news\n",
        "want\n",
        " \n",
        "Concept 442:"
       ]
      },
      {
       "output_type": "stream",
       "stream": "stdout",
       "text": [
        "\n",
        "said\n",
        "really\n",
        "distribution\n",
        "go\n",
        "project\n",
        "however\n",
        "involved\n",
        "17\n",
        "model\n",
        "unc\n",
        " \n",
        "Concept 443:"
       ]
      },
      {
       "output_type": "stream",
       "stream": "stdout",
       "text": [
        "\n",
        "organization university\n",
        "control\n",
        "degrees\n",
        "set\n",
        "ftp\n",
        "jpl\n",
        "jet propulsion\n",
        "mass\n",
        "new\n",
        "jsc\n",
        " \n",
        "Concept 444:"
       ]
      },
      {
       "output_type": "stream",
       "stream": "stdout",
       "text": [
        "\n",
        "really\n",
        "like\n",
        "control\n",
        "see\n",
        "communications\n",
        "ron baalke\n",
        "good\n",
        "fact\n",
        "list\n",
        "source\n",
        " \n",
        "Concept 445:"
       ]
      },
      {
       "output_type": "stream",
       "stream": "stdout",
       "text": [
        "\n",
        "design\n",
        "david\n",
        "someone\n",
        "see\n",
        "area\n",
        "mars\n",
        "iti\n",
        "get\n",
        "shuttle\n",
        "maybe\n",
        " \n",
        "Concept 446:"
       ]
      },
      {
       "output_type": "stream",
       "stream": "stdout",
       "text": [
        "\n",
        "life\n",
        "air\n",
        "venus\n",
        "send\n",
        "thought\n",
        "stuff\n",
        "gene\n",
        "sorry\n",
        "ago\n",
        "mail\n",
        " \n",
        "Concept 447:"
       ]
      },
      {
       "output_type": "stream",
       "stream": "stdout",
       "text": [
        "\n",
        "mission\n",
        "anyone\n",
        "life\n",
        "air\n",
        "jpl\n",
        "read\n",
        "kind\n",
        "vacation\n",
        "control\n",
        "jpl nasa gov\n",
        " \n",
        "Concept 448:"
       ]
      },
      {
       "output_type": "stream",
       "stream": "stdout",
       "text": [
        "\n",
        "information\n",
        "ray\n",
        "point\n",
        "distribution\n",
        "enough\n",
        "12\n",
        "months\n",
        "fly\n",
        "seriously\n",
        "get\n",
        " \n",
        "Concept 449:"
       ]
      },
      {
       "output_type": "stream",
       "stream": "stdout",
       "text": [
        "\n",
        "computer\n",
        "speed\n",
        "three\n",
        "use\n",
        "isu\n",
        "caltech\n",
        "unless\n",
        "university alaska\n",
        "digest\n",
        "distribution world\n",
        " \n",
        "Concept 450:"
       ]
      },
      {
       "output_type": "stream",
       "stream": "stdout",
       "text": [
        "\n",
        "used\n",
        "gamma ray\n",
        "see\n",
        "still\n",
        "sure\n",
        "commercial\n",
        "reply\n",
        "star\n",
        "support\n",
        "small\n",
        " \n",
        "Concept 451:"
       ]
      },
      {
       "output_type": "stream",
       "stream": "stdout",
       "text": [
        "\n",
        "right\n",
        "writes article\n",
        "system\n",
        "stuff\n",
        "project\n",
        "heard\n",
        "problem\n",
        "called\n",
        "allen\n",
        "see\n",
        " \n",
        "Concept 452:"
       ]
      },
      {
       "output_type": "stream",
       "stream": "stdout",
       "text": [
        "\n",
        "fred\n",
        "maybe\n",
        "timer\n",
        "many\n",
        "news\n",
        "fred mccall\n",
        "seems\n",
        "time\n",
        "reason\n",
        "david\n",
        " \n",
        "Concept 453:"
       ]
      },
      {
       "output_type": "stream",
       "stream": "stdout",
       "text": [
        "\n",
        "spacecraft\n",
        "satellite\n",
        "test\n",
        "designed\n",
        "air\n",
        "ago\n",
        "missions\n",
        "moon\n",
        "michael\n",
        "around\n",
        " \n",
        "Concept 454:"
       ]
      },
      {
       "output_type": "stream",
       "stream": "stdout",
       "text": [
        "\n",
        "actually\n",
        "resembles\n",
        "said\n",
        "arrays\n",
        "second\n",
        "_____\n",
        "ago\n",
        "case\n",
        "three\n",
        "usa lines\n",
        " \n",
        "Concept 455:"
       ]
      },
      {
       "output_type": "stream",
       "stream": "stdout",
       "text": [
        "\n",
        "may\n",
        "command\n",
        "telescope\n",
        "get\n",
        "known\n",
        "11\n",
        "since\n",
        "cso\n",
        "use\n",
        "keep\n",
        " \n",
        "Concept 456:"
       ]
      },
      {
       "output_type": "stream",
       "stream": "stdout",
       "text": [
        "\n",
        "given\n",
        "lines 15\n",
        "sci\n",
        "true\n",
        "rockets\n",
        "buy\n",
        "ground\n",
        "research\n",
        "re vandalizing\n",
        "re vandalizing sky\n",
        " \n",
        "Concept 457:"
       ]
      },
      {
       "output_type": "stream",
       "stream": "stdout",
       "text": [
        "\n",
        "sun\n",
        "mark\n",
        "bit\n",
        "know\n",
        "fuel\n",
        "may\n",
        "put\n",
        "enough\n",
        "fact\n",
        "ames\n",
        " \n",
        "Concept 458:"
       ]
      },
      {
       "output_type": "stream",
       "stream": "stdout",
       "text": [
        "\n",
        "manned\n",
        "since\n",
        "may\n",
        "moon\n",
        "air\n",
        "design\n",
        "little\n",
        "internet\n",
        "looking\n",
        "rights\n",
        " \n",
        "Concept 459:"
       ]
      },
      {
       "output_type": "stream",
       "stream": "stdout",
       "text": [
        "\n",
        "technology\n",
        "pat\n",
        "14\n",
        "point\n",
        "low\n",
        "larger\n",
        "funding\n",
        "force\n",
        "gene\n",
        "anything\n",
        " \n",
        "Concept 460:"
       ]
      },
      {
       "output_type": "stream",
       "stream": "stdout",
       "text": [
        "\n",
        "high\n",
        "15\n",
        "laboratory\n",
        "sort\n",
        "ll\n",
        "way\n",
        "article\n",
        "writes article\n",
        "questions\n",
        "astro\n",
        " \n",
        "Concept 461:"
       ]
      },
      {
       "output_type": "stream",
       "stream": "stdout",
       "text": [
        "\n",
        "found\n",
        "question\n",
        "find\n",
        "rockets\n",
        "command\n",
        "night\n",
        "ron\n",
        "made\n",
        "writes article\n",
        "point\n",
        " \n",
        "Concept 462:"
       ]
      },
      {
       "output_type": "stream",
       "stream": "stdout",
       "text": [
        "\n",
        "satellite\n",
        "university\n",
        "dunn\n",
        "come\n",
        "lab\n",
        "one\n",
        "caltech\n",
        "boost\n",
        "light\n",
        "remember\n",
        " \n",
        "Concept 463:"
       ]
      },
      {
       "output_type": "stream",
       "stream": "stdout",
       "text": [
        "\n",
        "could\n",
        "however\n",
        "org\n",
        "money\n",
        "thing\n",
        "better\n",
        "course\n",
        "close\n",
        "many\n",
        "fnal\n",
        " \n",
        "Concept 464:"
       ]
      },
      {
       "output_type": "stream",
       "stream": "stdout",
       "text": [
        "\n",
        "could\n",
        "get\n",
        "cs\n",
        "access pat writes\n",
        "someone\n",
        "spencer subject re\n",
        "quite\n",
        "center\n",
        "way\n",
        "14\n",
        " \n",
        "Concept 465:"
       ]
      },
      {
       "output_type": "stream",
       "stream": "stdout",
       "text": [
        "\n",
        "bill\n",
        "added\n",
        "like\n",
        "cs\n",
        "satellite\n",
        "25\n",
        "josh hopkins\n",
        "well\n",
        "__\n",
        "really\n",
        " \n",
        "Concept 466:"
       ]
      },
      {
       "output_type": "stream",
       "stream": "stdout",
       "text": [
        "\n",
        "science\n",
        "satellite\n",
        "need\n",
        "dark\n",
        "several\n",
        "used\n",
        "live\n",
        "us\n",
        "program\n",
        "michael adams\n",
        " \n",
        "Concept 467:"
       ]
      },
      {
       "output_type": "stream",
       "stream": "stdout",
       "text": [
        "\n",
        "research\n",
        "inc\n",
        "probe\n",
        "public\n",
        "less\n",
        "collision\n",
        "try\n",
        "problems\n",
        "planet\n",
        "sky\n",
        " \n",
        "Concept 468:"
       ]
      },
      {
       "output_type": "stream",
       "stream": "stdout",
       "text": [
        "\n",
        "center\n",
        "satellite\n",
        "stuff\n",
        "say\n",
        "flight\n",
        "support\n",
        "planets\n",
        "read\n",
        "look\n",
        "one\n",
        " \n",
        "Concept 469:"
       ]
      },
      {
       "output_type": "stream",
       "stream": "stdout",
       "text": [
        "\n",
        "part\n",
        "program\n",
        "send\n",
        "air\n",
        "14\n",
        "phil\n",
        "things\n",
        "comet\n",
        "test\n",
        "anything\n",
        " \n",
        "Concept 470:"
       ]
      },
      {
       "output_type": "stream",
       "stream": "stdout",
       "text": [
        "\n",
        "93\n",
        "problems\n",
        "money\n",
        "institute\n",
        "help\n",
        "believe\n",
        "else\n",
        "try\n",
        "space digest\n",
        "need\n",
        " \n",
        "Concept 471:"
       ]
      },
      {
       "output_type": "stream",
       "stream": "stdout",
       "text": [
        "\n",
        "something\n",
        "used\n",
        "sun\n",
        "org\n",
        "say\n",
        "money\n",
        "maybe\n",
        "proposed\n",
        "like\n",
        "going\n",
        " \n",
        "Concept 472:"
       ]
      },
      {
       "output_type": "stream",
       "stream": "stdout",
       "text": [
        "\n",
        "said\n",
        "general\n",
        "lines 14\n",
        "money\n",
        "pat\n",
        "research\n",
        "use\n",
        "build\n",
        "far\n",
        "mass\n",
        " \n",
        "Concept 473:"
       ]
      },
      {
       "output_type": "stream",
       "stream": "stdout",
       "text": [
        "\n",
        "thing\n",
        "funding\n",
        "many\n",
        "true\n",
        "give\n",
        "commercial\n",
        "temperature\n",
        "21\n",
        "things\n",
        "carry\n",
        " \n",
        "Concept 474:"
       ]
      },
      {
       "output_type": "stream",
       "stream": "stdout",
       "text": [
        "\n",
        "got\n",
        "space station\n",
        "reply\n",
        "1993apr20\n",
        "15\n",
        "small\n",
        "could\n",
        "doesn\n",
        "usa\n",
        "think\n",
        " \n",
        "Concept 475:"
       ]
      },
      {
       "output_type": "stream",
       "stream": "stdout",
       "text": [
        "\n",
        "order\n",
        "allen\n",
        "even\n",
        "access pat writes\n",
        "want\n",
        "ac\n",
        "day\n",
        "baalke\n",
        "flight\n",
        "something\n",
        " \n",
        "Concept 476:"
       ]
      },
      {
       "output_type": "stream",
       "stream": "stdout",
       "text": [
        "\n",
        "20\n",
        "sky organization\n",
        "years\n",
        "state\n",
        "end\n",
        "science\n",
        "large\n",
        "used\n",
        "solar system\n",
        "prize\n",
        " \n",
        "Concept 477:"
       ]
      },
      {
       "output_type": "stream",
       "stream": "stdout",
       "text": [
        "\n",
        "need\n",
        "16\n",
        "temperature\n",
        "proposed\n",
        "possible\n",
        "us\n",
        "expensive\n",
        "available\n",
        "00\n",
        "doug\n",
        " \n",
        "Concept 478:"
       ]
      },
      {
       "output_type": "stream",
       "stream": "stdout",
       "text": [
        "\n",
        "option\n",
        "much\n",
        "___\n",
        "pat writes\n",
        "dryden\n",
        "12\n",
        "heard\n",
        "current\n",
        "high\n",
        "mksol\n",
        " \n",
        "Concept 479:"
       ]
      },
      {
       "output_type": "stream",
       "stream": "stdout",
       "text": [
        "\n",
        "earth\n",
        "office\n",
        "true\n",
        "national\n",
        "astronomy\n",
        "one\n",
        "planetary\n",
        "given\n",
        "probably\n",
        "use\n",
        " \n",
        "Concept 480:"
       ]
      },
      {
       "output_type": "stream",
       "stream": "stdout",
       "text": [
        "\n",
        "gamma\n",
        "get\n",
        "reply\n",
        "read\n",
        "possible\n",
        "less\n",
        "sent\n",
        "face\n",
        "physics\n",
        "still\n",
        " \n",
        "Concept 481:"
       ]
      },
      {
       "output_type": "stream",
       "stream": "stdout",
       "text": [
        "\n",
        "cso\n",
        "done\n",
        "want\n",
        "au\n",
        "research\n",
        "vms\n",
        "nsmca\n",
        "mail\n",
        "program\n",
        "michael\n",
        " \n",
        "Concept 482:"
       ]
      },
      {
       "output_type": "stream",
       "stream": "stdout",
       "text": [
        "\n",
        "software\n",
        "mail\n",
        "idea\n",
        "please\n",
        "institute\n",
        "center\n",
        "world\n",
        "fairbanks\n",
        "project\n",
        "case\n",
        " \n",
        "Concept 483:"
       ]
      },
      {
       "output_type": "stream",
       "stream": "stdout",
       "text": [
        "\n",
        "earth\n",
        "distribution\n",
        "tom\n",
        "big\n",
        "help\n",
        "reason\n",
        "center\n",
        "back\n",
        "range\n",
        "flyby\n",
        " \n",
        "Concept 484:"
       ]
      },
      {
       "output_type": "stream",
       "stream": "stdout",
       "text": [
        "\n",
        "able\n",
        "research\n",
        "via\n",
        "day\n",
        "orbit\n",
        "space digest\n",
        "vax\n",
        "17\n",
        "30\n",
        "get\n",
        " \n",
        "Concept 485:"
       ]
      },
      {
       "output_type": "stream",
       "stream": "stdout",
       "text": [
        "\n",
        "anyone\n",
        "satellite\n",
        "private\n",
        "mission\n",
        "based\n",
        "isn\n",
        "speak\n",
        "propulsion\n",
        "right\n",
        "research\n",
        " \n",
        "Concept 486:"
       ]
      },
      {
       "output_type": "stream",
       "stream": "stdout",
       "text": [
        "\n",
        "institute\n",
        "also\n",
        "earth\n",
        "mission scheduled\n",
        "information\n",
        "new\n",
        "spacecraft\n",
        "reply\n",
        "online\n",
        "isu\n",
        " \n",
        "Concept 487:"
       ]
      },
      {
       "output_type": "stream",
       "stream": "stdout",
       "text": [
        "\n",
        "know\n",
        "project\n",
        "time\n",
        "someone\n",
        "satellite\n",
        "sun\n",
        "since\n",
        "george\n",
        "probe\n",
        "titan\n",
        " \n",
        "Concept 488:"
       ]
      },
      {
       "output_type": "stream",
       "stream": "stdout",
       "text": [
        "\n",
        "ca\n",
        "life\n",
        "images\n",
        "get\n",
        "project\n",
        "telescope\n",
        "must\n",
        "18\n",
        "course\n",
        "rather\n",
        " \n",
        "Concept 489:"
       ]
      },
      {
       "output_type": "stream",
       "stream": "stdout",
       "text": [
        "\n",
        "next\n",
        "use\n",
        "course\n",
        "air\n",
        "low\n",
        "please\n",
        "co\n",
        "distribution world\n",
        "going\n",
        "power\n",
        " \n",
        "Concept 490:"
       ]
      },
      {
       "output_type": "stream",
       "stream": "stdout",
       "text": [
        "\n",
        "idea\n",
        "put\n",
        "got\n",
        "billion\n",
        "writes article\n",
        "place\n",
        "ve\n",
        "12\n",
        "information\n",
        "land\n",
        " \n",
        "Concept 491:"
       ]
      },
      {
       "output_type": "stream",
       "stream": "stdout",
       "text": [
        "\n",
        "anyone\n",
        "launch\n",
        "send\n",
        "org\n",
        "reply\n",
        "commercial\n",
        "dark\n",
        "re space\n",
        "course\n",
        "system\n",
        " \n",
        "Concept 492:"
       ]
      },
      {
       "output_type": "stream",
       "stream": "stdout",
       "text": [
        "\n",
        "11\n",
        "called\n",
        "reason\n",
        "org\n",
        "remember\n",
        "command\n",
        "system\n",
        "au\n",
        "bursters\n",
        "long term\n",
        " \n",
        "Concept 493:"
       ]
      },
      {
       "output_type": "stream",
       "stream": "stdout",
       "text": [
        "\n",
        "cmu\n",
        "actually\n",
        "want\n",
        "propulsion\n",
        "safety\n",
        "close\n",
        "re space\n",
        "give billion\n",
        "good\n",
        "far\n",
        " \n",
        "Concept 494:"
       ]
      },
      {
       "output_type": "stream",
       "stream": "stdout",
       "text": [
        "\n",
        "software\n",
        "30\n",
        "much\n",
        "every\n",
        "say\n",
        "exploration\n",
        "long\n",
        "get\n",
        "nasa\n",
        "able\n",
        " \n",
        "Concept 495:"
       ]
      },
      {
       "output_type": "stream",
       "stream": "stdout",
       "text": [
        "\n",
        "think\n",
        "flight\n",
        "anyone\n",
        "still\n",
        "space digest\n",
        "org\n",
        "ca\n",
        "question\n",
        "need\n",
        "satellites\n",
        " \n",
        "Concept 496:"
       ]
      },
      {
       "output_type": "stream",
       "stream": "stdout",
       "text": [
        "\n",
        "rather\n",
        "probably\n",
        "david\n",
        "higgins\n",
        "30\n",
        "control\n",
        "unless\n",
        "solar\n",
        "something\n",
        "sort\n",
        " \n",
        "Concept 497:"
       ]
      },
      {
       "output_type": "stream",
       "stream": "stdout",
       "text": [
        "\n",
        "two\n",
        "may\n",
        "place\n",
        "model\n",
        "cs\n",
        "also\n",
        "boost\n",
        "many\n",
        "good\n",
        "josh hopkins\n",
        " \n",
        "Concept 498:"
       ]
      },
      {
       "output_type": "stream",
       "stream": "stdout",
       "text": [
        "\n",
        "11\n",
        "research\n",
        "funding\n",
        "rocket\n",
        "sci space\n",
        "30\n",
        "atmosphere\n",
        "station\n",
        "ucsc\n",
        "hard\n",
        " \n",
        "Concept 499:"
       ]
      },
      {
       "output_type": "stream",
       "stream": "stdout",
       "text": [
        "\n",
        "new\n",
        "us\n",
        "close\n",
        "power\n",
        "mars observer\n",
        "institute\n",
        "jet propulsion\n",
        "given\n",
        "mining\n",
        "allen\n",
        " \n",
        "Concept 500:"
       ]
      },
      {
       "output_type": "stream",
       "stream": "stdout",
       "text": [
        "\n",
        "software\n",
        "called\n",
        "go\n",
        "see\n",
        "orbit\n",
        "number\n",
        "solar\n",
        "since\n",
        "email\n",
        "online\n",
        " \n",
        "Concept 501:"
       ]
      },
      {
       "output_type": "stream",
       "stream": "stdout",
       "text": [
        "\n",
        "research\n",
        "international\n",
        "back\n",
        "possible\n",
        "dick\n",
        "nsmca\n",
        "satellites\n",
        "system\n",
        "astronomy\n",
        "least\n",
        " \n",
        "Concept 502:"
       ]
      },
      {
       "output_type": "stream",
       "stream": "stdout",
       "text": [
        "\n",
        "long\n",
        "lunar\n",
        "let\n",
        "us\n",
        "used\n",
        "earth\n",
        "around\n",
        "vax vms\n",
        "science\n",
        "mail\n",
        " \n",
        "Concept 503:"
       ]
      },
      {
       "output_type": "stream",
       "stream": "stdout",
       "text": [
        "\n",
        "high\n",
        "14\n",
        "end\n",
        "part\n",
        "writes article\n",
        "done\n",
        "palmer\n",
        "information\n",
        "jet propulsion\n",
        "research\n",
        " \n",
        "Concept 504:"
       ]
      },
      {
       "output_type": "stream",
       "stream": "stdout",
       "text": [
        "\n",
        "launch\n",
        "david\n",
        "uk\n",
        "technology\n",
        "1993\n",
        "isn\n",
        "thing\n",
        "say\n",
        "high speed\n",
        "org\n",
        " \n",
        "Concept 505:"
       ]
      },
      {
       "output_type": "stream",
       "stream": "stdout",
       "text": [
        "\n",
        "maybe\n",
        "keywords\n",
        "ron\n",
        "system\n",
        "live\n",
        "servicing\n",
        "power\n",
        "sci\n",
        "internet\n",
        "us\n",
        " \n",
        "Concept 506:"
       ]
      },
      {
       "output_type": "stream",
       "stream": "stdout",
       "text": [
        "\n",
        "still\n",
        "ago\n",
        "distribution sci\n",
        "support\n",
        "speak\n",
        "center\n",
        "distribution world\n",
        "cs cmu\n",
        "day\n",
        "years\n",
        " \n",
        "Concept 507:"
       ]
      },
      {
       "output_type": "stream",
       "stream": "stdout",
       "text": [
        "\n",
        "science\n",
        "fuel\n",
        "12\n",
        "bill\n",
        "set\n",
        "test\n",
        "done\n",
        "dc\n",
        "rather\n",
        "data\n",
        " \n",
        "Concept 508:"
       ]
      },
      {
       "output_type": "stream",
       "stream": "stdout",
       "text": [
        "\n",
        "cost\n",
        "93\n",
        "__\n",
        "cs\n",
        "course\n",
        "egalon\n",
        "man\n",
        "kind\n",
        "planet\n",
        "images\n",
        " \n",
        "Concept 509:"
       ]
      },
      {
       "output_type": "stream",
       "stream": "stdout",
       "text": [
        "\n",
        "say\n",
        "life\n",
        "think\n",
        "__\n",
        "using\n",
        "message\n",
        "images\n",
        "vehicle\n",
        "propulsion\n",
        "low\n",
        " \n",
        "Concept 510:"
       ]
      },
      {
       "output_type": "stream",
       "stream": "stdout",
       "text": [
        "\n",
        "stuff\n",
        "mccall\n",
        "big\n",
        "small\n",
        "bursters\n",
        "higher\n",
        "long\n",
        "man\n",
        "re space\n",
        "pat\n",
        " \n",
        "Concept 511:"
       ]
      },
      {
       "output_type": "stream",
       "stream": "stdout",
       "text": [
        "\n",
        "organization university\n",
        "galileo\n",
        "project\n",
        "money\n",
        "think\n",
        "build\n",
        "end\n",
        "online communications\n",
        "pat writes\n",
        "must\n",
        " \n",
        "Concept 512:"
       ]
      },
      {
       "output_type": "stream",
       "stream": "stdout",
       "text": [
        "\n",
        "gene\n",
        "power\n",
        "telescope\n",
        "system\n",
        "get\n",
        "usa lines\n",
        "12\n",
        "real\n",
        "still\n",
        "sci\n",
        " \n",
        "Concept 513:"
       ]
      },
      {
       "output_type": "stream",
       "stream": "stdout",
       "text": [
        "\n",
        "may\n",
        "science\n",
        "instruments\n",
        "ca\n",
        "15\n",
        "org\n",
        "laboratory\n",
        "fnal\n",
        "much\n",
        "cmu\n",
        " \n",
        "Concept 514:"
       ]
      },
      {
       "output_type": "stream",
       "stream": "stdout",
       "text": [
        "\n",
        "orbit\n",
        "university\n",
        "engineering\n",
        "ago\n",
        "lab\n",
        "air\n",
        "end\n",
        "cso\n",
        "military\n",
        "pat writes\n",
        " \n",
        "Concept 515:"
       ]
      },
      {
       "output_type": "stream",
       "stream": "stdout",
       "text": [
        "\n",
        "orbit\n",
        "know\n",
        "boost\n",
        "problems\n",
        "single\n",
        "11\n",
        "air\n",
        "done\n",
        "center\n",
        "usa\n",
        " \n",
        "Concept 516:"
       ]
      },
      {
       "output_type": "stream",
       "stream": "stdout",
       "text": [
        "\n",
        "ago\n",
        "atmosphere\n",
        "project\n",
        "still\n",
        "spacecraft\n",
        "know\n",
        "end\n",
        "go\n",
        "institute\n",
        "remember\n",
        " \n",
        "Concept 517:"
       ]
      },
      {
       "output_type": "stream",
       "stream": "stdout",
       "text": [
        "\n",
        "air\n",
        "us\n",
        "someone\n",
        "sure\n",
        "remember\n",
        "reply\n",
        "life\n",
        "things\n",
        "used\n",
        "near\n",
        " \n",
        "Concept 518:"
       ]
      },
      {
       "output_type": "stream",
       "stream": "stdout",
       "text": [
        "\n",
        "planetary\n",
        "may\n",
        "another\n",
        "seen\n",
        "life\n",
        "course\n",
        "news\n",
        "involved\n",
        "space\n",
        "questions\n",
        " \n",
        "Concept 519:"
       ]
      },
      {
       "output_type": "stream",
       "stream": "stdout",
       "text": [
        "\n",
        "research\n",
        "could\n",
        "money\n",
        "science\n",
        "least\n",
        "others\n",
        "express\n",
        "orbit\n",
        "night\n",
        "arrays\n",
        " \n",
        "Concept 520:"
       ]
      },
      {
       "output_type": "stream",
       "stream": "stdout",
       "text": [
        "\n",
        "aurora\n",
        "get\n",
        "arrays\n",
        "things\n",
        "might\n",
        "article\n",
        "end\n",
        "larc\n",
        "three\n",
        "area\n",
        " \n",
        "Concept 521:"
       ]
      },
      {
       "output_type": "stream",
       "stream": "stdout",
       "text": [
        "\n",
        "also\n",
        "13\n",
        "costs\n",
        "expensive\n",
        "know\n",
        "center\n",
        "times\n",
        "please\n",
        "20\n",
        "anyone\n",
        " \n",
        "Concept 522:"
       ]
      },
      {
       "output_type": "stream",
       "stream": "stdout",
       "text": [
        "\n",
        "us\n",
        "hst\n",
        "university\n",
        "like\n",
        "good\n",
        "though\n",
        "space shuttle\n",
        "uk\n",
        "phil\n",
        "launch\n",
        " \n",
        "Concept 523:"
       ]
      },
      {
       "output_type": "stream",
       "stream": "stdout",
       "text": [
        "\n",
        "10\n",
        "questions\n",
        "see\n",
        "telescope\n",
        "launches\n",
        "earth\n",
        "didn\n",
        "organization university\n",
        "still\n",
        "vax vms\n",
        " \n",
        "Concept 524:"
       ]
      },
      {
       "output_type": "stream",
       "stream": "stdout",
       "text": [
        "\n",
        "jsc\n",
        "cost\n",
        "better\n",
        "bit\n",
        "pluto\n",
        "cloud\n",
        "number\n",
        "close\n",
        "moon\n",
        "believe\n",
        " \n",
        "Concept 525:"
       ]
      },
      {
       "output_type": "stream",
       "stream": "stdout",
       "text": [
        "\n",
        "big\n",
        "need\n",
        "news\n",
        "help\n",
        "13\n",
        "good\n",
        "life\n",
        "lot\n",
        "better\n",
        "maybe\n",
        " \n",
        "Concept 526:"
       ]
      },
      {
       "output_type": "stream",
       "stream": "stdout",
       "text": [
        "\n",
        "years\n",
        "problem\n",
        "possible\n",
        "org\n",
        "technology\n",
        "program\n",
        "rocket\n",
        "13\n",
        "day\n",
        "national\n",
        " \n",
        "Concept 527:"
       ]
      },
      {
       "output_type": "stream",
       "stream": "stdout",
       "text": [
        "\n",
        "cso\n",
        "day\n",
        "may\n",
        "shuttle\n",
        "put\n",
        "answer\n",
        "moon\n",
        "man\n",
        "ground\n",
        "make\n",
        " \n",
        "Concept 528:"
       ]
      },
      {
       "output_type": "stream",
       "stream": "stdout",
       "text": [
        "\n",
        "11\n",
        "14\n",
        "us\n",
        "much\n",
        "distribution\n",
        "days\n",
        "long\n",
        "know\n",
        "things\n",
        "available\n",
        " \n",
        "Concept 529:"
       ]
      },
      {
       "output_type": "stream",
       "stream": "stdout",
       "text": [
        "\n",
        "probably\n",
        "anyone\n",
        "look\n",
        "international\n",
        "vehicle\n",
        "news\n",
        "vax\n",
        "drag\n",
        "dunn\n",
        "servicing mission\n",
        " \n",
        "Concept 530:"
       ]
      },
      {
       "output_type": "stream",
       "stream": "stdout",
       "text": [
        "\n",
        "distribution\n",
        "news\n",
        "people\n",
        "23\n",
        "center\n",
        "sci\n",
        "made\n",
        "problems\n",
        "times\n",
        "either\n",
        " \n",
        "Concept 531:"
       ]
      },
      {
       "output_type": "stream",
       "stream": "stdout",
       "text": [
        "\n",
        "life\n",
        "posting\n",
        "us\n",
        "energy\n",
        "_____\n",
        "telescope\n",
        "mission\n",
        "orbiter\n",
        "access pat writes\n",
        "news\n",
        " \n",
        "Concept 532:"
       ]
      },
      {
       "output_type": "stream",
       "stream": "stdout",
       "text": [
        "\n",
        "real\n",
        "time\n",
        "said\n",
        "heard\n",
        "19\n",
        "station\n",
        "course\n",
        "reply\n",
        "light\n",
        "part\n",
        " \n",
        "Concept 533:"
       ]
      },
      {
       "output_type": "stream",
       "stream": "stdout",
       "text": [
        "\n",
        "much\n",
        "go\n",
        "actually\n",
        "spencer subject re\n",
        "world\n",
        "50\n",
        "help\n",
        "information\n",
        "ever\n",
        "mind\n",
        " \n",
        "Concept 534:"
       ]
      },
      {
       "output_type": "stream",
       "stream": "stdout",
       "text": [
        "\n",
        "1993\n",
        "temperature\n",
        "heard\n",
        "ground\n",
        "low\n",
        "look\n",
        "missions\n",
        "michael\n",
        "air\n",
        "loss\n",
        " \n",
        "Concept 535:"
       ]
      },
      {
       "output_type": "stream",
       "stream": "stdout",
       "text": [
        "\n",
        "science\n",
        "20\n",
        "lab\n",
        "vehicle\n",
        "come\n",
        "jpl\n",
        "well\n",
        "based\n",
        "time\n",
        "first\n",
        " \n",
        "Concept 536:"
       ]
      },
      {
       "output_type": "stream",
       "stream": "stdout",
       "text": [
        "\n",
        "mars\n",
        "cs\n",
        "sci space\n",
        "example\n",
        "writes article\n",
        "data\n",
        "probe\n",
        "around\n",
        "interesting\n",
        "really\n",
        " \n",
        "Concept 537:"
       ]
      },
      {
       "output_type": "stream",
       "stream": "stdout",
       "text": [
        "\n",
        "org\n",
        "still\n",
        "things\n",
        "ll\n",
        "using\n",
        "cs cmu\n",
        "expensive\n",
        "long\n",
        "thing\n",
        "life\n",
        " \n",
        "Concept 538:"
       ]
      },
      {
       "output_type": "stream",
       "stream": "stdout",
       "text": [
        "\n",
        "course\n",
        "surface\n",
        "either\n",
        "cs cmu\n",
        "using\n",
        "going\n",
        "1993\n",
        "software\n",
        "satellite\n",
        "bill\n",
        " \n",
        "Concept 539:"
       ]
      },
      {
       "output_type": "stream",
       "stream": "stdout",
       "text": [
        "\n",
        "data\n",
        "us\n",
        "given\n",
        "au\n",
        "orbit\n",
        "might\n",
        "cs\n",
        "fnal\n",
        "still\n",
        "allen\n",
        " \n",
        "Concept 540:"
       ]
      },
      {
       "output_type": "stream",
       "stream": "stdout",
       "text": [
        "\n",
        "orbit\n",
        "could\n",
        "rather\n",
        "mission scheduled\n",
        "us\n",
        "fred\n",
        "get\n",
        "give\n",
        "know\n",
        "life\n",
        " \n",
        "Concept 541:"
       ]
      },
      {
       "output_type": "stream",
       "stream": "stdout",
       "text": [
        "\n",
        "project\n",
        "see\n",
        "one\n",
        "really\n",
        "king eng\n",
        "great\n",
        "added\n",
        "part\n",
        "jupiter\n",
        "10\n",
        " \n",
        "Concept 542:"
       ]
      },
      {
       "output_type": "stream",
       "stream": "stdout",
       "text": [
        "\n",
        "center\n",
        "distribution sci\n",
        "nsmca\n",
        "think\n",
        "subject re\n",
        "set\n",
        "theporch\n",
        "theporch raider\n",
        "real\n",
        "ken\n",
        " \n",
        "Concept 543:"
       ]
      },
      {
       "output_type": "stream",
       "stream": "stdout",
       "text": [
        "\n",
        "better\n",
        "cs\n",
        "david\n",
        "time\n",
        "university\n",
        "usa\n",
        "astronomy\n",
        "costs\n",
        "distribution\n",
        "help\n",
        " \n",
        "Concept 544:"
       ]
      },
      {
       "output_type": "stream",
       "stream": "stdout",
       "text": [
        "\n",
        "cs cmu\n",
        "funding\n",
        "nasa\n",
        "million\n",
        "far\n",
        "distribution\n",
        "scheduled\n",
        "field\n",
        "systems\n",
        "getting\n",
        " \n",
        "Concept 545:"
       ]
      },
      {
       "output_type": "stream",
       "stream": "stdout",
       "text": [
        "\n",
        "involved\n",
        "maybe\n",
        "away\n",
        "ll\n",
        "earth\n",
        "center\n",
        "michael\n",
        "human\n",
        "gene\n",
        "science\n",
        " \n",
        "Concept 546:"
       ]
      },
      {
       "output_type": "stream",
       "stream": "stdout",
       "text": [
        "\n",
        "news\n",
        "done\n",
        "day\n",
        "time\n",
        "reason\n",
        "little\n",
        "sky\n",
        "david\n",
        "given\n",
        "sci lines\n",
        " \n",
        "Concept 547:"
       ]
      },
      {
       "output_type": "stream",
       "stream": "stdout",
       "text": [
        "\n",
        "sun\n",
        "solar\n",
        "cost\n",
        "something\n",
        "try\n",
        "different\n",
        "gamma\n",
        "life\n",
        "vax\n",
        "bit\n",
        " \n",
        "Concept 548:"
       ]
      },
      {
       "output_type": "stream",
       "stream": "stdout",
       "text": [
        "\n",
        "may\n",
        "michael\n",
        "one\n",
        "make\n",
        "world\n",
        "back\n",
        "got\n",
        "sure\n",
        "computer\n",
        "keywords\n",
        " \n",
        "Concept 549:"
       ]
      },
      {
       "output_type": "stream",
       "stream": "stdout",
       "text": [
        "\n",
        "know\n",
        "comet\n",
        "article\n",
        "days\n",
        "missions\n",
        "mccall\n",
        "science\n",
        "rocket\n",
        "every\n",
        "non\n",
        " \n",
        "Concept 550:"
       ]
      },
      {
       "output_type": "stream",
       "stream": "stdout",
       "text": [
        "\n",
        "enough\n",
        "try\n",
        "news\n",
        "need\n",
        "20\n",
        "like\n",
        "small\n",
        "josh\n",
        "earth\n",
        "man\n",
        " \n",
        "Concept 551:"
       ]
      },
      {
       "output_type": "stream",
       "stream": "stdout",
       "text": [
        "\n",
        "university\n",
        "earth\n",
        "launch\n",
        "system\n",
        "cmu\n",
        "much\n",
        "used\n",
        "program\n",
        "may\n",
        "organization university\n",
        " \n",
        "Concept 552:"
       ]
      },
      {
       "output_type": "stream",
       "stream": "stdout",
       "text": [
        "\n",
        "good\n",
        "new\n",
        "moon\n",
        "galileo\n",
        "could\n",
        "people\n",
        "work one\n",
        "made\n",
        "part\n",
        "day\n",
        " \n",
        "Concept 553:"
       ]
      },
      {
       "output_type": "stream",
       "stream": "stdout",
       "text": [
        "\n",
        "things\n",
        "fnal\n",
        "without\n",
        "available\n",
        "years\n",
        "planet\n",
        "__\n",
        "loss\n",
        "station\n",
        "93\n",
        " \n",
        "Concept 554:"
       ]
      },
      {
       "output_type": "stream",
       "stream": "stdout",
       "text": [
        "\n",
        "systems\n",
        "much\n",
        "orbital\n",
        "someone\n",
        "possible\n",
        "lab\n",
        "international\n",
        "cmu\n",
        "access pat writes\n",
        "probably\n",
        " \n",
        "Concept 555:"
       ]
      },
      {
       "output_type": "stream",
       "stream": "stdout",
       "text": [
        "\n",
        "get\n",
        "orbit\n",
        "propulsion\n",
        "25\n",
        "1993\n",
        "tom\n",
        "comet\n",
        "collision\n",
        "expensive\n",
        "ac\n",
        " \n",
        "Concept 556:"
       ]
      },
      {
       "output_type": "stream",
       "stream": "stdout",
       "text": [
        "\n",
        "small\n",
        "10\n",
        "part\n",
        "two\n",
        "last\n",
        "forwarded\n",
        "anyone\n",
        "engineering\n",
        "age\n",
        "around\n",
        " \n",
        "Concept 557:"
       ]
      },
      {
       "output_type": "stream",
       "stream": "stdout",
       "text": [
        "\n",
        "know\n",
        "satellites\n",
        "find\n",
        "make\n",
        "remember\n",
        "mission\n",
        "jpl nasa gov\n",
        "much\n",
        "many\n",
        "16\n",
        " \n",
        "Concept 558:"
       ]
      },
      {
       "output_type": "stream",
       "stream": "stdout",
       "text": [
        "\n",
        "mission\n",
        "lot\n",
        "loss\n",
        "13\n",
        "try\n",
        "day\n",
        "low\n",
        "au\n",
        "small\n",
        "sun\n",
        " \n",
        "Concept 559:"
       ]
      },
      {
       "output_type": "stream",
       "stream": "stdout",
       "text": [
        "\n",
        "please\n",
        "22\n",
        "planetary\n",
        "sun\n",
        "15\n",
        "probably\n",
        "money\n",
        "must\n",
        "science\n",
        "involved\n",
        " \n",
        "Concept 560:"
       ]
      },
      {
       "output_type": "stream",
       "stream": "stdout",
       "text": [
        "\n",
        "flight\n",
        "lunar\n",
        "night\n",
        "private\n",
        "least\n",
        "point\n",
        "list\n",
        "17\n",
        "us\n",
        "another\n",
        " \n",
        "Concept 561:"
       ]
      },
      {
       "output_type": "stream",
       "stream": "stdout",
       "text": [
        "\n",
        "distribution\n",
        "caltech\n",
        "time\n",
        "way\n",
        "might\n",
        "sci\n",
        "able\n",
        "information\n",
        "may\n",
        "field\n",
        " \n",
        "Concept 562:"
       ]
      },
      {
       "output_type": "stream",
       "stream": "stdout",
       "text": [
        "\n",
        "astronomy\n",
        "19\n",
        "time\n",
        "sorry\n",
        "even\n",
        "please\n",
        "big\n",
        "government\n",
        "anyone\n",
        "weight\n",
        " \n",
        "Concept 563:"
       ]
      },
      {
       "output_type": "stream",
       "stream": "stdout",
       "text": [
        "\n",
        "years\n",
        "solar\n",
        "people\n",
        "please\n",
        "things\n",
        "computer\n",
        "earth\n",
        "may\n",
        "nasa\n",
        "research\n",
        " \n",
        "Concept 564:"
       ]
      },
      {
       "output_type": "stream",
       "stream": "stdout",
       "text": [
        "\n",
        "online\n",
        "world\n",
        "money\n",
        "per\n",
        "funding\n",
        "course\n",
        "human\n",
        "mars\n",
        "tell\n",
        "orbital\n",
        " \n",
        "Concept 565:"
       ]
      },
      {
       "output_type": "stream",
       "stream": "stdout",
       "text": [
        "\n",
        "see\n",
        "guess\n",
        "several\n",
        "mission scheduled\n",
        "life\n",
        "really\n",
        "based\n",
        "gamma ray\n",
        "order\n",
        "speed\n",
        " \n",
        "Concept 566:"
       ]
      },
      {
       "output_type": "stream",
       "stream": "stdout",
       "text": [
        "\n",
        "long\n",
        "doug\n",
        "least\n",
        "government\n",
        "earth\n",
        "april\n",
        "get\n",
        "maybe\n",
        "subject re\n",
        "loss timer\n",
        " \n",
        "Concept 567:"
       ]
      },
      {
       "output_type": "stream",
       "stream": "stdout",
       "text": [
        "\n",
        "work one\n",
        "better\n",
        "test\n",
        "want\n",
        "idea\n",
        "bit\n",
        "part\n",
        "phil\n",
        "funding\n",
        "next\n",
        " \n",
        "Concept 568:"
       ]
      },
      {
       "output_type": "stream",
       "stream": "stdout",
       "text": [
        "\n",
        "might\n",
        "satellite\n",
        "work one\n",
        "remember\n",
        "said\n",
        "16\n",
        "problems\n",
        "hst\n",
        "like\n",
        "earth\n",
        " \n",
        "Concept 569:"
       ]
      },
      {
       "output_type": "stream",
       "stream": "stdout",
       "text": [
        "\n",
        "dc\n",
        "drag\n",
        "cso\n",
        "images\n",
        "like\n",
        "problem\n",
        "vax\n",
        "power\n",
        "big\n",
        "pat writes\n",
        " \n",
        "Concept 570:"
       ]
      },
      {
       "output_type": "stream",
       "stream": "stdout",
       "text": [
        "\n",
        "people\n",
        "long\n",
        "king\n",
        "project\n",
        "use\n",
        "keep\n",
        "spacecraft\n",
        "safety\n",
        "temperature\n",
        "program\n",
        " \n",
        "Concept 571:"
       ]
      },
      {
       "output_type": "stream",
       "stream": "stdout",
       "text": [
        "\n",
        "dc\n",
        "software\n",
        "use\n",
        "time\n",
        "people\n",
        "fred\n",
        "dunn\n",
        "mission\n",
        "redesign\n",
        "carry\n",
        " \n",
        "Concept 572:"
       ]
      },
      {
       "output_type": "stream",
       "stream": "stdout",
       "text": [
        "\n",
        "made\n",
        "mission\n",
        "think\n",
        "usa\n",
        "dc\n",
        "orbit\n",
        "used\n",
        "sci\n",
        "jsc\n",
        "lab\n",
        " \n",
        "Concept 573:"
       ]
      },
      {
       "output_type": "stream",
       "stream": "stdout",
       "text": [
        "\n",
        "something\n",
        "org\n",
        "new\n",
        "news\n",
        "much\n",
        "never\n",
        "help\n",
        "launch\n",
        "good\n",
        "aren\n",
        " \n",
        "Concept 574:"
       ]
      },
      {
       "output_type": "stream",
       "stream": "stdout",
       "text": [
        "\n",
        "eng\n",
        "per\n",
        "caltech\n",
        "second\n",
        "must\n",
        "keywords\n",
        "got\n",
        "process\n",
        "rockets\n",
        "satellite\n",
        " \n",
        "Concept 575:"
       ]
      },
      {
       "output_type": "stream",
       "stream": "stdout",
       "text": [
        "\n",
        "technology\n",
        "need\n",
        "servicing\n",
        "original\n",
        "cost\n",
        "lunar\n",
        "costs\n",
        "mary\n",
        "question\n",
        "telescope\n",
        " \n",
        "Concept 576:"
       ]
      },
      {
       "output_type": "stream",
       "stream": "stdout",
       "text": [
        "\n",
        "system\n",
        "find\n",
        "way\n",
        "sun\n",
        "shuttle\n",
        "bill\n",
        "writes\n",
        "light\n",
        "data\n",
        "single\n",
        " \n",
        "Concept 577:"
       ]
      },
      {
       "output_type": "stream",
       "stream": "stdout",
       "text": [
        "\n",
        "us\n",
        "__\n",
        "flight\n",
        "bit\n",
        "years\n",
        "orbital\n",
        "russian\n",
        "money\n",
        "landing\n",
        "low\n",
        " \n",
        "Concept 578:"
       ]
      },
      {
       "output_type": "stream",
       "stream": "stdout",
       "text": [
        "\n",
        "think\n",
        "command\n",
        "get\n",
        "first\n",
        "science\n",
        "project\n",
        "launch\n",
        "ron\n",
        "satellite\n",
        "keywords\n",
        " \n",
        "Concept 579:"
       ]
      },
      {
       "output_type": "stream",
       "stream": "stdout",
       "text": [
        "\n",
        "try\n",
        "astro\n",
        "research\n",
        "tom\n",
        "working\n",
        "planets\n",
        "found\n",
        "thing\n",
        "cs\n",
        "us\n",
        " \n",
        "Concept 580:"
       ]
      },
      {
       "output_type": "stream",
       "stream": "stdout",
       "text": [
        "\n",
        "article\n",
        "thing\n",
        "center\n",
        "please\n",
        "many\n",
        "instruments\n",
        "aurora alaska\n",
        "look\n",
        "real\n",
        "lot\n",
        " \n",
        "Concept 581:"
       ]
      },
      {
       "output_type": "stream",
       "stream": "stdout",
       "text": [
        "\n",
        "jpl\n",
        "ll\n",
        "bit\n",
        "problem\n",
        "distribution world\n",
        "access pat writes\n",
        "10\n",
        "give\n",
        "small\n",
        "quite\n",
        " \n",
        "Concept 582:"
       ]
      },
      {
       "output_type": "stream",
       "stream": "stdout",
       "text": [
        "\n",
        "know\n",
        "jpl\n",
        "away\n",
        "ever\n",
        "adams\n",
        "field\n",
        "life\n",
        "please\n",
        "research\n",
        "galileo\n",
        " \n",
        "Concept 583:"
       ]
      },
      {
       "output_type": "stream",
       "stream": "stdout",
       "text": [
        "\n",
        "cost\n",
        "enough\n",
        "nasa\n",
        "new\n",
        "center\n",
        "using\n",
        "called\n",
        "moon\n",
        "higgins\n",
        "still\n",
        " \n",
        "Concept 584:"
       ]
      },
      {
       "output_type": "stream",
       "stream": "stdout",
       "text": [
        "\n",
        "astronomy\n",
        "technology\n",
        "cs\n",
        "pat writes\n",
        "jupiter\n",
        "really\n",
        "jsc\n",
        "work\n",
        "people\n",
        "air\n",
        " \n",
        "Concept 585:"
       ]
      },
      {
       "output_type": "stream",
       "stream": "stdout",
       "text": [
        "\n",
        "night\n",
        "set\n",
        "news\n",
        "go\n",
        "distribution\n",
        "loss\n",
        "sherzer\n",
        "enough\n",
        "low\n",
        "next\n",
        " \n",
        "Concept 586:"
       ]
      },
      {
       "output_type": "stream",
       "stream": "stdout",
       "text": [
        "\n",
        "science\n",
        "writes article\n",
        "idea\n",
        "get\n",
        "part\n",
        "government\n",
        "temperature\n",
        "called\n",
        "please\n",
        "development\n",
        " \n",
        "Concept 587:"
       ]
      },
      {
       "output_type": "stream",
       "stream": "stdout",
       "text": [
        "\n",
        "might\n",
        "using\n",
        "think\n",
        "year\n",
        "22\n",
        "moon\n",
        "since\n",
        "help\n",
        "research\n",
        "better\n",
        " \n",
        "Concept 588:"
       ]
      },
      {
       "output_type": "stream",
       "stream": "stdout",
       "text": [
        "\n",
        "sun\n",
        "enough\n",
        "right\n",
        "one man\n",
        "degrees\n",
        "palmer\n",
        "land\n",
        "times\n",
        "nasa gov\n",
        "find\n",
        " \n",
        "Concept 589:"
       ]
      },
      {
       "output_type": "stream",
       "stream": "stdout",
       "text": [
        "\n",
        "many\n",
        "system\n",
        "science\n",
        "93\n",
        "far\n",
        "days\n",
        "life\n",
        "thanks\n",
        "toronto henry spencer\n",
        "billion\n",
        " \n",
        "Concept 590:"
       ]
      },
      {
       "output_type": "stream",
       "stream": "stdout",
       "text": [
        "\n",
        "two\n",
        "general\n",
        "ames\n",
        "time\n",
        "distribution\n",
        "re\n",
        "david\n",
        "point\n",
        "world\n",
        "18\n",
        " \n",
        "Concept 591:"
       ]
      },
      {
       "output_type": "stream",
       "stream": "stdout",
       "text": [
        "\n",
        "anything\n",
        "pat\n",
        "year\n",
        "make\n",
        "still\n",
        "institute\n",
        "writes article\n",
        "second\n",
        "even\n",
        "access pat writes\n",
        " \n",
        "Concept 592:"
       ]
      },
      {
       "output_type": "stream",
       "stream": "stdout",
       "text": [
        "\n",
        "university\n",
        "collision\n",
        "re space\n",
        "human\n",
        "mail\n",
        "actually\n",
        "light\n",
        "even\n",
        "lot\n",
        "satellite\n",
        " \n",
        "Concept 593:"
       ]
      },
      {
       "output_type": "stream",
       "stream": "stdout",
       "text": [
        "\n",
        "put\n",
        "launch\n",
        "question\n",
        "billion\n",
        "make\n",
        "hopkins\n",
        "systems\n",
        "design\n",
        "launched\n",
        "jpl\n",
        " \n",
        "Concept 594:"
       ]
      },
      {
       "output_type": "stream",
       "stream": "stdout",
       "text": [
        "\n",
        "distribution\n",
        "tell\n",
        "organization university\n",
        "orbital\n",
        "space digest\n",
        "program\n",
        "anything\n",
        "money\n",
        "anyone\n",
        "air\n",
        " \n",
        "Concept 595:"
       ]
      },
      {
       "output_type": "stream",
       "stream": "stdout",
       "text": [
        "\n",
        "using\n",
        "air\n",
        "science\n",
        "every\n",
        "problems\n",
        "pat\n",
        "13\n",
        "shuttle\n",
        "system\n",
        "things\n",
        " \n",
        "Concept 596:"
       ]
      },
      {
       "output_type": "stream",
       "stream": "stdout",
       "text": [
        "\n",
        "long\n",
        "people\n",
        "fuel\n",
        "around\n",
        "known\n",
        "work\n",
        "much\n",
        "money\n",
        "sci space\n",
        "collision\n",
        " \n",
        "Concept 597:"
       ]
      },
      {
       "output_type": "stream",
       "stream": "stdout",
       "text": [
        "\n",
        "lunar\n",
        "little\n",
        "put\n",
        "problems\n",
        "help\n",
        "first\n",
        "done\n",
        "interesting\n",
        "think\n",
        "ron\n",
        " \n",
        "Concept 598:"
       ]
      },
      {
       "output_type": "stream",
       "stream": "stdout",
       "text": [
        "\n",
        "way\n",
        "things\n",
        "say\n",
        "know\n",
        "jet propulsion laboratory\n",
        "could\n",
        "systems\n",
        "someone\n",
        "vehicle\n",
        "21\n",
        " \n",
        "Concept 599:"
       ]
      },
      {
       "output_type": "stream",
       "stream": "stdout",
       "text": [
        "\n",
        "fuel\n",
        "something\n",
        "want\n",
        "use\n",
        "22\n",
        "via\n",
        "commercial\n",
        "look\n",
        "15\n",
        "mccall\n",
        " \n",
        "Concept 600:"
       ]
      },
      {
       "output_type": "stream",
       "stream": "stdout",
       "text": [
        "\n",
        "small\n",
        "university\n",
        "try\n",
        "enough\n",
        "30\n",
        "au\n",
        "read\n",
        "satellites\n",
        "someone\n",
        "planetary\n",
        " \n",
        "Concept 601:"
       ]
      },
      {
       "output_type": "stream",
       "stream": "stdout",
       "text": [
        "\n",
        "point\n",
        "moon\n",
        "part\n",
        "also\n",
        "vax\n",
        "little\n",
        "access article\n",
        "host access article\n",
        "working\n",
        "year\n",
        " \n",
        "Concept 602:"
       ]
      },
      {
       "output_type": "stream",
       "stream": "stdout",
       "text": [
        "\n",
        "us\n",
        "jet propulsion\n",
        "high\n",
        "distribution\n",
        "point\n",
        "sci\n",
        "cost\n",
        "re\n",
        "use\n",
        "never\n",
        " \n",
        "Concept 603:"
       ]
      },
      {
       "output_type": "stream",
       "stream": "stdout",
       "text": [
        "\n",
        "dc\n",
        "data\n",
        "get\n",
        "doesn\n",
        "university\n",
        "express\n",
        "go\n",
        "give\n",
        "rocket\n",
        "jupiter\n",
        " \n",
        "Concept 604:"
       ]
      },
      {
       "output_type": "stream",
       "stream": "stdout",
       "text": [
        "\n",
        "via\n",
        "lunar\n",
        "satellites\n",
        "going\n",
        "dc\n",
        "government\n",
        "prize\n",
        "writes article\n",
        "larc nasa\n",
        "larc nasa gov\n",
        " \n",
        "Concept 605:"
       ]
      },
      {
       "output_type": "stream",
       "stream": "stdout",
       "text": [
        "\n",
        "like\n",
        "someone\n",
        "10\n",
        "got\n",
        "temperature\n",
        "jpl\n",
        "news\n",
        "even\n",
        "want\n",
        "things\n",
        " \n",
        "Concept 606:"
       ]
      },
      {
       "output_type": "stream",
       "stream": "stdout",
       "text": [
        "\n",
        "university\n",
        "galileo\n",
        "maybe\n",
        "pat\n",
        "thing\n",
        "believe\n",
        "distribution\n",
        "problem\n",
        "aurora\n",
        "dunn\n",
        " \n",
        "Concept 607:"
       ]
      },
      {
       "output_type": "stream",
       "stream": "stdout",
       "text": [
        "\n",
        "11\n",
        "center\n",
        "better\n",
        "every\n",
        "30\n",
        "back\n",
        "question\n",
        "24\n",
        "year\n",
        "distribution world\n",
        " \n",
        "Concept 608:"
       ]
      },
      {
       "output_type": "stream",
       "stream": "stdout",
       "text": [
        "\n",
        "around\n",
        "science\n",
        "utzoo\n",
        "14\n",
        "flight\n",
        "loss\n",
        "think\n",
        "sure\n",
        "place\n",
        "mass\n",
        " \n",
        "Concept 609:"
       ]
      },
      {
       "output_type": "stream",
       "stream": "stdout",
       "text": [
        "\n",
        "small\n",
        "even\n",
        "seems\n",
        "cost\n",
        "fuel\n",
        "since\n",
        "high speed\n",
        "enough\n",
        "moon\n",
        "tom\n",
        " \n",
        "Concept 610:"
       ]
      },
      {
       "output_type": "stream",
       "stream": "stdout",
       "text": [
        "\n",
        "another\n",
        "communications\n",
        "astronomy\n",
        "michael\n",
        "aurora\n",
        "us\n",
        "reply\n",
        "never\n",
        "usa\n",
        "altitude\n",
        " \n",
        "Concept 611:"
       ]
      },
      {
       "output_type": "stream",
       "stream": "stdout",
       "text": [
        "\n",
        "right\n",
        "know\n",
        "time\n",
        "earth\n",
        "least\n",
        "since\n",
        "dick\n",
        "university\n",
        "line\n",
        "land\n",
        " \n",
        "Concept 612:"
       ]
      },
      {
       "output_type": "stream",
       "stream": "stdout",
       "text": [
        "\n",
        "satellite\n",
        "something\n",
        "information\n",
        "planet\n",
        "news software\n",
        "good\n",
        "thing\n",
        "many\n",
        "option\n",
        "nasa\n",
        " \n",
        "Concept 613:"
       ]
      },
      {
       "output_type": "stream",
       "stream": "stdout",
       "text": [
        "\n",
        "might\n",
        "lab\n",
        "pat subject re\n",
        "sci\n",
        "bill\n",
        "11\n",
        "either\n",
        "thanks\n",
        "since\n",
        "mass\n",
        " \n",
        "Concept 614:"
       ]
      },
      {
       "output_type": "stream",
       "stream": "stdout",
       "text": [
        "\n",
        "anyone\n",
        "idea\n",
        "ll\n",
        "cs cmu\n",
        "13\n",
        "back\n",
        "planets\n",
        "sun\n",
        "years\n",
        "really\n",
        " \n",
        "Concept 615:"
       ]
      },
      {
       "output_type": "stream",
       "stream": "stdout",
       "text": [
        "\n",
        "even\n",
        "around\n",
        "jpl\n",
        "rather\n",
        "vehicle\n",
        "order\n",
        "two\n",
        "moon\n",
        "people\n",
        "big\n",
        " \n",
        "Concept 616:"
       ]
      },
      {
       "output_type": "stream",
       "stream": "stdout",
       "text": [
        "\n",
        "cs\n",
        "real\n",
        "life\n",
        "still\n",
        "didn\n",
        "18\n",
        "comet\n",
        "say\n",
        "end\n",
        "_____\n",
        " \n",
        "Concept 617:"
       ]
      },
      {
       "output_type": "stream",
       "stream": "stdout",
       "text": [
        "\n",
        "two\n",
        "space station\n",
        "get\n",
        "several\n",
        "could\n",
        "fred mccall\n",
        "41\n",
        "lunar\n",
        "doesn\n",
        "temperature\n",
        " \n",
        "Concept 618:"
       ]
      },
      {
       "output_type": "stream",
       "stream": "stdout",
       "text": [
        "\n",
        "rather\n",
        "world\n",
        "sci\n",
        "11 days\n",
        "either\n",
        "international\n",
        "atmosphere\n",
        "images\n",
        "hst\n",
        "aurora alaska\n",
        " \n",
        "Concept 619:"
       ]
      },
      {
       "output_type": "stream",
       "stream": "stdout",
       "text": [
        "\n",
        "go\n",
        "get\n",
        "one\n",
        "aurora alaska\n",
        "part\n",
        "many\n",
        "planet\n",
        "mccall\n",
        "news\n",
        "technology\n",
        " \n",
        "Concept 620:"
       ]
      },
      {
       "output_type": "stream",
       "stream": "stdout",
       "text": [
        "\n",
        "university\n",
        "20\n",
        "technology\n",
        "make\n",
        "right\n",
        "cost\n",
        "mail\n",
        "help\n",
        "control\n",
        "new\n",
        " \n",
        "Concept 621:"
       ]
      },
      {
       "output_type": "stream",
       "stream": "stdout",
       "text": [
        "\n",
        "orbital\n",
        "pat\n",
        "go\n",
        "things\n",
        "might\n",
        "well\n",
        "government\n",
        "never\n",
        "much\n",
        "space station\n",
        " \n",
        "Concept 622:"
       ]
      },
      {
       "output_type": "stream",
       "stream": "stdout",
       "text": [
        "\n",
        "think\n",
        "something\n",
        "look\n",
        "take\n",
        "11\n",
        "years\n",
        "topaz\n",
        "another\n",
        "reply\n",
        "course\n",
        " \n",
        "Concept 623:"
       ]
      },
      {
       "output_type": "stream",
       "stream": "stdout",
       "text": [
        "\n",
        "one\n",
        "writes\n",
        "look\n",
        "ll\n",
        "11\n",
        "send\n",
        "us\n",
        "office\n",
        "ray\n",
        "lunar\n",
        " \n",
        "Concept 624:"
       ]
      },
      {
       "output_type": "stream",
       "stream": "stdout",
       "text": [
        "\n",
        "light\n",
        "problem\n",
        "re\n",
        "many\n",
        "done\n",
        "mccall\n",
        "low\n",
        "science\n",
        "distribution\n",
        "much\n",
        " \n",
        "Concept 625:"
       ]
      },
      {
       "output_type": "stream",
       "stream": "stdout",
       "text": [
        "\n",
        "two\n",
        "cost\n",
        "reply\n",
        "station\n",
        "science\n",
        "get\n",
        "laboratory\n",
        "another\n",
        "idea\n",
        "least\n",
        " \n",
        "Concept 626:"
       ]
      },
      {
       "output_type": "stream",
       "stream": "stdout",
       "text": [
        "\n",
        "engineering\n",
        "org\n",
        "much\n",
        "_____\n",
        "jpl nasa\n",
        "power\n",
        "actually\n",
        "organization university\n",
        "enough\n",
        "ca\n",
        " \n",
        "Concept 627:"
       ]
      },
      {
       "output_type": "stream",
       "stream": "stdout",
       "text": [
        "\n",
        "reply\n",
        "project\n",
        "jpl\n",
        "pat\n",
        "ron baalke\n",
        "king eng\n",
        "rocket\n",
        "else\n",
        "access\n",
        "rather\n",
        " \n",
        "Concept 628:"
       ]
      },
      {
       "output_type": "stream",
       "stream": "stdout",
       "text": [
        "\n",
        "one\n",
        "lunar\n",
        "ca\n",
        "cso\n",
        "something\n",
        "mission scheduled\n",
        "loss\n",
        "planets\n",
        "said\n",
        "mksol\n",
        " \n",
        "Concept 629:"
       ]
      },
      {
       "output_type": "stream",
       "stream": "stdout",
       "text": [
        "\n",
        "10\n",
        "may\n",
        "right\n",
        "orbital\n",
        "need\n",
        "system\n",
        "thanks\n",
        "billion\n",
        "project\n",
        "mission\n",
        " \n",
        "Concept 630:"
       ]
      },
      {
       "output_type": "stream",
       "stream": "stdout",
       "text": [
        "\n",
        "time\n",
        "could\n",
        "cs\n",
        "jpl\n",
        "eng\n",
        "go\n",
        "fred\n",
        "problems\n",
        "man\n",
        "venus\n",
        " \n",
        "Concept 631:"
       ]
      },
      {
       "output_type": "stream",
       "stream": "stdout",
       "text": [
        "\n",
        "earth\n",
        "less\n",
        "done\n",
        "give\n",
        "way\n",
        "commercial\n",
        "reason\n",
        "bit\n",
        "writes article\n",
        "get\n",
        " \n",
        "Concept 632:"
       ]
      },
      {
       "output_type": "stream",
       "stream": "stdout",
       "text": [
        "\n",
        "ron\n",
        "science\n",
        "galileo\n",
        "communications\n",
        "writes article\n",
        "problems\n",
        "costs\n",
        "observatory\n",
        "sky organization\n",
        "engineering\n",
        " \n",
        "Concept 633:"
       ]
      },
      {
       "output_type": "stream",
       "stream": "stdout",
       "text": [
        "\n",
        "10\n",
        "fuel\n",
        "re\n",
        "pat subject re\n",
        "looking\n",
        "thanks\n",
        "nsmca aurora\n",
        "nsmca aurora alaska\n",
        "test\n",
        "look\n",
        " \n",
        "Concept 634:"
       ]
      },
      {
       "output_type": "stream",
       "stream": "stdout",
       "text": [
        "\n",
        "13\n",
        "time\n",
        "near\n",
        "close\n",
        "use\n",
        "say\n",
        "astronomy\n",
        "kelvin\n",
        "palmer\n",
        "dunn\n",
        " \n",
        "Concept 635:"
       ]
      },
      {
       "output_type": "stream",
       "stream": "stdout",
       "text": [
        "\n",
        "software\n",
        "communications\n",
        "au\n",
        "less\n",
        "time\n",
        "another\n",
        "fuel\n",
        "nasa\n",
        "let\n",
        "aurora\n",
        " \n",
        "Concept 636:"
       ]
      },
      {
       "output_type": "stream",
       "stream": "stdout",
       "text": [
        "\n",
        "sky\n",
        "least\n",
        "however\n",
        "earth\n",
        "mass\n",
        "michael adams\n",
        "things\n",
        "aurora alaska\n",
        "university\n",
        "money\n",
        " \n",
        "Concept 637:"
       ]
      },
      {
       "output_type": "stream",
       "stream": "stdout",
       "text": [
        "\n",
        "part\n",
        "small\n",
        "said\n",
        "big\n",
        "fred\n",
        "try\n",
        "ac\n",
        "design\n",
        "14\n",
        "actually\n",
        " \n",
        "Concept 638:"
       ]
      },
      {
       "output_type": "stream",
       "stream": "stdout",
       "text": [
        "\n",
        "nasa\n",
        "maybe\n",
        "spacecraft\n",
        "never\n",
        "keywords\n",
        "14\n",
        "still\n",
        "night\n",
        "new\n",
        "vehicle\n",
        " \n",
        "Concept 639:"
       ]
      },
      {
       "output_type": "stream",
       "stream": "stdout",
       "text": [
        "\n",
        "make\n",
        "want\n",
        "anyone\n",
        "since\n",
        "try\n",
        "could\n",
        "based\n",
        "get\n",
        "launch\n",
        "support\n",
        " \n",
        "Concept 640:"
       ]
      },
      {
       "output_type": "stream",
       "stream": "stdout",
       "text": [
        "\n",
        "even\n",
        "know\n",
        "organization university\n",
        "distribution\n",
        "center\n",
        "like\n",
        "well\n",
        "orbit\n",
        "may\n",
        "general\n",
        " \n",
        "Concept 641:"
       ]
      },
      {
       "output_type": "stream",
       "stream": "stdout",
       "text": [
        "\n",
        "someone\n",
        "said\n",
        "earth\n",
        "shafer\n",
        "like\n",
        "place\n",
        "many\n",
        "org allen sherzer\n",
        "arrays\n",
        "help\n",
        " \n",
        "Concept 642:"
       ]
      },
      {
       "output_type": "stream",
       "stream": "stdout",
       "text": [
        "\n",
        "really\n",
        "launch\n",
        "sci\n",
        "get\n",
        "flight\n",
        "reply\n",
        "ll\n",
        "pat\n",
        "didn\n",
        "isn\n",
        " \n",
        "Concept 643:"
       ]
      },
      {
       "output_type": "stream",
       "stream": "stdout",
       "text": [
        "\n",
        "could\n",
        "time\n",
        "writes article\n",
        "___ __\n",
        "far\n",
        "cost\n",
        "propulsion\n",
        "quite\n",
        "something\n",
        "technology\n",
        " \n",
        "Concept 644:"
       ]
      },
      {
       "output_type": "stream",
       "stream": "stdout",
       "text": [
        "\n",
        "land\n",
        "arrays\n",
        "said\n",
        "still\n",
        "jupiter\n",
        "know\n",
        "isn\n",
        "speed\n",
        "30\n",
        "information\n",
        " \n",
        "Concept 645:"
       ]
      },
      {
       "output_type": "stream",
       "stream": "stdout",
       "text": [
        "\n",
        "like\n",
        "program\n",
        "go\n",
        "distribution\n",
        "center\n",
        "ron baalke\n",
        "didn\n",
        "university\n",
        "jet\n",
        "could\n",
        " \n",
        "Concept 646:"
       ]
      },
      {
       "output_type": "stream",
       "stream": "stdout",
       "text": [
        "\n",
        "like\n",
        "small\n",
        "say\n",
        "fred mccall\n",
        "problem\n",
        "information\n",
        "pat\n",
        "jsc\n",
        "project\n",
        "comet\n",
        " \n",
        "Concept 647:"
       ]
      },
      {
       "output_type": "stream",
       "stream": "stdout",
       "text": [
        "\n",
        "distribution\n",
        "system\n",
        "aurora alaska\n",
        "need\n",
        "days\n",
        "usa\n",
        "surface\n",
        "someone\n",
        "higgins\n",
        "billion\n",
        " \n",
        "Concept 648:"
       ]
      },
      {
       "output_type": "stream",
       "stream": "stdout",
       "text": [
        "\n",
        "go\n",
        "science\n",
        "13\n",
        "real\n",
        "writes article\n",
        "years\n",
        "writes\n",
        "long\n",
        "get\n",
        "space\n",
        " \n",
        "Concept 649:"
       ]
      },
      {
       "output_type": "stream",
       "stream": "stdout",
       "text": [
        "\n",
        "one\n",
        "cso\n",
        "want\n",
        "program\n",
        "design\n",
        "something\n",
        "going\n",
        "well\n",
        "go\n",
        "thought\n",
        " \n",
        "Concept 650:"
       ]
      },
      {
       "output_type": "stream",
       "stream": "stdout",
       "text": [
        "\n",
        "news software\n",
        "sun\n",
        "15\n",
        "better\n",
        "using\n",
        "missions\n",
        "either\n",
        "writes\n",
        "little\n",
        "station\n",
        " \n",
        "Concept 651:"
       ]
      },
      {
       "output_type": "stream",
       "stream": "stdout",
       "text": [
        "\n",
        "new\n",
        "1993\n",
        "organization university\n",
        "prize\n",
        "must\n",
        "usa\n",
        "eng\n",
        "university\n",
        "re\n",
        "data\n",
        " \n",
        "Concept 652:"
       ]
      },
      {
       "output_type": "stream",
       "stream": "stdout",
       "text": [
        "\n",
        "ca\n",
        "pat\n",
        "launch\n",
        "give\n",
        "planet\n",
        "people\n",
        "want\n",
        "rather\n",
        "collision\n",
        "missions\n",
        " \n",
        "Concept 653:"
       ]
      },
      {
       "output_type": "stream",
       "stream": "stdout",
       "text": [
        "\n",
        "sky\n",
        "even\n",
        "used\n",
        "jet\n",
        "well\n",
        "think\n",
        "satellite\n",
        "servicing\n",
        "pat\n",
        "two\n",
        " \n",
        "Concept 654:"
       ]
      },
      {
       "output_type": "stream",
       "stream": "stdout",
       "text": [
        "\n",
        "money\n",
        "loss\n",
        "days\n",
        "could\n",
        "launch\n",
        "distribution\n",
        "surface\n",
        "think\n",
        "given\n",
        "known\n",
        " \n",
        "Concept 655:"
       ]
      },
      {
       "output_type": "stream",
       "stream": "stdout",
       "text": [
        "\n",
        "isn\n",
        "cs\n",
        "year\n",
        "one\n",
        "sun\n",
        "also\n",
        "writes article\n",
        "12\n",
        "aurora\n",
        "jet propulsion\n",
        " \n",
        "Concept 656:"
       ]
      },
      {
       "output_type": "stream",
       "stream": "stdout",
       "text": [
        "\n",
        "earth\n",
        "venus\n",
        "days\n",
        "heard\n",
        "ca\n",
        "least\n",
        "1993\n",
        "higgins\n",
        "really\n",
        "moon\n",
        " \n",
        "Concept 657:"
       ]
      },
      {
       "output_type": "stream",
       "stream": "stdout",
       "text": [
        "\n",
        "data\n",
        "10\n",
        "information\n",
        "spencer\n",
        "online communications\n",
        "program\n",
        "using\n",
        "20\n",
        "venus\n",
        "may\n",
        " \n",
        "Concept 658:"
       ]
      },
      {
       "output_type": "stream",
       "stream": "stdout",
       "text": [
        "\n",
        "shuttle\n",
        "orbit\n",
        "jpl\n",
        "could\n",
        "flight\n",
        "since\n",
        "12\n",
        "rocket\n",
        "system\n",
        "center\n",
        " \n",
        "Concept 659:"
       ]
      },
      {
       "output_type": "stream",
       "stream": "stdout",
       "text": [
        "\n",
        "satellite\n",
        "know\n",
        "station\n",
        "fred\n",
        "even\n",
        "three\n",
        "stsci\n",
        "night\n",
        "quite\n",
        "collision\n",
        " \n",
        "Concept 660:"
       ]
      },
      {
       "output_type": "stream",
       "stream": "stdout",
       "text": [
        "\n",
        "station\n",
        "jpl\n",
        "every\n",
        "however\n",
        "93\n",
        "usa\n",
        "day\n",
        "digest\n",
        "year\n",
        "vehicle\n",
        " \n",
        "Concept 661:"
       ]
      },
      {
       "output_type": "stream",
       "stream": "stdout",
       "text": [
        "\n",
        "year\n",
        "given\n",
        "based\n",
        "really\n",
        "spacecraft\n",
        "us\n",
        "even\n",
        "much\n",
        "well\n",
        "pat writes\n",
        " \n",
        "Concept 662:"
       ]
      },
      {
       "output_type": "stream",
       "stream": "stdout",
       "text": [
        "\n",
        "usa\n",
        "ca\n",
        "see\n",
        "nsmca\n",
        "etc\n",
        "days\n",
        "spacecraft\n",
        "article\n",
        "three\n",
        "use\n",
        " \n",
        "Concept 663:"
       ]
      },
      {
       "output_type": "stream",
       "stream": "stdout",
       "text": [
        "\n",
        "center\n",
        "usa\n",
        "mission\n",
        "things\n",
        "money\n",
        "nasa\n",
        "government\n",
        "use\n",
        "program\n",
        "_____\n",
        " \n",
        "Concept 664:"
       ]
      },
      {
       "output_type": "stream",
       "stream": "stdout",
       "text": [
        "\n",
        "found\n",
        "see\n",
        "work\n",
        "back\n",
        "flight\n",
        "go\n",
        "april\n",
        "made\n",
        "put\n",
        "field\n",
        " \n",
        "Concept 665:"
       ]
      },
      {
       "output_type": "stream",
       "stream": "stdout",
       "text": [
        "\n",
        "think\n",
        "10\n",
        "make\n",
        "distribution world\n",
        "technology\n",
        "costs\n",
        "software\n",
        "could\n",
        "many\n",
        "cmu\n",
        " \n",
        "Concept 666:"
       ]
      },
      {
       "output_type": "stream",
       "stream": "stdout",
       "text": [
        "\n",
        "orbital\n",
        "information\n",
        "using\n",
        "collision\n",
        "money\n",
        "venus\n",
        "galileo\n",
        "org\n",
        "thing\n",
        "one\n",
        " \n",
        "Concept 667:"
       ]
      },
      {
       "output_type": "stream",
       "stream": "stdout",
       "text": [
        "\n",
        "spacecraft\n",
        "world\n",
        "isn\n",
        "enough\n",
        "really\n",
        "man\n",
        "real\n",
        "distribution\n",
        "money\n",
        "look\n",
        " \n",
        "Concept 668:"
       ]
      },
      {
       "output_type": "stream",
       "stream": "stdout",
       "text": [
        "\n",
        "utzoo\n",
        "look\n",
        "data\n",
        "observations\n",
        "fred mccall\n",
        "big\n",
        "center\n",
        "fred\n",
        "area\n",
        "never\n",
        " \n",
        "Concept 669:"
       ]
      },
      {
       "output_type": "stream",
       "stream": "stdout",
       "text": [
        "\n",
        "lunar\n",
        "solar system\n",
        "make\n",
        "writes\n",
        "jpl\n",
        "russian\n",
        "hst\n",
        "may\n",
        "else\n",
        "jpl nasa gov\n",
        " \n",
        "Concept 670:"
       ]
      },
      {
       "output_type": "stream",
       "stream": "stdout",
       "text": [
        "\n",
        "want\n",
        "probably\n",
        "news\n",
        "work\n",
        "isn\n",
        "thought\n",
        "gamma ray\n",
        "long\n",
        "interstellar\n",
        "usa lines\n",
        " \n",
        "Concept 671:"
       ]
      },
      {
       "output_type": "stream",
       "stream": "stdout",
       "text": [
        "\n",
        "real\n",
        "know\n",
        "isn\n",
        "better\n",
        "ssto\n",
        "00\n",
        "online\n",
        "loss\n",
        "want\n",
        "given\n",
        " \n",
        "Concept 672:"
       ]
      },
      {
       "output_type": "stream",
       "stream": "stdout",
       "text": [
        "\n",
        "real\n",
        "put\n",
        "mission\n",
        "fuel\n",
        "way\n",
        "different\n",
        "wouldn\n",
        "going\n",
        "missions\n",
        "well\n",
        " \n",
        "Concept 673:"
       ]
      },
      {
       "output_type": "stream",
       "stream": "stdout",
       "text": [
        "\n",
        "one\n",
        "reply\n",
        "give\n",
        "heard\n",
        "sun\n",
        "sky\n",
        "software\n",
        "thing\n",
        "nsmca\n",
        "space\n",
        " \n",
        "Concept 674:"
       ]
      },
      {
       "output_type": "stream",
       "stream": "stdout",
       "text": [
        "\n",
        "orbit\n",
        "think\n",
        "93\n",
        "science\n",
        "international\n",
        "said\n",
        "dick\n",
        "gsfc\n",
        "better\n",
        "propulsion\n",
        " \n",
        "Concept 675:"
       ]
      },
      {
       "output_type": "stream",
       "stream": "stdout",
       "text": [
        "\n",
        "article\n",
        "different\n",
        "information\n",
        "going\n",
        "ll\n",
        "forwarded\n",
        "15\n",
        "bursters\n",
        "billion\n",
        "one man\n",
        " \n",
        "Concept 676:"
       ]
      },
      {
       "output_type": "stream",
       "stream": "stdout",
       "text": [
        "\n",
        "research\n",
        "jpl\n",
        "say\n",
        "software\n",
        "reply\n",
        "communications\n",
        "usa lines\n",
        "end\n",
        "orbital\n",
        "information\n",
        " \n",
        "Concept 677:"
       ]
      },
      {
       "output_type": "stream",
       "stream": "stdout",
       "text": [
        "\n",
        "communications\n",
        "ca\n",
        "going\n",
        "reply\n",
        "mail\n",
        "propulsion\n",
        "titan\n",
        "means\n",
        "space shuttle\n",
        "interesting\n",
        " \n",
        "Concept 678:"
       ]
      },
      {
       "output_type": "stream",
       "stream": "stdout",
       "text": [
        "\n",
        "real\n",
        "sci\n",
        "missions\n",
        "also\n",
        "people\n",
        "writes\n",
        "one man\n",
        "three\n",
        "writes article\n",
        "jupiter\n",
        " \n",
        "Concept 679:"
       ]
      },
      {
       "output_type": "stream",
       "stream": "stdout",
       "text": [
        "\n",
        "many\n",
        "two\n",
        "earth\n",
        "1993\n",
        "solar\n",
        "didn\n",
        "jpl\n",
        "express\n",
        "available\n",
        "isn\n",
        " \n",
        "Concept 680:"
       ]
      },
      {
       "output_type": "stream",
       "stream": "stdout",
       "text": [
        "\n",
        "work\n",
        "like\n",
        "long\n",
        "power\n",
        "two\n",
        "lot\n",
        "give\n",
        "vms\n",
        "instruments\n",
        "nasa\n",
        " \n",
        "Concept 681:"
       ]
      },
      {
       "output_type": "stream",
       "stream": "stdout",
       "text": [
        "\n",
        "one\n",
        "propulsion\n",
        "days\n",
        "___\n",
        "reply\n",
        "article\n",
        "launch\n",
        "put\n",
        "sci\n",
        "several\n",
        " \n",
        "Concept 682:"
       ]
      },
      {
       "output_type": "stream",
       "stream": "stdout",
       "text": [
        "\n",
        "space station\n",
        "well\n",
        "course\n",
        "heard\n",
        "support\n",
        "many\n",
        "earth\n",
        "14\n",
        "au\n",
        "pluto\n",
        " \n",
        "Concept 683:"
       ]
      },
      {
       "output_type": "stream",
       "stream": "stdout",
       "text": [
        "\n",
        "22\n",
        "usa\n",
        "telescope\n",
        "10\n",
        "article\n",
        "long\n",
        "satellite\n",
        "field\n",
        "back\n",
        "problem\n",
        " \n",
        "Concept 684:"
       ]
      },
      {
       "output_type": "stream",
       "stream": "stdout",
       "text": [
        "\n",
        "go\n",
        "need\n",
        "sci\n",
        "_____\n",
        "work\n",
        "night\n",
        "high\n",
        "computer\n",
        "speed\n",
        "see\n",
        " \n",
        "Concept 685:"
       ]
      },
      {
       "output_type": "stream",
       "stream": "stdout",
       "text": [
        "\n",
        "get\n",
        "next\n",
        "space digest\n",
        "less\n",
        "article\n",
        "point\n",
        "keywords\n",
        "high speed\n",
        "didn\n",
        "temperature\n",
        " \n",
        "Concept 686:"
       ]
      },
      {
       "output_type": "stream",
       "stream": "stdout",
       "text": [
        "\n",
        "think\n",
        "launch\n",
        "well\n",
        "earth\n",
        "things\n",
        "two\n",
        "next\n",
        "done\n",
        "digest\n",
        "never\n",
        " \n",
        "Concept 687:"
       ]
      },
      {
       "output_type": "stream",
       "stream": "stdout",
       "text": [
        "\n",
        "billion\n",
        "talking\n",
        "going\n",
        "systems\n",
        "try\n",
        "dick\n",
        "gets\n",
        "ago\n",
        "things\n",
        "available\n",
        " \n",
        "Concept 688:"
       ]
      },
      {
       "output_type": "stream",
       "stream": "stdout",
       "text": [
        "\n",
        "people\n",
        "well\n",
        "system\n",
        "better\n",
        "good\n",
        "much\n",
        "writes\n",
        "organization university\n",
        "50\n",
        "use\n",
        " \n",
        "Concept 689:"
       ]
      },
      {
       "output_type": "stream",
       "stream": "stdout",
       "text": [
        "\n",
        "technology\n",
        "rather\n",
        "enough\n",
        "jpl nasa gov\n",
        "long\n",
        "idea\n",
        "money\n",
        "order\n",
        "sci space\n",
        "problem\n",
        " \n",
        "Concept 690:"
       ]
      },
      {
       "output_type": "stream",
       "stream": "stdout",
       "text": [
        "\n",
        "aurora\n",
        "idea\n",
        "laboratory\n",
        "sci\n",
        "wouldn\n",
        "thing\n",
        "lab\n",
        "year\n",
        "however\n",
        "data\n",
        " \n",
        "Concept 691:"
       ]
      },
      {
       "output_type": "stream",
       "stream": "stdout",
       "text": [
        "\n",
        "part\n",
        "years\n",
        "distribution\n",
        "need\n",
        "aurora alaska\n",
        "boost\n",
        "science\n",
        "day\n",
        "military\n",
        "missions\n",
        " \n",
        "Concept 692:"
       ]
      },
      {
       "output_type": "stream",
       "stream": "stdout",
       "text": [
        "\n",
        "earth\n",
        "nasa\n",
        "hst\n",
        "launch\n",
        "light\n",
        "ac\n",
        "costs\n",
        "keep\n",
        "enough\n",
        "right\n",
        " \n",
        "Concept 693:"
       ]
      },
      {
       "output_type": "stream",
       "stream": "stdout",
       "text": [
        "\n",
        "well\n",
        "world\n",
        "16\n",
        "two\n",
        "still\n",
        "space station\n",
        "fred mccall\n",
        "data\n",
        "13\n",
        "instruments\n",
        " \n",
        "Concept 694:"
       ]
      },
      {
       "output_type": "stream",
       "stream": "stdout",
       "text": [
        "\n",
        "might\n",
        "jpl\n",
        "22\n",
        "back\n",
        "writes\n",
        "gamma\n",
        "software\n",
        "around\n",
        "thing\n",
        "commercial\n",
        " \n",
        "Concept 695:"
       ]
      },
      {
       "output_type": "stream",
       "stream": "stdout",
       "text": [
        "\n",
        "also\n",
        "like\n",
        "time\n",
        "work\n",
        "space\n",
        "didn\n",
        "using\n",
        "lunar\n",
        "telescope\n",
        "university\n",
        " \n",
        "Concept 696:"
       ]
      },
      {
       "output_type": "stream",
       "stream": "stdout",
       "text": [
        "\n",
        "development\n",
        "see\n",
        "science\n",
        "someone\n",
        "might\n",
        "support\n",
        "put\n",
        "know\n",
        "93\n",
        "body\n",
        " \n",
        "Concept 697:"
       ]
      },
      {
       "output_type": "stream",
       "stream": "stdout",
       "text": [
        "\n",
        "distribution world\n",
        "nasa\n",
        "back\n",
        "safety\n",
        "world\n",
        "need\n",
        "old\n",
        "development\n",
        "jpl nasa gov\n",
        "year\n",
        " \n",
        "Concept 698:"
       ]
      },
      {
       "output_type": "stream",
       "stream": "stdout",
       "text": [
        "\n",
        "high\n",
        "right\n",
        "spacecraft\n",
        "computer\n",
        "isn\n",
        "subject re\n",
        "fred mccall\n",
        "costs\n",
        "actually\n",
        "22\n",
        " \n",
        "Concept 699:"
       ]
      },
      {
       "output_type": "stream",
       "stream": "stdout",
       "text": [
        "\n",
        "article\n",
        "way\n",
        "allen\n",
        "subject re\n",
        "jpl\n",
        "pat writes\n",
        "satellite\n",
        "think\n",
        "must\n",
        "put\n",
        " \n",
        "Concept 700:"
       ]
      },
      {
       "output_type": "stream",
       "stream": "stdout",
       "text": [
        "\n",
        "lunar\n",
        "_____\n",
        "project\n",
        "lot\n",
        "doesn\n",
        "work one\n",
        "done\n",
        "stuff\n",
        "could\n",
        "king\n",
        " \n",
        "Concept 701:"
       ]
      },
      {
       "output_type": "stream",
       "stream": "stdout",
       "text": [
        "\n",
        "could\n",
        "distribution\n",
        "solar\n",
        "probably\n",
        "years\n",
        "able\n",
        "mars\n",
        "baalke\n",
        "back\n",
        "much\n",
        " \n",
        "Concept 702:"
       ]
      },
      {
       "output_type": "stream",
       "stream": "stdout",
       "text": [
        "\n",
        "also\n",
        "way\n",
        "news\n",
        "days\n",
        "dick\n",
        "collision\n",
        "reply\n",
        "gov\n",
        "landing\n",
        "henry spencer\n",
        " \n",
        "Concept 703:"
       ]
      },
      {
       "output_type": "stream",
       "stream": "stdout",
       "text": [
        "\n",
        "around\n",
        "org\n",
        "going\n",
        "long\n",
        "actually\n",
        "however\n",
        "without\n",
        "orbiter\n",
        "original\n",
        "something\n",
        " \n",
        "Concept 704:"
       ]
      },
      {
       "output_type": "stream",
       "stream": "stdout",
       "text": [
        "\n",
        "get\n",
        "given\n",
        "distribution\n",
        "back\n",
        "week\n",
        "orbital\n",
        "time\n",
        "national\n",
        "nasa\n",
        "know\n",
        " \n",
        "Concept 705:"
       ]
      },
      {
       "output_type": "stream",
       "stream": "stdout",
       "text": [
        "\n",
        "usa lines\n",
        "ca\n",
        "orbital\n",
        "since\n",
        "system\n",
        "reply\n",
        "current\n",
        "light\n",
        "enough\n",
        "years\n",
        " \n",
        "Concept 706:"
       ]
      },
      {
       "output_type": "stream",
       "stream": "stdout",
       "text": [
        "\n",
        "might\n",
        "development\n",
        "re\n",
        "news\n",
        "pat\n",
        "seems\n",
        "whole\n",
        "scheduled\n",
        "spencer subject re\n",
        "lunar\n",
        " \n",
        "Concept 707:"
       ]
      },
      {
       "output_type": "stream",
       "stream": "stdout",
       "text": [
        "\n",
        "way\n",
        "shuttle\n",
        "solar\n",
        "many\n",
        "someone\n",
        "subject re\n",
        "go\n",
        "years\n",
        "isn\n",
        "15\n",
        " \n",
        "Concept 708:"
       ]
      },
      {
       "output_type": "stream",
       "stream": "stdout",
       "text": [
        "\n",
        "small\n",
        "michael adams\n",
        "access access\n",
        "access access pat\n",
        "isn\n",
        "satellite\n",
        "little\n",
        "planet\n",
        "maybe\n",
        "galileo\n",
        " \n",
        "Concept 709:"
       ]
      },
      {
       "output_type": "stream",
       "stream": "stdout",
       "text": [
        "\n",
        "big\n",
        "much\n",
        "question\n",
        "anyone\n",
        "think\n",
        "really\n",
        "missions\n",
        "pat\n",
        "another\n",
        "ray\n",
        " \n",
        "Concept 710:"
       ]
      },
      {
       "output_type": "stream",
       "stream": "stdout",
       "text": [
        "\n",
        "part\n",
        "go\n",
        "hst\n",
        "without\n",
        "world\n",
        "93\n",
        "try\n",
        "going\n",
        "make\n",
        "nasa\n",
        " \n",
        "Concept 711:"
       ]
      },
      {
       "output_type": "stream",
       "stream": "stdout",
       "text": [
        "\n",
        "gamma\n",
        "point\n",
        "build\n",
        "ron baalke\n",
        "article\n",
        "even\n",
        "online\n",
        "_____\n",
        "years\n",
        "idea\n",
        " \n",
        "Concept 712:"
       ]
      },
      {
       "output_type": "stream",
       "stream": "stdout",
       "text": [
        "\n",
        "two\n",
        "usa\n",
        "org\n",
        "high speed\n",
        "missions\n",
        "another\n",
        "maybe\n",
        "communications\n",
        "question\n",
        "come\n",
        " \n",
        "Concept 713:"
       ]
      },
      {
       "output_type": "stream",
       "stream": "stdout",
       "text": [
        "\n",
        "know\n",
        "costs\n",
        "part\n",
        "ron\n",
        "give\n",
        "support\n",
        "22\n",
        "please\n",
        "pat\n",
        "research\n",
        " \n",
        "Concept 714:"
       ]
      },
      {
       "output_type": "stream",
       "stream": "stdout",
       "text": [
        "\n",
        "kelvin\n",
        "cs cmu\n",
        "flight\n",
        "center\n",
        "program\n",
        "actually\n",
        "like\n",
        "never\n",
        "idea\n",
        "may\n",
        " \n",
        "Concept 715:"
       ]
      },
      {
       "output_type": "stream",
       "stream": "stdout",
       "text": [
        "\n",
        "software\n",
        "rather\n",
        "access pat\n",
        "billion\n",
        "base\n",
        "give\n",
        "days\n",
        "actually\n",
        "using\n",
        "face\n",
        " \n",
        "Concept 716:"
       ]
      },
      {
       "output_type": "stream",
       "stream": "stdout",
       "text": [
        "\n",
        "see\n",
        "least\n",
        "higgins\n",
        "university\n",
        "michael adams\n",
        "better\n",
        "three\n",
        "communications\n",
        "king\n",
        "data\n",
        " \n",
        "Concept 717:"
       ]
      },
      {
       "output_type": "stream",
       "stream": "stdout",
       "text": [
        "\n",
        "might\n",
        "anything\n",
        "software\n",
        "isn\n",
        "earth\n",
        "lot\n",
        "made\n",
        "well\n",
        "three\n",
        "need\n",
        " \n",
        "Concept 718:"
       ]
      },
      {
       "output_type": "stream",
       "stream": "stdout",
       "text": [
        "\n",
        "someone\n",
        "however\n",
        "look\n",
        "13\n",
        "using\n",
        "used\n",
        "could\n",
        "design\n",
        "man\n",
        "development\n",
        " \n",
        "Concept 719:"
       ]
      },
      {
       "output_type": "stream",
       "stream": "stdout",
       "text": [
        "\n",
        "first\n",
        "resembles\n",
        "know\n",
        "based\n",
        "night\n",
        "well\n",
        "see\n",
        "question\n",
        "without\n",
        "since\n",
        " \n",
        "Concept 720:"
       ]
      },
      {
       "output_type": "stream",
       "stream": "stdout",
       "text": [
        "\n",
        "eng\n",
        "news\n",
        "thing\n",
        "10\n",
        "first\n",
        "one\n",
        "sci space\n",
        "research\n",
        "ca\n",
        "etc\n",
        " \n",
        "Concept 721:"
       ]
      },
      {
       "output_type": "stream",
       "stream": "stdout",
       "text": [
        "\n",
        "sci\n",
        "space station\n",
        "article\n",
        "actually\n",
        "year\n",
        "things\n",
        "launch\n",
        "land\n",
        "online communications\n",
        "april\n",
        " \n",
        "Concept 722:"
       ]
      },
      {
       "output_type": "stream",
       "stream": "stdout",
       "text": [
        "\n",
        "pat\n",
        "servicing mission\n",
        "like\n",
        "nntp posting host\n",
        "posting host\n",
        "planetary\n",
        "better\n",
        "less\n",
        "ground\n",
        "right\n",
        " \n",
        "Concept 723:"
       ]
      },
      {
       "output_type": "stream",
       "stream": "stdout",
       "text": [
        "\n",
        "know\n",
        "new\n",
        "rather\n",
        "go\n",
        "work\n",
        "15\n",
        "subject re\n",
        "good\n",
        "orbital\n",
        "jet propulsion\n",
        " \n",
        "Concept 724:"
       ]
      },
      {
       "output_type": "stream",
       "stream": "stdout",
       "text": [
        "\n",
        "express\n",
        "bit\n",
        "22\n",
        "see\n",
        "project\n",
        "1993\n",
        "writes article\n",
        "spencer subject re\n",
        "aurora\n",
        "nasa\n",
        " \n",
        "Concept 725:"
       ]
      },
      {
       "output_type": "stream",
       "stream": "stdout",
       "text": [
        "\n",
        "long\n",
        "subject re\n",
        "get\n",
        "last\n",
        "phil\n",
        "mksol\n",
        "model\n",
        "41\n",
        "funding\n",
        "cso\n",
        " \n",
        "Concept 726:"
       ]
      },
      {
       "output_type": "stream",
       "stream": "stdout",
       "text": [
        "\n",
        "00\n",
        "make\n",
        "sci\n",
        "access pat\n",
        "got\n",
        "sky\n",
        "re\n",
        "unless\n",
        "dunn\n",
        "problem\n",
        " \n",
        "Concept 727:"
       ]
      },
      {
       "output_type": "stream",
       "stream": "stdout",
       "text": [
        "\n",
        "11\n",
        "gamma\n",
        "gov\n",
        "us\n",
        "internet\n",
        "cs cmu\n",
        "distribution world\n",
        "little\n",
        "might\n",
        "said\n",
        " \n",
        "Concept 728:"
       ]
      },
      {
       "output_type": "stream",
       "stream": "stdout",
       "text": [
        "\n",
        "data\n",
        "much\n",
        "alaska\n",
        "work\n",
        "space\n",
        "new\n",
        "man\n",
        "00\n",
        "online communications\n",
        "king\n",
        " \n",
        "Concept 729:"
       ]
      },
      {
       "output_type": "stream",
       "stream": "stdout",
       "text": [
        "\n",
        "ray\n",
        "also\n",
        "man\n",
        "reply\n",
        "good\n",
        "something\n",
        "could\n",
        "field\n",
        "posting\n",
        "right\n",
        " \n",
        "Concept 730:"
       ]
      },
      {
       "output_type": "stream",
       "stream": "stdout",
       "text": [
        "\n",
        "solar\n",
        "going\n",
        "anything\n",
        "university\n",
        "1993\n",
        "express\n",
        "april\n",
        "read\n",
        "added\n",
        "human\n",
        " \n",
        "Concept 731:"
       ]
      },
      {
       "output_type": "stream",
       "stream": "stdout",
       "text": [
        "\n",
        "vehicle\n",
        "10\n",
        "gov\n",
        "government\n",
        "news\n",
        "part\n",
        "sci\n",
        "also\n",
        "organization university\n",
        "access pat subject\n",
        " \n",
        "Concept 732:"
       ]
      },
      {
       "output_type": "stream",
       "stream": "stdout",
       "text": [
        "\n",
        "good\n",
        "20\n",
        "news\n",
        "enough\n",
        "different\n",
        "land\n",
        "technology\n",
        "planets\n",
        "software\n",
        "military\n",
        " \n",
        "Concept 733:"
       ]
      },
      {
       "output_type": "stream",
       "stream": "stdout",
       "text": [
        "\n",
        "radio\n",
        "energy\n",
        "93\n",
        "10\n",
        "however\n",
        "available\n",
        "cmu\n",
        "long\n",
        "distribution world\n",
        "re space\n",
        " \n",
        "Concept 734:"
       ]
      },
      {
       "output_type": "stream",
       "stream": "stdout",
       "text": [
        "\n",
        "also\n",
        "nasa\n",
        "look\n",
        "right\n",
        "access\n",
        "mars\n",
        "current\n",
        "organization university\n",
        "day\n",
        "around\n",
        " \n",
        "Concept 735:"
       ]
      },
      {
       "output_type": "stream",
       "stream": "stdout",
       "text": [
        "\n",
        "world\n",
        "11\n",
        "done\n",
        "time\n",
        "keep\n",
        "air\n",
        "speed\n",
        "nsmca\n",
        "part\n",
        "jsc\n",
        " \n",
        "Concept 736:"
       ]
      },
      {
       "output_type": "stream",
       "stream": "stdout",
       "text": [
        "\n",
        "work\n",
        "around\n",
        "technology\n",
        "communications\n",
        "news\n",
        "moon\n",
        "space digest\n",
        "reply\n",
        "objects\n",
        "little\n",
        " \n",
        "Concept 737:"
       ]
      },
      {
       "output_type": "stream",
       "stream": "stdout",
       "text": [
        "\n",
        "well\n",
        "00\n",
        "jpl\n",
        "communications\n",
        "work\n",
        "20\n",
        "via\n",
        "first\n",
        "aurora alaska\n",
        "university\n",
        " \n",
        "Concept 738:"
       ]
      },
      {
       "output_type": "stream",
       "stream": "stdout",
       "text": [
        "\n",
        "people\n",
        "maybe\n",
        "might\n",
        "toronto henry spencer\n",
        "like\n",
        "launch\n",
        "posting\n",
        "make\n",
        "problems\n",
        "better\n",
        " \n",
        "Concept 739:"
       ]
      },
      {
       "output_type": "stream",
       "stream": "stdout",
       "text": [
        "\n",
        "first\n",
        "man\n",
        "jpl\n",
        "computer\n",
        "flight\n",
        "could\n",
        "etc\n",
        "article\n",
        "interesting\n",
        "access pat writes\n",
        " \n",
        "Concept 740:"
       ]
      },
      {
       "output_type": "stream",
       "stream": "stdout",
       "text": [
        "\n",
        "different\n",
        "technology\n",
        "program\n",
        "access pat writes\n",
        "like\n",
        "engineering\n",
        "ron baalke\n",
        "software\n",
        "may\n",
        "jpl\n",
        " \n",
        "Concept 741:"
       ]
      },
      {
       "output_type": "stream",
       "stream": "stdout",
       "text": [
        "\n",
        "better\n",
        "distribution\n",
        "april\n",
        "long\n",
        "send\n",
        "orbit\n",
        "space station\n",
        "something\n",
        "second\n",
        "sure\n",
        " \n",
        "Concept 742:"
       ]
      },
      {
       "output_type": "stream",
       "stream": "stdout",
       "text": [
        "\n",
        "much\n",
        "aurora alaska\n",
        "used\n",
        "organization university\n",
        "shuttle\n",
        "make\n",
        "may\n",
        "one\n",
        "man\n",
        "30\n",
        " \n",
        "Concept 743:"
       ]
      },
      {
       "output_type": "stream",
       "stream": "stdout",
       "text": [
        "\n",
        "billion\n",
        "pat\n",
        "find\n",
        "aurora alaska\n",
        "see\n",
        "eng\n",
        "space\n",
        "look\n",
        "heard\n",
        "14\n",
        " \n",
        "Concept 744:"
       ]
      },
      {
       "output_type": "stream",
       "stream": "stdout",
       "text": [
        "\n",
        "hst\n",
        "need\n",
        "well\n",
        "back\n",
        "make\n",
        "via\n",
        "california\n",
        "enough\n",
        "jpl nasa gov\n",
        "henry spencer\n",
        " \n",
        "Concept 745:"
       ]
      },
      {
       "output_type": "stream",
       "stream": "stdout",
       "text": [
        "\n",
        "new\n",
        "access pat writes\n",
        "program\n",
        "way\n",
        "could\n",
        "better\n",
        "back\n",
        "article\n",
        "well\n",
        "writes\n",
        " \n",
        "Concept 746:"
       ]
      },
      {
       "output_type": "stream",
       "stream": "stdout",
       "text": [
        "\n",
        "telescope\n",
        "article\n",
        "writes\n",
        "way\n",
        "images\n",
        "___\n",
        "government\n",
        "online communications\n",
        "via\n",
        "thing\n",
        " \n",
        "Concept 747:"
       ]
      },
      {
       "output_type": "stream",
       "stream": "stdout",
       "text": [
        "\n",
        "first\n",
        "man\n",
        "earth\n",
        "online\n",
        "pat subject re\n",
        "engineering\n",
        "propulsion\n",
        "government\n",
        "isn\n",
        "since\n",
        " \n",
        "Concept 748:"
       ]
      },
      {
       "output_type": "stream",
       "stream": "stdout",
       "text": [
        "\n",
        "like\n",
        "three\n",
        "enough\n",
        "article\n",
        "could\n",
        "need\n",
        "galileo\n",
        "one\n",
        "since\n",
        "12\n",
        " \n",
        "Concept 749:"
       ]
      },
      {
       "output_type": "stream",
       "stream": "stdout",
       "text": [
        "\n",
        "sci\n",
        "usa\n",
        "nasa\n",
        "sun\n",
        "idea\n",
        "high speed\n",
        "alaska\n",
        "find\n",
        "program\n",
        "make\n",
        " \n",
        "Concept 750:"
       ]
      },
      {
       "output_type": "stream",
       "stream": "stdout",
       "text": [
        "\n",
        "communications\n",
        "pat writes\n",
        "design\n",
        "david\n",
        "project\n",
        "given\n",
        "lot\n",
        "well\n",
        "higgins\n",
        "engineering\n",
        " \n",
        "Concept 751:"
       ]
      },
      {
       "output_type": "stream",
       "stream": "stdout",
       "text": [
        "\n",
        "solar\n",
        "nasa\n",
        "space\n",
        "fuel\n",
        "mccall\n",
        "__\n",
        "aurora alaska\n",
        "sure\n",
        "get\n",
        "ll\n",
        " \n",
        "Concept 752:"
       ]
      },
      {
       "output_type": "stream",
       "stream": "stdout",
       "text": [
        "\n",
        "big\n",
        "less\n",
        "article\n",
        "something\n",
        "00\n",
        "working\n",
        "cso\n",
        "university\n",
        "thing\n",
        "people\n",
        " \n",
        "Concept 753:"
       ]
      },
      {
       "output_type": "stream",
       "stream": "stdout",
       "text": [
        "\n",
        "help\n",
        "cmu\n",
        "ron\n",
        "get\n",
        "part\n",
        "servicing\n",
        "launch\n",
        "online communications\n",
        "ca\n",
        "pluto\n",
        " \n",
        "Concept 754:"
       ]
      },
      {
       "output_type": "stream",
       "stream": "stdout",
       "text": [
        "\n",
        "lunar\n",
        "many\n",
        "thing\n",
        "something\n",
        "probably\n",
        "stuff\n",
        "usa\n",
        "big\n",
        "access pat subject\n",
        "pat subject\n",
        " \n",
        "Concept 755:"
       ]
      },
      {
       "output_type": "stream",
       "stream": "stdout",
       "text": [
        "\n",
        "communications\n",
        "orbit\n",
        "work\n",
        "aurora\n",
        "put\n",
        "end\n",
        "gamma\n",
        "egalon\n",
        "things\n",
        "may\n",
        " \n",
        "Concept 756:"
       ]
      },
      {
       "output_type": "stream",
       "stream": "stdout",
       "text": [
        "\n",
        "using\n",
        "need\n",
        "isn\n",
        "engineering\n",
        "base\n",
        "ll\n",
        "15\n",
        "might\n",
        "thing\n",
        "designed\n",
        " \n",
        "Concept 757:"
       ]
      },
      {
       "output_type": "stream",
       "stream": "stdout",
       "text": [
        "\n",
        "way\n",
        "nsmca aurora\n",
        "nsmca aurora alaska\n",
        "part\n",
        "station\n",
        "money\n",
        "spencer subject re\n",
        "either\n",
        "much\n",
        "collision\n",
        " \n",
        "Concept 758:"
       ]
      },
      {
       "output_type": "stream",
       "stream": "stdout",
       "text": [
        "\n",
        "time\n",
        "low\n",
        "use\n",
        "___\n",
        "need\n",
        "work one\n",
        "course\n",
        "michael\n",
        "money\n",
        "jpl\n",
        " \n",
        "Concept 759:"
       ]
      },
      {
       "output_type": "stream",
       "stream": "stdout",
       "text": [
        "\n",
        "orbit\n",
        "work\n",
        "pat\n",
        "toronto henry spencer\n",
        "jet propulsion\n",
        "also\n",
        "look\n",
        "lot\n",
        "spacecraft\n",
        "00\n",
        " \n",
        "Concept 760:"
       ]
      },
      {
       "output_type": "stream",
       "stream": "stdout",
       "text": [
        "\n",
        "like\n",
        "bit\n",
        "large\n",
        "cs\n",
        "one\n",
        "first\n",
        "dark\n",
        "13\n",
        "mission\n",
        "keywords\n",
        " \n",
        "Concept 761:"
       ]
      },
      {
       "output_type": "stream",
       "stream": "stdout",
       "text": [
        "\n",
        "usa lines\n",
        "around\n",
        "article\n",
        "space\n",
        "find\n",
        "university\n",
        "use\n",
        "10\n",
        "high speed\n",
        "isn\n",
        " \n",
        "Concept 762:"
       ]
      },
      {
       "output_type": "stream",
       "stream": "stdout",
       "text": [
        "\n",
        "news\n",
        "go\n",
        "development\n",
        "online\n",
        "big\n",
        "actually\n",
        "orbital\n",
        "used\n",
        "online communications\n",
        "systems\n",
        " \n",
        "Concept 763:"
       ]
      },
      {
       "output_type": "stream",
       "stream": "stdout",
       "text": [
        "\n",
        "look\n",
        "collision\n",
        "00\n",
        "usa lines\n",
        "design\n",
        "get\n",
        "want\n",
        "shuttle\n",
        "first\n",
        "dunn\n",
        " \n",
        "Concept 764:"
       ]
      },
      {
       "output_type": "stream",
       "stream": "stdout",
       "text": [
        "\n",
        "people\n",
        "high\n",
        "possible\n",
        "communications\n",
        "dunn\n",
        "aurora alaska\n",
        "fred\n",
        "servicing mission\n",
        "higgins\n",
        "spencer subject re\n",
        " \n",
        "Concept 765:"
       ]
      },
      {
       "output_type": "stream",
       "stream": "stdout",
       "text": [
        "\n",
        "eng\n",
        "day\n",
        "maybe\n",
        "going\n",
        "design\n",
        "system\n",
        "development\n",
        "18\n",
        "many\n",
        "spacecraft\n",
        " \n",
        "Concept 766:"
       ]
      },
      {
       "output_type": "stream",
       "stream": "stdout",
       "text": [
        "\n",
        "see\n",
        "00\n",
        "program\n",
        "utzoo\n",
        "control\n",
        "spencer subject re\n",
        "mission\n",
        "earth\n",
        "jpl nasa gov\n",
        "fuel\n",
        " \n",
        "Concept 767:"
       ]
      },
      {
       "output_type": "stream",
       "stream": "stdout",
       "text": [
        "\n",
        "00\n",
        "california\n",
        "eng\n",
        "know\n",
        "people\n",
        "online communications\n",
        "field\n",
        "sci\n",
        "big\n",
        "day\n",
        " \n",
        "Concept 768:"
       ]
      },
      {
       "output_type": "stream",
       "stream": "stdout",
       "text": [
        "\n",
        "mission\n",
        "make\n",
        "spencer\n",
        "access\n",
        "also\n",
        "see\n",
        "servicing\n",
        "etc\n",
        "name\n",
        "organization\n",
        " \n",
        "Concept 769:"
       ]
      },
      {
       "output_type": "stream",
       "stream": "stdout",
       "text": [
        "\n",
        "might\n",
        "also\n",
        "orbit\n",
        "one man\n",
        "distribution sci\n",
        "control\n",
        "think\n",
        "lot\n",
        "launch\n",
        "servicing mission\n",
        " \n",
        "Concept 770:"
       ]
      },
      {
       "output_type": "stream",
       "stream": "stdout",
       "text": [
        "\n",
        "someone\n",
        "also\n",
        "good\n",
        "organization university\n",
        "nasa\n",
        "around\n",
        "two\n",
        "nasa gov\n",
        "better\n",
        "resembles\n",
        " \n",
        "Concept 771:"
       ]
      },
      {
       "output_type": "stream",
       "stream": "stdout",
       "text": [
        "\n",
        "go\n",
        "find\n",
        "distribution\n",
        "part\n",
        "design\n",
        "different\n",
        "12\n",
        "think\n",
        "might\n",
        "using\n",
        " \n",
        "Concept 772:"
       ]
      },
      {
       "output_type": "stream",
       "stream": "stdout",
       "text": [
        "\n",
        "20\n",
        "solar\n",
        "mars\n",
        "jupiter\n",
        "case\n",
        "arrays\n",
        "using\n",
        "dunn\n",
        "ll\n",
        "flight\n",
        " \n",
        "Concept 773:"
       ]
      },
      {
       "output_type": "stream",
       "stream": "stdout",
       "text": [
        "\n",
        "institute\n",
        "distribution sci\n",
        "like\n",
        "small\n",
        "anyone\n",
        "bill\n",
        "around\n",
        "lunar\n",
        "live\n",
        "1993\n",
        " \n",
        "Concept 774:"
       ]
      },
      {
       "output_type": "stream",
       "stream": "stdout",
       "text": [
        "\n",
        "pat\n",
        "two\n",
        "think\n",
        "ca\n",
        "ground\n",
        "international\n",
        "ken\n",
        "hst servicing mission\n",
        "space\n",
        "get\n",
        " \n",
        "Concept 775:"
       ]
      },
      {
       "output_type": "stream",
       "stream": "stdout",
       "text": [
        "\n",
        "university\n",
        "let\n",
        "going\n",
        "aurora alaska\n",
        "mars\n",
        "news\n",
        "distribution world\n",
        "program\n",
        "ll\n",
        "work\n",
        " \n",
        "Concept 776:"
       ]
      },
      {
       "output_type": "stream",
       "stream": "stdout",
       "text": [
        "\n",
        "flight\n",
        "usa\n",
        "nsmca\n",
        "make\n",
        "find\n",
        "gamma ray\n",
        "lot\n",
        "science\n",
        "cso\n",
        "hst\n",
        " \n",
        "Concept 777:"
       ]
      },
      {
       "output_type": "stream",
       "stream": "stdout",
       "text": [
        "\n",
        "used\n",
        "data\n",
        "kelvin\n",
        "better\n",
        "good\n",
        "satellite\n",
        "toronto henry spencer\n",
        "use\n",
        "20\n",
        "15\n",
        " \n",
        "Concept 778:"
       ]
      },
      {
       "output_type": "stream",
       "stream": "stdout",
       "text": [
        "\n",
        "computer\n",
        "program\n",
        "called\n",
        "spencer subject re\n",
        "higgins\n",
        "science\n",
        "use\n",
        "also\n",
        "sci\n",
        "going\n",
        " \n",
        "Concept 779:"
       ]
      },
      {
       "output_type": "stream",
       "stream": "stdout",
       "text": [
        "\n",
        "access\n",
        "thing\n",
        "jpl\n",
        "already\n",
        "spencer subject re\n",
        "nasa gov\n",
        "hopkins\n",
        "without\n",
        "vehicle\n",
        "oms\n",
        " \n",
        "Concept 780:"
       ]
      },
      {
       "output_type": "stream",
       "stream": "stdout",
       "text": [
        "\n",
        "new\n",
        "enough\n",
        "need\n",
        "got\n",
        "nntp posting host\n",
        "posting host\n",
        "nsmca aurora\n",
        "nsmca aurora alaska\n",
        "sci space\n",
        "news\n",
        " \n",
        "Concept 781:"
       ]
      },
      {
       "output_type": "stream",
       "stream": "stdout",
       "text": [
        "\n",
        "something\n",
        "another\n",
        "communications\n",
        "large\n",
        "boost\n",
        "michael\n",
        "express\n",
        "see\n",
        "jpl\n",
        "pat writes\n",
        " \n",
        "Concept 782:"
       ]
      },
      {
       "output_type": "stream",
       "stream": "stdout",
       "text": [
        "\n",
        "could\n",
        "long\n",
        "think\n",
        "first\n",
        "solar\n",
        "university\n",
        "something\n",
        "utzoo\n",
        "light\n",
        "loss\n",
        " \n",
        "Concept 783:"
       ]
      },
      {
       "output_type": "stream",
       "stream": "stdout",
       "text": [
        "\n",
        "new\n",
        "writes\n",
        "earth\n",
        "different\n",
        "via\n",
        "__\n",
        "servicing\n",
        "much\n",
        "access pat writes\n",
        "zoo\n",
        " \n",
        "Concept 784:"
       ]
      },
      {
       "output_type": "stream",
       "stream": "stdout",
       "text": [
        "\n",
        "much\n",
        "problem\n",
        "10\n",
        "know\n",
        "20\n",
        "maybe\n",
        "close\n",
        "people\n",
        "henry\n",
        "since\n",
        " \n",
        "Concept 785:"
       ]
      },
      {
       "output_type": "stream",
       "stream": "stdout",
       "text": [
        "\n",
        "first\n",
        "nsmca\n",
        "___\n",
        "ron baalke\n",
        "work\n",
        "days\n",
        "find\n",
        "host\n",
        "pat writes\n",
        "toronto henry spencer\n",
        " \n",
        "Concept 786:"
       ]
      },
      {
       "output_type": "stream",
       "stream": "stdout",
       "text": [
        "\n",
        "usa\n",
        "put\n",
        "well\n",
        "henry spencer\n",
        "aurora\n",
        "software\n",
        "real\n",
        "news\n",
        "day\n",
        "online\n",
        " \n",
        "Concept 787:"
       ]
      },
      {
       "output_type": "stream",
       "stream": "stdout",
       "text": [
        "\n",
        "10\n",
        "much\n",
        "long\n",
        "organization university\n",
        "enough\n",
        "big\n",
        "ca\n",
        "hst\n",
        "good\n",
        "see\n",
        " \n",
        "Concept 788:"
       ]
      },
      {
       "output_type": "stream",
       "stream": "stdout",
       "text": [
        "\n",
        "think\n",
        "distribution\n",
        "shuttle\n",
        "writes article\n",
        "usa\n",
        "see\n",
        "space\n",
        "toronto henry spencer\n",
        "station\n",
        "re\n",
        " \n",
        "Concept 789:"
       ]
      },
      {
       "output_type": "stream",
       "stream": "stdout",
       "text": [
        "\n",
        "access pat\n",
        "day\n",
        "one\n",
        "made\n",
        "man\n",
        "much\n",
        "back\n",
        "end\n",
        "henry spencer\n",
        "organization university\n",
        " \n",
        "Concept 790:"
       ]
      },
      {
       "output_type": "stream",
       "stream": "stdout",
       "text": [
        "\n",
        "many\n",
        "gov\n",
        "access\n",
        "university\n",
        "non\n",
        "two\n",
        "high\n",
        "may\n",
        "let\n",
        "henry spencer\n",
        " \n",
        "Concept 791:"
       ]
      },
      {
       "output_type": "stream",
       "stream": "stdout",
       "text": [
        "\n",
        "people\n",
        "communications\n",
        "atmosphere\n",
        "money\n",
        "access\n",
        "cost\n",
        "sci\n",
        "available\n",
        "program\n",
        "jpl nasa gov\n",
        " \n",
        "Concept 792:"
       ]
      },
      {
       "output_type": "stream",
       "stream": "stdout",
       "text": [
        "\n",
        "00\n",
        "cost\n",
        "online communications\n",
        "1993\n",
        "lunar\n",
        "information\n",
        "usa lines\n",
        "news\n",
        "servicing\n",
        "never\n",
        " \n",
        "Concept 793:"
       ]
      },
      {
       "output_type": "stream",
       "stream": "stdout",
       "text": [
        "\n",
        "money\n",
        "like\n",
        "new\n",
        "subject re\n",
        "11\n",
        "fred mccall\n",
        "10\n",
        "organization\n",
        "get\n",
        "nasa\n",
        " \n",
        "Concept 794:"
       ]
      },
      {
       "output_type": "stream",
       "stream": "stdout",
       "text": [
        "\n",
        "re\n",
        "hst\n",
        "first\n",
        "money\n",
        "point\n",
        "_____\n",
        "still\n",
        "need\n",
        "jpl\n",
        "nsmca aurora\n",
        " \n",
        "Concept 795:"
       ]
      },
      {
       "output_type": "stream",
       "stream": "stdout",
       "text": [
        "\n",
        "nasa gov\n",
        "something\n",
        "days\n",
        "billion\n",
        "93\n",
        "different\n",
        "jsc\n",
        "degrees\n",
        "use\n",
        "adams\n",
        " \n",
        "Concept 796:"
       ]
      },
      {
       "output_type": "stream",
       "stream": "stdout",
       "text": [
        "\n",
        "high\n",
        "systems\n",
        "ray\n",
        "___\n",
        "host\n",
        "unless\n",
        "11\n",
        "usa\n",
        "baalke\n",
        "know\n",
        " \n",
        "Concept 797:"
       ]
      },
      {
       "output_type": "stream",
       "stream": "stdout",
       "text": [
        "\n",
        "nasa\n",
        "night\n",
        "two\n",
        "take\n",
        "systems\n",
        "project\n",
        "subject re\n",
        "man\n",
        "re\n",
        "much\n",
        " \n",
        "Concept 798:"
       ]
      },
      {
       "output_type": "stream",
       "stream": "stdout",
       "text": [
        "\n",
        "make\n",
        "years\n",
        "launch\n",
        "pat subject re\n",
        "cs cmu\n",
        "online\n",
        "__\n",
        "jpl\n",
        "see\n",
        "california\n",
        " \n",
        "Concept 799:"
       ]
      },
      {
       "output_type": "stream",
       "stream": "stdout",
       "text": [
        "\n",
        "power\n",
        "planet\n",
        "dick\n",
        "jsc\n",
        "flight\n",
        "work\n",
        "00 34\n",
        "said\n",
        "00 34 ut\n",
        "project\n",
        " \n",
        "Concept 800:"
       ]
      },
      {
       "output_type": "stream",
       "stream": "stdout",
       "text": [
        "\n",
        "jpl\n",
        "news\n",
        "also\n",
        "cs cmu\n",
        "access pat writes\n",
        "arrays\n",
        "re\n",
        "either\n",
        "10\n",
        "fred\n",
        " \n",
        "Concept 801:"
       ]
      },
      {
       "output_type": "stream",
       "stream": "stdout",
       "text": [
        "\n",
        "00\n",
        "organization university\n",
        "idea\n",
        "laboratory\n",
        "solar\n",
        "allen\n",
        "re\n",
        "may\n",
        "life\n",
        "could\n",
        " \n",
        "Concept 802:"
       ]
      },
      {
       "output_type": "stream",
       "stream": "stdout",
       "text": [
        "\n",
        "solar\n",
        "gamma\n",
        "engineering\n",
        "make\n",
        "host\n",
        "good\n",
        "first\n",
        "sci\n",
        "orbital\n",
        "nasa gov\n",
        " \n",
        "Concept 803:"
       ]
      },
      {
       "output_type": "stream",
       "stream": "stdout",
       "text": [
        "\n",
        "orbit\n",
        "re\n",
        "days\n",
        "jpl nasa\n",
        "cmu\n",
        "00 22 fax\n",
        "cs\n",
        "got\n",
        "unless\n",
        "___ __\n",
        " \n",
        "Concept 804:"
       ]
      },
      {
       "output_type": "stream",
       "stream": "stdout",
       "text": [
        "\n",
        "utzoo\n",
        "20\n",
        "isn\n",
        "dunn\n",
        "mccall\n",
        "___ __\n",
        "zoo toronto\n",
        "build\n",
        "rather\n",
        "access\n",
        " \n",
        "Concept 805:"
       ]
      },
      {
       "output_type": "stream",
       "stream": "stdout",
       "text": [
        "\n",
        "first\n",
        "could\n",
        "spencer subject re\n",
        "jpl\n",
        "system\n",
        "prize\n",
        "aurora\n",
        "communications\n",
        "cost\n",
        "large\n",
        " \n",
        "Concept 806:"
       ]
      },
      {
       "output_type": "stream",
       "stream": "stdout",
       "text": [
        "\n",
        "work\n",
        "mass\n",
        "go\n",
        "large\n",
        "possible\n",
        "___\n",
        "used\n",
        "ray\n",
        "access\n",
        "jsc\n",
        " \n",
        "Concept 807:"
       ]
      },
      {
       "output_type": "stream",
       "stream": "stdout",
       "text": [
        "\n",
        "baalke\n",
        "data\n",
        "something\n",
        "much\n",
        "henry\n",
        "new\n",
        "thing\n",
        "high\n",
        "adams\n",
        "man\n",
        " \n",
        "Concept 808:"
       ]
      },
      {
       "output_type": "stream",
       "stream": "stdout",
       "text": [
        "\n",
        "find\n",
        "even\n",
        "cso\n",
        "hopkins\n",
        "express\n",
        "little\n",
        "nasa gov\n",
        "enough\n",
        "10\n",
        "aurora\n",
        " \n",
        "Concept 809:"
       ]
      },
      {
       "output_type": "stream",
       "stream": "stdout",
       "text": [
        "\n",
        "00\n",
        "speed\n",
        "jpl nasa gov\n",
        "00 00\n",
        "satellite\n",
        "nasa\n",
        "way\n",
        "put\n",
        "00 00 gmt\n",
        "missions\n",
        " \n",
        "Concept 810:"
       ]
      },
      {
       "output_type": "stream",
       "stream": "stdout",
       "text": [
        "\n",
        "allen\n",
        "vehicle\n",
        "use\n",
        "ron baalke\n",
        "mission\n",
        "utzoo\n",
        "00\n",
        "writes\n",
        "jet propulsion\n",
        "org\n",
        " \n",
        "Concept 811:"
       ]
      },
      {
       "output_type": "stream",
       "stream": "stdout",
       "text": [
        "\n",
        "subject\n",
        "two\n",
        "good\n",
        "fuel\n",
        "astronomy\n",
        "jsc\n",
        "thing\n",
        "maybe\n",
        "first\n",
        "command\n",
        " \n",
        "Concept 812:"
       ]
      },
      {
       "output_type": "stream",
       "stream": "stdout",
       "text": [
        "\n",
        "us\n",
        "10\n",
        "sure\n",
        "design\n",
        "world\n",
        "access pat writes\n",
        "available\n",
        "spacecraft\n",
        "anyone\n",
        "cs\n",
        " \n",
        "Concept 813:"
       ]
      },
      {
       "output_type": "stream",
       "stream": "stdout",
       "text": [
        "\n",
        "kelvin\n",
        "work\n",
        "ron baalke\n",
        "nasa gov\n",
        "put\n",
        "first\n",
        "lot\n",
        "really\n",
        "get\n",
        "cs\n",
        " \n",
        "Concept 814:"
       ]
      },
      {
       "output_type": "stream",
       "stream": "stdout",
       "text": [
        "\n",
        "gamma\n",
        "enough\n",
        "system\n",
        "information\n",
        "think\n",
        "rather\n",
        "nasa\n",
        "pluto\n",
        "team\n",
        "different\n",
        " \n",
        "Concept 815:"
       ]
      },
      {
       "output_type": "stream",
       "stream": "stdout",
       "text": [
        "\n",
        "eng\n",
        "people\n",
        "still\n",
        "sky\n",
        "00 34\n",
        "long\n",
        "cmu\n",
        "area\n",
        "communications\n",
        "please\n",
        " \n",
        "Concept 816:"
       ]
      },
      {
       "output_type": "stream",
       "stream": "stdout",
       "text": [
        "\n",
        "use\n",
        "gov\n",
        "billion\n",
        "people\n",
        "could\n",
        "online communications\n",
        "henry zoo\n",
        "henry zoo toronto\n",
        "believe\n",
        "high\n",
        " \n",
        "Concept 817:"
       ]
      },
      {
       "output_type": "stream",
       "stream": "stdout",
       "text": [
        "\n",
        "solar\n",
        "look\n",
        "mission\n",
        "cso\n",
        "first\n",
        "writes article\n",
        "mass\n",
        "actually\n",
        "wrong\n",
        "days\n",
        " \n",
        "Concept 818:"
       ]
      },
      {
       "output_type": "stream",
       "stream": "stdout",
       "text": [
        "\n",
        "online communications\n",
        "ron baalke\n",
        "put\n",
        "caltech\n",
        "pat\n",
        "work one\n",
        "communications\n",
        "space shuttle\n",
        "sender\n",
        "big\n",
        " \n",
        "Concept 819:"
       ]
      },
      {
       "output_type": "stream",
       "stream": "stdout",
       "text": [
        "\n",
        "jpl nasa\n",
        "could\n",
        "think\n",
        "lines\n",
        "also\n",
        "else\n",
        "available\n",
        "laboratory\n",
        "pat\n",
        "mission\n",
        " \n",
        "Concept 820:"
       ]
      },
      {
       "output_type": "stream",
       "stream": "stdout",
       "text": [
        "\n",
        "article\n",
        "university\n",
        "got\n",
        "spacecraft\n",
        "around\n",
        "host\n",
        "express\n",
        "launch\n",
        "using\n",
        "jpl nasa\n",
        " \n",
        "Concept 821:"
       ]
      },
      {
       "output_type": "stream",
       "stream": "stdout",
       "text": [
        "\n",
        "distribution\n",
        "online communications\n",
        "long\n",
        "day\n",
        "00\n",
        "university\n",
        "make\n",
        "close\n",
        "rather\n",
        "thing\n",
        " \n",
        "Concept 822:"
       ]
      },
      {
       "output_type": "stream",
       "stream": "stdout",
       "text": [
        "\n",
        "bit\n",
        "thing\n",
        "writes article\n",
        "henry spencer writes\n",
        "spencer writes\n",
        "sky\n",
        "organization\n",
        "air\n",
        "term\n",
        "sci\n",
        " \n",
        "Concept 823:"
       ]
      },
      {
       "output_type": "stream",
       "stream": "stdout",
       "text": [
        "\n",
        "also\n",
        "aurora alaska\n",
        "usa lines\n",
        "00\n",
        "propulsion\n",
        "isn\n",
        "use\n",
        "baalke\n",
        "well\n",
        "jpl nasa\n",
        " \n",
        "Concept 824:"
       ]
      },
      {
       "output_type": "stream",
       "stream": "stdout",
       "text": [
        "\n",
        "lunar\n",
        "design\n",
        "reply\n",
        "organization university\n",
        "alaska\n",
        "seems\n",
        "something\n",
        "utzoo\n",
        "science\n",
        "sci\n",
        " \n",
        "Concept 825:"
       ]
      },
      {
       "output_type": "stream",
       "stream": "stdout",
       "text": [
        "\n",
        "technology\n",
        "know\n",
        "online communications\n",
        "jpl\n",
        "better\n",
        "hst\n",
        "world\n",
        "development\n",
        "pat subject re\n",
        "writes\n",
        " \n",
        "Concept 826:"
       ]
      },
      {
       "output_type": "stream",
       "stream": "stdout",
       "text": [
        "\n",
        "sky\n",
        "sci\n",
        "go\n",
        "system\n",
        "make\n",
        "never\n",
        "made\n",
        "online communications\n",
        "moon\n",
        "give\n",
        " \n",
        "Concept 827:"
       ]
      },
      {
       "output_type": "stream",
       "stream": "stdout",
       "text": [
        "\n",
        "also\n",
        "usa\n",
        "like\n",
        "aurora alaska\n",
        "well\n",
        "landing\n",
        "people\n",
        "right\n",
        "pat subject re\n",
        "know\n",
        " \n",
        "Concept 828:"
       ]
      },
      {
       "output_type": "stream",
       "stream": "stdout",
       "text": [
        "\n",
        "spencer\n",
        "well\n",
        "ll\n",
        "pat writes\n",
        "eng\n",
        "order\n",
        "like\n",
        "online\n",
        "cso\n",
        "usa lines\n",
        " \n",
        "Concept 829:"
       ]
      },
      {
       "output_type": "stream",
       "stream": "stdout",
       "text": [
        "\n",
        "jpl nasa gov\n",
        "high\n",
        "toronto henry spencer\n",
        "baalke\n",
        "online communications\n",
        "however\n",
        "make\n",
        "online\n",
        "toronto henry\n",
        "zoo toronto henry\n",
        " \n",
        "Concept 830:"
       ]
      },
      {
       "output_type": "stream",
       "stream": "stdout",
       "text": [
        "\n",
        "00 34 ut\n",
        "00 34\n",
        "anything\n",
        "jpl nasa\n",
        "problem\n",
        "could\n",
        "speed\n",
        "spencer subject re\n",
        "subject re\n",
        "university\n",
        " \n",
        "Concept 831:"
       ]
      },
      {
       "output_type": "stream",
       "stream": "stdout",
       "text": [
        "\n",
        "kelvin\n",
        "think\n",
        "around\n",
        "alaska\n",
        "problem\n",
        "since\n",
        "00\n",
        "servicing\n",
        "posting\n",
        "actually\n",
        " \n",
        "Concept 832:"
       ]
      },
      {
       "output_type": "stream",
       "stream": "stdout",
       "text": [
        "\n",
        "re\n",
        "billion\n",
        "pat\n",
        "utzoo\n",
        "12\n",
        "base\n",
        "kelvin jpl\n",
        "kelvin jpl nasa\n",
        "maybe\n",
        "article\n",
        " \n",
        "Concept 833:"
       ]
      },
      {
       "output_type": "stream",
       "stream": "stdout",
       "text": [
        "\n",
        "baalke\n",
        "real\n",
        "give\n",
        "utzoo\n",
        "since\n",
        "take\n",
        "orbit\n",
        "may\n",
        "way\n",
        "propulsion\n",
        " \n",
        "Concept 834:"
       ]
      },
      {
       "output_type": "stream",
       "stream": "stdout",
       "text": [
        "\n",
        "henry\n",
        "get\n",
        "system\n",
        "may\n",
        "via\n",
        "thing\n",
        "pat\n",
        "things\n",
        "david\n",
        "research\n",
        " \n",
        "Concept 835:"
       ]
      },
      {
       "output_type": "stream",
       "stream": "stdout",
       "text": [
        "\n",
        "article\n",
        "alaska\n",
        "access\n",
        "cost\n",
        "isn\n",
        "world\n",
        "give\n",
        "high\n",
        "point\n",
        "near\n",
        " \n",
        "Concept 836:"
       ]
      },
      {
       "output_type": "stream",
       "stream": "stdout",
       "text": [
        "\n",
        "jpl nasa\n",
        "writes\n",
        "missions\n",
        "shuttle\n",
        "find\n",
        "11\n",
        "spencer subject re\n",
        "believe\n",
        "life\n",
        "time\n",
        " \n",
        "Concept 837:"
       ]
      },
      {
       "output_type": "stream",
       "stream": "stdout",
       "text": [
        "\n",
        "orbit\n",
        "costs\n",
        "part\n",
        "day\n",
        "spencer\n",
        "two\n",
        "fred\n",
        "new\n",
        "distribution\n",
        "back\n",
        " \n",
        "Concept 838:"
       ]
      },
      {
       "output_type": "stream",
       "stream": "stdout",
       "text": [
        "\n",
        "power\n",
        "jpl nasa\n",
        "sun\n",
        "aurora\n",
        "pat\n",
        "nasa gov\n",
        "express\n",
        "put\n",
        "us\n",
        "news software vax\n",
        " \n",
        "Concept 839:"
       ]
      },
      {
       "output_type": "stream",
       "stream": "stdout",
       "text": [
        "\n",
        "online\n",
        "spencer\n",
        "___ __\n",
        "project\n",
        "solar\n",
        "see\n",
        "henry spencer\n",
        "put\n",
        "cso\n",
        "00 00 gmt\n",
        " \n",
        "Concept 840:"
       ]
      },
      {
       "output_type": "stream",
       "stream": "stdout",
       "text": [
        "\n",
        "even\n",
        "way\n",
        "something\n",
        "toronto henry spencer\n",
        "heard\n",
        "article\n",
        "public\n",
        "reply\n",
        "allen\n",
        "kelvin\n",
        " \n",
        "Concept 841:"
       ]
      },
      {
       "output_type": "stream",
       "stream": "stdout",
       "text": [
        "\n",
        "pat\n",
        "re\n",
        "put\n",
        "hst servicing\n",
        "science\n",
        "possible\n",
        "find\n",
        "many\n",
        "henry zoo\n",
        "henry zoo toronto\n",
        " \n",
        "Concept 842:"
       ]
      },
      {
       "output_type": "stream",
       "stream": "stdout",
       "text": [
        "\n",
        "00\n",
        "put\n",
        "since\n",
        "years\n",
        "kelvin\n",
        "alaska\n",
        "subject re\n",
        "access\n",
        "days\n",
        "high\n",
        " \n",
        "Concept 843:"
       ]
      },
      {
       "output_type": "stream",
       "stream": "stdout",
       "text": [
        "\n",
        "use\n",
        "distribution\n",
        "utzoo\n",
        "subject re\n",
        "earth\n",
        "nasa\n",
        "power\n",
        "online communications\n",
        "00\n",
        "tom\n",
        " \n",
        "Concept 844:"
       ]
      },
      {
       "output_type": "stream",
       "stream": "stdout",
       "text": [
        "\n",
        "jpl\n",
        "design\n",
        "writes article\n",
        "new\n",
        "dick\n",
        "cs\n",
        "hst\n",
        "know\n",
        "looking\n",
        "power\n",
        " \n",
        "Concept 845:"
       ]
      },
      {
       "output_type": "stream",
       "stream": "stdout",
       "text": [
        "\n",
        "high\n",
        "shuttle\n",
        "spencer\n",
        "pat\n",
        "going\n",
        "know\n",
        "rather\n",
        "communications\n",
        "keywords\n",
        "systems\n",
        " \n",
        "Concept 846:"
       ]
      },
      {
       "output_type": "stream",
       "stream": "stdout",
       "text": [
        "\n",
        "think\n",
        "kelvin\n",
        "every\n",
        "system\n",
        "usa\n",
        "hst\n",
        "work\n",
        "speed\n",
        "jpl\n",
        "go\n",
        " \n",
        "Concept 847:"
       ]
      },
      {
       "output_type": "stream",
       "stream": "stdout",
       "text": [
        "\n",
        "online communications\n",
        "host\n",
        "first\n",
        "toronto henry spencer\n",
        "nasa gov\n",
        "isn\n",
        "sci\n",
        "re\n",
        "organization\n",
        "cmu\n",
        " \n",
        "Concept 848:"
       ]
      },
      {
       "output_type": "stream",
       "stream": "stdout",
       "text": [
        "\n",
        "year\n",
        "one\n",
        "nasa gov\n",
        "years\n",
        "nntp posting host\n",
        "posting host\n",
        "system\n",
        "days\n",
        "zoo toronto\n",
        "world\n",
        " \n",
        "Concept 849:"
       ]
      },
      {
       "output_type": "stream",
       "stream": "stdout",
       "text": [
        "\n",
        "express\n",
        "money\n",
        "year\n",
        "_____\n",
        "distribution sci\n",
        "zoo\n",
        "satellite\n",
        "spencer\n",
        "distribution world\n",
        "mass\n",
        " \n",
        "Concept 850:"
       ]
      },
      {
       "output_type": "stream",
       "stream": "stdout",
       "text": [
        "\n",
        "way\n",
        "better\n",
        "one\n",
        "ron\n",
        "00 26 ut\n",
        "several\n",
        "missions\n",
        "make\n",
        "big\n",
        "spacecraft\n",
        " \n",
        "Concept 851:"
       ]
      },
      {
       "output_type": "stream",
       "stream": "stdout",
       "text": [
        "\n",
        "subject\n",
        "subject re\n",
        "even\n",
        "posting\n",
        "pat\n",
        "software\n",
        "spacecraft\n",
        "00 00\n",
        "writes article\n",
        "00 00 gmt\n",
        " \n",
        "Concept 852:"
       ]
      },
      {
       "output_type": "stream",
       "stream": "stdout",
       "text": [
        "\n",
        "also\n",
        "problem\n",
        "sky\n",
        "something\n",
        "want\n",
        "article\n",
        "00 00 gmt\n",
        "small\n",
        "cso\n",
        "writes article\n",
        " \n",
        "Concept 853:"
       ]
      },
      {
       "output_type": "stream",
       "stream": "stdout",
       "text": [
        "\n",
        "mission\n",
        "pat\n",
        "writes\n",
        "many\n",
        "arrays\n",
        "subject\n",
        "use\n",
        "ron\n",
        "never\n",
        "think\n",
        " \n",
        "Concept 854:"
       ]
      },
      {
       "output_type": "stream",
       "stream": "stdout",
       "text": [
        "\n",
        "allen\n",
        "usa lines\n",
        "think\n",
        "space station\n",
        "real\n",
        "organization university\n",
        "large\n",
        "spacecraft\n",
        "mccall\n",
        "kelvin jpl\n",
        " \n",
        "Concept 855:"
       ]
      },
      {
       "output_type": "stream",
       "stream": "stdout",
       "text": [
        "\n",
        "subject re\n",
        "day\n",
        "long\n",
        "anyone\n",
        "data\n",
        "15\n",
        "servicing\n",
        "pluto\n",
        "thing\n",
        "00 00 gmt\n",
        " \n",
        "Concept 856:"
       ]
      },
      {
       "output_type": "stream",
       "stream": "stdout",
       "text": [
        "\n",
        "spencer\n",
        "article\n",
        "design\n",
        "april\n",
        "also\n",
        "host\n",
        "solar\n",
        "astronomy\n",
        "help\n",
        "reply\n",
        " \n",
        "Concept 857:"
       ]
      },
      {
       "output_type": "stream",
       "stream": "stdout",
       "text": [
        "\n",
        "access pat\n",
        "better\n",
        "express\n",
        "pat subject re\n",
        "like\n",
        "us\n",
        "writes\n",
        "man\n",
        "done\n",
        "put\n",
        " \n",
        "Concept 858:"
       ]
      },
      {
       "output_type": "stream",
       "stream": "stdout",
       "text": [
        "\n",
        "writes\n",
        "research\n",
        "available\n",
        "toronto henry spencer\n",
        "low\n",
        "international\n",
        "probably\n",
        "mission\n",
        "large\n",
        "writes article\n",
        " \n",
        "Concept 859:"
       ]
      },
      {
       "output_type": "stream",
       "stream": "stdout",
       "text": [
        "\n",
        "distribution\n",
        "might\n",
        "also\n",
        "end\n",
        "point\n",
        "make\n",
        "toronto henry spencer\n",
        "shuttle\n",
        "re\n",
        "atmosphere\n",
        " \n",
        "Concept 860:"
       ]
      },
      {
       "output_type": "stream",
       "stream": "stdout",
       "text": [
        "\n",
        "communications\n",
        "distribution world\n",
        "know\n",
        "little\n",
        "station\n",
        "something\n",
        "sci\n",
        "news software\n",
        "design\n",
        "time\n",
        " \n",
        "Concept 861:"
       ]
      },
      {
       "output_type": "stream",
       "stream": "stdout",
       "text": [
        "\n",
        "subject\n",
        "zoo toronto\n",
        "access pat\n",
        "utzoo\n",
        "article\n",
        "lunar\n",
        "nasa\n",
        "also\n",
        "gov\n",
        "00 25 ut\n",
        " \n",
        "Concept 862:"
       ]
      },
      {
       "output_type": "stream",
       "stream": "stdout",
       "text": [
        "\n",
        "express\n",
        "jpl nasa gov\n",
        "zoo\n",
        "mccall\n",
        "billion\n",
        "new\n",
        "laboratory\n",
        "writes\n",
        "eng\n",
        "well\n",
        " \n",
        "Concept 863:"
       ]
      },
      {
       "output_type": "stream",
       "stream": "stdout",
       "text": [
        "\n",
        "distribution\n",
        "isn\n",
        "___\n",
        "year\n",
        "utzoo\n",
        "dunn\n",
        "toronto zoology\n",
        "zoology\n",
        "access pat writes\n",
        "bill\n",
        " \n",
        "Concept 864:"
       ]
      },
      {
       "output_type": "stream",
       "stream": "stdout",
       "text": [
        "\n",
        "00 00\n",
        "00 00 gmt\n",
        "speed\n",
        "around\n",
        "00\n",
        "nasa gov\n",
        "toronto zoology\n",
        "zoology\n",
        "center\n",
        "temperature\n",
        " \n",
        "Concept 865:"
       ]
      },
      {
       "output_type": "stream",
       "stream": "stdout",
       "text": [
        "\n",
        "better\n",
        "get\n",
        "organization\n",
        "spacecraft\n",
        "mccall\n",
        "mass\n",
        "lot\n",
        "sure\n",
        "astronomy\n",
        "loss\n",
        " \n",
        "Concept 866:"
       ]
      },
      {
       "output_type": "stream",
       "stream": "stdout",
       "text": [
        "\n",
        "toronto\n",
        "sky\n",
        "moon\n",
        "___\n",
        "aurora\n",
        "actually\n",
        "use\n",
        "kelvin\n",
        "14\n",
        "baalke\n",
        " \n",
        "Concept 867:"
       ]
      },
      {
       "output_type": "stream",
       "stream": "stdout",
       "text": [
        "\n",
        "spencer subject re\n",
        "way\n",
        "command\n",
        "back\n",
        "00 00 gmt\n",
        "right\n",
        "nasa gov\n",
        "writes\n",
        "gamma ray\n",
        "ca\n",
        " \n",
        "Concept 868:"
       ]
      },
      {
       "output_type": "stream",
       "stream": "stdout",
       "text": [
        "\n",
        "usa lines\n",
        "__\n",
        "since\n",
        "research\n",
        "old\n",
        "zoo toronto\n",
        "aurora alaska\n",
        "00 34\n",
        "mccall\n",
        "money\n",
        " \n",
        "Concept 869:"
       ]
      },
      {
       "output_type": "stream",
       "stream": "stdout",
       "text": [
        "\n",
        "henry spencer\n",
        "least\n",
        "days\n",
        "better\n",
        "propulsion\n",
        "toronto\n",
        "baalke\n",
        "jsc\n",
        "alaska\n",
        "current\n",
        " \n",
        "Concept 870:"
       ]
      },
      {
       "output_type": "stream",
       "stream": "stdout",
       "text": [
        "\n",
        "article\n",
        "large\n",
        "toronto henry spencer\n",
        "nasa gov\n",
        "spacecraft\n",
        "ron\n",
        "posting\n",
        "satellite\n",
        "baalke kelvin\n",
        "baalke kelvin jpl\n",
        " \n",
        "Concept 871:"
       ]
      },
      {
       "output_type": "stream",
       "stream": "stdout",
       "text": [
        "\n",
        "00\n",
        "space station\n",
        "online\n",
        "sci\n",
        "still\n",
        "00 22 fax\n",
        "alaska\n",
        "organization\n",
        "boost\n",
        "toronto\n",
        " \n",
        "Concept 872:"
       ]
      },
      {
       "output_type": "stream",
       "stream": "stdout",
       "text": [
        "\n",
        "00 00\n",
        "00 00 gmt\n",
        "first\n",
        "henry\n",
        "people\n",
        "posting\n",
        "usa lines\n",
        "00\n",
        "pluto\n",
        "never\n",
        " \n",
        "Concept 873:"
       ]
      },
      {
       "output_type": "stream",
       "stream": "stdout",
       "text": [
        "\n",
        "pat subject re\n",
        "toronto henry spencer\n",
        "mission\n",
        "spencer\n",
        "much\n",
        "first\n",
        "got\n",
        "still\n",
        "___\n",
        "00 34 ut\n",
        " \n",
        "Concept 874:"
       ]
      },
      {
       "output_type": "stream",
       "stream": "stdout",
       "text": [
        "\n",
        "00 00 gmt\n",
        "00 00\n",
        "gov\n",
        "ll\n",
        "organization\n",
        "jpl\n",
        "government\n",
        "___\n",
        "development\n",
        "spencer\n",
        " \n",
        "Concept 875:"
       ]
      },
      {
       "output_type": "stream",
       "stream": "stdout",
       "text": [
        "\n",
        "news\n",
        "actually\n",
        "research\n",
        "online communications\n",
        "henry zoo\n",
        "henry zoo toronto\n",
        "host\n",
        "system\n",
        "13\n",
        "year\n",
        " \n",
        "Concept 876:"
       ]
      },
      {
       "output_type": "stream",
       "stream": "stdout",
       "text": [
        "\n",
        "toronto\n",
        "posting\n",
        "00 00\n",
        "00 00 gmt\n",
        "look\n",
        "things\n",
        "dick\n",
        "high speed\n",
        "remember\n",
        "kelvin\n",
        " \n",
        "Concept 877:"
       ]
      },
      {
       "output_type": "stream",
       "stream": "stdout",
       "text": [
        "\n",
        "posting\n",
        "high\n",
        "servicing\n",
        "well\n",
        "alaska\n",
        "project\n",
        "access pat\n",
        "jpl\n",
        "big\n",
        "different\n",
        " \n",
        "Concept 878:"
       ]
      },
      {
       "output_type": "stream",
       "stream": "stdout",
       "text": [
        "\n",
        "zoo toronto\n",
        "usa\n",
        "jpl nasa\n",
        "access pat\n",
        "nasa gov\n",
        "one\n",
        "___\n",
        "man\n",
        "online communications\n",
        "subject\n",
        " \n",
        "Concept 879:"
       ]
      },
      {
       "output_type": "stream",
       "stream": "stdout",
       "text": [
        "\n",
        "good\n",
        "well\n",
        "organization\n",
        "baalke\n",
        "first\n",
        "alaska\n",
        "eng\n",
        "vehicle\n",
        "sender\n",
        "night\n",
        " \n",
        "Concept 880:"
       ]
      },
      {
       "output_type": "stream",
       "stream": "stdout",
       "text": [
        "\n",
        "days\n",
        "years\n",
        "usa\n",
        "enough\n",
        "15\n",
        "institute\n",
        "pat\n",
        "00 00 gmt\n",
        "university\n",
        "problem\n",
        " \n",
        "Concept 881:"
       ]
      },
      {
       "output_type": "stream",
       "stream": "stdout",
       "text": [
        "\n",
        "henry\n",
        "pat writes\n",
        "access pat subject\n",
        "pat subject\n",
        "missions\n",
        "things\n",
        "00\n",
        "software\n",
        "international\n",
        "cost\n",
        " \n",
        "Concept 882:"
       ]
      },
      {
       "output_type": "stream",
       "stream": "stdout",
       "text": [
        "\n",
        "subject re\n",
        "toronto henry spencer\n",
        "jsc\n",
        "flight\n",
        "00 30 afternoon\n",
        "go\n",
        "better\n",
        "hst servicing mission\n",
        "work\n",
        "two\n",
        " \n",
        "Concept 883:"
       ]
      },
      {
       "output_type": "stream",
       "stream": "stdout",
       "text": [
        "\n",
        "year\n",
        "online\n",
        "writes\n",
        "00 34\n",
        "00 34 ut\n",
        "15\n",
        "baalke kelvin\n",
        "baalke kelvin jpl\n",
        "communications\n",
        "zoo toronto\n",
        " \n",
        "Concept 884:"
       ]
      },
      {
       "output_type": "stream",
       "stream": "stdout",
       "text": [
        "\n",
        "work\n",
        "propulsion\n",
        "online communications\n",
        "henry\n",
        "usa\n",
        "didn\n",
        "probe\n",
        "mars\n",
        "host\n",
        "pat subject re\n",
        " \n",
        "Concept 885:"
       ]
      },
      {
       "output_type": "stream",
       "stream": "stdout",
       "text": [
        "\n",
        "toronto henry spencer\n",
        "etc\n",
        "high\n",
        "well\n",
        "speed\n",
        "without\n",
        "project\n",
        "ray\n",
        "time\n",
        "ron\n",
        " \n",
        "Concept 886:"
       ]
      },
      {
       "output_type": "stream",
       "stream": "stdout",
       "text": [
        "\n",
        "toronto\n",
        "university\n",
        "also\n",
        "baalke\n",
        "zoo\n",
        "alaska\n",
        "sure\n",
        "nasa gov\n",
        "ever\n",
        "pat\n",
        " \n",
        "Concept 887:"
       ]
      },
      {
       "output_type": "stream",
       "stream": "stdout",
       "text": [
        "\n",
        "enough\n",
        "spencer subject re\n",
        "utzoo\n",
        "also\n",
        "henry\n",
        "hst\n",
        "space station\n",
        "since\n",
        "online communications\n",
        "thing\n",
        " \n",
        "Concept 888:"
       ]
      },
      {
       "output_type": "stream",
       "stream": "stdout",
       "text": [
        "\n",
        "jpl nasa gov\n",
        "time\n",
        "subject re\n",
        "speed\n",
        "surface\n",
        "access pat\n",
        "lines\n",
        "writes\n",
        "organization\n",
        "find\n",
        " \n",
        "Concept 889:"
       ]
      },
      {
       "output_type": "stream",
       "stream": "stdout",
       "text": [
        "\n",
        "posting\n",
        "00 10 opening\n",
        "well\n",
        "one man\n",
        "back\n",
        "jet propulsion\n",
        "new\n",
        "large\n",
        "subject re\n",
        "ca\n",
        " \n",
        "Concept 890:"
       ]
      },
      {
       "output_type": "stream",
       "stream": "stdout",
       "text": [
        "\n",
        "subject\n",
        "spencer subject re\n",
        "utzoo\n",
        "around\n",
        "spencer\n",
        "better\n",
        "space\n",
        "mccall\n",
        "take\n",
        "gov\n",
        " \n",
        "Concept 891:"
       ]
      },
      {
       "output_type": "stream",
       "stream": "stdout",
       "text": [
        "\n",
        "access pat\n",
        "toronto\n",
        "make\n",
        "aurora alaska\n",
        "flight\n",
        "year\n",
        "nntp posting host\n",
        "posting host\n",
        "going\n",
        "kelvin\n",
        " \n",
        "Concept 892:"
       ]
      },
      {
       "output_type": "stream",
       "stream": "stdout",
       "text": [
        "\n",
        "subject re\n",
        "give\n",
        "laboratory\n",
        "15\n",
        "utzoo\n",
        "put\n",
        "look\n",
        "light\n",
        "missions\n",
        "henry spencer\n",
        " \n",
        "Concept 893:"
       ]
      },
      {
       "output_type": "stream",
       "stream": "stdout",
       "text": [
        "\n",
        "things\n",
        "high\n",
        "make\n",
        "zoo toronto\n",
        "large\n",
        "henry spencer\n",
        "00 52\n",
        "posting\n",
        "henry\n",
        "allen\n",
        " \n",
        "Concept 894:"
       ]
      },
      {
       "output_type": "stream",
       "stream": "stdout",
       "text": [
        "\n",
        "sky\n",
        "00 00 gmt\n",
        "baalke kelvin\n",
        "baalke kelvin jpl\n",
        "00 00\n",
        "nasa gov\n",
        "access pat subject\n",
        "pat subject\n",
        "nntp\n",
        "nntp posting\n",
        " \n",
        "Concept 895:"
       ]
      },
      {
       "output_type": "stream",
       "stream": "stdout",
       "text": [
        "\n",
        "re\n",
        "year\n",
        "host\n",
        "access pat subject\n",
        "pat subject\n",
        "bursters\n",
        "nasa gov\n",
        "used\n",
        "henry spencer\n",
        "least\n",
        " \n",
        "Concept 896:"
       ]
      },
      {
       "output_type": "stream",
       "stream": "stdout",
       "text": [
        "\n",
        "gov\n",
        "re\n",
        "better\n",
        "things\n",
        "much\n",
        "back\n",
        "spencer\n",
        "work\n",
        "henry spencer\n",
        "way\n",
        " \n",
        "Concept 897:"
       ]
      },
      {
       "output_type": "stream",
       "stream": "stdout",
       "text": [
        "\n",
        "organization\n",
        "nsmca\n",
        "baalke\n",
        "spencer\n",
        "toronto henry spencer\n",
        "many\n",
        "zoo toronto\n",
        "article\n",
        "pat subject re\n",
        "mass\n",
        " \n",
        "Concept 898:"
       ]
      },
      {
       "output_type": "stream",
       "stream": "stdout",
       "text": [
        "\n",
        "subject\n",
        "flight\n",
        "kelvin\n",
        "air\n",
        "utzoo\n",
        "space\n",
        "fuel\n",
        "online communications\n",
        "henry spencer\n",
        "better\n",
        " \n",
        "Concept 899:"
       ]
      },
      {
       "output_type": "stream",
       "stream": "stdout",
       "text": [
        "\n",
        "posting\n",
        "subject re\n",
        "large\n",
        "00 34 ut\n",
        "communications\n",
        "00 34\n",
        "jpl nasa\n",
        "1993\n",
        "anyone\n",
        "work\n",
        " \n",
        "Concept 900:"
       ]
      },
      {
       "output_type": "stream",
       "stream": "stdout",
       "text": [
        "\n",
        "toronto henry spencer\n",
        "lines\n",
        "spencer subject re\n",
        "00 25\n",
        "00 00 gmt\n",
        "00 25 ut\n",
        "00 00\n",
        "access pat\n",
        "posting\n",
        "00 26\n",
        " \n",
        "Concept 901:"
       ]
      },
      {
       "output_type": "stream",
       "stream": "stdout",
       "text": [
        "\n",
        "toronto henry spencer\n",
        "two\n",
        "access pat\n",
        "00 21 pdt\n",
        "writes\n",
        "online communications\n",
        "work\n",
        "nasa gov\n",
        "subject re\n",
        "00 21\n",
        " \n",
        "Concept 902:"
       ]
      },
      {
       "output_type": "stream",
       "stream": "stdout",
       "text": [
        "\n",
        "posting\n",
        "henry\n",
        "henry spencer\n",
        "way\n",
        "servicing\n",
        "00 22 fax\n",
        "spencer\n",
        "days\n",
        "_____\n",
        "used\n",
        " \n",
        "Concept 903:"
       ]
      },
      {
       "output_type": "stream",
       "stream": "stdout",
       "text": [
        "\n",
        "subject re\n",
        "utzoo\n",
        "time\n",
        "development\n",
        "gamma\n",
        "technology\n",
        "00 30 afternoon\n",
        "access\n",
        "going\n",
        "00 00\n",
        " \n",
        "Concept 904:"
       ]
      },
      {
       "output_type": "stream",
       "stream": "stdout",
       "text": [
        "\n",
        "writes\n",
        "zoo toronto\n",
        "kelvin jpl\n",
        "kelvin jpl nasa\n",
        "system\n",
        "distribution world\n",
        "line\n",
        "utzoo\n",
        "00 12\n",
        "much\n",
        " \n",
        "Concept 905:"
       ]
      },
      {
       "output_type": "stream",
       "stream": "stdout",
       "text": [
        "\n",
        "00 12\n",
        "aurora alaska\n",
        "access pat\n",
        "nasa gov\n",
        "00 30 lunch\n",
        "days\n",
        "low\n",
        "organization\n",
        "fnal\n",
        "might\n",
        " \n",
        "Concept 906:"
       ]
      },
      {
       "output_type": "stream",
       "stream": "stdout",
       "text": [
        "\n",
        "re\n",
        "access pat\n",
        "00 30 lunch\n",
        "00 30\n",
        "00 12\n",
        "aurora alaska\n",
        "posting\n",
        "put\n",
        "institute\n",
        "much\n",
        " \n",
        "Concept 907:"
       ]
      },
      {
       "output_type": "stream",
       "stream": "stdout",
       "text": [
        "\n",
        "access pat\n",
        "writes\n",
        "power\n",
        "zoo\n",
        "propulsion\n",
        "host\n",
        "1993\n",
        "00 34 ut\n",
        "least\n",
        "planet\n",
        " \n",
        "Concept 908:"
       ]
      },
      {
       "output_type": "stream",
       "stream": "stdout",
       "text": [
        "\n",
        "organization\n",
        "gov\n",
        "henry\n",
        "cso\n",
        "sky\n",
        "00 52\n",
        "since\n",
        "speed\n",
        "center\n",
        "send\n",
        " \n",
        "Concept 909:"
       ]
      },
      {
       "output_type": "stream",
       "stream": "stdout",
       "text": [
        "\n",
        "henry spencer\n",
        "nasa\n",
        "00 00 gmt\n",
        "hst\n",
        "year\n",
        "mars\n",
        "subject re\n",
        "host\n",
        "alaska\n",
        "gov\n",
        " \n",
        "Concept 910:"
       ]
      },
      {
       "output_type": "stream",
       "stream": "stdout",
       "text": [
        "\n",
        "lines\n",
        "jpl nasa\n",
        "00 30\n",
        "aurora alaska\n",
        "00 04\n",
        "access pat\n",
        "alaska\n",
        "back\n",
        "00 cost\n",
        "gov\n",
        " \n",
        "Concept 911:"
       ]
      },
      {
       "output_type": "stream",
       "stream": "stdout",
       "text": [
        "\n",
        "spencer\n",
        "zoo\n",
        "posting\n",
        "station\n",
        "pat\n",
        "jpl nasa gov\n",
        "look\n",
        "article\n",
        "least\n",
        "also\n",
        " \n",
        "Concept 912:"
       ]
      },
      {
       "output_type": "stream",
       "stream": "stdout",
       "text": [
        "\n",
        "access pat\n",
        "access\n",
        "00 34\n",
        "00 34 ut\n",
        "satellites\n",
        "subject re\n",
        "news\n",
        "done\n",
        "space station\n",
        "henry\n",
        " \n",
        "Concept 913:"
       ]
      },
      {
       "output_type": "stream",
       "stream": "stdout",
       "text": [
        "\n",
        "writes\n",
        "zoo\n",
        "nasa gov\n",
        "utzoo\n",
        "zoo toronto\n",
        "00 21\n",
        "work\n",
        "go\n",
        "billion\n",
        "anyone\n",
        " \n",
        "Concept 914:"
       ]
      },
      {
       "output_type": "stream",
       "stream": "stdout",
       "text": [
        "\n",
        "zoo\n",
        "kelvin\n",
        "baalke\n",
        "00 30\n",
        "re\n",
        "still\n",
        "system\n",
        "writes\n",
        "first\n",
        "billion\n",
        " \n",
        "Concept 915:"
       ]
      },
      {
       "output_type": "stream",
       "stream": "stdout",
       "text": [
        "\n",
        "re\n",
        "zoo toronto\n",
        "make\n",
        "station\n",
        "host\n",
        "lab\n",
        "use\n",
        "access pat\n",
        "first\n",
        "_____\n",
        " \n",
        "Concept 916:"
       ]
      },
      {
       "output_type": "stream",
       "stream": "stdout",
       "text": [
        "\n",
        "henry spencer\n",
        "lines\n",
        "alaska\n",
        "00 additional\n",
        "power\n",
        "00 1993 lines\n",
        "sci\n",
        "baalke kelvin\n",
        "baalke kelvin jpl\n",
        "00 34\n",
        " \n",
        "Concept 917:"
       ]
      },
      {
       "output_type": "stream",
       "stream": "stdout",
       "text": [
        "\n",
        "toronto\n",
        "subject re\n",
        "00 34\n",
        "host\n",
        "back\n",
        "work\n",
        "jpl nasa\n",
        "every\n",
        "space\n",
        "00 12 00\n",
        " \n",
        "Concept 918:"
       ]
      },
      {
       "output_type": "stream",
       "stream": "stdout",
       "text": [
        "\n",
        "lines\n",
        "zoo toronto\n",
        "henry\n",
        "access\n",
        "00 52\n",
        "baalke\n",
        "00 21 pdt\n",
        "eng\n",
        "see\n",
        "pat subject re\n",
        " \n",
        "Concept 919:"
       ]
      },
      {
       "output_type": "stream",
       "stream": "stdout",
       "text": [
        "\n",
        "00 00 gmt\n",
        "subject re\n",
        "nasa gov\n",
        "00 00\n",
        "baalke\n",
        "henry\n",
        "zoo\n",
        "point\n",
        "mccall\n",
        "00 10\n",
        " \n",
        "Concept 920:"
       ]
      },
      {
       "output_type": "stream",
       "stream": "stdout",
       "text": [
        "\n",
        "toronto\n",
        "00 additional additional\n",
        "system\n",
        "writes\n",
        "00 10 opening\n",
        "utzoo\n",
        "sky\n",
        "henry spencer\n",
        "money\n",
        "man\n",
        " \n",
        "Concept 921:"
       ]
      },
      {
       "output_type": "stream",
       "stream": "stdout",
       "text": [
        "\n",
        "00 10 opening\n",
        "jpl nasa\n",
        "nsmca\n",
        "long\n",
        "around\n",
        "pat\n",
        "00 52 01\n",
        "access\n",
        "kelvin\n",
        "nntp\n",
        " \n",
        "Concept 922:"
       ]
      },
      {
       "output_type": "stream",
       "stream": "stdout",
       "text": [
        "\n",
        "host\n",
        "organization\n",
        "00 21 pdt\n",
        "gov\n",
        "going\n",
        "people\n",
        "man\n",
        "utzoo\n",
        "access pat\n",
        "communications\n",
        " \n",
        "Concept 923:"
       ]
      },
      {
       "output_type": "stream",
       "stream": "stdout",
       "text": [
        "\n",
        "organization\n",
        "00 1993\n",
        "henry\n",
        "00 22 fax\n",
        "00 1993 lines\n",
        "alaska\n",
        "cost\n",
        "earth\n",
        "hst\n",
        "eng\n",
        " \n",
        "Concept 924:"
       ]
      },
      {
       "output_type": "stream",
       "stream": "stdout",
       "text": [
        "\n",
        "00 10\n",
        "host\n",
        "spencer\n",
        "also\n",
        "day\n",
        "henry zoo\n",
        "henry zoo toronto\n",
        "00 11 tuesday\n",
        "organization\n",
        "00 30 lunch\n",
        " \n",
        "Concept 925:"
       ]
      },
      {
       "output_type": "stream",
       "stream": "stdout",
       "text": [
        "\n",
        "00 52 01\n",
        "posting\n",
        "much\n",
        "toronto zoology\n",
        "zoology\n",
        "baalke\n",
        "henry zoo\n",
        "henry zoo toronto\n",
        "mission\n",
        "00 04 gmt\n",
        " \n",
        "Concept 926:"
       ]
      },
      {
       "output_type": "stream",
       "stream": "stdout",
       "text": [
        "\n",
        "subject re\n",
        "organization\n",
        "toronto zoology\n",
        "zoology\n",
        "00 additional additional\n",
        "toronto\n",
        "nsmca\n",
        "use\n",
        "00 13\n",
        "lines\n",
        " \n",
        "Concept 927:"
       ]
      },
      {
       "output_type": "stream",
       "stream": "stdout",
       "text": [
        "\n",
        "organization\n",
        "zoo toronto\n",
        "00 00 gmt\n",
        "00 00\n",
        "spencer\n",
        "re\n",
        "toronto\n",
        "00 additional additional\n",
        "writes\n",
        "00 22 fax\n",
        " \n",
        "Concept 928:"
       ]
      },
      {
       "output_type": "stream",
       "stream": "stdout",
       "text": [
        "\n",
        "00 10 opening\n",
        "00 01 gmt\n",
        "toronto henry spencer\n",
        "organization\n",
        "henry spencer\n",
        "isn\n",
        "world\n",
        "00 30\n",
        "jpl nasa\n",
        "00 25 ut\n",
        " \n",
        "Concept 929:"
       ]
      },
      {
       "output_type": "stream",
       "stream": "stdout",
       "text": [
        "\n",
        "henry\n",
        "maybe\n",
        "00 04\n",
        "00 21 pdt\n",
        "zoo\n",
        "nsmca\n",
        "access\n",
        "access pat subject\n",
        "pat subject\n",
        "organization\n",
        " \n",
        "Concept 930:"
       ]
      },
      {
       "output_type": "stream",
       "stream": "stdout",
       "text": [
        "\n",
        "00 34 ut\n",
        "zoo\n",
        "toronto\n",
        "00 22 fax\n",
        "00 26 ut\n",
        "00 34\n",
        "need\n",
        "00 04\n",
        "00 21 pdt\n",
        "00 1993 lines\n",
        " \n",
        "Concept 931:"
       ]
      },
      {
       "output_type": "stream",
       "stream": "stdout",
       "text": [
        "\n",
        "posting\n",
        "00 additional\n",
        "access\n",
        "alaska\n",
        "baalke\n",
        "toronto henry spencer\n",
        "00 30 lunch\n",
        "world\n",
        "much\n",
        "00 26 gmt\n",
        " \n",
        "Concept 932:"
       ]
      },
      {
       "output_type": "stream",
       "stream": "stdout",
       "text": [
        "\n",
        "host\n",
        "jet\n",
        "00 22 fax\n",
        "00\n",
        "organization\n",
        "00 21 pdt\n",
        "00 12 00\n",
        "00 13\n",
        "much\n",
        "00 1993 lines\n",
        " \n",
        "Concept 933:"
       ]
      },
      {
       "output_type": "stream",
       "stream": "stdout",
       "text": [
        "\n",
        "organization\n",
        "00 11\n",
        "henry zoo\n",
        "henry zoo toronto\n",
        "zoo\n",
        "jpl nasa\n",
        "posting\n",
        "00 25 ut\n",
        "00 cost unit\n",
        "00 11 tuesday\n",
        " \n",
        "Concept 934:"
       ]
      },
      {
       "output_type": "stream",
       "stream": "stdout",
       "text": [
        "\n",
        "organization\n",
        "00 30\n",
        "00 13\n",
        "access pat\n",
        "00 additional additional\n",
        "00 1993 lines\n",
        "00 1993\n",
        "00 22 fax\n",
        "henry spencer\n",
        "00 12 00\n",
        " \n",
        "Concept 935:"
       ]
      },
      {
       "output_type": "stream",
       "stream": "stdout",
       "text": [
        "\n",
        "spencer\n",
        "kelvin\n",
        "00 30 lunch\n",
        "toronto henry\n",
        "zoo toronto henry\n",
        "alaska\n",
        "system\n",
        "00 cost subscribers\n",
        "distribution sci\n",
        "rather\n",
        " \n",
        "Concept 936:"
       ]
      },
      {
       "output_type": "stream",
       "stream": "stdout",
       "text": [
        "\n",
        "toronto\n",
        "00 10\n",
        "spencer\n",
        "00 12 00\n",
        "nntp\n",
        "nntp posting\n",
        "subject re\n",
        "large\n",
        "aurora alaska\n",
        "00 04\n",
        " \n",
        "Concept 937:"
       ]
      },
      {
       "output_type": "stream",
       "stream": "stdout",
       "text": [
        "\n",
        "subject\n",
        "zoo\n",
        "nntp\n",
        "nntp posting\n",
        "baalke\n",
        "00 52 01\n",
        "00 04 gmt\n",
        "00 30 afternoon\n",
        "00 10 opening\n",
        "nasa gov\n",
        " \n",
        "Concept 938:"
       ]
      },
      {
       "output_type": "stream",
       "stream": "stdout",
       "text": [
        "\n",
        "posting\n",
        "00 10\n",
        "00 34 ut\n",
        "00 13 phone\n",
        "00 cost\n",
        "00 30\n",
        "baalke\n",
        "see\n",
        "aurora\n",
        "00 10 opening\n",
        " \n",
        "Concept 939:"
       ]
      },
      {
       "output_type": "stream",
       "stream": "stdout",
       "text": [
        "\n",
        "00 22 fax\n",
        "lines\n",
        "access pat\n",
        "zoo\n",
        "nasa gov\n",
        "go\n",
        "spencer\n",
        "jpl nasa\n",
        "00 26 gmt\n",
        "around\n",
        " \n",
        "Concept 940:"
       ]
      },
      {
       "output_type": "stream",
       "stream": "stdout",
       "text": [
        "\n",
        "alaska\n",
        "toronto\n",
        "lines\n",
        "00 30\n",
        "00 25\n",
        "jpl nasa gov\n",
        "00 00 gmt\n",
        "00 25 ut\n",
        "00 00\n",
        "henry\n",
        " \n",
        "Concept 941:"
       ]
      },
      {
       "output_type": "stream",
       "stream": "stdout",
       "text": [
        "\n",
        "lines\n",
        "henry spencer\n",
        "00 34\n",
        "henry zoo\n",
        "henry zoo toronto\n",
        "posting\n",
        "toronto zoology\n",
        "zoology\n",
        "00 cost\n",
        "writes\n",
        " \n",
        "Concept 942:"
       ]
      },
      {
       "output_type": "stream",
       "stream": "stdout",
       "text": [
        "\n",
        "00 additional additional\n",
        "gov\n",
        "organization\n",
        "00 21\n",
        "lines\n",
        "henry spencer\n",
        "zoo\n",
        "00 22 fax\n",
        "00 34\n",
        "nsmca aurora\n",
        " \n",
        "Concept 943:"
       ]
      },
      {
       "output_type": "stream",
       "stream": "stdout",
       "text": [
        "\n",
        "00 01\n",
        "00 34\n",
        "00 cost unit\n",
        "gov\n",
        "00 00\n",
        "00 00 gmt\n",
        "henry spencer\n",
        "00 1993\n",
        "spencer subject re\n",
        "00 30 lunch\n",
        " \n",
        "Concept 944:"
       ]
      },
      {
       "output_type": "stream",
       "stream": "stdout",
       "text": [
        "\n",
        "express\n",
        "00 11\n",
        "00 01\n",
        "00 04 gmt\n",
        "00 1993\n",
        "way\n",
        "toronto\n",
        "high\n",
        "00 1993 lines\n",
        "subject re\n",
        " \n",
        "Concept 945:"
       ]
      },
      {
       "output_type": "stream",
       "stream": "stdout",
       "text": [
        "\n",
        "00 26 ut\n",
        "00 13 phone\n",
        "henry\n",
        "00 25\n",
        "00 25 ut\n",
        "toronto zoology\n",
        "zoology\n",
        "00 22\n",
        "zoo\n",
        "00 22 fax\n",
        " \n",
        "Concept 946:"
       ]
      },
      {
       "output_type": "stream",
       "stream": "stdout",
       "text": [
        "\n",
        "00 30 lunch\n",
        "zoo toronto\n",
        "subject\n",
        "00 13\n",
        "00 22\n",
        "00 30\n",
        "lines\n",
        "00 13 phone\n",
        "00 1993 lines\n",
        "00 01\n",
        " \n",
        "Concept 947:"
       ]
      },
      {
       "output_type": "stream",
       "stream": "stdout",
       "text": [
        "\n",
        "00 12 00\n",
        "00 1993\n",
        "00 1993 lines\n",
        "00 21 pdt\n",
        "00 26 ut\n",
        "00 cost\n",
        "00 additional\n",
        "00 21\n",
        "zoo toronto\n",
        "00 04\n",
        " \n",
        "Concept 948:"
       ]
      },
      {
       "output_type": "stream",
       "stream": "stdout",
       "text": [
        "\n",
        "00 11\n",
        "toronto henry\n",
        "zoo toronto henry\n",
        "00 additional\n",
        "nasa gov\n",
        "00 04 gmt\n",
        "better\n",
        "communications\n",
        "organization\n",
        "rather\n",
        " \n",
        "Concept 949:"
       ]
      },
      {
       "output_type": "stream",
       "stream": "stdout",
       "text": [
        "\n",
        "00 04\n",
        "00 except\n",
        "henry spencer\n",
        "gov\n",
        "00 21\n",
        "00 52\n",
        "00 13 phone\n",
        "zoo\n",
        "toronto\n",
        "00 22 fax\n",
        " \n",
        "Concept 950:"
       ]
      },
      {
       "output_type": "stream",
       "stream": "stdout",
       "text": [
        "\n",
        "00 13\n",
        "00 04\n",
        "00 04 gmt\n",
        "00 11 tuesday\n",
        "00 22 fax\n",
        "toronto zoology\n",
        "zoology\n",
        "subject\n",
        "00 13 phone\n",
        "nntp\n",
        " \n",
        "Concept 951:"
       ]
      },
      {
       "output_type": "stream",
       "stream": "stdout",
       "text": [
        "\n",
        "00 52 01\n",
        "00 10\n",
        "00 cost unit\n",
        "00 04\n",
        "00 13\n",
        "organization\n",
        "00 11 tuesday\n",
        "00 22 fax\n",
        "00 04 gmt\n",
        "00 10 opening\n",
        " \n",
        "Concept 952:"
       ]
      },
      {
       "output_type": "stream",
       "stream": "stdout",
       "text": [
        "\n",
        "00 10\n",
        "zoo toronto\n",
        "00 01 gmt\n",
        "00 11 tuesday\n",
        "posting\n",
        "henry spencer\n",
        "00 26 ut\n",
        "00 34 ut\n",
        "communications\n",
        "toronto zoology\n",
        " \n",
        "Concept 953:"
       ]
      },
      {
       "output_type": "stream",
       "stream": "stdout",
       "text": [
        "\n",
        "00 01 gmt\n",
        "nasa gov\n",
        "writes\n",
        "00 04\n",
        "00 30\n",
        "00 52 01\n",
        "government\n",
        "re\n",
        "toronto zoology\n",
        "zoology\n",
        " \n",
        "Concept 954:"
       ]
      },
      {
       "output_type": "stream",
       "stream": "stdout",
       "text": [
        "\n",
        "00 34\n",
        "00 1993 lines\n",
        "00 1993\n",
        "subject\n",
        "00 13 phone\n",
        "host\n",
        "00 30 afternoon\n",
        "spencer\n",
        "cmu\n",
        "space station\n",
        " \n",
        "Concept 955:"
       ]
      },
      {
       "output_type": "stream",
       "stream": "stdout",
       "text": [
        "\n",
        "00 additional additional\n",
        "toronto\n",
        "00 01 gmt\n",
        "posting\n",
        "00 13 phone\n",
        "00 12\n",
        "henry\n",
        "jpl nasa\n",
        "writes\n",
        "billion\n",
        " \n",
        "Concept 956:"
       ]
      },
      {
       "output_type": "stream",
       "stream": "stdout",
       "text": [
        "\n",
        "00 1993 lines\n",
        "00 additional\n",
        "00 1993\n",
        "zoo\n",
        "00 04\n",
        "toronto zoology\n",
        "zoology\n",
        "00 52 01\n",
        "jpl nasa\n",
        "nntp posting host\n",
        " \n",
        "Concept 957:"
       ]
      },
      {
       "output_type": "stream",
       "stream": "stdout",
       "text": [
        "\n",
        "00 10 opening\n",
        "00 01 gmt\n",
        "00 1993 lines\n",
        "00 30\n",
        "00 except\n",
        "00 1993\n",
        "zoo toronto\n",
        "00 12\n",
        "00 34 ut\n",
        "00 04 gmt\n",
        " \n",
        "Concept 958:"
       ]
      },
      {
       "output_type": "stream",
       "stream": "stdout",
       "text": [
        "\n",
        "00 additional\n",
        "00 13 phone\n",
        "00 26 ut\n",
        "00 13\n",
        "00 01 gmt\n",
        "00 10 opening\n",
        "host\n",
        "henry spencer\n",
        "00 00\n",
        "zoo\n",
        " \n",
        "Concept 959:"
       ]
      },
      {
       "output_type": "stream",
       "stream": "stdout",
       "text": [
        "\n",
        "00 additional additional\n",
        "00 cost unit\n",
        "00 1993\n",
        "00 additional\n",
        "00 52 01\n",
        "00 00\n",
        "nasa gov\n",
        "lines\n",
        "00 12\n",
        "00 1993 lines\n",
        " \n",
        "Concept 960:"
       ]
      },
      {
       "output_type": "stream",
       "stream": "stdout",
       "text": [
        "\n",
        "00 cost unit\n",
        "00 26 ut\n",
        "toronto\n",
        "lines\n",
        "00 30 afternoon\n",
        "writes\n",
        "00 11 tuesday\n",
        "00 additional additional\n",
        "nntp posting host\n",
        "posting host\n",
        " \n",
        "Concept 961:"
       ]
      },
      {
       "output_type": "stream",
       "stream": "stdout",
       "text": [
        "\n",
        "00 10\n",
        "00 13\n",
        "00 21 pdt\n",
        "00 additional\n",
        "00 additional additional\n",
        "00 21\n",
        "00 26\n",
        "zoo toronto\n",
        "organization\n",
        "00 12\n",
        " \n",
        "Concept 962:"
       ]
      },
      {
       "output_type": "stream",
       "stream": "stdout",
       "text": [
        "\n",
        "00 22 fax\n",
        "00 52 01\n",
        "00 25\n",
        "00 cost subscribers\n",
        "host\n",
        "00 except\n",
        "00 52\n",
        "00 26 gmt\n",
        "henry zoo\n",
        "henry zoo toronto\n",
        " \n",
        "Concept 963:"
       ]
      },
      {
       "output_type": "stream",
       "stream": "stdout",
       "text": [
        "\n",
        "00 30 afternoon\n",
        "00 34 ut\n",
        "00 26\n",
        "00 1993\n",
        "00 1993 lines\n",
        "00 04 gmt\n",
        "henry spencer\n",
        "henry zoo\n",
        "henry zoo toronto\n",
        "00 30 lunch\n",
        " \n",
        "Concept 964:"
       ]
      },
      {
       "output_type": "stream",
       "stream": "stdout",
       "text": [
        "\n",
        "00 30 afternoon\n",
        "00 13 phone\n",
        "00 52 01\n",
        "00 52\n",
        "00 22\n",
        "00 12 00\n",
        "00 21 pdt\n",
        "subject\n",
        "00 13\n",
        "00 additional additional\n",
        " \n",
        "Concept 965:"
       ]
      },
      {
       "output_type": "stream",
       "stream": "stdout",
       "text": [
        "\n",
        "00 52 01\n",
        "00 13 phone\n",
        "00 11\n",
        "00 04 gmt\n",
        "00 01\n",
        "00 11 tuesday\n",
        "00 30 lunch\n",
        "kelvin\n",
        "00 cost unit\n",
        "henry\n",
        " \n",
        "Concept 966:"
       ]
      },
      {
       "output_type": "stream",
       "stream": "stdout",
       "text": [
        "\n",
        "00 cost subscribers\n",
        "00 30\n",
        "henry spencer\n",
        "00 cost unit\n",
        "00 10\n",
        "00 25 ut\n",
        "henry zoo\n",
        "henry zoo toronto\n",
        "00 22\n",
        "way\n",
        " \n",
        "Concept 967:"
       ]
      },
      {
       "output_type": "stream",
       "stream": "stdout",
       "text": [
        "\n",
        "00 30 afternoon\n",
        "00 additional additional\n",
        "00 10\n",
        "00 01 gmt\n",
        "00 34\n",
        "00 cost\n",
        "00 30\n",
        "00 11\n",
        "00 04 gmt\n",
        "00 21\n",
        " \n",
        "Concept 968:"
       ]
      },
      {
       "output_type": "stream",
       "stream": "stdout",
       "text": [
        "\n",
        "00 cost subscribers\n",
        "00 12 00\n",
        "00 22\n",
        "lines\n",
        "00 25 ut\n",
        "00 13 phone\n",
        "00 cost unit\n",
        "posting\n",
        "00 04\n",
        "00 30\n",
        " \n",
        "Concept 969:"
       ]
      },
      {
       "output_type": "stream",
       "stream": "stdout",
       "text": [
        "\n",
        "00 22\n",
        "00 13 phone\n",
        "00 26 gmt\n",
        "00 11\n",
        "00 26\n",
        "00 52 01\n",
        "nntp posting host\n",
        "posting host\n",
        "00 25\n",
        "baalke\n",
        " \n",
        "Concept 970:"
       ]
      },
      {
       "output_type": "stream",
       "stream": "stdout",
       "text": [
        "\n",
        "00 13 phone\n",
        "00 12 00\n",
        "00 01\n",
        "00 cost unit\n",
        "zoo toronto\n",
        "zoo\n",
        "00 30\n",
        "henry spencer\n",
        "00 26 ut\n",
        "00 52 01\n",
        " \n",
        "Concept 971:"
       ]
      },
      {
       "output_type": "stream",
       "stream": "stdout",
       "text": [
        "\n",
        "00 cost\n",
        "00 01\n",
        "00 11 tuesday\n",
        "00 26 gmt\n",
        "00 11\n",
        "00 additional\n",
        "00 13\n",
        "00 34 ut\n",
        "00 10 opening\n",
        "00 30\n",
        " \n",
        "Concept 972:"
       ]
      },
      {
       "output_type": "stream",
       "stream": "stdout",
       "text": [
        "\n",
        "00 52\n",
        "00 01 gmt\n",
        "00 additional additional\n",
        "00 25 ut\n",
        "00 cost unit\n",
        "00 11 tuesday\n",
        "00 additional\n",
        "00 22\n",
        "00 1993 lines\n",
        "00 30 lunch\n",
        " \n",
        "Concept 973:"
       ]
      },
      {
       "output_type": "stream",
       "stream": "stdout",
       "text": [
        "\n",
        "00 04 gmt\n",
        "00 additional\n",
        "00 11\n",
        "00 10\n",
        "00 52 01\n",
        "00 11 tuesday\n",
        "00 30 lunch\n",
        "00 26 gmt\n",
        "00 additional additional\n",
        "gov\n",
        " \n",
        "Concept 974:"
       ]
      },
      {
       "output_type": "stream",
       "stream": "stdout",
       "text": [
        "\n",
        "00 21\n",
        "00 11\n",
        "00 10\n",
        "00 04\n",
        "00 34 ut\n",
        "00 30 afternoon\n",
        "00 25\n",
        "00 22\n",
        "00 12\n",
        "00 10 opening\n",
        " \n",
        "Concept 975:"
       ]
      },
      {
       "output_type": "stream",
       "stream": "stdout",
       "text": [
        "\n",
        "00 except\n",
        "00 13 phone\n",
        "00 30 lunch\n",
        "00 21\n",
        "00 52\n",
        "00 10\n",
        "00 01\n",
        "00 1993 lines\n",
        "00 additional additional\n",
        "00 11 tuesday\n",
        " \n",
        "Concept 976:"
       ]
      },
      {
       "output_type": "stream",
       "stream": "stdout",
       "text": [
        "\n",
        "00 21 pdt\n",
        "00 30 lunch\n",
        "00 11\n",
        "00 cost unit\n",
        "00 26 ut\n",
        "00 10 opening\n",
        "00 34\n",
        "00 52 01\n",
        "00 10\n",
        "00 additional\n",
        " \n",
        "Concept 977:"
       ]
      },
      {
       "output_type": "stream",
       "stream": "stdout",
       "text": [
        "\n",
        "00 11 tuesday\n",
        "00 04 gmt\n",
        "00 13 phone\n",
        "00 25\n",
        "00 12 00\n",
        "00 30 lunch\n",
        "00 21 pdt\n",
        "00 01 gmt\n",
        "00 21\n",
        "00 52\n",
        " \n",
        "Concept 978:"
       ]
      },
      {
       "output_type": "stream",
       "stream": "stdout",
       "text": [
        "\n",
        "00 01\n",
        "00 12\n",
        "00 00 ut\n",
        "00 34\n",
        "00 04 gmt\n",
        "00 cost subscribers\n",
        "00 21\n",
        "00 13\n",
        "00 11\n",
        "lines\n",
        " \n",
        "Concept 979:"
       ]
      },
      {
       "output_type": "stream",
       "stream": "stdout",
       "text": [
        "\n",
        "00 except\n",
        "00 cost unit\n",
        "00 cost\n",
        "00 30 lunch\n",
        "00 22\n",
        "00 12 00\n",
        "00 34 ut\n",
        "00 04 gmt\n",
        "00 25\n",
        "00 00 ut\n",
        " \n",
        "Concept 980:"
       ]
      },
      {
       "output_type": "stream",
       "stream": "stdout",
       "text": [
        "\n",
        "00 04\n",
        "00 00 ut\n",
        "00 30 lunch\n",
        "00 additional\n",
        "00 cost\n",
        "00 26\n",
        "00 01\n",
        "00 22\n",
        "00 52 01\n",
        "00 22 fax\n",
        " \n",
        "Concept 981:"
       ]
      },
      {
       "output_type": "stream",
       "stream": "stdout",
       "text": [
        "\n",
        "00 21 pdt\n",
        "00 34 ut\n",
        "00 01\n",
        "00 30 lunch\n",
        "00 26 gmt\n",
        "00 22\n",
        "00 12 00\n",
        "00 additional additional\n",
        "00 13\n",
        "00 26 ut\n",
        " \n",
        "Concept 982:"
       ]
      },
      {
       "output_type": "stream",
       "stream": "stdout",
       "text": [
        "\n",
        "00 cost subscribers\n",
        "00 21\n",
        "00 11 tuesday\n",
        "00 additional\n",
        "posting\n",
        "00 30 afternoon\n",
        "00 22 fax\n",
        "00 10 opening\n",
        "00 01 gmt\n",
        "00 cost\n",
        " \n",
        "Concept 983:"
       ]
      },
      {
       "output_type": "stream",
       "stream": "stdout",
       "text": [
        "\n",
        "00 25\n",
        "00 01\n",
        "00 00 ut\n",
        "00 cost subscribers\n",
        "00 22 fax\n",
        "00 00\n",
        "00 12 00\n",
        "organization\n",
        "toronto\n",
        "00 10 opening\n",
        " \n",
        "Concept 984:"
       ]
      },
      {
       "output_type": "stream",
       "stream": "stdout",
       "text": [
        "\n",
        "00 21\n",
        "00 30 lunch\n",
        "00 25 ut\n",
        "00 cost\n",
        "00 04 gmt\n",
        "00 52\n",
        "00 13\n",
        "00 00 gmt\n",
        "subject\n",
        "00 12 00\n",
        " \n",
        "Concept 985:"
       ]
      },
      {
       "output_type": "stream",
       "stream": "stdout",
       "text": [
        "\n",
        "00 00 ut\n",
        "00 26\n",
        "00 22 fax\n",
        "00 11\n",
        "00 00 gmt\n",
        "00 13 phone\n",
        "00 12 00\n",
        "00 34 ut\n",
        "00 30 lunch\n",
        "00 01 gmt\n",
        " \n",
        "Concept 986:"
       ]
      },
      {
       "output_type": "stream",
       "stream": "stdout",
       "text": [
        "\n",
        "00 cost unit\n",
        "00 25\n",
        "00 04 gmt\n",
        "00 34 ut\n",
        "00 00\n",
        "00 01 gmt\n",
        "00 21 pdt\n",
        "00 additional\n",
        "00 13\n",
        "00 04\n",
        " \n"
       ]
      }
     ],
     "prompt_number": 24
    },
    {
     "cell_type": "markdown",
     "metadata": {},
     "source": [
      "Many of the words above seem to pertain to authors, publication names, etc.  Example is Concept 5:  I looked it up and theporch.raider is part of an email address.  I added more obvious terms to the stopset words.  <br><br>\n",
      "\n",
      "Toward the concepts in the thirties, things get a little more interesting.  Concept 32 for example.  Seems to be about about a comet and jupiter.  Work done by caltech perhaps?  Concept 31 sheds a little more light, a comet in orbit around jupiter. \n",
      "\n",
      "Concept 48 talks about mining, funding, involving solar and venus, pluto, moon, and sun.\n",
      "\n",
      "Concept 56 is a concept of launching commercial satellite, funding and costs involved.  \n",
      "\n",
      "I think with more research I could separate email addresses from scientist, project, etc. names.  \n",
      "\n",
      "\n"
     ]
    }
   ],
   "metadata": {}
  }
 ]
}