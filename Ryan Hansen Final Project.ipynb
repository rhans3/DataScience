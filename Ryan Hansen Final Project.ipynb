{
 "metadata": {
  "name": "",
  "signature": "sha256:760c7a13456b595a4b924d1fc64ba38d6ba583cc0ffc82b13f29a72fb9498651"
 },
 "nbformat": 3,
 "nbformat_minor": 0,
 "worksheets": [
  {
   "cells": [
    {
     "cell_type": "markdown",
     "metadata": {},
     "source": [
      "I LOVE boardgames.  I have a wishlist of games I want to buy.  I want to see if I have a pattern of games that I love.   I know which one I think I will want to buy first but I want to see if based on a number of factors if my model thinks another game will be more fun, based on my tastes and mine alone.  "
     ]
    },
    {
     "cell_type": "code",
     "collapsed": false,
     "input": [
      "import pandas as pd\n",
      "import numpy as np\n",
      "from sklearn.cross_validation import train_test_split\n",
      "from sklearn.ensemble import RandomForestRegressor\n",
      "from sklearn.grid_search import GridSearchCV\n",
      "from sklearn.metrics import roc_auc_score\n",
      "from sklearn.metrics import classification_report\n",
      "from sklearn.metrics import confusion_matrix\n",
      "from sklearn.metrics import accuracy_score\n",
      "from sklearn.metrics import roc_curve\n",
      "from sklearn import cross_validation\n",
      "import math\n",
      "%pylab inline"
     ],
     "language": "python",
     "metadata": {},
     "outputs": [
      {
       "output_type": "stream",
       "stream": "stdout",
       "text": [
        "Populating the interactive namespace from numpy and matplotlib\n"
       ]
      }
     ],
     "prompt_number": 1720
    },
    {
     "cell_type": "code",
     "collapsed": false,
     "input": [
      "df = pd.read_csv(\"BoardGameInfo.csv\")"
     ],
     "language": "python",
     "metadata": {},
     "outputs": [],
     "prompt_number": 1721
    },
    {
     "cell_type": "markdown",
     "metadata": {},
     "source": [
      "Now let's start by looking at the size of the data and the columns available."
     ]
    },
    {
     "cell_type": "code",
     "collapsed": false,
     "input": [
      "df.shape"
     ],
     "language": "python",
     "metadata": {},
     "outputs": [
      {
       "metadata": {},
       "output_type": "pyout",
       "prompt_number": 1722,
       "text": [
        "(402, 23)"
       ]
      }
     ],
     "prompt_number": 1722
    },
    {
     "cell_type": "markdown",
     "metadata": {},
     "source": [
      "So we have 23 columns to use.  402 possible data elements."
     ]
    },
    {
     "cell_type": "code",
     "collapsed": false,
     "input": [
      "df.columns"
     ],
     "language": "python",
     "metadata": {},
     "outputs": [
      {
       "metadata": {},
       "output_type": "pyout",
       "prompt_number": 1723,
       "text": [
        "Index([u'id', u'name', u'designer', u'publisher', u'artist', u'yearpublished', u'minplayers', u'maxplayers', u'playingtime', u'age', u'usersrated', u'average', u'owned', u'trading', u'wanting', u'wishing', u'userrating', u'category', u'mechanic', u'exp', u'price', u'wishpriority', u'domain'], dtype='object')"
       ]
      }
     ],
     "prompt_number": 1723
    },
    {
     "cell_type": "markdown",
     "metadata": {},
     "source": [
      "Let's start with the first column"
     ]
    },
    {
     "cell_type": "code",
     "collapsed": false,
     "input": [
      "df.id.value_counts()"
     ],
     "language": "python",
     "metadata": {},
     "outputs": [
      {
       "metadata": {},
       "output_type": "pyout",
       "prompt_number": 1724,
       "text": [
        "171007    1\n",
        "3154      1\n",
        "5463      1\n",
        "8107      1\n",
        "25945     1\n",
        "7514      1\n",
        "155996    1\n",
        "21855     1\n",
        "11618     1\n",
        "2407      1\n",
        "22889     1\n",
        "55660     1\n",
        "54643     1\n",
        "21790     1\n",
        "142708    1\n",
        "...\n",
        "96913     1\n",
        "1254      1\n",
        "5782      1\n",
        "3737      1\n",
        "66214     1\n",
        "22827     1\n",
        "157354    1\n",
        "3758      1\n",
        "145196    1\n",
        "24245     1\n",
        "136888    1\n",
        "144058    1\n",
        "125403    1\n",
        "5824      1\n",
        "9216      1\n",
        "Length: 402, dtype: int64"
       ]
      }
     ],
     "prompt_number": 1724
    },
    {
     "cell_type": "markdown",
     "metadata": {},
     "source": [
      "There are 402 distinct id's. That won't help much with what we are trying to solve for but it will help us tie back to the boardgame we want when we have the predicted score.  Let's move on to 'name'."
     ]
    },
    {
     "cell_type": "code",
     "collapsed": false,
     "input": [
      "df.name.value_counts()"
     ],
     "language": "python",
     "metadata": {},
     "outputs": [
      {
       "metadata": {},
       "output_type": "pyout",
       "prompt_number": 1725,
       "text": [
        "Imperial 2030                                                  1\n",
        "Stronghold: Undead                                             1\n",
        "Super Motherload                                               1\n",
        "The Lord of the Rings: The Card Game                           1\n",
        "Dominion                                                       1\n",
        "Clue: The Simpsons                                             1\n",
        "Five Tribes                                                    1\n",
        "Sid Meier's Civilization: The Board Game - Fame and Fortune    1\n",
        "Animal Upon Animal: Balancing Bridge                           1\n",
        "Hansa Teutonica: East Expansion                                1\n",
        "Sorry! The Disney Edition                                      1\n",
        "Twilight Imperium (Third Edition)                              1\n",
        "The Settlers of Catan                                          1\n",
        "Lancaster: Henry V - The Power of the King                     1\n",
        "Cranium Zigity                                                 1\n",
        "...\n",
        "Taboo                                      1\n",
        "Outta Control                              1\n",
        "My First Carcassonne                       1\n",
        "Tikal                                      1\n",
        "Arkham Horror: Dunwich Horror Expansion    1\n",
        "Kanban: Automotive Revolution              1\n",
        "Village Port                               1\n",
        "Small World Designer Edition               1\n",
        "Le Havre                                   1\n",
        "Monster Factory                            1\n",
        "BattleLore                                 1\n",
        "Machi Koro                                 1\n",
        "Swap!                                      1\n",
        "Snakes and Ladders                         1\n",
        "Let's Kill                                 1\n",
        "Length: 402, dtype: int64"
       ]
      }
     ],
     "prompt_number": 1725
    },
    {
     "cell_type": "markdown",
     "metadata": {},
     "source": [
      "Same goes here as for id.  The name of the boardgame should be irrelevant.  While I do think that there are certain games I am drown to, like 'civilization' or 'Dominion' I don't want that to influence me.  Actually, talking it out it might be worth including, however it might be difficult to deal with a continuous variable with 402/402 unique values.  Let's move on to the next.  "
     ]
    },
    {
     "cell_type": "code",
     "collapsed": false,
     "input": [
      "df.designer.value_counts()"
     ],
     "language": "python",
     "metadata": {},
     "outputs": [
      {
       "metadata": {},
       "output_type": "pyout",
       "prompt_number": 1726,
       "text": [
        "(Uncredited)           25\n",
        "Donald X. Vaccarino    13\n",
        "Klaus Teuber           10\n",
        "Reiner Knizia          10\n",
        "Stefan Feld            10\n",
        "Philippe Keyaerts       9\n",
        "Vlaada Chv\ufffdtil          9\n",
        "Alan R. Moon            9\n",
        "Antoine Bauza           8\n",
        "Kevin Wilson            8\n",
        "Michael Schacht         6\n",
        "R\ufffddiger Dorn            5\n",
        "Mike Elliott            5\n",
        "Uwe Rosenberg           5\n",
        "Ted Alspach             4\n",
        "...\n",
        "C\ufffddrick Chaboussit          1\n",
        "Klaus Miltenberger          1\n",
        "Tom McMurchie               1\n",
        "Jo Hartwig                  1\n",
        "Eugene and Louise           1\n",
        "Paul Peterson               1\n",
        "Orin Bishop                 1\n",
        "Eleanor Abbott              1\n",
        "Dirk Henn                   1\n",
        "Keith Dugald                1\n",
        "C\ufffddric Lefebvre             1\n",
        "Jacques Johan Mogendorff    1\n",
        "J. C. Connors (I)           1\n",
        "Emiliano Sciarra            1\n",
        "Dan Schnake                 1\n",
        "Length: 188, dtype: int64"
       ]
      }
     ],
     "prompt_number": 1726
    },
    {
     "cell_type": "markdown",
     "metadata": {},
     "source": [
      "This looks promising.  There are 188 different designers, but quite a few in my collection have the same designer many times.  Perhaps we could group them by greater than 2 equal designer, else 'other'.  Let's look to see if there are any nulls."
     ]
    },
    {
     "cell_type": "code",
     "collapsed": false,
     "input": [
      "df[df.designer.isnull()]"
     ],
     "language": "python",
     "metadata": {},
     "outputs": [
      {
       "html": [
        "<div style=\"max-height:1000px;max-width:1500px;overflow:auto;\">\n",
        "<table border=\"1\" class=\"dataframe\">\n",
        "  <thead>\n",
        "    <tr style=\"text-align: right;\">\n",
        "      <th></th>\n",
        "      <th>id</th>\n",
        "      <th>name</th>\n",
        "      <th>designer</th>\n",
        "      <th>publisher</th>\n",
        "      <th>artist</th>\n",
        "      <th>yearpublished</th>\n",
        "      <th>minplayers</th>\n",
        "      <th>maxplayers</th>\n",
        "      <th>playingtime</th>\n",
        "      <th>age</th>\n",
        "      <th>...</th>\n",
        "      <th>trading</th>\n",
        "      <th>wanting</th>\n",
        "      <th>wishing</th>\n",
        "      <th>userrating</th>\n",
        "      <th>category</th>\n",
        "      <th>mechanic</th>\n",
        "      <th>exp</th>\n",
        "      <th>price</th>\n",
        "      <th>wishpriority</th>\n",
        "      <th>domain</th>\n",
        "    </tr>\n",
        "  </thead>\n",
        "  <tbody>\n",
        "    <tr>\n",
        "      <th>366</th>\n",
        "      <td> 103801</td>\n",
        "      <td> Twilight: the Movie Card Game</td>\n",
        "      <td> NaN</td>\n",
        "      <td> Cardinal</td>\n",
        "      <td> NaN</td>\n",
        "      <td> 2009</td>\n",
        "      <td> 2</td>\n",
        "      <td> 4</td>\n",
        "      <td> 0</td>\n",
        "      <td> 10</td>\n",
        "      <td>...</td>\n",
        "      <td> 2</td>\n",
        "      <td> 0</td>\n",
        "      <td> 0</td>\n",
        "      <td> 1</td>\n",
        "      <td> Movies / TV / Radio theme</td>\n",
        "      <td> Other</td>\n",
        "      <td> N</td>\n",
        "      <td> 0</td>\n",
        "      <td> 0</td>\n",
        "      <td> Other</td>\n",
        "    </tr>\n",
        "  </tbody>\n",
        "</table>\n",
        "<p>1 rows \u00d7 23 columns</p>\n",
        "</div>"
       ],
       "metadata": {},
       "output_type": "pyout",
       "prompt_number": 1727,
       "text": [
        "         id                           name designer publisher artist  \\\n",
        "366  103801  Twilight: the Movie Card Game      NaN  Cardinal    NaN   \n",
        "\n",
        "     yearpublished  minplayers  maxplayers  playingtime  age ...   trading  \\\n",
        "366           2009           2           4            0   10 ...         2   \n",
        "\n",
        "     wanting  wishing  userrating                   category  mechanic  exp  \\\n",
        "366        0        0           1  Movies / TV / Radio theme     Other    N   \n",
        "\n",
        "    price wishpriority domain  \n",
        "366     0            0  Other  \n",
        "\n",
        "[1 rows x 23 columns]"
       ]
      }
     ],
     "prompt_number": 1727
    },
    {
     "cell_type": "markdown",
     "metadata": {},
     "source": [
      "One null here.  We will have to remember that. Let's move on and look at publisher"
     ]
    },
    {
     "cell_type": "code",
     "collapsed": false,
     "input": [
      "df.publisher.value_counts()"
     ],
     "language": "python",
     "metadata": {},
     "outputs": [
      {
       "metadata": {},
       "output_type": "pyout",
       "prompt_number": 1728,
       "text": [
        "999 Games                      38\n",
        "Days of Wonder                 21\n",
        "Edge Entertainment             19\n",
        "Queen Games                    14\n",
        "Czech Games Edition            12\n",
        "Hans im Gl\ufffdck Verlags-GmbH     11\n",
        "(Unknown)                      10\n",
        "Arclight                       10\n",
        "Fantasy Flight Games           10\n",
        "ABACUSSPIELE                   10\n",
        "Asmodee                         9\n",
        "ADC Blackfire Entertainment     8\n",
        "Hasbro                          8\n",
        "Parker Brothers                 7\n",
        "Avalon Hill (Hasbro)            6\n",
        "...\n",
        "Boyle & Elggren, Inc.        1\n",
        "Hersch and Company           1\n",
        "Fanpro                       1\n",
        "dV Giochi                    1\n",
        "Twilight Creations, Inc.     1\n",
        "WizKids Games                1\n",
        "Imagination Games            1\n",
        "Timbuk II                    1\n",
        "Ares Games                   1\n",
        "Chad Valley                  1\n",
        "Out of the Box Publishing    1\n",
        "Indie Boards and Cards       1\n",
        "Cardinal                     1\n",
        "IELLO                        1\n",
        "Schmidt Spiele               1\n",
        "Length: 138, dtype: int64"
       ]
      }
     ],
     "prompt_number": 1728
    },
    {
     "cell_type": "markdown",
     "metadata": {},
     "source": [
      "This is good.  I am obviously a fan of 999 games.  We can use this similar to publisher.  Let's check for nulls."
     ]
    },
    {
     "cell_type": "code",
     "collapsed": false,
     "input": [
      "df[df.publisher.isnull()]"
     ],
     "language": "python",
     "metadata": {},
     "outputs": [
      {
       "html": [
        "<div style=\"max-height:1000px;max-width:1500px;overflow:auto;\">\n",
        "<table border=\"1\" class=\"dataframe\">\n",
        "  <thead>\n",
        "    <tr style=\"text-align: right;\">\n",
        "      <th></th>\n",
        "      <th>id</th>\n",
        "      <th>name</th>\n",
        "      <th>designer</th>\n",
        "      <th>publisher</th>\n",
        "      <th>artist</th>\n",
        "      <th>yearpublished</th>\n",
        "      <th>minplayers</th>\n",
        "      <th>maxplayers</th>\n",
        "      <th>playingtime</th>\n",
        "      <th>age</th>\n",
        "      <th>...</th>\n",
        "      <th>trading</th>\n",
        "      <th>wanting</th>\n",
        "      <th>wishing</th>\n",
        "      <th>userrating</th>\n",
        "      <th>category</th>\n",
        "      <th>mechanic</th>\n",
        "      <th>exp</th>\n",
        "      <th>price</th>\n",
        "      <th>wishpriority</th>\n",
        "      <th>domain</th>\n",
        "    </tr>\n",
        "  </thead>\n",
        "  <tbody>\n",
        "  </tbody>\n",
        "</table>\n",
        "<p>0 rows \u00d7 23 columns</p>\n",
        "</div>"
       ],
       "metadata": {},
       "output_type": "pyout",
       "prompt_number": 1729,
       "text": [
        "Empty DataFrame\n",
        "Columns: [id, name, designer, publisher, artist, yearpublished, minplayers, maxplayers, playingtime, age, usersrated, average, owned, trading, wanting, wishing, userrating, category, mechanic, exp, price, wishpriority, domain]\n",
        "Index: []\n",
        "\n",
        "[0 rows x 23 columns]"
       ]
      }
     ],
     "prompt_number": 1729
    },
    {
     "cell_type": "markdown",
     "metadata": {},
     "source": [
      "Good, no null values.  Let's look at artist"
     ]
    },
    {
     "cell_type": "code",
     "collapsed": false,
     "input": [
      "df.artist.value_counts()"
     ],
     "language": "python",
     "metadata": {},
     "outputs": [
      {
       "metadata": {},
       "output_type": "pyout",
       "prompt_number": 1730,
       "text": [
        "Cyrille Daujean      15\n",
        "Michael Menzel       15\n",
        "Miguel Coimbra       14\n",
        "Franz Vohwinkel      12\n",
        "Klemens Franz         9\n",
        "Dennis Lohausen       9\n",
        "(Uncredited)          8\n",
        "Jesper Ejsing         6\n",
        "Martin Hoffmann       6\n",
        "Tanja Donner          6\n",
        "Josh Cappel           5\n",
        "Harald Lieske         5\n",
        "Matthias Catrein      5\n",
        "David Cochard         5\n",
        "Henning Ludvigsen     5\n",
        "...\n",
        "Graham Howells         1\n",
        "Jason Embury           1\n",
        "Rolf Vogt              1\n",
        "Pascal Quidault        1\n",
        "Tom Garden             1\n",
        "Sandra Garavito        1\n",
        "Bernard Bittler        1\n",
        "Randy Martinez         1\n",
        "Christopher Burdett    1\n",
        "Bascu                  1\n",
        "Vincent Boulanger      1\n",
        "Ben Nelson             1\n",
        "Eugene and Louise      1\n",
        "Lindsey Hayden         1\n",
        "David Ausloos          1\n",
        "Length: 179, dtype: int64"
       ]
      }
     ],
     "prompt_number": 1730
    },
    {
     "cell_type": "markdown",
     "metadata": {},
     "source": [
      "Following the same pattern as designer and publisher.  Null values?"
     ]
    },
    {
     "cell_type": "code",
     "collapsed": false,
     "input": [
      "df[df.artist.isnull()]"
     ],
     "language": "python",
     "metadata": {},
     "outputs": [
      {
       "html": [
        "<div style=\"max-height:1000px;max-width:1500px;overflow:auto;\">\n",
        "<table border=\"1\" class=\"dataframe\">\n",
        "  <thead>\n",
        "    <tr style=\"text-align: right;\">\n",
        "      <th></th>\n",
        "      <th>id</th>\n",
        "      <th>name</th>\n",
        "      <th>designer</th>\n",
        "      <th>publisher</th>\n",
        "      <th>artist</th>\n",
        "      <th>yearpublished</th>\n",
        "      <th>minplayers</th>\n",
        "      <th>maxplayers</th>\n",
        "      <th>playingtime</th>\n",
        "      <th>age</th>\n",
        "      <th>...</th>\n",
        "      <th>trading</th>\n",
        "      <th>wanting</th>\n",
        "      <th>wishing</th>\n",
        "      <th>userrating</th>\n",
        "      <th>category</th>\n",
        "      <th>mechanic</th>\n",
        "      <th>exp</th>\n",
        "      <th>price</th>\n",
        "      <th>wishpriority</th>\n",
        "      <th>domain</th>\n",
        "    </tr>\n",
        "  </thead>\n",
        "  <tbody>\n",
        "    <tr>\n",
        "      <th>5  </th>\n",
        "      <td>    334</td>\n",
        "      <td>                             Advance to Boardwalk</td>\n",
        "      <td>    Charles Phillips</td>\n",
        "      <td>             Borras Plana S.A.</td>\n",
        "      <td> NaN</td>\n",
        "      <td> 1985</td>\n",
        "      <td> 2</td>\n",
        "      <td>  4</td>\n",
        "      <td>  60</td>\n",
        "      <td>  8</td>\n",
        "      <td>...</td>\n",
        "      <td> 116</td>\n",
        "      <td>   6</td>\n",
        "      <td>  14</td>\n",
        "      <td> 4.0</td>\n",
        "      <td>                  Economic</td>\n",
        "      <td> Area Control / Area Influence</td>\n",
        "      <td> N</td>\n",
        "      <td>  5.30</td>\n",
        "      <td> 0</td>\n",
        "      <td> Children's Games</td>\n",
        "    </tr>\n",
        "    <tr>\n",
        "      <th>37 </th>\n",
        "      <td>   5429</td>\n",
        "      <td>                                 Blurt! Card Game</td>\n",
        "      <td>        (Uncredited)</td>\n",
        "      <td>               Keys Publishing</td>\n",
        "      <td> NaN</td>\n",
        "      <td> 2000</td>\n",
        "      <td> 3</td>\n",
        "      <td>  5</td>\n",
        "      <td>  20</td>\n",
        "      <td>  8</td>\n",
        "      <td>...</td>\n",
        "      <td>   4</td>\n",
        "      <td>   0</td>\n",
        "      <td>   0</td>\n",
        "      <td> 4.0</td>\n",
        "      <td>                 Card Game</td>\n",
        "      <td>                         Other</td>\n",
        "      <td> N</td>\n",
        "      <td>  0.00</td>\n",
        "      <td> 0</td>\n",
        "      <td>            Other</td>\n",
        "    </tr>\n",
        "    <tr>\n",
        "      <th>44 </th>\n",
        "      <td>   1445</td>\n",
        "      <td>                                 Canasta Caliente</td>\n",
        "      <td>      Philip Orbanes</td>\n",
        "      <td>                        Hasbro</td>\n",
        "      <td> NaN</td>\n",
        "      <td> 2000</td>\n",
        "      <td> 2</td>\n",
        "      <td>  6</td>\n",
        "      <td>  60</td>\n",
        "      <td>  7</td>\n",
        "      <td>...</td>\n",
        "      <td> 153</td>\n",
        "      <td>   2</td>\n",
        "      <td>  14</td>\n",
        "      <td> 3.5</td>\n",
        "      <td>                 Card Game</td>\n",
        "      <td>                Set Collection</td>\n",
        "      <td> N</td>\n",
        "      <td>  5.13</td>\n",
        "      <td> 0</td>\n",
        "      <td>     Family Games</td>\n",
        "    </tr>\n",
        "    <tr>\n",
        "      <th>56 </th>\n",
        "      <td>   1446</td>\n",
        "      <td>                                          Cheater</td>\n",
        "      <td>     Darrell Simmons</td>\n",
        "      <td>                 Awesome Games</td>\n",
        "      <td> NaN</td>\n",
        "      <td> 1995</td>\n",
        "      <td> 2</td>\n",
        "      <td>  4</td>\n",
        "      <td>  45</td>\n",
        "      <td>  7</td>\n",
        "      <td>...</td>\n",
        "      <td>  43</td>\n",
        "      <td>   1</td>\n",
        "      <td>   6</td>\n",
        "      <td> 0.0</td>\n",
        "      <td>                 Card Game</td>\n",
        "      <td>                Set Collection</td>\n",
        "      <td> N</td>\n",
        "      <td>  3.00</td>\n",
        "      <td> 0</td>\n",
        "      <td>            Other</td>\n",
        "    </tr>\n",
        "    <tr>\n",
        "      <th>69 </th>\n",
        "      <td>   1254</td>\n",
        "      <td>                                   Crack the Case</td>\n",
        "      <td>    Robert R. Schoch</td>\n",
        "      <td>                Milton Bradley</td>\n",
        "      <td> NaN</td>\n",
        "      <td> 1993</td>\n",
        "      <td> 2</td>\n",
        "      <td>  8</td>\n",
        "      <td>  60</td>\n",
        "      <td> 12</td>\n",
        "      <td>...</td>\n",
        "      <td>  94</td>\n",
        "      <td>   7</td>\n",
        "      <td>  21</td>\n",
        "      <td> 4.0</td>\n",
        "      <td>                 Deduction</td>\n",
        "      <td>                  Partnerships</td>\n",
        "      <td> N</td>\n",
        "      <td> 14.18</td>\n",
        "      <td> 0</td>\n",
        "      <td>      Party Games</td>\n",
        "    </tr>\n",
        "    <tr>\n",
        "      <th>70 </th>\n",
        "      <td>  11618</td>\n",
        "      <td>                                   Cranium Zigity</td>\n",
        "      <td>         Marisa Pena</td>\n",
        "      <td>                 Cranium, Inc.</td>\n",
        "      <td> NaN</td>\n",
        "      <td> 2004</td>\n",
        "      <td> 2</td>\n",
        "      <td> 10</td>\n",
        "      <td>  10</td>\n",
        "      <td>  8</td>\n",
        "      <td>...</td>\n",
        "      <td> 122</td>\n",
        "      <td>   1</td>\n",
        "      <td>   7</td>\n",
        "      <td> 4.0</td>\n",
        "      <td>                 Card Game</td>\n",
        "      <td>               Hand Management</td>\n",
        "      <td> N</td>\n",
        "      <td>  2.25</td>\n",
        "      <td> 0</td>\n",
        "      <td> Children's Games</td>\n",
        "    </tr>\n",
        "    <tr>\n",
        "      <th>71 </th>\n",
        "      <td>  26137</td>\n",
        "      <td>                 Deal or No Deal: Electronic Game</td>\n",
        "      <td>        (Uncredited)</td>\n",
        "      <td>                     (Unknown)</td>\n",
        "      <td> NaN</td>\n",
        "      <td> 2006</td>\n",
        "      <td> 1</td>\n",
        "      <td>  4</td>\n",
        "      <td>  20</td>\n",
        "      <td> 10</td>\n",
        "      <td>...</td>\n",
        "      <td>   8</td>\n",
        "      <td>   0</td>\n",
        "      <td>   1</td>\n",
        "      <td> 4.0</td>\n",
        "      <td>                Electronic</td>\n",
        "      <td>              Betting/Wagering</td>\n",
        "      <td> N</td>\n",
        "      <td>  5.00</td>\n",
        "      <td> 0</td>\n",
        "      <td>            Other</td>\n",
        "    </tr>\n",
        "    <tr>\n",
        "      <th>93 </th>\n",
        "      <td>   4071</td>\n",
        "      <td>                                      Double Talk</td>\n",
        "      <td>        (Uncredited)</td>\n",
        "      <td>         Boyle &amp; Elggren, Inc.</td>\n",
        "      <td> NaN</td>\n",
        "      <td> 1992</td>\n",
        "      <td> 2</td>\n",
        "      <td>  8</td>\n",
        "      <td>  60</td>\n",
        "      <td> 10</td>\n",
        "      <td>...</td>\n",
        "      <td>   6</td>\n",
        "      <td>   0</td>\n",
        "      <td>   0</td>\n",
        "      <td> 0.0</td>\n",
        "      <td>                Party Game</td>\n",
        "      <td>                         Other</td>\n",
        "      <td> N</td>\n",
        "      <td>  0.00</td>\n",
        "      <td> 0</td>\n",
        "      <td>            Other</td>\n",
        "    </tr>\n",
        "    <tr>\n",
        "      <th>112</th>\n",
        "      <td>   3990</td>\n",
        "      <td>                                     Fact or Crap</td>\n",
        "      <td>        (Uncredited)</td>\n",
        "      <td>             Imagination Games</td>\n",
        "      <td> NaN</td>\n",
        "      <td> 2001</td>\n",
        "      <td> 3</td>\n",
        "      <td>  8</td>\n",
        "      <td>  30</td>\n",
        "      <td> 12</td>\n",
        "      <td>...</td>\n",
        "      <td>  88</td>\n",
        "      <td>   1</td>\n",
        "      <td>  10</td>\n",
        "      <td> 0.0</td>\n",
        "      <td>                 Card Game</td>\n",
        "      <td>                 Card Drafting</td>\n",
        "      <td> N</td>\n",
        "      <td>  7.75</td>\n",
        "      <td> 0</td>\n",
        "      <td>      Party Games</td>\n",
        "    </tr>\n",
        "    <tr>\n",
        "      <th>116</th>\n",
        "      <td>   1768</td>\n",
        "      <td>                                  Fireball Island</td>\n",
        "      <td>       Chuck Kennedy</td>\n",
        "      <td>                     MB Giochi</td>\n",
        "      <td> NaN</td>\n",
        "      <td> 1986</td>\n",
        "      <td> 2</td>\n",
        "      <td>  4</td>\n",
        "      <td>  45</td>\n",
        "      <td>  7</td>\n",
        "      <td>...</td>\n",
        "      <td>  41</td>\n",
        "      <td> 178</td>\n",
        "      <td> 378</td>\n",
        "      <td> 5.0</td>\n",
        "      <td>        Action / Dexterity</td>\n",
        "      <td>               Hand Management</td>\n",
        "      <td> N</td>\n",
        "      <td> 97.50</td>\n",
        "      <td> 0</td>\n",
        "      <td> Children's Games</td>\n",
        "    </tr>\n",
        "    <tr>\n",
        "      <th>117</th>\n",
        "      <td>  30255</td>\n",
        "      <td>           Five Little Monkeys Jumping on the Bed</td>\n",
        "      <td>        (Uncredited)</td>\n",
        "      <td>              University Games</td>\n",
        "      <td> NaN</td>\n",
        "      <td> 2007</td>\n",
        "      <td> 2</td>\n",
        "      <td>  4</td>\n",
        "      <td>  10</td>\n",
        "      <td>  3</td>\n",
        "      <td>...</td>\n",
        "      <td>   1</td>\n",
        "      <td>   0</td>\n",
        "      <td>   2</td>\n",
        "      <td> 3.0</td>\n",
        "      <td>        Action / Dexterity</td>\n",
        "      <td>          Roll / Spin and Move</td>\n",
        "      <td> N</td>\n",
        "      <td>  0.00</td>\n",
        "      <td> 0</td>\n",
        "      <td> Children's Games</td>\n",
        "    </tr>\n",
        "    <tr>\n",
        "      <th>122</th>\n",
        "      <td>   2115</td>\n",
        "      <td>                                     Free Parking</td>\n",
        "      <td>    Charles Phillips</td>\n",
        "      <td>                        Hasbro</td>\n",
        "      <td> NaN</td>\n",
        "      <td> 1988</td>\n",
        "      <td> 2</td>\n",
        "      <td>  4</td>\n",
        "      <td>  30</td>\n",
        "      <td>  8</td>\n",
        "      <td>...</td>\n",
        "      <td>  56</td>\n",
        "      <td>   2</td>\n",
        "      <td>   7</td>\n",
        "      <td> 4.0</td>\n",
        "      <td>                 Card Game</td>\n",
        "      <td>                         Other</td>\n",
        "      <td> N</td>\n",
        "      <td>  4.28</td>\n",
        "      <td> 0</td>\n",
        "      <td>            Other</td>\n",
        "    </tr>\n",
        "    <tr>\n",
        "      <th>142</th>\n",
        "      <td>   1502</td>\n",
        "      <td>                                     Hotel Tycoon</td>\n",
        "      <td>        Denys Fisher</td>\n",
        "      <td>                    AS Company</td>\n",
        "      <td> NaN</td>\n",
        "      <td> 1974</td>\n",
        "      <td> 2</td>\n",
        "      <td>  4</td>\n",
        "      <td>  60</td>\n",
        "      <td>  8</td>\n",
        "      <td>...</td>\n",
        "      <td> 119</td>\n",
        "      <td>  33</td>\n",
        "      <td>  94</td>\n",
        "      <td> 5.0</td>\n",
        "      <td>                  Economic</td>\n",
        "      <td>          Roll / Spin and Move</td>\n",
        "      <td> N</td>\n",
        "      <td> 41.44</td>\n",
        "      <td> 0</td>\n",
        "      <td>     Family Games</td>\n",
        "    </tr>\n",
        "    <tr>\n",
        "      <th>151</th>\n",
        "      <td>   2206</td>\n",
        "      <td>                               Jurassic Park Game</td>\n",
        "      <td>        (Uncredited)</td>\n",
        "      <td>                Milton Bradley</td>\n",
        "      <td> NaN</td>\n",
        "      <td> 1993</td>\n",
        "      <td> 2</td>\n",
        "      <td>  8</td>\n",
        "      <td>  60</td>\n",
        "      <td>  7</td>\n",
        "      <td>...</td>\n",
        "      <td>  22</td>\n",
        "      <td>   9</td>\n",
        "      <td>  15</td>\n",
        "      <td> 6.0</td>\n",
        "      <td>                   Animals</td>\n",
        "      <td>               Hex-and-Counter</td>\n",
        "      <td> N</td>\n",
        "      <td> 16.95</td>\n",
        "      <td> 0</td>\n",
        "      <td>            Other</td>\n",
        "    </tr>\n",
        "    <tr>\n",
        "      <th>152</th>\n",
        "      <td>   2597</td>\n",
        "      <td>           Jurassic Park III Island Survival Game</td>\n",
        "      <td>        (Uncredited)</td>\n",
        "      <td>                Milton Bradley</td>\n",
        "      <td> NaN</td>\n",
        "      <td> 2001</td>\n",
        "      <td> 2</td>\n",
        "      <td>  4</td>\n",
        "      <td>  45</td>\n",
        "      <td>  8</td>\n",
        "      <td>...</td>\n",
        "      <td>  24</td>\n",
        "      <td>   7</td>\n",
        "      <td>  15</td>\n",
        "      <td> 6.0</td>\n",
        "      <td>                   Animals</td>\n",
        "      <td>          Roll / Spin and Move</td>\n",
        "      <td> N</td>\n",
        "      <td> 13.99</td>\n",
        "      <td> 0</td>\n",
        "      <td>            Other</td>\n",
        "    </tr>\n",
        "    <tr>\n",
        "      <th>170</th>\n",
        "      <td>  24245</td>\n",
        "      <td>                                     Laser Battle</td>\n",
        "      <td>         Ami Shapiro</td>\n",
        "      <td>             MGA Entertainment</td>\n",
        "      <td> NaN</td>\n",
        "      <td> 2006</td>\n",
        "      <td> 2</td>\n",
        "      <td>  2</td>\n",
        "      <td>   0</td>\n",
        "      <td>  8</td>\n",
        "      <td>...</td>\n",
        "      <td>  46</td>\n",
        "      <td>   5</td>\n",
        "      <td>  37</td>\n",
        "      <td> 5.0</td>\n",
        "      <td>         Abstract Strategy</td>\n",
        "      <td>                 Modular Board</td>\n",
        "      <td> N</td>\n",
        "      <td> 74.91</td>\n",
        "      <td> 0</td>\n",
        "      <td>   Abstract Games</td>\n",
        "    </tr>\n",
        "    <tr>\n",
        "      <th>185</th>\n",
        "      <td>   4668</td>\n",
        "      <td>                                    Lost Treasure</td>\n",
        "      <td>        (Uncredited)</td>\n",
        "      <td>               Parker Brothers</td>\n",
        "      <td> NaN</td>\n",
        "      <td> 1982</td>\n",
        "      <td> 2</td>\n",
        "      <td>  4</td>\n",
        "      <td>  45</td>\n",
        "      <td>  8</td>\n",
        "      <td>...</td>\n",
        "      <td>  38</td>\n",
        "      <td>  13</td>\n",
        "      <td>  25</td>\n",
        "      <td> 6.0</td>\n",
        "      <td>                Electronic</td>\n",
        "      <td>           Pick-up and Deliver</td>\n",
        "      <td> N</td>\n",
        "      <td> 12.87</td>\n",
        "      <td> 0</td>\n",
        "      <td>            Other</td>\n",
        "    </tr>\n",
        "    <tr>\n",
        "      <th>194</th>\n",
        "      <td>  10325</td>\n",
        "      <td>                             Marry, Date or Dump?</td>\n",
        "      <td>      Debbie Wallace</td>\n",
        "      <td>                   DCK Wallace</td>\n",
        "      <td> NaN</td>\n",
        "      <td> 2003</td>\n",
        "      <td> 2</td>\n",
        "      <td>  2</td>\n",
        "      <td>  30</td>\n",
        "      <td> 16</td>\n",
        "      <td>...</td>\n",
        "      <td>  11</td>\n",
        "      <td>   0</td>\n",
        "      <td>   0</td>\n",
        "      <td> 2.0</td>\n",
        "      <td>                Party Game</td>\n",
        "      <td>                  Role Playing</td>\n",
        "      <td> N</td>\n",
        "      <td>  0.00</td>\n",
        "      <td> 0</td>\n",
        "      <td>            Other</td>\n",
        "    </tr>\n",
        "    <tr>\n",
        "      <th>203</th>\n",
        "      <td>   5463</td>\n",
        "      <td>                                        Mind Maze</td>\n",
        "      <td>        Marvin Glass</td>\n",
        "      <td>               Parker Brothers</td>\n",
        "      <td> NaN</td>\n",
        "      <td> 1970</td>\n",
        "      <td> 2</td>\n",
        "      <td>  2</td>\n",
        "      <td>  10</td>\n",
        "      <td>  8</td>\n",
        "      <td>...</td>\n",
        "      <td>  17</td>\n",
        "      <td>   1</td>\n",
        "      <td>   7</td>\n",
        "      <td> 5.0</td>\n",
        "      <td>         Abstract Strategy</td>\n",
        "      <td>           Pattern Recognition</td>\n",
        "      <td> N</td>\n",
        "      <td> 14.06</td>\n",
        "      <td> 0</td>\n",
        "      <td>   Abstract Games</td>\n",
        "    </tr>\n",
        "    <tr>\n",
        "      <th>204</th>\n",
        "      <td>   1923</td>\n",
        "      <td>                                         MindTrap</td>\n",
        "      <td>        Richard Fast</td>\n",
        "      <td> Great American Puzzle Factory</td>\n",
        "      <td> NaN</td>\n",
        "      <td> 1991</td>\n",
        "      <td> 2</td>\n",
        "      <td> 16</td>\n",
        "      <td>  60</td>\n",
        "      <td> 12</td>\n",
        "      <td>...</td>\n",
        "      <td> 206</td>\n",
        "      <td>   0</td>\n",
        "      <td>  15</td>\n",
        "      <td> 3.0</td>\n",
        "      <td>                 Deduction</td>\n",
        "      <td>                  Partnerships</td>\n",
        "      <td> N</td>\n",
        "      <td>  5.33</td>\n",
        "      <td> 0</td>\n",
        "      <td>     Family Games</td>\n",
        "    </tr>\n",
        "    <tr>\n",
        "      <th>206</th>\n",
        "      <td>  40398</td>\n",
        "      <td>                          Monopoly Deal Card Game</td>\n",
        "      <td>        (Uncredited)</td>\n",
        "      <td>               Basic Fun, Inc.</td>\n",
        "      <td> NaN</td>\n",
        "      <td> 2008</td>\n",
        "      <td> 2</td>\n",
        "      <td>  5</td>\n",
        "      <td>  15</td>\n",
        "      <td>  8</td>\n",
        "      <td>...</td>\n",
        "      <td> 254</td>\n",
        "      <td>  24</td>\n",
        "      <td> 122</td>\n",
        "      <td> 3.0</td>\n",
        "      <td>                 Card Game</td>\n",
        "      <td>               Hand Management</td>\n",
        "      <td> N</td>\n",
        "      <td>  5.92</td>\n",
        "      <td> 0</td>\n",
        "      <td>     Family Games</td>\n",
        "    </tr>\n",
        "    <tr>\n",
        "      <th>207</th>\n",
        "      <td>   3020</td>\n",
        "      <td>                           Monopoly: Looney Tunes</td>\n",
        "      <td>          Rob Daviau</td>\n",
        "      <td>               Parker Brothers</td>\n",
        "      <td> NaN</td>\n",
        "      <td> 2000</td>\n",
        "      <td> 2</td>\n",
        "      <td>  8</td>\n",
        "      <td> 180</td>\n",
        "      <td>  8</td>\n",
        "      <td>...</td>\n",
        "      <td>   5</td>\n",
        "      <td>   4</td>\n",
        "      <td>   6</td>\n",
        "      <td> 2.0</td>\n",
        "      <td>           Children's Game</td>\n",
        "      <td>               Auction/Bidding</td>\n",
        "      <td> N</td>\n",
        "      <td>  0.00</td>\n",
        "      <td> 0</td>\n",
        "      <td>            Other</td>\n",
        "    </tr>\n",
        "    <tr>\n",
        "      <th>225</th>\n",
        "      <td>   9759</td>\n",
        "      <td>                                    Outta Control</td>\n",
        "      <td>        (Uncredited)</td>\n",
        "      <td>               Parker Brothers</td>\n",
        "      <td> NaN</td>\n",
        "      <td> 1992</td>\n",
        "      <td> 2</td>\n",
        "      <td>  6</td>\n",
        "      <td>  30</td>\n",
        "      <td>  8</td>\n",
        "      <td>...</td>\n",
        "      <td>   5</td>\n",
        "      <td>   2</td>\n",
        "      <td>   2</td>\n",
        "      <td> 3.0</td>\n",
        "      <td>                    Memory</td>\n",
        "      <td>              Betting/Wagering</td>\n",
        "      <td> N</td>\n",
        "      <td>  0.00</td>\n",
        "      <td> 0</td>\n",
        "      <td>            Other</td>\n",
        "    </tr>\n",
        "    <tr>\n",
        "      <th>227</th>\n",
        "      <td>   1797</td>\n",
        "      <td>                                          Pay Day</td>\n",
        "      <td>       Paul J. Gruen</td>\n",
        "      <td>             Borras Plana S.A.</td>\n",
        "      <td> NaN</td>\n",
        "      <td> 1975</td>\n",
        "      <td> 2</td>\n",
        "      <td>  6</td>\n",
        "      <td>  30</td>\n",
        "      <td>  8</td>\n",
        "      <td>...</td>\n",
        "      <td>  89</td>\n",
        "      <td>   7</td>\n",
        "      <td>  34</td>\n",
        "      <td> 5.0</td>\n",
        "      <td>                      Dice</td>\n",
        "      <td>               Auction/Bidding</td>\n",
        "      <td> N</td>\n",
        "      <td>  9.83</td>\n",
        "      <td> 0</td>\n",
        "      <td>     Family Games</td>\n",
        "    </tr>\n",
        "    <tr>\n",
        "      <th>229</th>\n",
        "      <td>   1258</td>\n",
        "      <td>                                         Phase 10</td>\n",
        "      <td>     Kenneth Johnson</td>\n",
        "      <td>                  Canada Games</td>\n",
        "      <td> NaN</td>\n",
        "      <td> 1982</td>\n",
        "      <td> 2</td>\n",
        "      <td>  6</td>\n",
        "      <td>  45</td>\n",
        "      <td>  8</td>\n",
        "      <td>...</td>\n",
        "      <td> 198</td>\n",
        "      <td>   4</td>\n",
        "      <td>  55</td>\n",
        "      <td> 5.0</td>\n",
        "      <td>                 Card Game</td>\n",
        "      <td>                Set Collection</td>\n",
        "      <td> N</td>\n",
        "      <td>  3.50</td>\n",
        "      <td> 0</td>\n",
        "      <td>     Family Games</td>\n",
        "    </tr>\n",
        "    <tr>\n",
        "      <th>240</th>\n",
        "      <td>  25669</td>\n",
        "      <td>                                          Qwirkle</td>\n",
        "      <td> Susan McKinley Ross</td>\n",
        "      <td>                      MindWare</td>\n",
        "      <td> NaN</td>\n",
        "      <td> 2006</td>\n",
        "      <td> 2</td>\n",
        "      <td>  4</td>\n",
        "      <td>  45</td>\n",
        "      <td>  6</td>\n",
        "      <td>...</td>\n",
        "      <td> 278</td>\n",
        "      <td> 147</td>\n",
        "      <td> 891</td>\n",
        "      <td> 6.0</td>\n",
        "      <td>         Abstract Strategy</td>\n",
        "      <td>               Hand Management</td>\n",
        "      <td> N</td>\n",
        "      <td> 13.13</td>\n",
        "      <td> 0</td>\n",
        "      <td>   Abstract Games</td>\n",
        "    </tr>\n",
        "    <tr>\n",
        "      <th>247</th>\n",
        "      <td>   1829</td>\n",
        "      <td>                                   Risk 2210 A.D.</td>\n",
        "      <td>          Rob Daviau</td>\n",
        "      <td>          Avalon Hill (Hasbro)</td>\n",
        "      <td> NaN</td>\n",
        "      <td> 2001</td>\n",
        "      <td> 2</td>\n",
        "      <td>  5</td>\n",
        "      <td> 240</td>\n",
        "      <td> 10</td>\n",
        "      <td>...</td>\n",
        "      <td> 527</td>\n",
        "      <td>  78</td>\n",
        "      <td> 405</td>\n",
        "      <td> 6.0</td>\n",
        "      <td>           Science Fiction</td>\n",
        "      <td> Area Control / Area Influence</td>\n",
        "      <td> N</td>\n",
        "      <td> 17.31</td>\n",
        "      <td> 0</td>\n",
        "      <td>         Wargames</td>\n",
        "    </tr>\n",
        "    <tr>\n",
        "      <th>248</th>\n",
        "      <td>   8107</td>\n",
        "      <td>      Risk: The Lord of the Rings Trilogy Edition</td>\n",
        "      <td>       Stephen Baker</td>\n",
        "      <td>                        Hasbro</td>\n",
        "      <td> NaN</td>\n",
        "      <td> 2003</td>\n",
        "      <td> 2</td>\n",
        "      <td>  4</td>\n",
        "      <td> 180</td>\n",
        "      <td>  9</td>\n",
        "      <td>...</td>\n",
        "      <td> 400</td>\n",
        "      <td>  56</td>\n",
        "      <td> 208</td>\n",
        "      <td> 7.0</td>\n",
        "      <td>                 Adventure</td>\n",
        "      <td> Area Control / Area Influence</td>\n",
        "      <td> N</td>\n",
        "      <td> 36.10</td>\n",
        "      <td> 0</td>\n",
        "      <td>   Thematic Games</td>\n",
        "    </tr>\n",
        "    <tr>\n",
        "      <th>258</th>\n",
        "      <td>   2381</td>\n",
        "      <td>                                    Scattergories</td>\n",
        "      <td>        (Uncredited)</td>\n",
        "      <td>                   Game Office</td>\n",
        "      <td> NaN</td>\n",
        "      <td> 1988</td>\n",
        "      <td> 2</td>\n",
        "      <td>  6</td>\n",
        "      <td>  30</td>\n",
        "      <td> 12</td>\n",
        "      <td>...</td>\n",
        "      <td> 204</td>\n",
        "      <td>   9</td>\n",
        "      <td>  97</td>\n",
        "      <td> 6.0</td>\n",
        "      <td>                Party Game</td>\n",
        "      <td>                  Dice Rolling</td>\n",
        "      <td> N</td>\n",
        "      <td>  8.55</td>\n",
        "      <td> 0</td>\n",
        "      <td>      Party Games</td>\n",
        "    </tr>\n",
        "    <tr>\n",
        "      <th>260</th>\n",
        "      <td>   1835</td>\n",
        "      <td>                                      Scrutineyes</td>\n",
        "      <td>        Brian Hersch</td>\n",
        "      <td>            Hersch and Company</td>\n",
        "      <td> NaN</td>\n",
        "      <td> 1992</td>\n",
        "      <td> 2</td>\n",
        "      <td>  8</td>\n",
        "      <td>  30</td>\n",
        "      <td> 18</td>\n",
        "      <td>...</td>\n",
        "      <td>  54</td>\n",
        "      <td>   7</td>\n",
        "      <td>  15</td>\n",
        "      <td> 4.0</td>\n",
        "      <td>                    Memory</td>\n",
        "      <td>                         Other</td>\n",
        "      <td> N</td>\n",
        "      <td> 17.38</td>\n",
        "      <td> 0</td>\n",
        "      <td>            Other</td>\n",
        "    </tr>\n",
        "    <tr>\n",
        "      <th>284</th>\n",
        "      <td>   7575</td>\n",
        "      <td>                                   Snowball Fight</td>\n",
        "      <td>        (Uncredited)</td>\n",
        "      <td>       S &amp; S Innovations, Inc.</td>\n",
        "      <td> NaN</td>\n",
        "      <td> 2002</td>\n",
        "      <td> 2</td>\n",
        "      <td> 10</td>\n",
        "      <td>  20</td>\n",
        "      <td>  6</td>\n",
        "      <td>...</td>\n",
        "      <td>  15</td>\n",
        "      <td>   3</td>\n",
        "      <td>   6</td>\n",
        "      <td> 5.0</td>\n",
        "      <td>                 Card Game</td>\n",
        "      <td>                  Dice Rolling</td>\n",
        "      <td> N</td>\n",
        "      <td>  4.32</td>\n",
        "      <td> 0</td>\n",
        "      <td> Children's Games</td>\n",
        "    </tr>\n",
        "    <tr>\n",
        "      <th>285</th>\n",
        "      <td>   1836</td>\n",
        "      <td>                                       Solarquest</td>\n",
        "      <td>        (Uncredited)</td>\n",
        "      <td>                        Golden</td>\n",
        "      <td> NaN</td>\n",
        "      <td> 1986</td>\n",
        "      <td> 2</td>\n",
        "      <td>  6</td>\n",
        "      <td>  60</td>\n",
        "      <td>  8</td>\n",
        "      <td>...</td>\n",
        "      <td>  92</td>\n",
        "      <td>  14</td>\n",
        "      <td>  45</td>\n",
        "      <td> 6.0</td>\n",
        "      <td>                  Economic</td>\n",
        "      <td>                Set Collection</td>\n",
        "      <td> N</td>\n",
        "      <td> 18.63</td>\n",
        "      <td> 0</td>\n",
        "      <td>     Family Games</td>\n",
        "    </tr>\n",
        "    <tr>\n",
        "      <th>287</th>\n",
        "      <td>   8432</td>\n",
        "      <td>                        Sorry! The Disney Edition</td>\n",
        "      <td>      Michelle Duval</td>\n",
        "      <td>                        Hasbro</td>\n",
        "      <td> NaN</td>\n",
        "      <td> 2001</td>\n",
        "      <td> 2</td>\n",
        "      <td>  4</td>\n",
        "      <td>  30</td>\n",
        "      <td>  6</td>\n",
        "      <td>...</td>\n",
        "      <td>  12</td>\n",
        "      <td>   1</td>\n",
        "      <td>   2</td>\n",
        "      <td> 3.0</td>\n",
        "      <td>         Abstract Strategy</td>\n",
        "      <td>                         Other</td>\n",
        "      <td> N</td>\n",
        "      <td>  0.00</td>\n",
        "      <td> 0</td>\n",
        "      <td> Children's Games</td>\n",
        "    </tr>\n",
        "    <tr>\n",
        "      <th>291</th>\n",
        "      <td>   6644</td>\n",
        "      <td>                                   Spite &amp; Malice</td>\n",
        "      <td>        (Uncredited)</td>\n",
        "      <td>               (Public Domain)</td>\n",
        "      <td> NaN</td>\n",
        "      <td> 2003</td>\n",
        "      <td> 2</td>\n",
        "      <td>  5</td>\n",
        "      <td>  30</td>\n",
        "      <td>  8</td>\n",
        "      <td>...</td>\n",
        "      <td>  86</td>\n",
        "      <td>   6</td>\n",
        "      <td>  22</td>\n",
        "      <td> 5.0</td>\n",
        "      <td>                 Card Game</td>\n",
        "      <td>              Pattern Building</td>\n",
        "      <td> N</td>\n",
        "      <td>  8.93</td>\n",
        "      <td> 0</td>\n",
        "      <td>            Other</td>\n",
        "    </tr>\n",
        "    <tr>\n",
        "      <th>293</th>\n",
        "      <td>   1243</td>\n",
        "      <td>                                     Split Second</td>\n",
        "      <td>        (Uncredited)</td>\n",
        "      <td>               Parker Brothers</td>\n",
        "      <td> NaN</td>\n",
        "      <td> 1992</td>\n",
        "      <td> 3</td>\n",
        "      <td>  6</td>\n",
        "      <td>  30</td>\n",
        "      <td> 10</td>\n",
        "      <td>...</td>\n",
        "      <td>  22</td>\n",
        "      <td>   3</td>\n",
        "      <td>   9</td>\n",
        "      <td> 0.0</td>\n",
        "      <td>        Action / Dexterity</td>\n",
        "      <td>                         Other</td>\n",
        "      <td> N</td>\n",
        "      <td>  9.75</td>\n",
        "      <td> 0</td>\n",
        "      <td>            Other</td>\n",
        "    </tr>\n",
        "    <tr>\n",
        "      <th>309</th>\n",
        "      <td>  17159</td>\n",
        "      <td>                               Survivor: The Game</td>\n",
        "      <td>        (Uncredited)</td>\n",
        "      <td>                   Rumba Games</td>\n",
        "      <td> NaN</td>\n",
        "      <td> 2005</td>\n",
        "      <td> 5</td>\n",
        "      <td> 16</td>\n",
        "      <td>  30</td>\n",
        "      <td>  8</td>\n",
        "      <td>...</td>\n",
        "      <td>  10</td>\n",
        "      <td>   1</td>\n",
        "      <td>   4</td>\n",
        "      <td> 4.0</td>\n",
        "      <td> Movies / TV / Radio theme</td>\n",
        "      <td>                        Acting</td>\n",
        "      <td> N</td>\n",
        "      <td>  6.00</td>\n",
        "      <td> 0</td>\n",
        "      <td>            Other</td>\n",
        "    </tr>\n",
        "    <tr>\n",
        "      <th>310</th>\n",
        "      <td>   4062</td>\n",
        "      <td>                                            Swap!</td>\n",
        "      <td>        (Uncredited)</td>\n",
        "      <td>                Patch Products</td>\n",
        "      <td> NaN</td>\n",
        "      <td> 2000</td>\n",
        "      <td> 2</td>\n",
        "      <td>  6</td>\n",
        "      <td>  10</td>\n",
        "      <td>  7</td>\n",
        "      <td>...</td>\n",
        "      <td>  46</td>\n",
        "      <td>   0</td>\n",
        "      <td>   1</td>\n",
        "      <td> 3.0</td>\n",
        "      <td>                 Card Game</td>\n",
        "      <td>           Pattern Recognition</td>\n",
        "      <td> N</td>\n",
        "      <td>  1.98</td>\n",
        "      <td> 0</td>\n",
        "      <td> Children's Games</td>\n",
        "    </tr>\n",
        "    <tr>\n",
        "      <th>316</th>\n",
        "      <td>   6840</td>\n",
        "      <td>                                 Teams of Enemies</td>\n",
        "      <td>      Mark A. Nelson</td>\n",
        "      <td>           Big Toe Games, Inc.</td>\n",
        "      <td> NaN</td>\n",
        "      <td> 2000</td>\n",
        "      <td> 4</td>\n",
        "      <td>  8</td>\n",
        "      <td>  45</td>\n",
        "      <td> 12</td>\n",
        "      <td>...</td>\n",
        "      <td>  19</td>\n",
        "      <td>   0</td>\n",
        "      <td>   0</td>\n",
        "      <td> 3.0</td>\n",
        "      <td>                    Trivia</td>\n",
        "      <td>                  Partnerships</td>\n",
        "      <td> N</td>\n",
        "      <td> 25.00</td>\n",
        "      <td> 0</td>\n",
        "      <td>            Other</td>\n",
        "    </tr>\n",
        "    <tr>\n",
        "      <th>322</th>\n",
        "      <td>   5028</td>\n",
        "      <td>                 The Game of Life in Monstropolis</td>\n",
        "      <td>       Reuben Klamer</td>\n",
        "      <td>                        Hasbro</td>\n",
        "      <td> NaN</td>\n",
        "      <td> 2001</td>\n",
        "      <td> 2</td>\n",
        "      <td>  4</td>\n",
        "      <td>  45</td>\n",
        "      <td>  8</td>\n",
        "      <td>...</td>\n",
        "      <td>   5</td>\n",
        "      <td>   0</td>\n",
        "      <td>   5</td>\n",
        "      <td> 5.0</td>\n",
        "      <td>           Children's Game</td>\n",
        "      <td>          Roll / Spin and Move</td>\n",
        "      <td> N</td>\n",
        "      <td> 20.00</td>\n",
        "      <td> 0</td>\n",
        "      <td>            Other</td>\n",
        "    </tr>\n",
        "    <tr>\n",
        "      <th>328</th>\n",
        "      <td>   2205</td>\n",
        "      <td>                The Lost World Jurassic Park Game</td>\n",
        "      <td>        (Uncredited)</td>\n",
        "      <td>                Milton Bradley</td>\n",
        "      <td> NaN</td>\n",
        "      <td> 1996</td>\n",
        "      <td> 2</td>\n",
        "      <td>  4</td>\n",
        "      <td>  90</td>\n",
        "      <td>  8</td>\n",
        "      <td>...</td>\n",
        "      <td>  22</td>\n",
        "      <td>   5</td>\n",
        "      <td>  18</td>\n",
        "      <td> 6.0</td>\n",
        "      <td> Movies / TV / Radio theme</td>\n",
        "      <td>             Co-operative Play</td>\n",
        "      <td> N</td>\n",
        "      <td> 20.98</td>\n",
        "      <td> 0</td>\n",
        "      <td>            Other</td>\n",
        "    </tr>\n",
        "    <tr>\n",
        "      <th>366</th>\n",
        "      <td> 103801</td>\n",
        "      <td>                    Twilight: the Movie Card Game</td>\n",
        "      <td>                 NaN</td>\n",
        "      <td>                      Cardinal</td>\n",
        "      <td> NaN</td>\n",
        "      <td> 2009</td>\n",
        "      <td> 2</td>\n",
        "      <td>  4</td>\n",
        "      <td>   0</td>\n",
        "      <td> 10</td>\n",
        "      <td>...</td>\n",
        "      <td>   2</td>\n",
        "      <td>   0</td>\n",
        "      <td>   0</td>\n",
        "      <td> 1.0</td>\n",
        "      <td> Movies / TV / Radio theme</td>\n",
        "      <td>                         Other</td>\n",
        "      <td> N</td>\n",
        "      <td>  0.00</td>\n",
        "      <td> 0</td>\n",
        "      <td>            Other</td>\n",
        "    </tr>\n",
        "    <tr>\n",
        "      <th>373</th>\n",
        "      <td>   3529</td>\n",
        "      <td>                                   Vampire Hunter</td>\n",
        "      <td>        (Uncredited)</td>\n",
        "      <td>                        Hasbro</td>\n",
        "      <td> NaN</td>\n",
        "      <td> 2002</td>\n",
        "      <td> 2</td>\n",
        "      <td>  4</td>\n",
        "      <td>  30</td>\n",
        "      <td>  9</td>\n",
        "      <td>...</td>\n",
        "      <td> 130</td>\n",
        "      <td>  14</td>\n",
        "      <td>  48</td>\n",
        "      <td> 2.0</td>\n",
        "      <td>                    Horror</td>\n",
        "      <td>                 Area Movement</td>\n",
        "      <td> N</td>\n",
        "      <td> 10.83</td>\n",
        "      <td> 0</td>\n",
        "      <td>            Other</td>\n",
        "    </tr>\n",
        "    <tr>\n",
        "      <th>381</th>\n",
        "      <td>   1422</td>\n",
        "      <td>                                           Wadjet</td>\n",
        "      <td>       Dee Pomerleau</td>\n",
        "      <td>                     Timbuk II</td>\n",
        "      <td> NaN</td>\n",
        "      <td> 1996</td>\n",
        "      <td> 2</td>\n",
        "      <td>  4</td>\n",
        "      <td>  90</td>\n",
        "      <td> 10</td>\n",
        "      <td>...</td>\n",
        "      <td>  64</td>\n",
        "      <td>   4</td>\n",
        "      <td>  15</td>\n",
        "      <td> 6.0</td>\n",
        "      <td>                   Ancient</td>\n",
        "      <td>               Hand Management</td>\n",
        "      <td> N</td>\n",
        "      <td> 13.92</td>\n",
        "      <td> 0</td>\n",
        "      <td>            Other</td>\n",
        "    </tr>\n",
        "    <tr>\n",
        "      <th>386</th>\n",
        "      <td>    861</td>\n",
        "      <td>            Weapons &amp; Warriors: Castle Combat Set</td>\n",
        "      <td>        (Uncredited)</td>\n",
        "      <td>                       MB Jeux</td>\n",
        "      <td> NaN</td>\n",
        "      <td> 1993</td>\n",
        "      <td> 2</td>\n",
        "      <td>  2</td>\n",
        "      <td>  30</td>\n",
        "      <td>  7</td>\n",
        "      <td>...</td>\n",
        "      <td>  96</td>\n",
        "      <td>  21</td>\n",
        "      <td>  62</td>\n",
        "      <td> 5.0</td>\n",
        "      <td>        Action / Dexterity</td>\n",
        "      <td>                 Area Movement</td>\n",
        "      <td> N</td>\n",
        "      <td> 28.45</td>\n",
        "      <td> 0</td>\n",
        "      <td> Children's Games</td>\n",
        "    </tr>\n",
        "    <tr>\n",
        "      <th>389</th>\n",
        "      <td>  22823</td>\n",
        "      <td> World of Warcraft: The Boardgame - Shadow of War</td>\n",
        "      <td>     John Goodenough</td>\n",
        "      <td>          Fantasy Flight Games</td>\n",
        "      <td> NaN</td>\n",
        "      <td> 2006</td>\n",
        "      <td> 2</td>\n",
        "      <td>  6</td>\n",
        "      <td> 240</td>\n",
        "      <td> 12</td>\n",
        "      <td>...</td>\n",
        "      <td>  82</td>\n",
        "      <td>  47</td>\n",
        "      <td> 127</td>\n",
        "      <td> 0.0</td>\n",
        "      <td>                 Adventure</td>\n",
        "      <td>                 Area Movement</td>\n",
        "      <td> Y</td>\n",
        "      <td> 29.90</td>\n",
        "      <td> 0</td>\n",
        "      <td>   Thematic Games</td>\n",
        "    </tr>\n",
        "  </tbody>\n",
        "</table>\n",
        "<p>45 rows \u00d7 23 columns</p>\n",
        "</div>"
       ],
       "metadata": {},
       "output_type": "pyout",
       "prompt_number": 1731,
       "text": [
        "         id                                              name  \\\n",
        "5       334                              Advance to Boardwalk   \n",
        "37     5429                                  Blurt! Card Game   \n",
        "44     1445                                  Canasta Caliente   \n",
        "56     1446                                           Cheater   \n",
        "69     1254                                    Crack the Case   \n",
        "70    11618                                    Cranium Zigity   \n",
        "71    26137                  Deal or No Deal: Electronic Game   \n",
        "93     4071                                       Double Talk   \n",
        "112    3990                                      Fact or Crap   \n",
        "116    1768                                   Fireball Island   \n",
        "117   30255            Five Little Monkeys Jumping on the Bed   \n",
        "122    2115                                      Free Parking   \n",
        "142    1502                                      Hotel Tycoon   \n",
        "151    2206                                Jurassic Park Game   \n",
        "152    2597            Jurassic Park III Island Survival Game   \n",
        "170   24245                                      Laser Battle   \n",
        "185    4668                                     Lost Treasure   \n",
        "194   10325                              Marry, Date or Dump?   \n",
        "203    5463                                         Mind Maze   \n",
        "204    1923                                          MindTrap   \n",
        "206   40398                           Monopoly Deal Card Game   \n",
        "207    3020                            Monopoly: Looney Tunes   \n",
        "225    9759                                     Outta Control   \n",
        "227    1797                                           Pay Day   \n",
        "229    1258                                          Phase 10   \n",
        "240   25669                                           Qwirkle   \n",
        "247    1829                                    Risk 2210 A.D.   \n",
        "248    8107       Risk: The Lord of the Rings Trilogy Edition   \n",
        "258    2381                                     Scattergories   \n",
        "260    1835                                       Scrutineyes   \n",
        "284    7575                                    Snowball Fight   \n",
        "285    1836                                        Solarquest   \n",
        "287    8432                         Sorry! The Disney Edition   \n",
        "291    6644                                    Spite & Malice   \n",
        "293    1243                                      Split Second   \n",
        "309   17159                                Survivor: The Game   \n",
        "310    4062                                             Swap!   \n",
        "316    6840                                  Teams of Enemies   \n",
        "322    5028                  The Game of Life in Monstropolis   \n",
        "328    2205                 The Lost World Jurassic Park Game   \n",
        "366  103801                     Twilight: the Movie Card Game   \n",
        "373    3529                                    Vampire Hunter   \n",
        "381    1422                                            Wadjet   \n",
        "386     861             Weapons & Warriors: Castle Combat Set   \n",
        "389   22823  World of Warcraft: The Boardgame - Shadow of War   \n",
        "\n",
        "                designer                      publisher artist  yearpublished  \\\n",
        "5       Charles Phillips              Borras Plana S.A.    NaN           1985   \n",
        "37          (Uncredited)                Keys Publishing    NaN           2000   \n",
        "44        Philip Orbanes                         Hasbro    NaN           2000   \n",
        "56       Darrell Simmons                  Awesome Games    NaN           1995   \n",
        "69      Robert R. Schoch                 Milton Bradley    NaN           1993   \n",
        "70           Marisa Pena                  Cranium, Inc.    NaN           2004   \n",
        "71          (Uncredited)                      (Unknown)    NaN           2006   \n",
        "93          (Uncredited)          Boyle & Elggren, Inc.    NaN           1992   \n",
        "112         (Uncredited)              Imagination Games    NaN           2001   \n",
        "116        Chuck Kennedy                      MB Giochi    NaN           1986   \n",
        "117         (Uncredited)               University Games    NaN           2007   \n",
        "122     Charles Phillips                         Hasbro    NaN           1988   \n",
        "142         Denys Fisher                     AS Company    NaN           1974   \n",
        "151         (Uncredited)                 Milton Bradley    NaN           1993   \n",
        "152         (Uncredited)                 Milton Bradley    NaN           2001   \n",
        "170          Ami Shapiro              MGA Entertainment    NaN           2006   \n",
        "185         (Uncredited)                Parker Brothers    NaN           1982   \n",
        "194       Debbie Wallace                    DCK Wallace    NaN           2003   \n",
        "203         Marvin Glass                Parker Brothers    NaN           1970   \n",
        "204         Richard Fast  Great American Puzzle Factory    NaN           1991   \n",
        "206         (Uncredited)                Basic Fun, Inc.    NaN           2008   \n",
        "207           Rob Daviau                Parker Brothers    NaN           2000   \n",
        "225         (Uncredited)                Parker Brothers    NaN           1992   \n",
        "227        Paul J. Gruen              Borras Plana S.A.    NaN           1975   \n",
        "229      Kenneth Johnson                   Canada Games    NaN           1982   \n",
        "240  Susan McKinley Ross                       MindWare    NaN           2006   \n",
        "247           Rob Daviau           Avalon Hill (Hasbro)    NaN           2001   \n",
        "248        Stephen Baker                         Hasbro    NaN           2003   \n",
        "258         (Uncredited)                    Game Office    NaN           1988   \n",
        "260         Brian Hersch             Hersch and Company    NaN           1992   \n",
        "284         (Uncredited)        S & S Innovations, Inc.    NaN           2002   \n",
        "285         (Uncredited)                         Golden    NaN           1986   \n",
        "287       Michelle Duval                         Hasbro    NaN           2001   \n",
        "291         (Uncredited)                (Public Domain)    NaN           2003   \n",
        "293         (Uncredited)                Parker Brothers    NaN           1992   \n",
        "309         (Uncredited)                    Rumba Games    NaN           2005   \n",
        "310         (Uncredited)                 Patch Products    NaN           2000   \n",
        "316       Mark A. Nelson            Big Toe Games, Inc.    NaN           2000   \n",
        "322        Reuben Klamer                         Hasbro    NaN           2001   \n",
        "328         (Uncredited)                 Milton Bradley    NaN           1996   \n",
        "366                  NaN                       Cardinal    NaN           2009   \n",
        "373         (Uncredited)                         Hasbro    NaN           2002   \n",
        "381        Dee Pomerleau                      Timbuk II    NaN           1996   \n",
        "386         (Uncredited)                        MB Jeux    NaN           1993   \n",
        "389      John Goodenough           Fantasy Flight Games    NaN           2006   \n",
        "\n",
        "     minplayers  maxplayers  playingtime  age ...   trading  wanting  wishing  \\\n",
        "5             2           4           60    8 ...       116        6       14   \n",
        "37            3           5           20    8 ...         4        0        0   \n",
        "44            2           6           60    7 ...       153        2       14   \n",
        "56            2           4           45    7 ...        43        1        6   \n",
        "69            2           8           60   12 ...        94        7       21   \n",
        "70            2          10           10    8 ...       122        1        7   \n",
        "71            1           4           20   10 ...         8        0        1   \n",
        "93            2           8           60   10 ...         6        0        0   \n",
        "112           3           8           30   12 ...        88        1       10   \n",
        "116           2           4           45    7 ...        41      178      378   \n",
        "117           2           4           10    3 ...         1        0        2   \n",
        "122           2           4           30    8 ...        56        2        7   \n",
        "142           2           4           60    8 ...       119       33       94   \n",
        "151           2           8           60    7 ...        22        9       15   \n",
        "152           2           4           45    8 ...        24        7       15   \n",
        "170           2           2            0    8 ...        46        5       37   \n",
        "185           2           4           45    8 ...        38       13       25   \n",
        "194           2           2           30   16 ...        11        0        0   \n",
        "203           2           2           10    8 ...        17        1        7   \n",
        "204           2          16           60   12 ...       206        0       15   \n",
        "206           2           5           15    8 ...       254       24      122   \n",
        "207           2           8          180    8 ...         5        4        6   \n",
        "225           2           6           30    8 ...         5        2        2   \n",
        "227           2           6           30    8 ...        89        7       34   \n",
        "229           2           6           45    8 ...       198        4       55   \n",
        "240           2           4           45    6 ...       278      147      891   \n",
        "247           2           5          240   10 ...       527       78      405   \n",
        "248           2           4          180    9 ...       400       56      208   \n",
        "258           2           6           30   12 ...       204        9       97   \n",
        "260           2           8           30   18 ...        54        7       15   \n",
        "284           2          10           20    6 ...        15        3        6   \n",
        "285           2           6           60    8 ...        92       14       45   \n",
        "287           2           4           30    6 ...        12        1        2   \n",
        "291           2           5           30    8 ...        86        6       22   \n",
        "293           3           6           30   10 ...        22        3        9   \n",
        "309           5          16           30    8 ...        10        1        4   \n",
        "310           2           6           10    7 ...        46        0        1   \n",
        "316           4           8           45   12 ...        19        0        0   \n",
        "322           2           4           45    8 ...         5        0        5   \n",
        "328           2           4           90    8 ...        22        5       18   \n",
        "366           2           4            0   10 ...         2        0        0   \n",
        "373           2           4           30    9 ...       130       14       48   \n",
        "381           2           4           90   10 ...        64        4       15   \n",
        "386           2           2           30    7 ...        96       21       62   \n",
        "389           2           6          240   12 ...        82       47      127   \n",
        "\n",
        "     userrating                   category                       mechanic  \\\n",
        "5           4.0                   Economic  Area Control / Area Influence   \n",
        "37          4.0                  Card Game                          Other   \n",
        "44          3.5                  Card Game                 Set Collection   \n",
        "56          0.0                  Card Game                 Set Collection   \n",
        "69          4.0                  Deduction                   Partnerships   \n",
        "70          4.0                  Card Game                Hand Management   \n",
        "71          4.0                 Electronic               Betting/Wagering   \n",
        "93          0.0                 Party Game                          Other   \n",
        "112         0.0                  Card Game                  Card Drafting   \n",
        "116         5.0         Action / Dexterity                Hand Management   \n",
        "117         3.0         Action / Dexterity           Roll / Spin and Move   \n",
        "122         4.0                  Card Game                          Other   \n",
        "142         5.0                   Economic           Roll / Spin and Move   \n",
        "151         6.0                    Animals                Hex-and-Counter   \n",
        "152         6.0                    Animals           Roll / Spin and Move   \n",
        "170         5.0          Abstract Strategy                  Modular Board   \n",
        "185         6.0                 Electronic            Pick-up and Deliver   \n",
        "194         2.0                 Party Game                   Role Playing   \n",
        "203         5.0          Abstract Strategy            Pattern Recognition   \n",
        "204         3.0                  Deduction                   Partnerships   \n",
        "206         3.0                  Card Game                Hand Management   \n",
        "207         2.0            Children's Game                Auction/Bidding   \n",
        "225         3.0                     Memory               Betting/Wagering   \n",
        "227         5.0                       Dice                Auction/Bidding   \n",
        "229         5.0                  Card Game                 Set Collection   \n",
        "240         6.0          Abstract Strategy                Hand Management   \n",
        "247         6.0            Science Fiction  Area Control / Area Influence   \n",
        "248         7.0                  Adventure  Area Control / Area Influence   \n",
        "258         6.0                 Party Game                   Dice Rolling   \n",
        "260         4.0                     Memory                          Other   \n",
        "284         5.0                  Card Game                   Dice Rolling   \n",
        "285         6.0                   Economic                 Set Collection   \n",
        "287         3.0          Abstract Strategy                          Other   \n",
        "291         5.0                  Card Game               Pattern Building   \n",
        "293         0.0         Action / Dexterity                          Other   \n",
        "309         4.0  Movies / TV / Radio theme                         Acting   \n",
        "310         3.0                  Card Game            Pattern Recognition   \n",
        "316         3.0                     Trivia                   Partnerships   \n",
        "322         5.0            Children's Game           Roll / Spin and Move   \n",
        "328         6.0  Movies / TV / Radio theme              Co-operative Play   \n",
        "366         1.0  Movies / TV / Radio theme                          Other   \n",
        "373         2.0                     Horror                  Area Movement   \n",
        "381         6.0                    Ancient                Hand Management   \n",
        "386         5.0         Action / Dexterity                  Area Movement   \n",
        "389         0.0                  Adventure                  Area Movement   \n",
        "\n",
        "     exp  price wishpriority            domain  \n",
        "5      N   5.30            0  Children's Games  \n",
        "37     N   0.00            0             Other  \n",
        "44     N   5.13            0      Family Games  \n",
        "56     N   3.00            0             Other  \n",
        "69     N  14.18            0       Party Games  \n",
        "70     N   2.25            0  Children's Games  \n",
        "71     N   5.00            0             Other  \n",
        "93     N   0.00            0             Other  \n",
        "112    N   7.75            0       Party Games  \n",
        "116    N  97.50            0  Children's Games  \n",
        "117    N   0.00            0  Children's Games  \n",
        "122    N   4.28            0             Other  \n",
        "142    N  41.44            0      Family Games  \n",
        "151    N  16.95            0             Other  \n",
        "152    N  13.99            0             Other  \n",
        "170    N  74.91            0    Abstract Games  \n",
        "185    N  12.87            0             Other  \n",
        "194    N   0.00            0             Other  \n",
        "203    N  14.06            0    Abstract Games  \n",
        "204    N   5.33            0      Family Games  \n",
        "206    N   5.92            0      Family Games  \n",
        "207    N   0.00            0             Other  \n",
        "225    N   0.00            0             Other  \n",
        "227    N   9.83            0      Family Games  \n",
        "229    N   3.50            0      Family Games  \n",
        "240    N  13.13            0    Abstract Games  \n",
        "247    N  17.31            0          Wargames  \n",
        "248    N  36.10            0    Thematic Games  \n",
        "258    N   8.55            0       Party Games  \n",
        "260    N  17.38            0             Other  \n",
        "284    N   4.32            0  Children's Games  \n",
        "285    N  18.63            0      Family Games  \n",
        "287    N   0.00            0  Children's Games  \n",
        "291    N   8.93            0             Other  \n",
        "293    N   9.75            0             Other  \n",
        "309    N   6.00            0             Other  \n",
        "310    N   1.98            0  Children's Games  \n",
        "316    N  25.00            0             Other  \n",
        "322    N  20.00            0             Other  \n",
        "328    N  20.98            0             Other  \n",
        "366    N   0.00            0             Other  \n",
        "373    N  10.83            0             Other  \n",
        "381    N  13.92            0             Other  \n",
        "386    N  28.45            0  Children's Games  \n",
        "389    Y  29.90            0    Thematic Games  \n",
        "\n",
        "[45 rows x 23 columns]"
       ]
      }
     ],
     "prompt_number": 1731
    },
    {
     "cell_type": "markdown",
     "metadata": {},
     "source": [
      "Quite a few unknowns for this one.  Let's move on"
     ]
    },
    {
     "cell_type": "code",
     "collapsed": false,
     "input": [
      "df.yearpublished.value_counts()"
     ],
     "language": "python",
     "metadata": {},
     "outputs": [
      {
       "metadata": {},
       "output_type": "pyout",
       "prompt_number": 1732,
       "text": [
        " 2011    41\n",
        " 2012    37\n",
        " 2009    32\n",
        " 2010    29\n",
        " 2007    24\n",
        " 2014    21\n",
        " 2006    21\n",
        " 2005    19\n",
        " 2013    19\n",
        " 2008    19\n",
        " 2004    18\n",
        " 2003    13\n",
        " 2002    13\n",
        " 2001    13\n",
        " 2000    11\n",
        " 2015     9\n",
        " 1999     7\n",
        " 1997     7\n",
        " 1992     4\n",
        " 1982     4\n",
        " 1991     4\n",
        " 1986     3\n",
        " 1988     3\n",
        " 1993     3\n",
        " 1995     3\n",
        " 1996     3\n",
        " 1998     3\n",
        " 1949     2\n",
        " 1994     1\n",
        " 1970     1\n",
        " 1929     1\n",
        " 1947     1\n",
        " 1948     1\n",
        " 1959     1\n",
        " 1965     1\n",
        " 1967     1\n",
        " 1975     1\n",
        " 1974     1\n",
        " 1990     1\n",
        " 1977     1\n",
        " 1979     1\n",
        " 1981     1\n",
        " 1985     1\n",
        " 1989     1\n",
        "-200      1\n",
        "dtype: int64"
       ]
      }
     ],
     "prompt_number": 1732
    },
    {
     "cell_type": "markdown",
     "metadata": {},
     "source": [
      "I don't think I can use this column.  I happen to know that most of the games I am looking for are newer.  I can check this using the wishpriority column.  1 means it is on my wishlist.  0 means I own it.  Let's look at a histogram of the wishlist years."
     ]
    },
    {
     "cell_type": "code",
     "collapsed": false,
     "input": [
      "dfwishyear = df.yearpublished[df.wishpriority == 1].value_counts()\n",
      "dfwishyear.plot(kind='bar')"
     ],
     "language": "python",
     "metadata": {},
     "outputs": [
      {
       "metadata": {},
       "output_type": "pyout",
       "prompt_number": 1733,
       "text": [
        "<matplotlib.axes._subplots.AxesSubplot at 0x34213f98>"
       ]
      },
      {
       "metadata": {},
       "output_type": "display_data",
       "png": "[encoded data removed]",
       "text": [
        "<matplotlib.figure.Figure at 0x34213a90>"
       ]
      }
     ],
     "prompt_number": 1733
    },
    {
     "cell_type": "markdown",
     "metadata": {},
     "source": [
      "Yes, it looks like the majority are from 2011 forward.  I don't think it makes sense to base on year published because I got into collecting in 2001 so there is bias in years where I had money to on the new and upcoming games.  Like 2011 when I know I had a lot of money to spend on games.  Let's move to the next column."
     ]
    },
    {
     "cell_type": "code",
     "collapsed": false,
     "input": [
      "df.minplayers.value_counts()"
     ],
     "language": "python",
     "metadata": {},
     "outputs": [
      {
       "metadata": {},
       "output_type": "pyout",
       "prompt_number": 1734,
       "text": [
        "2    300\n",
        "3     51\n",
        "1     43\n",
        "4      4\n",
        "5      3\n",
        "0      1\n",
        "dtype: int64"
       ]
      }
     ],
     "prompt_number": 1734
    },
    {
     "cell_type": "markdown",
     "metadata": {},
     "source": [
      "This is a great categorical variable.   Let's see if there are any nulls.  "
     ]
    },
    {
     "cell_type": "code",
     "collapsed": false,
     "input": [
      "df[df.minplayers.isnull()]"
     ],
     "language": "python",
     "metadata": {},
     "outputs": [
      {
       "html": [
        "<div style=\"max-height:1000px;max-width:1500px;overflow:auto;\">\n",
        "<table border=\"1\" class=\"dataframe\">\n",
        "  <thead>\n",
        "    <tr style=\"text-align: right;\">\n",
        "      <th></th>\n",
        "      <th>id</th>\n",
        "      <th>name</th>\n",
        "      <th>designer</th>\n",
        "      <th>publisher</th>\n",
        "      <th>artist</th>\n",
        "      <th>yearpublished</th>\n",
        "      <th>minplayers</th>\n",
        "      <th>maxplayers</th>\n",
        "      <th>playingtime</th>\n",
        "      <th>age</th>\n",
        "      <th>...</th>\n",
        "      <th>trading</th>\n",
        "      <th>wanting</th>\n",
        "      <th>wishing</th>\n",
        "      <th>userrating</th>\n",
        "      <th>category</th>\n",
        "      <th>mechanic</th>\n",
        "      <th>exp</th>\n",
        "      <th>price</th>\n",
        "      <th>wishpriority</th>\n",
        "      <th>domain</th>\n",
        "    </tr>\n",
        "  </thead>\n",
        "  <tbody>\n",
        "  </tbody>\n",
        "</table>\n",
        "<p>0 rows \u00d7 23 columns</p>\n",
        "</div>"
       ],
       "metadata": {},
       "output_type": "pyout",
       "prompt_number": 1735,
       "text": [
        "Empty DataFrame\n",
        "Columns: [id, name, designer, publisher, artist, yearpublished, minplayers, maxplayers, playingtime, age, usersrated, average, owned, trading, wanting, wishing, userrating, category, mechanic, exp, price, wishpriority, domain]\n",
        "Index: []\n",
        "\n",
        "[0 rows x 23 columns]"
       ]
      }
     ],
     "prompt_number": 1735
    },
    {
     "cell_type": "markdown",
     "metadata": {},
     "source": [
      "Good, no nulls.  Lets get some statistics on it."
     ]
    },
    {
     "cell_type": "code",
     "collapsed": false,
     "input": [
      "df.minplayers.describe()"
     ],
     "language": "python",
     "metadata": {},
     "outputs": [
      {
       "metadata": {},
       "output_type": "pyout",
       "prompt_number": 1736,
       "text": [
        "count    402.000000\n",
        "mean       2.057214\n",
        "std        0.590203\n",
        "min        0.000000\n",
        "25%        2.000000\n",
        "50%        2.000000\n",
        "75%        2.000000\n",
        "max        5.000000\n",
        "dtype: float64"
       ]
      }
     ],
     "prompt_number": 1736
    },
    {
     "cell_type": "markdown",
     "metadata": {},
     "source": [
      "This would be helpful if we needed to fill nulls but since we don't I guess we can ignore it.  This will be an interesting data point to include though because I have a theory that I rate games with minimum 2 players higher because I can play them with my wife without needing to wait for game day with friends.  "
     ]
    },
    {
     "cell_type": "code",
     "collapsed": false,
     "input": [
      "df.minplayers.hist()"
     ],
     "language": "python",
     "metadata": {},
     "outputs": [
      {
       "metadata": {},
       "output_type": "pyout",
       "prompt_number": 1737,
       "text": [
        "<matplotlib.axes._subplots.AxesSubplot at 0x340e60f0>"
       ]
      },
      {
       "metadata": {},
       "output_type": "display_data",
       "png": "[encoded data removed]",
       "text": [
        "<matplotlib.figure.Figure at 0x33a829e8>"
       ]
      }
     ],
     "prompt_number": 1737
    },
    {
     "cell_type": "markdown",
     "metadata": {},
     "source": [
      "I don't really understand how you could have 0 players.  The game plays itself?"
     ]
    },
    {
     "cell_type": "code",
     "collapsed": false,
     "input": [
      "df.maxplayers.value_counts()"
     ],
     "language": "python",
     "metadata": {},
     "outputs": [
      {
       "metadata": {},
       "output_type": "pyout",
       "prompt_number": 1738,
       "text": [
        "4     153\n",
        "5     102\n",
        "6      74\n",
        "8      27\n",
        "2      24\n",
        "7       9\n",
        "10      7\n",
        "16      2\n",
        "12      1\n",
        "9       1\n",
        "3       1\n",
        "0       1\n",
        "dtype: int64"
       ]
      }
     ],
     "prompt_number": 1738
    },
    {
     "cell_type": "markdown",
     "metadata": {},
     "source": [
      "Nice categorical variable again.  Although there is that 0 for max number of players.  So basically you watch the game play itself.  I wonder if this is the same game in both cases.   Let's check."
     ]
    },
    {
     "cell_type": "code",
     "collapsed": false,
     "input": [
      "df.name[df.maxplayers == 0]"
     ],
     "language": "python",
     "metadata": {},
     "outputs": [
      {
       "metadata": {},
       "output_type": "pyout",
       "prompt_number": 1739,
       "text": [
        "191    Machi Koro: Gaming Mega Store\n",
        "Name: name, dtype: object"
       ]
      }
     ],
     "prompt_number": 1739
    },
    {
     "cell_type": "code",
     "collapsed": false,
     "input": [
      "df.name[df.minplayers == 0]"
     ],
     "language": "python",
     "metadata": {},
     "outputs": [
      {
       "metadata": {},
       "output_type": "pyout",
       "prompt_number": 1740,
       "text": [
        "191    Machi Koro: Gaming Mega Store\n",
        "Name: name, dtype: object"
       ]
      }
     ],
     "prompt_number": 1740
    },
    {
     "cell_type": "markdown",
     "metadata": {},
     "source": [
      "Yes, and I believe this is a wishlist item."
     ]
    },
    {
     "cell_type": "code",
     "collapsed": false,
     "input": [
      "df.wishpriority[df.name == 'Machi Koro']"
     ],
     "language": "python",
     "metadata": {},
     "outputs": [
      {
       "metadata": {},
       "output_type": "pyout",
       "prompt_number": 1741,
       "text": [
        "190    0\n",
        "Name: wishpriority, dtype: int64"
       ]
      }
     ],
     "prompt_number": 1741
    },
    {
     "cell_type": "markdown",
     "metadata": {},
     "source": [
      "Oh, it isn't.  I forgot, I got it in a kickstarter special.  Well, it is just a small 10 card set expansion so we could remove it since it is the only one.  "
     ]
    },
    {
     "cell_type": "code",
     "collapsed": false,
     "input": [
      "df[df.maxplayers.isnull()]"
     ],
     "language": "python",
     "metadata": {},
     "outputs": [
      {
       "html": [
        "<div style=\"max-height:1000px;max-width:1500px;overflow:auto;\">\n",
        "<table border=\"1\" class=\"dataframe\">\n",
        "  <thead>\n",
        "    <tr style=\"text-align: right;\">\n",
        "      <th></th>\n",
        "      <th>id</th>\n",
        "      <th>name</th>\n",
        "      <th>designer</th>\n",
        "      <th>publisher</th>\n",
        "      <th>artist</th>\n",
        "      <th>yearpublished</th>\n",
        "      <th>minplayers</th>\n",
        "      <th>maxplayers</th>\n",
        "      <th>playingtime</th>\n",
        "      <th>age</th>\n",
        "      <th>...</th>\n",
        "      <th>trading</th>\n",
        "      <th>wanting</th>\n",
        "      <th>wishing</th>\n",
        "      <th>userrating</th>\n",
        "      <th>category</th>\n",
        "      <th>mechanic</th>\n",
        "      <th>exp</th>\n",
        "      <th>price</th>\n",
        "      <th>wishpriority</th>\n",
        "      <th>domain</th>\n",
        "    </tr>\n",
        "  </thead>\n",
        "  <tbody>\n",
        "  </tbody>\n",
        "</table>\n",
        "<p>0 rows \u00d7 23 columns</p>\n",
        "</div>"
       ],
       "metadata": {},
       "output_type": "pyout",
       "prompt_number": 1742,
       "text": [
        "Empty DataFrame\n",
        "Columns: [id, name, designer, publisher, artist, yearpublished, minplayers, maxplayers, playingtime, age, usersrated, average, owned, trading, wanting, wishing, userrating, category, mechanic, exp, price, wishpriority, domain]\n",
        "Index: []\n",
        "\n",
        "[0 rows x 23 columns]"
       ]
      }
     ],
     "prompt_number": 1742
    },
    {
     "cell_type": "markdown",
     "metadata": {},
     "source": [
      "No nulls for maxplayers, good.  "
     ]
    },
    {
     "cell_type": "code",
     "collapsed": false,
     "input": [
      "df.maxplayers.hist()"
     ],
     "language": "python",
     "metadata": {},
     "outputs": [
      {
       "metadata": {},
       "output_type": "pyout",
       "prompt_number": 1743,
       "text": [
        "<matplotlib.axes._subplots.AxesSubplot at 0x341d62b0>"
       ]
      },
      {
       "metadata": {},
       "output_type": "display_data",
       "png": "[encoded data removed]",
       "text": [
        "<matplotlib.figure.Figure at 0x33a4af28>"
       ]
      }
     ],
     "prompt_number": 1743
    },
    {
     "cell_type": "code",
     "collapsed": false,
     "input": [
      "df.maxplayers.describe()"
     ],
     "language": "python",
     "metadata": {},
     "outputs": [
      {
       "metadata": {},
       "output_type": "pyout",
       "prompt_number": 1744,
       "text": [
        "count    402.000000\n",
        "mean       5.022388\n",
        "std        1.753371\n",
        "min        0.000000\n",
        "25%        4.000000\n",
        "50%        5.000000\n",
        "75%        6.000000\n",
        "max       16.000000\n",
        "dtype: float64"
       ]
      }
     ],
     "prompt_number": 1744
    },
    {
     "cell_type": "markdown",
     "metadata": {},
     "source": [
      "5 players is the average max players.  What game could have 16 players?"
     ]
    },
    {
     "cell_type": "code",
     "collapsed": false,
     "input": [
      "df.name[df.maxplayers==16]"
     ],
     "language": "python",
     "metadata": {},
     "outputs": [
      {
       "metadata": {},
       "output_type": "pyout",
       "prompt_number": 1745,
       "text": [
        "204              MindTrap\n",
        "309    Survivor: The Game\n",
        "Name: name, dtype: object"
       ]
      }
     ],
     "prompt_number": 1745
    },
    {
     "cell_type": "markdown",
     "metadata": {},
     "source": [
      "Oh yes.  Party games.  Let's look at playing time."
     ]
    },
    {
     "cell_type": "code",
     "collapsed": false,
     "input": [
      "df.playingtime.value_counts()"
     ],
     "language": "python",
     "metadata": {},
     "outputs": [
      {
       "metadata": {},
       "output_type": "pyout",
       "prompt_number": 1746,
       "text": [
        "90     69\n",
        "60     69\n",
        "30     61\n",
        "45     45\n",
        "120    39\n",
        "180    20\n",
        "240    19\n",
        "20     18\n",
        "75     11\n",
        "10     10\n",
        "100     9\n",
        "80      8\n",
        "15      6\n",
        "150     6\n",
        "40      4\n",
        "0       3\n",
        "360     2\n",
        "25      1\n",
        "200     1\n",
        "210     1\n",
        "dtype: int64"
       ]
      }
     ],
     "prompt_number": 1746
    },
    {
     "cell_type": "markdown",
     "metadata": {},
     "source": [
      "Another categorical variable here.  Any nulls?"
     ]
    },
    {
     "cell_type": "code",
     "collapsed": false,
     "input": [
      "df[df.playingtime.isnull()]"
     ],
     "language": "python",
     "metadata": {},
     "outputs": [
      {
       "html": [
        "<div style=\"max-height:1000px;max-width:1500px;overflow:auto;\">\n",
        "<table border=\"1\" class=\"dataframe\">\n",
        "  <thead>\n",
        "    <tr style=\"text-align: right;\">\n",
        "      <th></th>\n",
        "      <th>id</th>\n",
        "      <th>name</th>\n",
        "      <th>designer</th>\n",
        "      <th>publisher</th>\n",
        "      <th>artist</th>\n",
        "      <th>yearpublished</th>\n",
        "      <th>minplayers</th>\n",
        "      <th>maxplayers</th>\n",
        "      <th>playingtime</th>\n",
        "      <th>age</th>\n",
        "      <th>...</th>\n",
        "      <th>trading</th>\n",
        "      <th>wanting</th>\n",
        "      <th>wishing</th>\n",
        "      <th>userrating</th>\n",
        "      <th>category</th>\n",
        "      <th>mechanic</th>\n",
        "      <th>exp</th>\n",
        "      <th>price</th>\n",
        "      <th>wishpriority</th>\n",
        "      <th>domain</th>\n",
        "    </tr>\n",
        "  </thead>\n",
        "  <tbody>\n",
        "  </tbody>\n",
        "</table>\n",
        "<p>0 rows \u00d7 23 columns</p>\n",
        "</div>"
       ],
       "metadata": {},
       "output_type": "pyout",
       "prompt_number": 1747,
       "text": [
        "Empty DataFrame\n",
        "Columns: [id, name, designer, publisher, artist, yearpublished, minplayers, maxplayers, playingtime, age, usersrated, average, owned, trading, wanting, wishing, userrating, category, mechanic, exp, price, wishpriority, domain]\n",
        "Index: []\n",
        "\n",
        "[0 rows x 23 columns]"
       ]
      }
     ],
     "prompt_number": 1747
    },
    {
     "cell_type": "markdown",
     "metadata": {},
     "source": [
      "Good, no nulls.  "
     ]
    },
    {
     "cell_type": "code",
     "collapsed": false,
     "input": [
      "df.playingtime.hist()"
     ],
     "language": "python",
     "metadata": {},
     "outputs": [
      {
       "metadata": {},
       "output_type": "pyout",
       "prompt_number": 1748,
       "text": [
        "<matplotlib.axes._subplots.AxesSubplot at 0x33c13588>"
       ]
      },
      {
       "metadata": {},
       "output_type": "display_data",
       "png": "[encoded data removed]",
       "text": [
        "<matplotlib.figure.Figure at 0x33bf2ef0>"
       ]
      }
     ],
     "prompt_number": 1748
    },
    {
     "cell_type": "code",
     "collapsed": false,
     "input": [
      "df.playingtime.describe()"
     ],
     "language": "python",
     "metadata": {},
     "outputs": [
      {
       "metadata": {},
       "output_type": "pyout",
       "prompt_number": 1749,
       "text": [
        "count    402.000000\n",
        "mean      80.037313\n",
        "std       58.664999\n",
        "min        0.000000\n",
        "25%       40.000000\n",
        "50%       60.000000\n",
        "75%       90.000000\n",
        "max      360.000000\n",
        "dtype: float64"
       ]
      }
     ],
     "prompt_number": 1749
    },
    {
     "cell_type": "code",
     "collapsed": false,
     "input": [
      "df.age.value_counts()"
     ],
     "language": "python",
     "metadata": {},
     "outputs": [
      {
       "metadata": {},
       "output_type": "pyout",
       "prompt_number": 1750,
       "text": [
        "12    126\n",
        "10     83\n",
        "8      74\n",
        "13     54\n",
        "14     20\n",
        "7      12\n",
        "6      11\n",
        "0       6\n",
        "4       4\n",
        "9       3\n",
        "5       3\n",
        "3       3\n",
        "18      2\n",
        "16      1\n",
        "dtype: int64"
       ]
      }
     ],
     "prompt_number": 1750
    },
    {
     "cell_type": "markdown",
     "metadata": {},
     "source": [
      "Categorical.  I am guessing this is the minimum age.  "
     ]
    },
    {
     "cell_type": "code",
     "collapsed": false,
     "input": [
      "df[df.age.isnull()]"
     ],
     "language": "python",
     "metadata": {},
     "outputs": [
      {
       "html": [
        "<div style=\"max-height:1000px;max-width:1500px;overflow:auto;\">\n",
        "<table border=\"1\" class=\"dataframe\">\n",
        "  <thead>\n",
        "    <tr style=\"text-align: right;\">\n",
        "      <th></th>\n",
        "      <th>id</th>\n",
        "      <th>name</th>\n",
        "      <th>designer</th>\n",
        "      <th>publisher</th>\n",
        "      <th>artist</th>\n",
        "      <th>yearpublished</th>\n",
        "      <th>minplayers</th>\n",
        "      <th>maxplayers</th>\n",
        "      <th>playingtime</th>\n",
        "      <th>age</th>\n",
        "      <th>...</th>\n",
        "      <th>trading</th>\n",
        "      <th>wanting</th>\n",
        "      <th>wishing</th>\n",
        "      <th>userrating</th>\n",
        "      <th>category</th>\n",
        "      <th>mechanic</th>\n",
        "      <th>exp</th>\n",
        "      <th>price</th>\n",
        "      <th>wishpriority</th>\n",
        "      <th>domain</th>\n",
        "    </tr>\n",
        "  </thead>\n",
        "  <tbody>\n",
        "  </tbody>\n",
        "</table>\n",
        "<p>0 rows \u00d7 23 columns</p>\n",
        "</div>"
       ],
       "metadata": {},
       "output_type": "pyout",
       "prompt_number": 1751,
       "text": [
        "Empty DataFrame\n",
        "Columns: [id, name, designer, publisher, artist, yearpublished, minplayers, maxplayers, playingtime, age, usersrated, average, owned, trading, wanting, wishing, userrating, category, mechanic, exp, price, wishpriority, domain]\n",
        "Index: []\n",
        "\n",
        "[0 rows x 23 columns]"
       ]
      }
     ],
     "prompt_number": 1751
    },
    {
     "cell_type": "code",
     "collapsed": false,
     "input": [
      "df.age.hist()"
     ],
     "language": "python",
     "metadata": {},
     "outputs": [
      {
       "metadata": {},
       "output_type": "pyout",
       "prompt_number": 1752,
       "text": [
        "<matplotlib.axes._subplots.AxesSubplot at 0x33dfb048>"
       ]
      },
      {
       "metadata": {},
       "output_type": "display_data",
       "png": "[encoded data removed]",
       "text": [
        "<matplotlib.figure.Figure at 0x34165860>"
       ]
      }
     ],
     "prompt_number": 1752
    },
    {
     "cell_type": "code",
     "collapsed": false,
     "input": [
      "df.age.describe()"
     ],
     "language": "python",
     "metadata": {},
     "outputs": [
      {
       "metadata": {},
       "output_type": "pyout",
       "prompt_number": 1753,
       "text": [
        "count    402.000000\n",
        "mean      10.410448\n",
        "std        2.714731\n",
        "min        0.000000\n",
        "25%        8.000000\n",
        "50%       12.000000\n",
        "75%       12.000000\n",
        "max       18.000000\n",
        "dtype: float64"
       ]
      }
     ],
     "prompt_number": 1753
    },
    {
     "cell_type": "code",
     "collapsed": false,
     "input": [
      "df.usersrated.value_counts()"
     ],
     "language": "python",
     "metadata": {},
     "outputs": [
      {
       "metadata": {},
       "output_type": "pyout",
       "prompt_number": 1754,
       "text": [
        "58       2\n",
        "117      2\n",
        "236      2\n",
        "224      2\n",
        "133      2\n",
        "7        2\n",
        "2571     2\n",
        "1388     1\n",
        "8000     1\n",
        "300      1\n",
        "2349     1\n",
        "5        1\n",
        "11569    1\n",
        "9488     1\n",
        "2757     1\n",
        "...\n",
        "4715     1\n",
        "6764     1\n",
        "9837     1\n",
        "623      1\n",
        "658      1\n",
        "1671     1\n",
        "2673     1\n",
        "1654     1\n",
        "11897    1\n",
        "5759     1\n",
        "3713     1\n",
        "17027    1\n",
        "647      1\n",
        "72       1\n",
        "0        1\n",
        "Length: 395, dtype: int64"
       ]
      }
     ],
     "prompt_number": 1754
    },
    {
     "cell_type": "markdown",
     "metadata": {},
     "source": [
      "From the looks of it, this is the number of users that gave ratings to a game.  As I mentioned earlier I am mostly looking at newer games.  While it doesn't take long for really popular games to get a lot of ratings, I also know that a few of my games are not released yet.  So I don't want that to affect the result.  "
     ]
    },
    {
     "cell_type": "code",
     "collapsed": false,
     "input": [
      "df.average.value_counts()"
     ],
     "language": "python",
     "metadata": {},
     "outputs": [
      {
       "metadata": {},
       "output_type": "pyout",
       "prompt_number": 1755,
       "text": [
        "7.51483    2\n",
        "7.37272    1\n",
        "7.15912    1\n",
        "8.08940    1\n",
        "7.38528    1\n",
        "6.18584    1\n",
        "7.86350    1\n",
        "7.61560    1\n",
        "7.83584    1\n",
        "7.38174    1\n",
        "6.51938    1\n",
        "7.49550    1\n",
        "6.01774    1\n",
        "7.83946    1\n",
        "5.03762    1\n",
        "...\n",
        "8.02218    1\n",
        "6.31832    1\n",
        "7.00335    1\n",
        "8.03021    1\n",
        "5.35060    1\n",
        "7.73894    1\n",
        "7.88922    1\n",
        "7.09319    1\n",
        "6.44687    1\n",
        "8.16530    1\n",
        "6.04086    1\n",
        "8.59786    1\n",
        "6.52715    1\n",
        "7.75327    1\n",
        "0.00000    1\n",
        "Length: 401, dtype: int64"
       ]
      }
     ],
     "prompt_number": 1755
    },
    {
     "cell_type": "markdown",
     "metadata": {},
     "source": [
      "This is the ranting that it has been given by the community.  Since I am looking at what my rating is based on my own buying habits, I don't want to use this.  Also, new games (like those on the wishlist) tend to be rated very high because of the excitement and from the designers themselves shilling the score.  "
     ]
    },
    {
     "cell_type": "code",
     "collapsed": false,
     "input": [
      "df.owned.value_counts()"
     ],
     "language": "python",
     "metadata": {},
     "outputs": [
      {
       "metadata": {},
       "output_type": "pyout",
       "prompt_number": 1756,
       "text": [
        "21       2\n",
        "5299     2\n",
        "1508     2\n",
        "434      2\n",
        "997      2\n",
        "2455     2\n",
        "238      2\n",
        "1849     2\n",
        "374      2\n",
        "4437     2\n",
        "5397     2\n",
        "692      1\n",
        "163      1\n",
        "21666    1\n",
        "5022     1\n",
        "...\n",
        "464      1\n",
        "2425     1\n",
        "7737     1\n",
        "9547     1\n",
        "342      1\n",
        "30169    1\n",
        "2381     1\n",
        "26958    1\n",
        "10575    1\n",
        "1676     1\n",
        "556      1\n",
        "338      1\n",
        "3923     1\n",
        "12116    1\n",
        "605      1\n",
        "Length: 391, dtype: int64"
       ]
      }
     ],
     "prompt_number": 1756
    },
    {
     "cell_type": "markdown",
     "metadata": {},
     "source": [
      "This seems to be the number of people that own the game.  For the same reasons as mentioned before I will not include it. "
     ]
    },
    {
     "cell_type": "code",
     "collapsed": false,
     "input": [
      "df.trading.value_counts()"
     ],
     "language": "python",
     "metadata": {},
     "outputs": [
      {
       "metadata": {},
       "output_type": "pyout",
       "prompt_number": 1757,
       "text": [
        "46     7\n",
        "6      7\n",
        "22     6\n",
        "19     5\n",
        "0      4\n",
        "162    4\n",
        "102    4\n",
        "24     4\n",
        "39     4\n",
        "9      4\n",
        "4      4\n",
        "12     3\n",
        "54     3\n",
        "203    3\n",
        "20     3\n",
        "...\n",
        "188    1\n",
        "186    1\n",
        "185    1\n",
        "631    1\n",
        "176    1\n",
        "149    1\n",
        "173    1\n",
        "170    1\n",
        "165    1\n",
        "351    1\n",
        "161    1\n",
        "159    1\n",
        "153    1\n",
        "151    1\n",
        "502    1\n",
        "Length: 242, dtype: int64"
       ]
      }
     ],
     "prompt_number": 1757
    },
    {
     "cell_type": "markdown",
     "metadata": {},
     "source": [
      "I am not quite sure but I believe that this is the number of people that have the game up for trade.  Not going to use this one for the same reasons as before.  For new games that are unreleased there can't be trades."
     ]
    },
    {
     "cell_type": "code",
     "collapsed": false,
     "input": [
      "df.wanting.value_counts()"
     ],
     "language": "python",
     "metadata": {},
     "outputs": [
      {
       "metadata": {},
       "output_type": "pyout",
       "prompt_number": 1758,
       "text": [
        "0      12\n",
        "1       7\n",
        "2       6\n",
        "4       6\n",
        "7       6\n",
        "9       5\n",
        "3       5\n",
        "121     5\n",
        "6       5\n",
        "203     5\n",
        "14      4\n",
        "5       4\n",
        "49      3\n",
        "28      3\n",
        "118     3\n",
        "...\n",
        "283    1\n",
        "282    1\n",
        "606    1\n",
        "279    1\n",
        "350    1\n",
        "635    1\n",
        "273    1\n",
        "783    1\n",
        "269    1\n",
        "267    1\n",
        "57     1\n",
        "263    1\n",
        "262    1\n",
        "716    1\n",
        "516    1\n",
        "Length: 281, dtype: int64"
       ]
      }
     ],
     "prompt_number": 1758
    },
    {
     "cell_type": "markdown",
     "metadata": {},
     "source": [
      "This is a little different.  This is the number of people that have marked that they want the game.  This could be a good measure for new updcoming games.  But it doesn't help me with my buying habits and it is the opposite problem of before.  Newer games will have more data and older games will obviously have less people wanting it because they either bought it or have moved on.  Unless it is discontinued I guess.   Then they could want it just because they can't have it.  Either way, I will not include it."
     ]
    },
    {
     "cell_type": "code",
     "collapsed": false,
     "input": [
      "df.userrating.value_counts()"
     ],
     "language": "python",
     "metadata": {},
     "outputs": [
      {
       "metadata": {},
       "output_type": "pyout",
       "prompt_number": 1759,
       "text": [
        "7.0    119\n",
        "0.0     91\n",
        "6.0     63\n",
        "5.0     42\n",
        "8.0     14\n",
        "5.5     13\n",
        "4.0     12\n",
        "3.0     11\n",
        "6.5     10\n",
        "7.5      8\n",
        "2.0      7\n",
        "9.0      5\n",
        "3.5      3\n",
        "4.5      2\n",
        "1.0      1\n",
        "2.5      1\n",
        "dtype: int64"
       ]
      }
     ],
     "prompt_number": 1759
    },
    {
     "cell_type": "markdown",
     "metadata": {},
     "source": [
      "This is my rating for the games.  This is what I will be trying to predict.  "
     ]
    },
    {
     "cell_type": "code",
     "collapsed": false,
     "input": [
      "df.userrating.hist()"
     ],
     "language": "python",
     "metadata": {},
     "outputs": [
      {
       "metadata": {},
       "output_type": "pyout",
       "prompt_number": 1760,
       "text": [
        "<matplotlib.axes._subplots.AxesSubplot at 0x33f1ab70>"
       ]
      },
      {
       "metadata": {},
       "output_type": "display_data",
       "png": "[encoded data removed]",
       "text": [
        "<matplotlib.figure.Figure at 0x33e1e0b8>"
       ]
      }
     ],
     "prompt_number": 1760
    },
    {
     "cell_type": "markdown",
     "metadata": {},
     "source": [
      "Are there any nulls in this?"
     ]
    },
    {
     "cell_type": "code",
     "collapsed": false,
     "input": [
      "df[df.userrating.isnull()]"
     ],
     "language": "python",
     "metadata": {},
     "outputs": [
      {
       "html": [
        "<div style=\"max-height:1000px;max-width:1500px;overflow:auto;\">\n",
        "<table border=\"1\" class=\"dataframe\">\n",
        "  <thead>\n",
        "    <tr style=\"text-align: right;\">\n",
        "      <th></th>\n",
        "      <th>id</th>\n",
        "      <th>name</th>\n",
        "      <th>designer</th>\n",
        "      <th>publisher</th>\n",
        "      <th>artist</th>\n",
        "      <th>yearpublished</th>\n",
        "      <th>minplayers</th>\n",
        "      <th>maxplayers</th>\n",
        "      <th>playingtime</th>\n",
        "      <th>age</th>\n",
        "      <th>...</th>\n",
        "      <th>trading</th>\n",
        "      <th>wanting</th>\n",
        "      <th>wishing</th>\n",
        "      <th>userrating</th>\n",
        "      <th>category</th>\n",
        "      <th>mechanic</th>\n",
        "      <th>exp</th>\n",
        "      <th>price</th>\n",
        "      <th>wishpriority</th>\n",
        "      <th>domain</th>\n",
        "    </tr>\n",
        "  </thead>\n",
        "  <tbody>\n",
        "  </tbody>\n",
        "</table>\n",
        "<p>0 rows \u00d7 23 columns</p>\n",
        "</div>"
       ],
       "metadata": {},
       "output_type": "pyout",
       "prompt_number": 1761,
       "text": [
        "Empty DataFrame\n",
        "Columns: [id, name, designer, publisher, artist, yearpublished, minplayers, maxplayers, playingtime, age, usersrated, average, owned, trading, wanting, wishing, userrating, category, mechanic, exp, price, wishpriority, domain]\n",
        "Index: []\n",
        "\n",
        "[0 rows x 23 columns]"
       ]
      }
     ],
     "prompt_number": 1761
    },
    {
     "cell_type": "markdown",
     "metadata": {},
     "source": [
      "There are no nulls.  However, i am not sure if the source I used to pull my data put zero's in for nulls.  I may have to experiment with dropping the 0 rated games.  I know I have not rated anything a zero.  \n"
     ]
    },
    {
     "cell_type": "code",
     "collapsed": false,
     "input": [
      "df.userrating.describe()"
     ],
     "language": "python",
     "metadata": {},
     "outputs": [
      {
       "metadata": {},
       "output_type": "pyout",
       "prompt_number": 1762,
       "text": [
        "count    402.000000\n",
        "mean       4.707711\n",
        "std        2.829267\n",
        "min        0.000000\n",
        "25%        3.000000\n",
        "50%        6.000000\n",
        "75%        7.000000\n",
        "max        9.000000\n",
        "dtype: float64"
       ]
      }
     ],
     "prompt_number": 1762
    },
    {
     "cell_type": "code",
     "collapsed": false,
     "input": [
      "df.userrating[df.userrating > 0].describe()"
     ],
     "language": "python",
     "metadata": {},
     "outputs": [
      {
       "metadata": {},
       "output_type": "pyout",
       "prompt_number": 1763,
       "text": [
        "count    311.000000\n",
        "mean       6.085209\n",
        "std        1.394681\n",
        "min        1.000000\n",
        "25%        5.000000\n",
        "50%        6.500000\n",
        "75%        7.000000\n",
        "max        9.000000\n",
        "dtype: float64"
       ]
      }
     ],
     "prompt_number": 1763
    },
    {
     "cell_type": "markdown",
     "metadata": {},
     "source": [
      "Dropping the zeros drastically affects the mean.  And it sounds more accurate to me.  I know that there are a lot of games I haven't played.  Or there are some game expansions that I haven't rated. Dropping the zeros does cause us to lose more data though.  91 data elements to be exact.  280 or so training data points should be okay still. We will see. "
     ]
    },
    {
     "cell_type": "code",
     "collapsed": false,
     "input": [
      "df.category.value_counts()"
     ],
     "language": "python",
     "metadata": {},
     "outputs": [
      {
       "metadata": {},
       "output_type": "pyout",
       "prompt_number": 1764,
       "text": [
        "Card Game                    61\n",
        "Adventure                    41\n",
        "Economic                     28\n",
        "City Building                27\n",
        "Ancient                      27\n",
        "Expansion for Base-game      25\n",
        "Animals                      20\n",
        "Civilization                 20\n",
        "Dice                         14\n",
        "Abstract Strategy            14\n",
        "Bluffing                     12\n",
        "Action / Dexterity           12\n",
        "Children's Game              11\n",
        "Exploration                  10\n",
        "Fantasy                       8\n",
        "Medieval                      7\n",
        "Renaissance                   5\n",
        "Movies / TV / Radio theme     5\n",
        "Fighting                      4\n",
        "Party Game                    4\n",
        "Deduction                     4\n",
        "Electronic                    4\n",
        "American West                 4\n",
        "Trains                        3\n",
        "Science Fiction               3\n",
        "Prehistoric                   3\n",
        "Arabian                       3\n",
        "Negotiation                   2\n",
        "Aviation / Flight             2\n",
        "Memory                        2\n",
        "Nautical                      2\n",
        "Humor                         1\n",
        "Wargame                       1\n",
        "Mythology                     1\n",
        "Religious                     1\n",
        "Horror                        1\n",
        "Real-time                     1\n",
        "Word Game                     1\n",
        "Zombies                       1\n",
        "Post-Napoleonic               1\n",
        "Miniatures                    1\n",
        "Industry / Manufacturing      1\n",
        "Collectible Components        1\n",
        "Farming                       1\n",
        "Trivia                        1\n",
        "Environmental                 1\n",
        "dtype: int64"
       ]
      }
     ],
     "prompt_number": 1764
    },
    {
     "cell_type": "markdown",
     "metadata": {},
     "source": [
      "There are quite a few categories here, but I really think this will be helpful.  It looks like I have a lot of card games.  Let's see if there are any nulls. "
     ]
    },
    {
     "cell_type": "code",
     "collapsed": false,
     "input": [
      "df[df.category.isnull()]"
     ],
     "language": "python",
     "metadata": {},
     "outputs": [
      {
       "html": [
        "<div style=\"max-height:1000px;max-width:1500px;overflow:auto;\">\n",
        "<table border=\"1\" class=\"dataframe\">\n",
        "  <thead>\n",
        "    <tr style=\"text-align: right;\">\n",
        "      <th></th>\n",
        "      <th>id</th>\n",
        "      <th>name</th>\n",
        "      <th>designer</th>\n",
        "      <th>publisher</th>\n",
        "      <th>artist</th>\n",
        "      <th>yearpublished</th>\n",
        "      <th>minplayers</th>\n",
        "      <th>maxplayers</th>\n",
        "      <th>playingtime</th>\n",
        "      <th>age</th>\n",
        "      <th>...</th>\n",
        "      <th>trading</th>\n",
        "      <th>wanting</th>\n",
        "      <th>wishing</th>\n",
        "      <th>userrating</th>\n",
        "      <th>category</th>\n",
        "      <th>mechanic</th>\n",
        "      <th>exp</th>\n",
        "      <th>price</th>\n",
        "      <th>wishpriority</th>\n",
        "      <th>domain</th>\n",
        "    </tr>\n",
        "  </thead>\n",
        "  <tbody>\n",
        "  </tbody>\n",
        "</table>\n",
        "<p>0 rows \u00d7 23 columns</p>\n",
        "</div>"
       ],
       "metadata": {},
       "output_type": "pyout",
       "prompt_number": 1765,
       "text": [
        "Empty DataFrame\n",
        "Columns: [id, name, designer, publisher, artist, yearpublished, minplayers, maxplayers, playingtime, age, usersrated, average, owned, trading, wanting, wishing, userrating, category, mechanic, exp, price, wishpriority, domain]\n",
        "Index: []\n",
        "\n",
        "[0 rows x 23 columns]"
       ]
      }
     ],
     "prompt_number": 1765
    },
    {
     "cell_type": "code",
     "collapsed": false,
     "input": [
      "df.mechanic.value_counts()"
     ],
     "language": "python",
     "metadata": {},
     "outputs": [
      {
       "metadata": {},
       "output_type": "pyout",
       "prompt_number": 1766,
       "text": [
        "Card Drafting                    62\n",
        "Dice Rolling                     50\n",
        "Area Control / Area Influence    48\n",
        "Action Point Allowance System    33\n",
        "Hand Management                  28\n",
        "Auction/Bidding                  25\n",
        "Area Movement                    18\n",
        "Set Collection                   16\n",
        "Other                            15\n",
        "Co-operative Play                14\n",
        "Modular Board                    12\n",
        "Action / Movement Programming    11\n",
        "Partnerships                      8\n",
        "Grid Movement                     7\n",
        "Worker Placement                  6\n",
        "Roll / Spin and Move              5\n",
        "Pick-up and Deliver               4\n",
        "Deck / Pool Building              3\n",
        "Pattern Building                  3\n",
        "Betting/Wagering                  3\n",
        "Tile Placement                    3\n",
        "Area-Impulse                      2\n",
        "Variable Player Powers            2\n",
        "Acting                            2\n",
        "Area Enclosure                    2\n",
        "Variable Phase Order              2\n",
        "Simultaneous Action Selection     2\n",
        "Memory                            2\n",
        "Pattern Recognition               2\n",
        "Commodity Speculation             2\n",
        "Trading                           2\n",
        "Campaign / Battle Card Driven     2\n",
        "Route/Network Building            2\n",
        "Chit-Pull System                  1\n",
        "Hex-and-Counter                   1\n",
        "Role Playing                      1\n",
        "Press Your Luck                   1\n",
        "dtype: int64"
       ]
      }
     ],
     "prompt_number": 1766
    },
    {
     "cell_type": "markdown",
     "metadata": {},
     "source": [
      "This one looks useful as well.  "
     ]
    },
    {
     "cell_type": "code",
     "collapsed": false,
     "input": [
      "df[df.mechanic.isnull()]"
     ],
     "language": "python",
     "metadata": {},
     "outputs": [
      {
       "html": [
        "<div style=\"max-height:1000px;max-width:1500px;overflow:auto;\">\n",
        "<table border=\"1\" class=\"dataframe\">\n",
        "  <thead>\n",
        "    <tr style=\"text-align: right;\">\n",
        "      <th></th>\n",
        "      <th>id</th>\n",
        "      <th>name</th>\n",
        "      <th>designer</th>\n",
        "      <th>publisher</th>\n",
        "      <th>artist</th>\n",
        "      <th>yearpublished</th>\n",
        "      <th>minplayers</th>\n",
        "      <th>maxplayers</th>\n",
        "      <th>playingtime</th>\n",
        "      <th>age</th>\n",
        "      <th>...</th>\n",
        "      <th>trading</th>\n",
        "      <th>wanting</th>\n",
        "      <th>wishing</th>\n",
        "      <th>userrating</th>\n",
        "      <th>category</th>\n",
        "      <th>mechanic</th>\n",
        "      <th>exp</th>\n",
        "      <th>price</th>\n",
        "      <th>wishpriority</th>\n",
        "      <th>domain</th>\n",
        "    </tr>\n",
        "  </thead>\n",
        "  <tbody>\n",
        "  </tbody>\n",
        "</table>\n",
        "<p>0 rows \u00d7 23 columns</p>\n",
        "</div>"
       ],
       "metadata": {},
       "output_type": "pyout",
       "prompt_number": 1767,
       "text": [
        "Empty DataFrame\n",
        "Columns: [id, name, designer, publisher, artist, yearpublished, minplayers, maxplayers, playingtime, age, usersrated, average, owned, trading, wanting, wishing, userrating, category, mechanic, exp, price, wishpriority, domain]\n",
        "Index: []\n",
        "\n",
        "[0 rows x 23 columns]"
       ]
      }
     ],
     "prompt_number": 1767
    },
    {
     "cell_type": "code",
     "collapsed": false,
     "input": [
      "df.exp.value_counts()"
     ],
     "language": "python",
     "metadata": {},
     "outputs": [
      {
       "metadata": {},
       "output_type": "pyout",
       "prompt_number": 1768,
       "text": [
        "N    303\n",
        "Y     99\n",
        "dtype: int64"
       ]
      }
     ],
     "prompt_number": 1768
    },
    {
     "cell_type": "markdown",
     "metadata": {},
     "source": [
      "I believe this refers to whether the game is an expansion to another game or not. Let's check nulls."
     ]
    },
    {
     "cell_type": "code",
     "collapsed": false,
     "input": [
      "df[df.exp.isnull()]"
     ],
     "language": "python",
     "metadata": {},
     "outputs": [
      {
       "html": [
        "<div style=\"max-height:1000px;max-width:1500px;overflow:auto;\">\n",
        "<table border=\"1\" class=\"dataframe\">\n",
        "  <thead>\n",
        "    <tr style=\"text-align: right;\">\n",
        "      <th></th>\n",
        "      <th>id</th>\n",
        "      <th>name</th>\n",
        "      <th>designer</th>\n",
        "      <th>publisher</th>\n",
        "      <th>artist</th>\n",
        "      <th>yearpublished</th>\n",
        "      <th>minplayers</th>\n",
        "      <th>maxplayers</th>\n",
        "      <th>playingtime</th>\n",
        "      <th>age</th>\n",
        "      <th>...</th>\n",
        "      <th>trading</th>\n",
        "      <th>wanting</th>\n",
        "      <th>wishing</th>\n",
        "      <th>userrating</th>\n",
        "      <th>category</th>\n",
        "      <th>mechanic</th>\n",
        "      <th>exp</th>\n",
        "      <th>price</th>\n",
        "      <th>wishpriority</th>\n",
        "      <th>domain</th>\n",
        "    </tr>\n",
        "  </thead>\n",
        "  <tbody>\n",
        "  </tbody>\n",
        "</table>\n",
        "<p>0 rows \u00d7 23 columns</p>\n",
        "</div>"
       ],
       "metadata": {},
       "output_type": "pyout",
       "prompt_number": 1769,
       "text": [
        "Empty DataFrame\n",
        "Columns: [id, name, designer, publisher, artist, yearpublished, minplayers, maxplayers, playingtime, age, usersrated, average, owned, trading, wanting, wishing, userrating, category, mechanic, exp, price, wishpriority, domain]\n",
        "Index: []\n",
        "\n",
        "[0 rows x 23 columns]"
       ]
      }
     ],
     "prompt_number": 1769
    },
    {
     "cell_type": "markdown",
     "metadata": {},
     "source": [
      "Perfect.  Let's look at the next one."
     ]
    },
    {
     "cell_type": "code",
     "collapsed": false,
     "input": [
      "df.price.value_counts()"
     ],
     "language": "python",
     "metadata": {},
     "outputs": [
      {
       "metadata": {},
       "output_type": "pyout",
       "prompt_number": 1770,
       "text": [
        "0.00     14\n",
        "36.35     3\n",
        "5.00      3\n",
        "38.69     2\n",
        "13.13     2\n",
        "33.77     2\n",
        "16.49     2\n",
        "26.84     2\n",
        "1.00      2\n",
        "10.90     2\n",
        "24.37     2\n",
        "33.88     2\n",
        "46.06     2\n",
        "16.11     2\n",
        "24.22     2\n",
        "...\n",
        "35.33     1\n",
        "8.10      1\n",
        "37.90     1\n",
        "12.22     1\n",
        "9.76      1\n",
        "23.61     1\n",
        "32.26     1\n",
        "18.62     1\n",
        "9.05      1\n",
        "38.11     1\n",
        "330.00    1\n",
        "5.99      1\n",
        "20.49     1\n",
        "62.57     1\n",
        "25.50     1\n",
        "Length: 370, dtype: int64"
       ]
      }
     ],
     "prompt_number": 1770
    },
    {
     "cell_type": "markdown",
     "metadata": {},
     "source": [
      "This is the average price of the game.  This would normally be a good measure, but I think that we have the problem again.  This is using their marketplace for the data.  Their marketplace has new and used games.  Games from 2010 are going to be a lot cheaper (because of wear and tear) than new games.  I think this will bias toward lower price games because most of my games will be cheaper.  Let's check this hypothesis."
     ]
    },
    {
     "cell_type": "code",
     "collapsed": false,
     "input": [
      "df.price.describe()"
     ],
     "language": "python",
     "metadata": {},
     "outputs": [
      {
       "metadata": {},
       "output_type": "pyout",
       "prompt_number": 1771,
       "text": [
        "count    402.000000\n",
        "mean      34.052711\n",
        "std       66.882063\n",
        "min        0.000000\n",
        "25%       14.182500\n",
        "50%       26.335000\n",
        "75%       38.620000\n",
        "max      950.000000\n",
        "dtype: float64"
       ]
      }
     ],
     "prompt_number": 1771
    },
    {
     "cell_type": "markdown",
     "metadata": {},
     "source": [
      "An average of 34 isn't too far off.  Although generally new games are 39 -49.99.   But if we look at the percentiles, the 50th percentile of all games is 26 or lower.  And a max of 950 (which I know is for the lord of the rings WAR OF THE RING collector's edition) is skewing the average. I am not going to use it."
     ]
    },
    {
     "cell_type": "code",
     "collapsed": false,
     "input": [
      "df.wishpriority.value_counts()"
     ],
     "language": "python",
     "metadata": {},
     "outputs": [
      {
       "metadata": {},
       "output_type": "pyout",
       "prompt_number": 1772,
       "text": [
        "0    368\n",
        "1     34\n",
        "dtype: int64"
       ]
      }
     ],
     "prompt_number": 1772
    },
    {
     "cell_type": "markdown",
     "metadata": {},
     "source": [
      "This is the column I am going to use to pull out my wishlist games to run through the model after it has been trained and tested.   I will drop it once  the data is pulled out"
     ]
    },
    {
     "cell_type": "code",
     "collapsed": false,
     "input": [
      "df.domain.value_counts()"
     ],
     "language": "python",
     "metadata": {},
     "outputs": [
      {
       "metadata": {},
       "output_type": "pyout",
       "prompt_number": 1773,
       "text": [
        "Strategy Games        146\n",
        "Family Games           93\n",
        "Other                  62\n",
        "Thematic Games         46\n",
        "Children's Games       25\n",
        "Party Games            13\n",
        "Abstract Games          9\n",
        "Customizable Games      5\n",
        "Wargames                3\n",
        "dtype: int64"
       ]
      }
     ],
     "prompt_number": 1773
    },
    {
     "cell_type": "markdown",
     "metadata": {},
     "source": [
      "This is a great categorical variable.  Let's see if there are nulls."
     ]
    },
    {
     "cell_type": "code",
     "collapsed": false,
     "input": [
      "df[df.domain.isnull()]"
     ],
     "language": "python",
     "metadata": {},
     "outputs": [
      {
       "html": [
        "<div style=\"max-height:1000px;max-width:1500px;overflow:auto;\">\n",
        "<table border=\"1\" class=\"dataframe\">\n",
        "  <thead>\n",
        "    <tr style=\"text-align: right;\">\n",
        "      <th></th>\n",
        "      <th>id</th>\n",
        "      <th>name</th>\n",
        "      <th>designer</th>\n",
        "      <th>publisher</th>\n",
        "      <th>artist</th>\n",
        "      <th>yearpublished</th>\n",
        "      <th>minplayers</th>\n",
        "      <th>maxplayers</th>\n",
        "      <th>playingtime</th>\n",
        "      <th>age</th>\n",
        "      <th>...</th>\n",
        "      <th>trading</th>\n",
        "      <th>wanting</th>\n",
        "      <th>wishing</th>\n",
        "      <th>userrating</th>\n",
        "      <th>category</th>\n",
        "      <th>mechanic</th>\n",
        "      <th>exp</th>\n",
        "      <th>price</th>\n",
        "      <th>wishpriority</th>\n",
        "      <th>domain</th>\n",
        "    </tr>\n",
        "  </thead>\n",
        "  <tbody>\n",
        "  </tbody>\n",
        "</table>\n",
        "<p>0 rows \u00d7 23 columns</p>\n",
        "</div>"
       ],
       "metadata": {},
       "output_type": "pyout",
       "prompt_number": 1774,
       "text": [
        "Empty DataFrame\n",
        "Columns: [id, name, designer, publisher, artist, yearpublished, minplayers, maxplayers, playingtime, age, usersrated, average, owned, trading, wanting, wishing, userrating, category, mechanic, exp, price, wishpriority, domain]\n",
        "Index: []\n",
        "\n",
        "[0 rows x 23 columns]"
       ]
      }
     ],
     "prompt_number": 1774
    },
    {
     "cell_type": "markdown",
     "metadata": {},
     "source": [
      "Great!  Looks like we have the data sorted out that we want to drop and what we want to include.  "
     ]
    },
    {
     "cell_type": "markdown",
     "metadata": {},
     "source": [
      "Now we need to prepare our data sets.  First I will drop the columns we don't need."
     ]
    },
    {
     "cell_type": "code",
     "collapsed": false,
     "input": [
      "dfdrops = df.drop(['name','yearpublished','usersrated','average','owned','trading','wanting','wishing','price'], axis=1)"
     ],
     "language": "python",
     "metadata": {},
     "outputs": [],
     "prompt_number": 1775
    },
    {
     "cell_type": "code",
     "collapsed": false,
     "input": [
      "dfdrops2 = dfdrops"
     ],
     "language": "python",
     "metadata": {},
     "outputs": [],
     "prompt_number": 1776
    },
    {
     "cell_type": "code",
     "collapsed": false,
     "input": [
      "dfdrops3 = dfdrops"
     ],
     "language": "python",
     "metadata": {},
     "outputs": [],
     "prompt_number": 1777
    },
    {
     "cell_type": "markdown",
     "metadata": {},
     "source": [
      "I will deal now with the null values and also with the categorical variables that need dummies.  First I will create an array of all of the categorical variables.  Then I will cycle through them and replace Nulls with 'none' and finally create dummy columns for the category variables and then drop the original column."
     ]
    },
    {
     "cell_type": "code",
     "collapsed": false,
     "input": [
      "cvars = ['designer', 'publisher', 'artist','category','mechanic','exp','domain']\n",
      "for V in cvars:\n",
      "    dfdrops[V].fillna(\"None\", inplace=True)\n",
      "    dummies = pd.get_dummies(dfdrops[V], prefix=V)\n",
      "    dfdrops = pd.concat([dfdrops, dummies], axis=1)\n",
      "    dfdrops.drop([V], axis=1, inplace=True)"
     ],
     "language": "python",
     "metadata": {},
     "outputs": [],
     "prompt_number": 1778
    },
    {
     "cell_type": "markdown",
     "metadata": {},
     "source": [
      "Now I will create the initial model."
     ]
    },
    {
     "cell_type": "code",
     "collapsed": false,
     "input": [
      "dftrain = dfdrops[dfdrops.wishpriority!=1]\n",
      "dftrain = dftrain.drop(['wishpriority'], axis=1)\n",
      "dftrainy = dftrain.pop('userrating')\n",
      "dfpredict = dfdrops[dfdrops.wishpriority==1]\n",
      "dfpredict = dfpredict.drop(['wishpriority'], axis=1)\n",
      "dfpredicty = dfpredict.pop('userrating')"
     ],
     "language": "python",
     "metadata": {},
     "outputs": [],
     "prompt_number": 1779
    },
    {
     "cell_type": "code",
     "collapsed": false,
     "input": [
      "X_train, X_test, y_train, y_test = train_test_split(dftrain, dftrainy, test_size=.2)"
     ],
     "language": "python",
     "metadata": {},
     "outputs": [],
     "prompt_number": 1780
    },
    {
     "cell_type": "code",
     "collapsed": false,
     "input": [
      "model.fit(X_train, y_train)\n",
      "print \"R^2:\", model.score(X_test, y_test).round(2)"
     ],
     "language": "python",
     "metadata": {},
     "outputs": [
      {
       "output_type": "stream",
       "stream": "stdout",
       "text": [
        "R^2: 0.1\n"
       ]
      }
     ],
     "prompt_number": 1781
    },
    {
     "cell_type": "markdown",
     "metadata": {},
     "source": [
      "Yikes!  that is horrible!  This is going to take some tweaking."
     ]
    },
    {
     "cell_type": "markdown",
     "metadata": {},
     "source": [
      "Let's see if there are some variables that we could drop to improve the model."
     ]
    },
    {
     "cell_type": "code",
     "collapsed": false,
     "input": [
      "def graph_feature_importances(model, feature_names, autoscale=True, headroom=0.05, width=10, summarized_columns=None):\n",
      "    if autoscale:\n",
      "        x_scale = model.feature_importances_.max()+ headroom\n",
      "    else:\n",
      "        x_scale = 1\n",
      "    \n",
      "    feature_dict=dict(zip(feature_names, model.feature_importances_))\n",
      "    \n",
      "    if summarized_columns: \n",
      "        #some dummy columns need to be summarized\n",
      "        for col_name in summarized_columns: \n",
      "            #sum all the features that contain col_name, store in temp sum_value\n",
      "            sum_value = sum(x for i, x in feature_dict.iteritems() if col_name in i )  \n",
      "            \n",
      "            #now remove all keys that are part of col_name\n",
      "            keys_to_remove = [i for i in feature_dict.keys() if col_name in i ]\n",
      "            for i in keys_to_remove:\n",
      "                feature_dict.pop(i)\n",
      "            #lastly, read the summarized field\n",
      "            feature_dict[col_name] = sum_value\n",
      "        \n",
      "    results = pd.Series(feature_dict.values(), index=feature_dict.keys())\n",
      "    results.sort(axis=1)\n",
      "    results.plot(kind=\"barh\", figsize=(width,len(results)/4), xlim=(0,x_scale))\n",
      "    \n",
      "graph_feature_importances(model, dftrain.columns, summarized_columns=cvars)"
     ],
     "language": "python",
     "metadata": {},
     "outputs": [
      {
       "metadata": {},
       "output_type": "display_data",
       "png": "[encoded data removed]",
       "text": [
        "<matplotlib.figure.Figure at 0x34e293c8>"
       ]
      }
     ],
     "prompt_number": 1782
    },
    {
     "cell_type": "markdown",
     "metadata": {},
     "source": [
      "id is featuring pretty high.  What if I get rid of it?"
     ]
    },
    {
     "cell_type": "code",
     "collapsed": false,
     "input": [
      "dftrain2 = dftrain.drop(['id'], axis=1)\n",
      "X_train2, X_test2, y_train2, y_test2 = train_test_split(dftrain2, dftrainy, test_size=.2)\n",
      "model.fit(X_train2, y_train2)\n",
      "print \"R^2:\", model.score(X_test2, y_test2).round(2)"
     ],
     "language": "python",
     "metadata": {},
     "outputs": [
      {
       "output_type": "stream",
       "stream": "stdout",
       "text": [
        "R^2: 0.37\n"
       ]
      }
     ],
     "prompt_number": 1783
    },
    {
     "cell_type": "markdown",
     "metadata": {},
     "source": [
      "That isn't good.  The model was using the id to better determine the score for that particular game.  Well, maybe some more tweaking will help.  I remember saying that we had a number of '0' scores. That is probably throwing this off.  They are only 0 because they were not rated.  Let's get rid of those."
     ]
    },
    {
     "cell_type": "code",
     "collapsed": false,
     "input": [
      "dftrain3 = dfdrops[dfdrops.wishpriority!=1]\n",
      "dftrain3 = dftrain3.drop(['id'], axis=1)\n",
      "dftrain3 = dftrain3.drop(['wishpriority'], axis=1)\n",
      "dftrain3 = dftrain3[dftrain3.userrating!=0]\n",
      "dftrainy3 = dftrain3.pop('userrating')\n"
     ],
     "language": "python",
     "metadata": {},
     "outputs": [],
     "prompt_number": 1784
    },
    {
     "cell_type": "code",
     "collapsed": false,
     "input": [
      "X_train2, X_test2, y_train2, y_test2 = train_test_split(dftrain3, dftrainy3, test_size=.2)\n",
      "model.fit(X_train2, y_train2)\n",
      "print \"R^2:\", model.score(X_test2, y_test2).round(2)"
     ],
     "language": "python",
     "metadata": {},
     "outputs": [
      {
       "output_type": "stream",
       "stream": "stdout",
       "text": [
        "R^2: 0.36\n"
       ]
      }
     ],
     "prompt_number": 1785
    },
    {
     "cell_type": "markdown",
     "metadata": {},
     "source": [
      "Well that is definately better than the negative number from before.  But let's see what the most important features are:"
     ]
    },
    {
     "cell_type": "code",
     "collapsed": false,
     "input": [
      "graph_feature_importances(model, dftrain3.columns, summarized_columns=cvars)"
     ],
     "language": "python",
     "metadata": {},
     "outputs": [
      {
       "metadata": {},
       "output_type": "display_data",
       "png": "[encoded data removed]",
       "text": [
        "<matplotlib.figure.Figure at 0x351e8ba8>"
       ]
      }
     ],
     "prompt_number": 1786
    },
    {
     "cell_type": "markdown",
     "metadata": {},
     "source": [
      "That concerns me because artist was the one where we had a bunch of null values and we categorized all of them into 'none'.  Let's try the model without artist."
     ]
    },
    {
     "cell_type": "code",
     "collapsed": false,
     "input": [
      "dfdrops2 = dfdrops2.drop(['artist'], axis=1)\n",
      "cvars2 = ['designer', 'publisher', 'category','mechanic','exp','domain']\n",
      "for V in cvars2:\n",
      "    dfdrops2[V].fillna(\"None\", inplace=True)\n",
      "    dummies = pd.get_dummies(dfdrops2[V], prefix=V)\n",
      "    dfdrops2 = pd.concat([dfdrops2, dummies], axis=1)\n",
      "    dfdrops2.drop([V], axis=1, inplace=True)"
     ],
     "language": "python",
     "metadata": {},
     "outputs": [],
     "prompt_number": 1787
    },
    {
     "cell_type": "code",
     "collapsed": false,
     "input": [
      "dftrain4 = dfdrops2[dfdrops2.wishpriority!=1]\n",
      "dftrain4 = dftrain4[dftrain4.userrating!=0]\n",
      "dftrain4 = dftrain4.drop(['id', 'wishpriority'], axis=1)\n",
      "dftrainy4 = dftrain4.pop('userrating')"
     ],
     "language": "python",
     "metadata": {},
     "outputs": [],
     "prompt_number": 1788
    },
    {
     "cell_type": "code",
     "collapsed": false,
     "input": [
      "X_train3, X_test3, y_train3, y_test3 = train_test_split(dftrain4, dftrainy4, test_size=.2)\n",
      "model.fit(X_train3, y_train3)\n",
      "print \"R^2:\", model.score(X_test3, y_test3).round(2)"
     ],
     "language": "python",
     "metadata": {},
     "outputs": [
      {
       "output_type": "stream",
       "stream": "stdout",
       "text": [
        "R^2: 0.35\n"
       ]
      }
     ],
     "prompt_number": 1789
    },
    {
     "cell_type": "markdown",
     "metadata": {},
     "source": [
      "Well that isn't better and every time I run it, there are different numbers.  Let's see the important variables now."
     ]
    },
    {
     "cell_type": "code",
     "collapsed": false,
     "input": [
      "graph_feature_importances(model, dftrain4.columns, summarized_columns=cvars2)"
     ],
     "language": "python",
     "metadata": {},
     "outputs": [
      {
       "metadata": {},
       "output_type": "display_data",
       "png": "[encoded data removed]",
       "text": [
        "<matplotlib.figure.Figure at 0x350c71d0>"
       ]
      }
     ],
     "prompt_number": 1790
    },
    {
     "cell_type": "markdown",
     "metadata": {},
     "source": [
      "I am afraid the variability is coming from the number of columns created by the designer, mechanic and publisher.   What if I take those out?  "
     ]
    },
    {
     "cell_type": "code",
     "collapsed": false,
     "input": [
      "dfdrops3 = dfdrops3.drop(['designer','publisher','artist','mechanic'], axis=1)\n",
      "cvars3 = ['category','exp','domain']\n",
      "for V in cvars3:\n",
      "    dfdrops3[V].fillna(\"None\", inplace=True)\n",
      "    dummies = pd.get_dummies(dfdrops3[V], prefix=V)\n",
      "    dfdrops3 = pd.concat([dfdrops3, dummies], axis=1)\n",
      "    dfdrops3.drop([V], axis=1, inplace=True)"
     ],
     "language": "python",
     "metadata": {},
     "outputs": [],
     "prompt_number": 1791
    },
    {
     "cell_type": "code",
     "collapsed": false,
     "input": [
      "dftrain5 = dfdrops3[dfdrops3.wishpriority!=1]\n",
      "dftrain5 = dftrain5[dftrain5.userrating!=0]\n",
      "dftrain5 = dftrain5.drop(['id', 'wishpriority'], axis=1)\n",
      "dftrainy5 = dftrain5.pop('userrating')"
     ],
     "language": "python",
     "metadata": {},
     "outputs": [],
     "prompt_number": 1792
    },
    {
     "cell_type": "code",
     "collapsed": false,
     "input": [
      "X_train4, X_test4, y_train4, y_test4 = train_test_split(dftrain5, dftrainy5, test_size=.2)\n",
      "model.fit(X_train4, y_train4)\n",
      "print \"R^2:\", model.score(X_test4, y_test4).round(2)"
     ],
     "language": "python",
     "metadata": {},
     "outputs": [
      {
       "output_type": "stream",
       "stream": "stdout",
       "text": [
        "R^2: -0.01\n"
       ]
      }
     ],
     "prompt_number": 1803
    },
    {
     "cell_type": "markdown",
     "metadata": {},
     "source": [
      "This is not much better than before.  In fact it is worse.  "
     ]
    },
    {
     "cell_type": "code",
     "collapsed": false,
     "input": [
      "graph_feature_importances(model, dftrain5.columns, summarized_columns=cvars3)"
     ],
     "language": "python",
     "metadata": {},
     "outputs": [
      {
       "metadata": {},
       "output_type": "display_data",
       "png": "[encoded data removed]",
       "text": [
        "<matplotlib.figure.Figure at 0x358811d0>"
       ]
      }
     ],
     "prompt_number": 1804
    },
    {
     "cell_type": "markdown",
     "metadata": {},
     "source": [
      "Let's try to optimize  the former data set using grid search to get the best estimator.  "
     ]
    },
    {
     "cell_type": "code",
     "collapsed": false,
     "input": [
      "n_estimators = [300,400,500]\n",
      "max_features = ['auto', 'sqrt','log2']\n",
      "min_samples_split = [2,3,5,7,9]\n",
      "rfc = RandomForestRegressor(n_jobs=1)\n",
      "estimator = GridSearchCV(rfc,\n",
      "                         dict(n_estimators=n_estimators,\n",
      "                              max_features=max_features,\n",
      "                              min_samples_split=min_samples_split\n",
      "                              ), cv=None, n_jobs=-1)"
     ],
     "language": "python",
     "metadata": {},
     "outputs": [],
     "prompt_number": 1795
    },
    {
     "cell_type": "code",
     "collapsed": false,
     "input": [
      "estimator.fit(X_train3, y_train3)"
     ],
     "language": "python",
     "metadata": {},
     "outputs": [
      {
       "metadata": {},
       "output_type": "pyout",
       "prompt_number": 1796,
       "text": [
        "GridSearchCV(cv=None,\n",
        "       estimator=RandomForestRegressor(bootstrap=True, compute_importances=None,\n",
        "           criterion='mse', max_depth=None, max_features='auto',\n",
        "           max_leaf_nodes=None, min_density=None, min_samples_leaf=1,\n",
        "           min_samples_split=2, n_estimators=10, n_jobs=1, oob_score=False,\n",
        "           random_state=None, verbose=0),\n",
        "       fit_params={}, iid=True, loss_func=None, n_jobs=-1,\n",
        "       param_grid={'min_samples_split': [2, 3, 5, 7, 9], 'max_features': ['auto', 'sqrt', 'log2'], 'n_estimators': [300, 400, 500]},\n",
        "       pre_dispatch='2*n_jobs', refit=True, score_func=None, scoring=None,\n",
        "       verbose=0)"
       ]
      }
     ],
     "prompt_number": 1796
    },
    {
     "cell_type": "code",
     "collapsed": false,
     "input": [
      "estimator.best_estimator_"
     ],
     "language": "python",
     "metadata": {},
     "outputs": [
      {
       "metadata": {},
       "output_type": "pyout",
       "prompt_number": 1797,
       "text": [
        "RandomForestRegressor(bootstrap=True, compute_importances=None,\n",
        "           criterion='mse', max_depth=None, max_features='log2',\n",
        "           max_leaf_nodes=None, min_density=None, min_samples_leaf=1,\n",
        "           min_samples_split=2, n_estimators=400, n_jobs=1,\n",
        "           oob_score=False, random_state=None, verbose=0)"
       ]
      }
     ],
     "prompt_number": 1797
    },
    {
     "cell_type": "code",
     "collapsed": false,
     "input": [
      "best_rfp = estimator.best_estimator_"
     ],
     "language": "python",
     "metadata": {},
     "outputs": [],
     "prompt_number": 1798
    },
    {
     "cell_type": "code",
     "collapsed": false,
     "input": [
      "print \"R^2:\", estimator.score(X_test3, y_test3).round(2)"
     ],
     "language": "python",
     "metadata": {},
     "outputs": [
      {
       "output_type": "stream",
       "stream": "stdout",
       "text": [
        "R^2: 0.46\n"
       ]
      }
     ],
     "prompt_number": 1799
    },
    {
     "cell_type": "markdown",
     "metadata": {},
     "source": [
      "Because my results are continuous I can not use AUC, precision/recall.  However, I would like to find out the average score."
     ]
    },
    {
     "cell_type": "code",
     "collapsed": false,
     "input": [
      "scores = cross_validation.cross_val_score(best_rfp, X_test3, y_test3, cv=10)"
     ],
     "language": "python",
     "metadata": {},
     "outputs": [],
     "prompt_number": 1800
    },
    {
     "cell_type": "code",
     "collapsed": false,
     "input": [
      "scores"
     ],
     "language": "python",
     "metadata": {},
     "outputs": [
      {
       "metadata": {},
       "output_type": "pyout",
       "prompt_number": 1801,
       "text": [
        "array([ 0.30463837,  0.59397733,  0.24096391,  0.4355998 , -0.24513478,\n",
        "       -0.01886445, -0.18163382,  0.44687169, -0.65286981,  0.13269721])"
       ]
      }
     ],
     "prompt_number": 1801
    },
    {
     "cell_type": "markdown",
     "metadata": {},
     "source": [
      "I can see from the scores above that my score varies widely.  "
     ]
    },
    {
     "cell_type": "code",
     "collapsed": false,
     "input": [
      "mean_score = scores.mean()\n",
      "std_dev = scores.std()\n",
      "std_error = scores.std() / math.sqrt(scores.shape[0])\n",
      "ci =  2.262 * std_error\n",
      "lower_bound = mean_score - ci\n",
      "upper_bound = mean_score + ci\n",
      "\n",
      "print \"Score is %f +/-  %f\" % (mean_score, ci)\n",
      "print '95 percent probability that if this experiment were repeated over and over the average score would be between %f and %f' % (lower_bound, upper_bound)"
     ],
     "language": "python",
     "metadata": {},
     "outputs": [
      {
       "output_type": "stream",
       "stream": "stdout",
       "text": [
        "Score is 0.105625 +/-  0.259770\n",
        "95 percent probability that if this experiment were repeated over and over the average score would be between -0.154145 and 0.365394\n"
       ]
      }
     ],
     "prompt_number": 1802
    },
    {
     "cell_type": "markdown",
     "metadata": {},
     "source": [
      "That is not good at all.  That means that my model does not fit the data at all or will be less than ideal for predicting the score.  "
     ]
    },
    {
     "cell_type": "markdown",
     "metadata": {},
     "source": [
      "Let's see what it predicts for my holdout set of wishlist items."
     ]
    },
    {
     "cell_type": "code",
     "collapsed": false,
     "input": [
      "dfpredict2 = dfdrops2[dfdrops2.wishpriority==1]\n",
      "dfpredict2 = dfpredict2.drop(['id', 'wishpriority'], axis=1)\n",
      "dfpredict2y = dfpredict2.pop('userrating')"
     ],
     "language": "python",
     "metadata": {},
     "outputs": [],
     "prompt_number": 1805
    },
    {
     "cell_type": "code",
     "collapsed": false,
     "input": [
      "best_rfp.predict(dfpredict2)"
     ],
     "language": "python",
     "metadata": {},
     "outputs": [
      {
       "metadata": {},
       "output_type": "pyout",
       "prompt_number": 1806,
       "text": [
        "array([ 6.268     ,  6.96780838,  5.925     ,  6.35714583,  7.148564  ,\n",
        "        6.87361409,  6.775     ,  6.40375   ,  6.64288492,  6.68038492,\n",
        "        6.86875   ,  6.9075    ,  6.33372222,  6.64613889,  6.56833333,\n",
        "        6.185     ,  6.75604464,  6.33      ,  6.564     ,  6.79025   ,\n",
        "        6.045     ,  6.82464667,  6.48625   ,  6.92501374,  5.138     ,\n",
        "        6.873     ,  6.601875  ,  6.916875  ,  6.34354167,  6.5704562 ,\n",
        "        6.88763095,  6.6       ,  6.50145833,  6.59375   ])"
       ]
      }
     ],
     "prompt_number": 1806
    },
    {
     "cell_type": "code",
     "collapsed": false,
     "input": [
      "mypredictions = best_rfp.predict(dfpredict2)\n",
      "mypredictions"
     ],
     "language": "python",
     "metadata": {},
     "outputs": [
      {
       "metadata": {},
       "output_type": "pyout",
       "prompt_number": 1830,
       "text": [
        "array([ 6.268     ,  6.96780838,  5.925     ,  6.35714583,  7.148564  ,\n",
        "        6.87361409,  6.775     ,  6.40375   ,  6.64288492,  6.68038492,\n",
        "        6.86875   ,  6.9075    ,  6.33372222,  6.64613889,  6.56833333,\n",
        "        6.185     ,  6.75604464,  6.33      ,  6.564     ,  6.79025   ,\n",
        "        6.045     ,  6.82464667,  6.48625   ,  6.92501374,  5.138     ,\n",
        "        6.873     ,  6.601875  ,  6.916875  ,  6.34354167,  6.5704562 ,\n",
        "        6.88763095,  6.6       ,  6.50145833,  6.59375   ])"
       ]
      }
     ],
     "prompt_number": 1830
    },
    {
     "cell_type": "code",
     "collapsed": false,
     "input": [
      "gameids = dfdrops2.id[dfdrops2.wishpriority == 1].values\n",
      "gameids"
     ],
     "language": "python",
     "metadata": {},
     "outputs": [
      {
       "metadata": {},
       "output_type": "pyout",
       "prompt_number": 1829,
       "text": [
        "array([161970,  93193, 168435, 146244, 171915, 176677, 154203, 109276,\n",
        "       144058, 163572, 132150,  70512, 161167, 144722,  35704, 140135,\n",
        "        61492, 162007,  72851, 171007, 162286, 161317, 147253, 127061,\n",
        "       128882, 171623,  33261,  27690,  95802,  22821, 155996,  60153,\n",
        "        29307,  82222], dtype=int64)"
       ]
      }
     ],
     "prompt_number": 1829
    },
    {
     "cell_type": "markdown",
     "metadata": {},
     "source": [
      "This means that I will rank 128882 the lowest and 171915 I will rank highest according to my model."
     ]
    },
    {
     "cell_type": "code",
     "collapsed": false,
     "input": [
      "df.name[df.id==128882]"
     ],
     "language": "python",
     "metadata": {},
     "outputs": [
      {
       "metadata": {},
       "output_type": "pyout",
       "prompt_number": 1831,
       "text": [
        "334    The Resistance: Avalon\n",
        "Name: name, dtype: object"
       ]
      }
     ],
     "prompt_number": 1831
    },
    {
     "cell_type": "code",
     "collapsed": false,
     "input": [
      "df.name[df.id==171915]"
     ],
     "language": "python",
     "metadata": {},
     "outputs": [
      {
       "metadata": {},
       "output_type": "pyout",
       "prompt_number": 1832,
       "text": [
        "80    Dominion: Adventures\n",
        "Name: name, dtype: object"
       ]
      }
     ],
     "prompt_number": 1832
    },
    {
     "cell_type": "markdown",
     "metadata": {},
     "source": [
      "Well, avalon is an expansion that I am not that thrilled about.  I want it for collection reasons.  I am more of a fan of dominion to be sure, but I think there are other games I would definately enjoy more on my list.  "
     ]
    },
    {
     "cell_type": "code",
     "collapsed": false,
     "input": [],
     "language": "python",
     "metadata": {},
     "outputs": []
    }
   ],
   "metadata": {}
  }
 ]
}